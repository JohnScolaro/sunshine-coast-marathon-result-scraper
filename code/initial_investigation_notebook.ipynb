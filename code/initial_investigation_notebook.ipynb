{
 "cells": [
  {
   "cell_type": "markdown",
   "metadata": {},
   "source": [
    "This notebook is an investigation into which plots are interesting and which aren't."
   ]
  },
  {
   "cell_type": "code",
   "execution_count": null,
   "metadata": {},
   "outputs": [],
   "source": [
    "import plotly.graph_objects as go\n",
    "import json\n",
    "from collections import Counter\n",
    "\n",
    "with open('results.json', 'r') as fp:\n",
    "    data = json.load(fp)\n",
    "\n",
    "def save_figure(fig: go.Figure, name: str) -> None:\n",
    "    with open(name, 'w') as fp:\n",
    "        fp.write(fig.to_json())\n",
    "\n",
    "EVENTS = {\n",
    "    1: \"Marathon\",\n",
    "    8: \"Wheelchair Marathon\",\n",
    "    2: \"Half Marathon\",\n",
    "    6: \"Wheelchair Half Marathon\",\n",
    "    3: \"10km\",\n",
    "    9: \"Wheelchair 10km\",\n",
    "    4: \"5km\",\n",
    "    5: \"2km\",\n",
    "}\n",
    "\n",
    "EVENTS_OF_INTEREST = {\n",
    "    \"Marathon\",\n",
    "    \"Half Marathon\",\n",
    "    \"10km\",\n",
    "    \"5km\",\n",
    "    \"2km\",\n",
    "}\n"
   ]
  },
  {
   "cell_type": "code",
   "execution_count": null,
   "metadata": {},
   "outputs": [],
   "source": [
    "counter = Counter(row[\"event_name\"] for row in data)\n",
    "events = []\n",
    "participants = []\n",
    "for _, event_name in sorted(EVENTS.items(), key=lambda x: x[0]):\n",
    "    events.append(event_name)\n",
    "    participants.append(counter[event_name])\n",
    "\n",
    "fig = go.Figure(\n",
    "    data={\"x\": events, \"y\": participants, \"type\": \"bar\"},\n",
    "    layout={\n",
    "        \"title\": \"Number of Participants in each Event\",\n",
    "        \"xaxis_title\": \"Event\",\n",
    "        \"yaxis_title\": \"Number of Participants\",\n",
    "    },\n",
    ")\n",
    "fig.show()\n",
    "save_figure(fig, 'number_of_participants_in_each_event.json')"
   ]
  },
  {
   "cell_type": "code",
   "execution_count": null,
   "metadata": {},
   "outputs": [],
   "source": [
    "len(data)"
   ]
  },
  {
   "cell_type": "markdown",
   "metadata": {},
   "source": [
    "The Sunshine Coast Marathon Festival reported record breaking numbers over the weekend with news outlets reporting: \"A record breaking 12,000 participants\". As we can see, this is almost correct but I'm only seeing 11,635 results, so I'm going to have to fact check the OurSC news outlet on that one. Nevertheless, this is still an excellent turnout.\n"
   ]
  },
  {
   "cell_type": "code",
   "execution_count": null,
   "metadata": {},
   "outputs": [],
   "source": [
    "finish_status = [row['time'] if len(row['time'].split(':')) == 1 else 'Finished' for row in data]\n",
    "counter = Counter(finish_status)\n",
    "x = []\n",
    "y = []\n",
    "for finish_category, num_in_category in sorted(counter.items(), key=lambda x: x[1], reverse=True):\n",
    "    x.append(finish_category)\n",
    "    y.append(num_in_category)\n",
    "\n",
    "fig = go.Figure(\n",
    "    data={'x': x, 'y': y, 'type': 'bar'},\n",
    "    layout={\n",
    "        \"title\": \"How Many People Finished their Races\",\n",
    "        \"xaxis_title\": \"Race Status\",\n",
    "        \"yaxis_title\": \"Number of People\",\n",
    "    }\n",
    ")\n",
    "fig.show()\n",
    "save_figure(fig, 'how_many_people_finished_their_races.json')"
   ]
  },
  {
   "cell_type": "markdown",
   "metadata": {},
   "source": [
    "Of the 11,635 participants, most of them finished their events. We can see a whopping 1703 participants in either the \"Not Started\" and \"DNS\" categories (why these are different categories, (since they both mean \"didn't start\") I don't know, but I'd guess they both mean different things, but from different recording mechanisms. Perhaps 1692 people didn't pick up their race bib, but then a further 11 who did pick up their gear still didn't show up to their race.\n",
    "\n",
    "Also we can see the 156 DNF's, which is remarkably low really, showing that if you start your race, you have only a ~1.5% of not finishing it.\n",
    "\n",
    "I wonder how these rates change depending on the race entered..."
   ]
  },
  {
   "cell_type": "code",
   "execution_count": null,
   "metadata": {},
   "outputs": [],
   "source": [
    "import plotly.express as px\n",
    "import pandas as pd\n",
    "\n",
    "df = pd.DataFrame(data)\n",
    "\n",
    "# Create a copy of the DataFrame\n",
    "test_df = df.copy()\n",
    "\n",
    "# Replace values in 'time' that contain ':' with 'finished'\n",
    "test_df['time'] = test_df['time'].apply(lambda x: \"finished\"if':'in x else x)\n",
    "\n",
    "test_df = test_df[test_df['event_name'].isin(EVENTS_OF_INTEREST)]\n",
    "\n",
    "# Group by 'event_name' and 'time', and count the occurrences\n",
    "grouped_df = test_df.groupby(['event_name', 'time']).size().reset_index(name='count')\n",
    "\n",
    "# Calculate the total counts per 'event_name'\n",
    "total_counts = test_df.groupby('event_name').size().reset_index(name='total_count')\n",
    "\n",
    "# Merge the total counts with the grouped counts\n",
    "merged_df = pd.merge(grouped_df, total_counts, on='event_name')\n",
    "\n",
    "# Normalize the 'count' by the 'total_count'\n",
    "merged_df['Percentage (%)'] = merged_df['count'] / merged_df['total_count'] * 100\n",
    "\n",
    "# Specify the order of event names\n",
    "event_order = [\"Marathon\", \"Half Marathon\", \"10km\", \"5km\", \"2km\"]\n",
    "color_order = ['finished', 'Not started', 'DNS', 'DNF', \"QRY\", \"DQ\"]\n",
    "\n",
    "# Plot the normalized counts\n",
    "fig = px.bar(merged_df, x='event_name', y='Percentage (%)', color='time', category_orders={'event_name': event_order, 'time':['finished', 'Not started']})\n",
    "for trace in fig.data:\n",
    "    if trace.name == 'finished':\n",
    "        trace.visible = 'legendonly'\n",
    "fig.update_layout(\n",
    "    title=\"Race Results by Event Type as a Percentage\",\n",
    "    xaxis_title=\"Event\",\n",
    "    title_x=0.5\n",
    ")\n",
    "\n",
    "fig.show()\n",
    "save_figure(fig, 'race_result_by_event_type.json')"
   ]
  },
  {
   "cell_type": "markdown",
   "metadata": {},
   "source": [
    "Now that we're looking at the individual events, we can see that if you ran the marathon, there is actually a 4.6% chance that you would have dropped out, but for all other lengths, it was less than 1%. We can also see that the rate of disqualifications is significantly lower for all non-marathon events. This makes sense since the entire festival is centered around the marathon."
   ]
  },
  {
   "cell_type": "code",
   "execution_count": null,
   "metadata": {},
   "outputs": [],
   "source": [
    "australia_or_not_df = df.copy()\n",
    "australia_or_not_df['australia_or_not'] = australia_or_not_df['country'].where(australia_or_not_df['country'] == \"AUSTRALIA\", 'OTHER')\n",
    "australia_or_not_df = australia_or_not_df.groupby(['australia_or_not']).size().reset_index(name='count')\n",
    "australia_or_not_df['Country'] = ''\n",
    "\n",
    "fig = px.bar(australia_or_not_df, x='Country', y='count', color='australia_or_not', text='australia_or_not')\n",
    "fig.update_layout(showlegend=False, title='Australian Entrants Vs Other', xaxis_title='Entrants', yaxis_title='Number of People')\n",
    "\n",
    "fig.show()\n",
    "save_figure(fig, 'australia_vs_other.json')"
   ]
  },
  {
   "cell_type": "markdown",
   "metadata": {},
   "source": [
    "We can see that almost 2% of race entrants registered under countries other than Australia. Here is the breakdown of where the non-Australian atheletes came from:"
   ]
  },
  {
   "cell_type": "code",
   "execution_count": null,
   "metadata": {},
   "outputs": [],
   "source": [
    "others_df = df.copy()\n",
    "others_df = others_df.groupby(['country']).size().reset_index(name='count')\n",
    "others_df = others_df[others_df['country'] != 'AUSTRALIA']\n",
    "others_df = others_df.sort_values(ascending=False, by=['count'])\n",
    "others_df['Country'] = 'Other'\n",
    "\n",
    "fig = px.bar(others_df, x='Country', y='count', color='country', text='country')\n",
    "fig.update_layout(showlegend=False, title='A Breakdown of Other Countries', xaxis_title='', yaxis_title='Number of People')\n",
    "fig.show()\n",
    "save_figure(fig, 'other_countries_breakdown.json')"
   ]
  },
  {
   "cell_type": "markdown",
   "metadata": {},
   "source": [
    "We have great representation from a large number of countries. I can figure out an athlete's country by looking at the flag displayed on the website. The flags seem to use ISO 3166-1 2 letter country codes which let me link them to countries, but there are still 2 athletes who have a blank country in the data. I wonder if these athletes somehow managed to register without a country, or if they registered with a country that doesn't have a valid ISO code. I suppose the question: \"How many countries are there?\" is actually very contentious with no consensus between governments worldwide, so it makes sense that we can run into an edge case like this."
   ]
  },
  {
   "cell_type": "code",
   "execution_count": null,
   "metadata": {},
   "outputs": [],
   "source": [
    "import plotly.graph_objects as go\n",
    "from collections import defaultdict\n",
    "import datetime as dt\n",
    "\n",
    "times = defaultdict(list)\n",
    "\n",
    "for row in data:\n",
    "# Process the times and group by genderfor row in data:\n",
    "    if row['event_name'] in EVENTS_OF_INTEREST:\n",
    "        time = row['time']\n",
    "        if len(time.split(':')) == 1:\n",
    "            continue\n",
    "\n",
    "        hours, minutes, seconds = time.split(':')\n",
    "        time = dt.timedelta(hours=int(hours), minutes=int(minutes), seconds=int(seconds))\n",
    "        time = dt.datetime(2000, 1, 1) + time\n",
    "        times[row['event_name']].append(time)\n",
    "\n",
    "half_marathon_times = times['Half Marathon']\n",
    "\n",
    "# Create the stacked histogram\n",
    "fig = go.Figure()\n",
    "fig.add_trace(go.Histogram(\n",
    "    x=half_marathon_times,\n",
    "    name='idk',\n",
    "))\n",
    "\n",
    "# Update the layout for stacked histogram\n",
    "fig.update_layout(\n",
    "    title=\"Number of Participants in the Half Marathon\",\n",
    "    yaxis_title=\"Number of Participants\",\n",
    "    xaxis={\"tickformat\": \"%H:%M:%S\", 'title': 'Time (HH:MM:SS)'},  # Format x-axis ticks as HH:MM:SS\n",
    ")\n",
    "\n",
    "fig.show()"
   ]
  },
  {
   "cell_type": "markdown",
   "metadata": {},
   "source": [
    "You'll see that the finishing times have a very long tail. In future time distributions, I'm going to remove the slowest 0.5% of runners. I'd rather not, but in an era where most of our phone usage is vertical, this will make the visualisations much easier to see."
   ]
  },
  {
   "cell_type": "code",
   "execution_count": null,
   "metadata": {},
   "outputs": [],
   "source": [
    "import plotly.graph_objects as go\n",
    "from collections import defaultdict\n",
    "import datetime as dt\n",
    "from plotly.subplots import make_subplots\n",
    "\n",
    "times = defaultdict(lambda: {\"Male\": [], \"Female\": []})\n",
    "\n",
    "for row in data:\n",
    "# Process the times and group by gender for row in data:\n",
    "    if row['event_name'] in EVENTS_OF_INTEREST:\n",
    "        time = row['time']\n",
    "        if len(time.split(':')) == 1:\n",
    "            continue\n",
    "\n",
    "        hours, minutes, seconds = time.split(':')\n",
    "        time = dt.timedelta(hours=int(hours), minutes=int(minutes), seconds=int(seconds))\n",
    "        time = dt.datetime(2000, 1, 1) + time\n",
    "        times[row['event_name']][row['gender']].append(time)\n",
    "\n",
    "for event in EVENTS_OF_INTEREST:\n",
    "    for gender in ['Male', 'Female']:\n",
    "        if gender not in times[event]:\n",
    "            continue\n",
    "        series = pd.Series(times[event][gender])\n",
    "        series = series[series < series.quantile(0.995)]\n",
    "        times[event][gender] = list(series)\n",
    "\n",
    "half_marathon_times_male = times['Half Marathon']['Male']\n",
    "half_marathon_times_female = times['Half Marathon']['Female']\n",
    "\n",
    "# Create the stacked histogram\n",
    "fig = go.Figure()\n",
    "\n",
    "fig = make_subplots(rows=2, cols=1, shared_xaxes=True)\n",
    "fig.add_trace(go.Histogram(\n",
    "    x=half_marathon_times_male,\n",
    "    name='Male'\n",
    "    # marker_color='blue',\n",
    "), row=1, col=1)\n",
    "fig.add_trace(go.Histogram(\n",
    "    x=half_marathon_times_female,\n",
    "    name='Female'\n",
    "    # marker_color='pink',\n",
    "), row=2, col=1)\n",
    "\n",
    "# Update the layout for stacked histogram\n",
    "fig.update_layout(\n",
    "    title=\"Number of Participants in the Half Marathon by Gender\",\n",
    "    xaxis_title=\"Time (HH:MM:SS)\",\n",
    "    yaxis_title=\"Number of Participants\",\n",
    "    xaxis={\"tickformat\": \"%H:%M:%S\"},  # Format x-axis ticks as HH:MM:SS\n",
    ")\n",
    "\n",
    "fig.show()"
   ]
  },
  {
   "cell_type": "markdown",
   "metadata": {},
   "source": [
    "Finally just throw in a plot with filters for category, event, and gender, just for fun.\n",
    "\n",
    "The race results also include everyones names, but I've been intentionally avoiding doing too much with names, because people get a little icky about using personal information, but here are the top 10 most common entrant names by gender, just out of curiousity."
   ]
  },
  {
   "cell_type": "code",
   "execution_count": null,
   "metadata": {},
   "outputs": [],
   "source": [
    "first_name_gender = [(row['name'].split(' ')[0], row['gender']) for row in data]\n",
    "male_counter = Counter(first_name for first_name, gender in first_name_gender if gender == 'Male')\n",
    "female_counter = Counter(first_name for first_name, gender in first_name_gender if gender == 'Female')\n",
    "male_x = []\n",
    "male_y = []\n",
    "for first_letter, num_in_category in sorted(male_counter.items(), key=lambda x: x[1], reverse=True)[0:10]:\n",
    "    male_x.append(first_letter)\n",
    "    male_y.append(num_in_category)\n",
    "\n",
    "female_x = []\n",
    "female_y = []\n",
    "for first_letter, num_in_category in sorted(female_counter.items(), key=lambda x: x[1], reverse=True)[0:10]:\n",
    "    female_x.append(first_letter)\n",
    "    female_y.append(num_in_category)\n",
    "\n",
    "fig = make_subplots(rows=2, cols=1, shared_xaxes=False)\n",
    "fig.add_trace(go.Bar(x=male_x, y=male_y, name='Male Names'), row=1, col=1)\n",
    "fig.add_trace(go.Bar(x=female_x, y=female_y, name='Female Names'), row=2, col=1)\n",
    "fig.update_layout({\n",
    "        \"title\": \"10 Most Popular Named Entrants\",\n",
    "        \"xaxis_title\": \"First Name\",\n",
    "        \"yaxis_title\": \"Number of People\",\n",
    "        'xaxis': {'title': '', 'anchor': 'y1'},\n",
    "        'xaxis2': {'title': 'First Name', 'anchor': 'y2'},\n",
    "    }\n",
    ")\n",
    "fig.show()\n",
    "save_figure(fig, 'most_popular_names.json')"
   ]
  }
 ],
 "metadata": {
  "kernelspec": {
   "display_name": ".venv",
   "language": "python",
   "name": "python3"
  },
  "language_info": {
   "codemirror_mode": {
    "name": "ipython",
    "version": 3
   },
   "file_extension": ".py",
   "mimetype": "text/x-python",
   "name": "python",
   "nbconvert_exporter": "python",
   "pygments_lexer": "ipython3",
   "version": "3.12.3"
  }
 },
 "nbformat": 4,
 "nbformat_minor": 2
}
