{
 "cells": [
  {
   "cell_type": "markdown",
   "metadata": {},
   "source": [
    "This notebook is an investigation into which plots are interesting and which aren't."
   ]
  },
  {
   "cell_type": "code",
   "execution_count": 85,
   "metadata": {},
   "outputs": [],
   "source": [
    "import plotly.graph_objects as go\n",
    "import json\n",
    "from collections import Counter\n",
    "\n",
    "with open('results.json', 'r') as fp:\n",
    "    data = json.load(fp)\n",
    "\n",
    "def save_figure(fig: go.Figure, name: str) -> None:\n",
    "    with open(name, 'w') as fp:\n",
    "        fp.write(fig.to_json())\n",
    "\n",
    "EVENTS = {\n",
    "    1: \"Marathon\",\n",
    "    8: \"Wheelchair Marathon\",\n",
    "    2: \"Half Marathon\",\n",
    "    6: \"Wheelchair Half Marathon\",\n",
    "    3: \"10km\",\n",
    "    9: \"Wheelchair 10km\",\n",
    "    4: \"5km\",\n",
    "    5: \"2km\",\n",
    "}\n",
    "\n",
    "EVENTS_OF_INTEREST = {\n",
    "    \"Marathon\",\n",
    "    \"Half Marathon\",\n",
    "    \"10km\",\n",
    "    \"5km\",\n",
    "    \"2km\",\n",
    "}\n"
   ]
  },
  {
   "cell_type": "code",
   "execution_count": 86,
   "metadata": {},
   "outputs": [
    {
     "data": {
      "application/vnd.plotly.v1+json": {
       "config": {
        "plotlyServerURL": "https://plot.ly"
       },
       "data": [
        {
         "type": "bar",
         "x": [
          "Marathon",
          "Half Marathon",
          "10km",
          "5km",
          "2km",
          "Wheelchair Half Marathon",
          "Wheelchair Marathon",
          "Wheelchair 10km"
         ],
         "y": [
          2135,
          5025,
          2622,
          1010,
          840,
          2,
          1,
          0
         ]
        }
       ],
       "layout": {
        "template": {
         "data": {
          "bar": [
           {
            "error_x": {
             "color": "#2a3f5f"
            },
            "error_y": {
             "color": "#2a3f5f"
            },
            "marker": {
             "line": {
              "color": "#E5ECF6",
              "width": 0.5
             },
             "pattern": {
              "fillmode": "overlay",
              "size": 10,
              "solidity": 0.2
             }
            },
            "type": "bar"
           }
          ],
          "barpolar": [
           {
            "marker": {
             "line": {
              "color": "#E5ECF6",
              "width": 0.5
             },
             "pattern": {
              "fillmode": "overlay",
              "size": 10,
              "solidity": 0.2
             }
            },
            "type": "barpolar"
           }
          ],
          "carpet": [
           {
            "aaxis": {
             "endlinecolor": "#2a3f5f",
             "gridcolor": "white",
             "linecolor": "white",
             "minorgridcolor": "white",
             "startlinecolor": "#2a3f5f"
            },
            "baxis": {
             "endlinecolor": "#2a3f5f",
             "gridcolor": "white",
             "linecolor": "white",
             "minorgridcolor": "white",
             "startlinecolor": "#2a3f5f"
            },
            "type": "carpet"
           }
          ],
          "choropleth": [
           {
            "colorbar": {
             "outlinewidth": 0,
             "ticks": ""
            },
            "type": "choropleth"
           }
          ],
          "contour": [
           {
            "colorbar": {
             "outlinewidth": 0,
             "ticks": ""
            },
            "colorscale": [
             [
              0,
              "#0d0887"
             ],
             [
              0.1111111111111111,
              "#46039f"
             ],
             [
              0.2222222222222222,
              "#7201a8"
             ],
             [
              0.3333333333333333,
              "#9c179e"
             ],
             [
              0.4444444444444444,
              "#bd3786"
             ],
             [
              0.5555555555555556,
              "#d8576b"
             ],
             [
              0.6666666666666666,
              "#ed7953"
             ],
             [
              0.7777777777777778,
              "#fb9f3a"
             ],
             [
              0.8888888888888888,
              "#fdca26"
             ],
             [
              1,
              "#f0f921"
             ]
            ],
            "type": "contour"
           }
          ],
          "contourcarpet": [
           {
            "colorbar": {
             "outlinewidth": 0,
             "ticks": ""
            },
            "type": "contourcarpet"
           }
          ],
          "heatmap": [
           {
            "colorbar": {
             "outlinewidth": 0,
             "ticks": ""
            },
            "colorscale": [
             [
              0,
              "#0d0887"
             ],
             [
              0.1111111111111111,
              "#46039f"
             ],
             [
              0.2222222222222222,
              "#7201a8"
             ],
             [
              0.3333333333333333,
              "#9c179e"
             ],
             [
              0.4444444444444444,
              "#bd3786"
             ],
             [
              0.5555555555555556,
              "#d8576b"
             ],
             [
              0.6666666666666666,
              "#ed7953"
             ],
             [
              0.7777777777777778,
              "#fb9f3a"
             ],
             [
              0.8888888888888888,
              "#fdca26"
             ],
             [
              1,
              "#f0f921"
             ]
            ],
            "type": "heatmap"
           }
          ],
          "heatmapgl": [
           {
            "colorbar": {
             "outlinewidth": 0,
             "ticks": ""
            },
            "colorscale": [
             [
              0,
              "#0d0887"
             ],
             [
              0.1111111111111111,
              "#46039f"
             ],
             [
              0.2222222222222222,
              "#7201a8"
             ],
             [
              0.3333333333333333,
              "#9c179e"
             ],
             [
              0.4444444444444444,
              "#bd3786"
             ],
             [
              0.5555555555555556,
              "#d8576b"
             ],
             [
              0.6666666666666666,
              "#ed7953"
             ],
             [
              0.7777777777777778,
              "#fb9f3a"
             ],
             [
              0.8888888888888888,
              "#fdca26"
             ],
             [
              1,
              "#f0f921"
             ]
            ],
            "type": "heatmapgl"
           }
          ],
          "histogram": [
           {
            "marker": {
             "pattern": {
              "fillmode": "overlay",
              "size": 10,
              "solidity": 0.2
             }
            },
            "type": "histogram"
           }
          ],
          "histogram2d": [
           {
            "colorbar": {
             "outlinewidth": 0,
             "ticks": ""
            },
            "colorscale": [
             [
              0,
              "#0d0887"
             ],
             [
              0.1111111111111111,
              "#46039f"
             ],
             [
              0.2222222222222222,
              "#7201a8"
             ],
             [
              0.3333333333333333,
              "#9c179e"
             ],
             [
              0.4444444444444444,
              "#bd3786"
             ],
             [
              0.5555555555555556,
              "#d8576b"
             ],
             [
              0.6666666666666666,
              "#ed7953"
             ],
             [
              0.7777777777777778,
              "#fb9f3a"
             ],
             [
              0.8888888888888888,
              "#fdca26"
             ],
             [
              1,
              "#f0f921"
             ]
            ],
            "type": "histogram2d"
           }
          ],
          "histogram2dcontour": [
           {
            "colorbar": {
             "outlinewidth": 0,
             "ticks": ""
            },
            "colorscale": [
             [
              0,
              "#0d0887"
             ],
             [
              0.1111111111111111,
              "#46039f"
             ],
             [
              0.2222222222222222,
              "#7201a8"
             ],
             [
              0.3333333333333333,
              "#9c179e"
             ],
             [
              0.4444444444444444,
              "#bd3786"
             ],
             [
              0.5555555555555556,
              "#d8576b"
             ],
             [
              0.6666666666666666,
              "#ed7953"
             ],
             [
              0.7777777777777778,
              "#fb9f3a"
             ],
             [
              0.8888888888888888,
              "#fdca26"
             ],
             [
              1,
              "#f0f921"
             ]
            ],
            "type": "histogram2dcontour"
           }
          ],
          "mesh3d": [
           {
            "colorbar": {
             "outlinewidth": 0,
             "ticks": ""
            },
            "type": "mesh3d"
           }
          ],
          "parcoords": [
           {
            "line": {
             "colorbar": {
              "outlinewidth": 0,
              "ticks": ""
             }
            },
            "type": "parcoords"
           }
          ],
          "pie": [
           {
            "automargin": true,
            "type": "pie"
           }
          ],
          "scatter": [
           {
            "fillpattern": {
             "fillmode": "overlay",
             "size": 10,
             "solidity": 0.2
            },
            "type": "scatter"
           }
          ],
          "scatter3d": [
           {
            "line": {
             "colorbar": {
              "outlinewidth": 0,
              "ticks": ""
             }
            },
            "marker": {
             "colorbar": {
              "outlinewidth": 0,
              "ticks": ""
             }
            },
            "type": "scatter3d"
           }
          ],
          "scattercarpet": [
           {
            "marker": {
             "colorbar": {
              "outlinewidth": 0,
              "ticks": ""
             }
            },
            "type": "scattercarpet"
           }
          ],
          "scattergeo": [
           {
            "marker": {
             "colorbar": {
              "outlinewidth": 0,
              "ticks": ""
             }
            },
            "type": "scattergeo"
           }
          ],
          "scattergl": [
           {
            "marker": {
             "colorbar": {
              "outlinewidth": 0,
              "ticks": ""
             }
            },
            "type": "scattergl"
           }
          ],
          "scattermapbox": [
           {
            "marker": {
             "colorbar": {
              "outlinewidth": 0,
              "ticks": ""
             }
            },
            "type": "scattermapbox"
           }
          ],
          "scatterpolar": [
           {
            "marker": {
             "colorbar": {
              "outlinewidth": 0,
              "ticks": ""
             }
            },
            "type": "scatterpolar"
           }
          ],
          "scatterpolargl": [
           {
            "marker": {
             "colorbar": {
              "outlinewidth": 0,
              "ticks": ""
             }
            },
            "type": "scatterpolargl"
           }
          ],
          "scatterternary": [
           {
            "marker": {
             "colorbar": {
              "outlinewidth": 0,
              "ticks": ""
             }
            },
            "type": "scatterternary"
           }
          ],
          "surface": [
           {
            "colorbar": {
             "outlinewidth": 0,
             "ticks": ""
            },
            "colorscale": [
             [
              0,
              "#0d0887"
             ],
             [
              0.1111111111111111,
              "#46039f"
             ],
             [
              0.2222222222222222,
              "#7201a8"
             ],
             [
              0.3333333333333333,
              "#9c179e"
             ],
             [
              0.4444444444444444,
              "#bd3786"
             ],
             [
              0.5555555555555556,
              "#d8576b"
             ],
             [
              0.6666666666666666,
              "#ed7953"
             ],
             [
              0.7777777777777778,
              "#fb9f3a"
             ],
             [
              0.8888888888888888,
              "#fdca26"
             ],
             [
              1,
              "#f0f921"
             ]
            ],
            "type": "surface"
           }
          ],
          "table": [
           {
            "cells": {
             "fill": {
              "color": "#EBF0F8"
             },
             "line": {
              "color": "white"
             }
            },
            "header": {
             "fill": {
              "color": "#C8D4E3"
             },
             "line": {
              "color": "white"
             }
            },
            "type": "table"
           }
          ]
         },
         "layout": {
          "annotationdefaults": {
           "arrowcolor": "#2a3f5f",
           "arrowhead": 0,
           "arrowwidth": 1
          },
          "autotypenumbers": "strict",
          "coloraxis": {
           "colorbar": {
            "outlinewidth": 0,
            "ticks": ""
           }
          },
          "colorscale": {
           "diverging": [
            [
             0,
             "#8e0152"
            ],
            [
             0.1,
             "#c51b7d"
            ],
            [
             0.2,
             "#de77ae"
            ],
            [
             0.3,
             "#f1b6da"
            ],
            [
             0.4,
             "#fde0ef"
            ],
            [
             0.5,
             "#f7f7f7"
            ],
            [
             0.6,
             "#e6f5d0"
            ],
            [
             0.7,
             "#b8e186"
            ],
            [
             0.8,
             "#7fbc41"
            ],
            [
             0.9,
             "#4d9221"
            ],
            [
             1,
             "#276419"
            ]
           ],
           "sequential": [
            [
             0,
             "#0d0887"
            ],
            [
             0.1111111111111111,
             "#46039f"
            ],
            [
             0.2222222222222222,
             "#7201a8"
            ],
            [
             0.3333333333333333,
             "#9c179e"
            ],
            [
             0.4444444444444444,
             "#bd3786"
            ],
            [
             0.5555555555555556,
             "#d8576b"
            ],
            [
             0.6666666666666666,
             "#ed7953"
            ],
            [
             0.7777777777777778,
             "#fb9f3a"
            ],
            [
             0.8888888888888888,
             "#fdca26"
            ],
            [
             1,
             "#f0f921"
            ]
           ],
           "sequentialminus": [
            [
             0,
             "#0d0887"
            ],
            [
             0.1111111111111111,
             "#46039f"
            ],
            [
             0.2222222222222222,
             "#7201a8"
            ],
            [
             0.3333333333333333,
             "#9c179e"
            ],
            [
             0.4444444444444444,
             "#bd3786"
            ],
            [
             0.5555555555555556,
             "#d8576b"
            ],
            [
             0.6666666666666666,
             "#ed7953"
            ],
            [
             0.7777777777777778,
             "#fb9f3a"
            ],
            [
             0.8888888888888888,
             "#fdca26"
            ],
            [
             1,
             "#f0f921"
            ]
           ]
          },
          "colorway": [
           "#636efa",
           "#EF553B",
           "#00cc96",
           "#ab63fa",
           "#FFA15A",
           "#19d3f3",
           "#FF6692",
           "#B6E880",
           "#FF97FF",
           "#FECB52"
          ],
          "font": {
           "color": "#2a3f5f"
          },
          "geo": {
           "bgcolor": "white",
           "lakecolor": "white",
           "landcolor": "#E5ECF6",
           "showlakes": true,
           "showland": true,
           "subunitcolor": "white"
          },
          "hoverlabel": {
           "align": "left"
          },
          "hovermode": "closest",
          "mapbox": {
           "style": "light"
          },
          "paper_bgcolor": "white",
          "plot_bgcolor": "#E5ECF6",
          "polar": {
           "angularaxis": {
            "gridcolor": "white",
            "linecolor": "white",
            "ticks": ""
           },
           "bgcolor": "#E5ECF6",
           "radialaxis": {
            "gridcolor": "white",
            "linecolor": "white",
            "ticks": ""
           }
          },
          "scene": {
           "xaxis": {
            "backgroundcolor": "#E5ECF6",
            "gridcolor": "white",
            "gridwidth": 2,
            "linecolor": "white",
            "showbackground": true,
            "ticks": "",
            "zerolinecolor": "white"
           },
           "yaxis": {
            "backgroundcolor": "#E5ECF6",
            "gridcolor": "white",
            "gridwidth": 2,
            "linecolor": "white",
            "showbackground": true,
            "ticks": "",
            "zerolinecolor": "white"
           },
           "zaxis": {
            "backgroundcolor": "#E5ECF6",
            "gridcolor": "white",
            "gridwidth": 2,
            "linecolor": "white",
            "showbackground": true,
            "ticks": "",
            "zerolinecolor": "white"
           }
          },
          "shapedefaults": {
           "line": {
            "color": "#2a3f5f"
           }
          },
          "ternary": {
           "aaxis": {
            "gridcolor": "white",
            "linecolor": "white",
            "ticks": ""
           },
           "baxis": {
            "gridcolor": "white",
            "linecolor": "white",
            "ticks": ""
           },
           "bgcolor": "#E5ECF6",
           "caxis": {
            "gridcolor": "white",
            "linecolor": "white",
            "ticks": ""
           }
          },
          "title": {
           "x": 0.05
          },
          "xaxis": {
           "automargin": true,
           "gridcolor": "white",
           "linecolor": "white",
           "ticks": "",
           "title": {
            "standoff": 15
           },
           "zerolinecolor": "white",
           "zerolinewidth": 2
          },
          "yaxis": {
           "automargin": true,
           "gridcolor": "white",
           "linecolor": "white",
           "ticks": "",
           "title": {
            "standoff": 15
           },
           "zerolinecolor": "white",
           "zerolinewidth": 2
          }
         }
        },
        "title": {
         "text": "Number of Participants in each Event"
        },
        "xaxis": {
         "title": {
          "text": "Event"
         }
        },
        "yaxis": {
         "title": {
          "text": "Number of Participants"
         }
        }
       }
      }
     },
     "metadata": {},
     "output_type": "display_data"
    }
   ],
   "source": [
    "counter = Counter(row[\"event_name\"] for row in data)\n",
    "events = []\n",
    "participants = []\n",
    "for _, event_name in sorted(EVENTS.items(), key=lambda x: x[0]):\n",
    "    events.append(event_name)\n",
    "    participants.append(counter[event_name])\n",
    "\n",
    "fig = go.Figure(\n",
    "    data={\"x\": events, \"y\": participants, \"type\": \"bar\"},\n",
    "    layout={\n",
    "        \"title\": \"Number of Participants in each Event\",\n",
    "        \"xaxis_title\": \"Event\",\n",
    "        \"yaxis_title\": \"Number of Participants\",\n",
    "    },\n",
    ")\n",
    "fig.show()\n",
    "save_figure(fig, 'number_of_participants_in_each_event.json')"
   ]
  },
  {
   "cell_type": "code",
   "execution_count": 87,
   "metadata": {},
   "outputs": [
    {
     "data": {
      "text/plain": [
       "11635"
      ]
     },
     "execution_count": 87,
     "metadata": {},
     "output_type": "execute_result"
    }
   ],
   "source": [
    "len(data)"
   ]
  },
  {
   "cell_type": "markdown",
   "metadata": {},
   "source": [
    "The Sunshine Coast Marathon Festival reported record breaking numbers over the weekend with news outlets reporting: \"A record breaking 12,000 participants\". As we can see, this is almost correct but I'm only seeing 11,635 results, so I'm going to have to fact check the OurSC news outlet on that one. Nevertheless, this is still an excellent turnout.\n"
   ]
  },
  {
   "cell_type": "code",
   "execution_count": 88,
   "metadata": {},
   "outputs": [
    {
     "data": {
      "application/vnd.plotly.v1+json": {
       "config": {
        "plotlyServerURL": "https://plot.ly"
       },
       "data": [
        {
         "type": "bar",
         "x": [
          "Finished",
          "Not started",
          "DNF",
          "DQ",
          "DNS",
          "QRY"
         ],
         "y": [
          9741,
          1692,
          156,
          30,
          11,
          5
         ]
        }
       ],
       "layout": {
        "template": {
         "data": {
          "bar": [
           {
            "error_x": {
             "color": "#2a3f5f"
            },
            "error_y": {
             "color": "#2a3f5f"
            },
            "marker": {
             "line": {
              "color": "#E5ECF6",
              "width": 0.5
             },
             "pattern": {
              "fillmode": "overlay",
              "size": 10,
              "solidity": 0.2
             }
            },
            "type": "bar"
           }
          ],
          "barpolar": [
           {
            "marker": {
             "line": {
              "color": "#E5ECF6",
              "width": 0.5
             },
             "pattern": {
              "fillmode": "overlay",
              "size": 10,
              "solidity": 0.2
             }
            },
            "type": "barpolar"
           }
          ],
          "carpet": [
           {
            "aaxis": {
             "endlinecolor": "#2a3f5f",
             "gridcolor": "white",
             "linecolor": "white",
             "minorgridcolor": "white",
             "startlinecolor": "#2a3f5f"
            },
            "baxis": {
             "endlinecolor": "#2a3f5f",
             "gridcolor": "white",
             "linecolor": "white",
             "minorgridcolor": "white",
             "startlinecolor": "#2a3f5f"
            },
            "type": "carpet"
           }
          ],
          "choropleth": [
           {
            "colorbar": {
             "outlinewidth": 0,
             "ticks": ""
            },
            "type": "choropleth"
           }
          ],
          "contour": [
           {
            "colorbar": {
             "outlinewidth": 0,
             "ticks": ""
            },
            "colorscale": [
             [
              0,
              "#0d0887"
             ],
             [
              0.1111111111111111,
              "#46039f"
             ],
             [
              0.2222222222222222,
              "#7201a8"
             ],
             [
              0.3333333333333333,
              "#9c179e"
             ],
             [
              0.4444444444444444,
              "#bd3786"
             ],
             [
              0.5555555555555556,
              "#d8576b"
             ],
             [
              0.6666666666666666,
              "#ed7953"
             ],
             [
              0.7777777777777778,
              "#fb9f3a"
             ],
             [
              0.8888888888888888,
              "#fdca26"
             ],
             [
              1,
              "#f0f921"
             ]
            ],
            "type": "contour"
           }
          ],
          "contourcarpet": [
           {
            "colorbar": {
             "outlinewidth": 0,
             "ticks": ""
            },
            "type": "contourcarpet"
           }
          ],
          "heatmap": [
           {
            "colorbar": {
             "outlinewidth": 0,
             "ticks": ""
            },
            "colorscale": [
             [
              0,
              "#0d0887"
             ],
             [
              0.1111111111111111,
              "#46039f"
             ],
             [
              0.2222222222222222,
              "#7201a8"
             ],
             [
              0.3333333333333333,
              "#9c179e"
             ],
             [
              0.4444444444444444,
              "#bd3786"
             ],
             [
              0.5555555555555556,
              "#d8576b"
             ],
             [
              0.6666666666666666,
              "#ed7953"
             ],
             [
              0.7777777777777778,
              "#fb9f3a"
             ],
             [
              0.8888888888888888,
              "#fdca26"
             ],
             [
              1,
              "#f0f921"
             ]
            ],
            "type": "heatmap"
           }
          ],
          "heatmapgl": [
           {
            "colorbar": {
             "outlinewidth": 0,
             "ticks": ""
            },
            "colorscale": [
             [
              0,
              "#0d0887"
             ],
             [
              0.1111111111111111,
              "#46039f"
             ],
             [
              0.2222222222222222,
              "#7201a8"
             ],
             [
              0.3333333333333333,
              "#9c179e"
             ],
             [
              0.4444444444444444,
              "#bd3786"
             ],
             [
              0.5555555555555556,
              "#d8576b"
             ],
             [
              0.6666666666666666,
              "#ed7953"
             ],
             [
              0.7777777777777778,
              "#fb9f3a"
             ],
             [
              0.8888888888888888,
              "#fdca26"
             ],
             [
              1,
              "#f0f921"
             ]
            ],
            "type": "heatmapgl"
           }
          ],
          "histogram": [
           {
            "marker": {
             "pattern": {
              "fillmode": "overlay",
              "size": 10,
              "solidity": 0.2
             }
            },
            "type": "histogram"
           }
          ],
          "histogram2d": [
           {
            "colorbar": {
             "outlinewidth": 0,
             "ticks": ""
            },
            "colorscale": [
             [
              0,
              "#0d0887"
             ],
             [
              0.1111111111111111,
              "#46039f"
             ],
             [
              0.2222222222222222,
              "#7201a8"
             ],
             [
              0.3333333333333333,
              "#9c179e"
             ],
             [
              0.4444444444444444,
              "#bd3786"
             ],
             [
              0.5555555555555556,
              "#d8576b"
             ],
             [
              0.6666666666666666,
              "#ed7953"
             ],
             [
              0.7777777777777778,
              "#fb9f3a"
             ],
             [
              0.8888888888888888,
              "#fdca26"
             ],
             [
              1,
              "#f0f921"
             ]
            ],
            "type": "histogram2d"
           }
          ],
          "histogram2dcontour": [
           {
            "colorbar": {
             "outlinewidth": 0,
             "ticks": ""
            },
            "colorscale": [
             [
              0,
              "#0d0887"
             ],
             [
              0.1111111111111111,
              "#46039f"
             ],
             [
              0.2222222222222222,
              "#7201a8"
             ],
             [
              0.3333333333333333,
              "#9c179e"
             ],
             [
              0.4444444444444444,
              "#bd3786"
             ],
             [
              0.5555555555555556,
              "#d8576b"
             ],
             [
              0.6666666666666666,
              "#ed7953"
             ],
             [
              0.7777777777777778,
              "#fb9f3a"
             ],
             [
              0.8888888888888888,
              "#fdca26"
             ],
             [
              1,
              "#f0f921"
             ]
            ],
            "type": "histogram2dcontour"
           }
          ],
          "mesh3d": [
           {
            "colorbar": {
             "outlinewidth": 0,
             "ticks": ""
            },
            "type": "mesh3d"
           }
          ],
          "parcoords": [
           {
            "line": {
             "colorbar": {
              "outlinewidth": 0,
              "ticks": ""
             }
            },
            "type": "parcoords"
           }
          ],
          "pie": [
           {
            "automargin": true,
            "type": "pie"
           }
          ],
          "scatter": [
           {
            "fillpattern": {
             "fillmode": "overlay",
             "size": 10,
             "solidity": 0.2
            },
            "type": "scatter"
           }
          ],
          "scatter3d": [
           {
            "line": {
             "colorbar": {
              "outlinewidth": 0,
              "ticks": ""
             }
            },
            "marker": {
             "colorbar": {
              "outlinewidth": 0,
              "ticks": ""
             }
            },
            "type": "scatter3d"
           }
          ],
          "scattercarpet": [
           {
            "marker": {
             "colorbar": {
              "outlinewidth": 0,
              "ticks": ""
             }
            },
            "type": "scattercarpet"
           }
          ],
          "scattergeo": [
           {
            "marker": {
             "colorbar": {
              "outlinewidth": 0,
              "ticks": ""
             }
            },
            "type": "scattergeo"
           }
          ],
          "scattergl": [
           {
            "marker": {
             "colorbar": {
              "outlinewidth": 0,
              "ticks": ""
             }
            },
            "type": "scattergl"
           }
          ],
          "scattermapbox": [
           {
            "marker": {
             "colorbar": {
              "outlinewidth": 0,
              "ticks": ""
             }
            },
            "type": "scattermapbox"
           }
          ],
          "scatterpolar": [
           {
            "marker": {
             "colorbar": {
              "outlinewidth": 0,
              "ticks": ""
             }
            },
            "type": "scatterpolar"
           }
          ],
          "scatterpolargl": [
           {
            "marker": {
             "colorbar": {
              "outlinewidth": 0,
              "ticks": ""
             }
            },
            "type": "scatterpolargl"
           }
          ],
          "scatterternary": [
           {
            "marker": {
             "colorbar": {
              "outlinewidth": 0,
              "ticks": ""
             }
            },
            "type": "scatterternary"
           }
          ],
          "surface": [
           {
            "colorbar": {
             "outlinewidth": 0,
             "ticks": ""
            },
            "colorscale": [
             [
              0,
              "#0d0887"
             ],
             [
              0.1111111111111111,
              "#46039f"
             ],
             [
              0.2222222222222222,
              "#7201a8"
             ],
             [
              0.3333333333333333,
              "#9c179e"
             ],
             [
              0.4444444444444444,
              "#bd3786"
             ],
             [
              0.5555555555555556,
              "#d8576b"
             ],
             [
              0.6666666666666666,
              "#ed7953"
             ],
             [
              0.7777777777777778,
              "#fb9f3a"
             ],
             [
              0.8888888888888888,
              "#fdca26"
             ],
             [
              1,
              "#f0f921"
             ]
            ],
            "type": "surface"
           }
          ],
          "table": [
           {
            "cells": {
             "fill": {
              "color": "#EBF0F8"
             },
             "line": {
              "color": "white"
             }
            },
            "header": {
             "fill": {
              "color": "#C8D4E3"
             },
             "line": {
              "color": "white"
             }
            },
            "type": "table"
           }
          ]
         },
         "layout": {
          "annotationdefaults": {
           "arrowcolor": "#2a3f5f",
           "arrowhead": 0,
           "arrowwidth": 1
          },
          "autotypenumbers": "strict",
          "coloraxis": {
           "colorbar": {
            "outlinewidth": 0,
            "ticks": ""
           }
          },
          "colorscale": {
           "diverging": [
            [
             0,
             "#8e0152"
            ],
            [
             0.1,
             "#c51b7d"
            ],
            [
             0.2,
             "#de77ae"
            ],
            [
             0.3,
             "#f1b6da"
            ],
            [
             0.4,
             "#fde0ef"
            ],
            [
             0.5,
             "#f7f7f7"
            ],
            [
             0.6,
             "#e6f5d0"
            ],
            [
             0.7,
             "#b8e186"
            ],
            [
             0.8,
             "#7fbc41"
            ],
            [
             0.9,
             "#4d9221"
            ],
            [
             1,
             "#276419"
            ]
           ],
           "sequential": [
            [
             0,
             "#0d0887"
            ],
            [
             0.1111111111111111,
             "#46039f"
            ],
            [
             0.2222222222222222,
             "#7201a8"
            ],
            [
             0.3333333333333333,
             "#9c179e"
            ],
            [
             0.4444444444444444,
             "#bd3786"
            ],
            [
             0.5555555555555556,
             "#d8576b"
            ],
            [
             0.6666666666666666,
             "#ed7953"
            ],
            [
             0.7777777777777778,
             "#fb9f3a"
            ],
            [
             0.8888888888888888,
             "#fdca26"
            ],
            [
             1,
             "#f0f921"
            ]
           ],
           "sequentialminus": [
            [
             0,
             "#0d0887"
            ],
            [
             0.1111111111111111,
             "#46039f"
            ],
            [
             0.2222222222222222,
             "#7201a8"
            ],
            [
             0.3333333333333333,
             "#9c179e"
            ],
            [
             0.4444444444444444,
             "#bd3786"
            ],
            [
             0.5555555555555556,
             "#d8576b"
            ],
            [
             0.6666666666666666,
             "#ed7953"
            ],
            [
             0.7777777777777778,
             "#fb9f3a"
            ],
            [
             0.8888888888888888,
             "#fdca26"
            ],
            [
             1,
             "#f0f921"
            ]
           ]
          },
          "colorway": [
           "#636efa",
           "#EF553B",
           "#00cc96",
           "#ab63fa",
           "#FFA15A",
           "#19d3f3",
           "#FF6692",
           "#B6E880",
           "#FF97FF",
           "#FECB52"
          ],
          "font": {
           "color": "#2a3f5f"
          },
          "geo": {
           "bgcolor": "white",
           "lakecolor": "white",
           "landcolor": "#E5ECF6",
           "showlakes": true,
           "showland": true,
           "subunitcolor": "white"
          },
          "hoverlabel": {
           "align": "left"
          },
          "hovermode": "closest",
          "mapbox": {
           "style": "light"
          },
          "paper_bgcolor": "white",
          "plot_bgcolor": "#E5ECF6",
          "polar": {
           "angularaxis": {
            "gridcolor": "white",
            "linecolor": "white",
            "ticks": ""
           },
           "bgcolor": "#E5ECF6",
           "radialaxis": {
            "gridcolor": "white",
            "linecolor": "white",
            "ticks": ""
           }
          },
          "scene": {
           "xaxis": {
            "backgroundcolor": "#E5ECF6",
            "gridcolor": "white",
            "gridwidth": 2,
            "linecolor": "white",
            "showbackground": true,
            "ticks": "",
            "zerolinecolor": "white"
           },
           "yaxis": {
            "backgroundcolor": "#E5ECF6",
            "gridcolor": "white",
            "gridwidth": 2,
            "linecolor": "white",
            "showbackground": true,
            "ticks": "",
            "zerolinecolor": "white"
           },
           "zaxis": {
            "backgroundcolor": "#E5ECF6",
            "gridcolor": "white",
            "gridwidth": 2,
            "linecolor": "white",
            "showbackground": true,
            "ticks": "",
            "zerolinecolor": "white"
           }
          },
          "shapedefaults": {
           "line": {
            "color": "#2a3f5f"
           }
          },
          "ternary": {
           "aaxis": {
            "gridcolor": "white",
            "linecolor": "white",
            "ticks": ""
           },
           "baxis": {
            "gridcolor": "white",
            "linecolor": "white",
            "ticks": ""
           },
           "bgcolor": "#E5ECF6",
           "caxis": {
            "gridcolor": "white",
            "linecolor": "white",
            "ticks": ""
           }
          },
          "title": {
           "x": 0.05
          },
          "xaxis": {
           "automargin": true,
           "gridcolor": "white",
           "linecolor": "white",
           "ticks": "",
           "title": {
            "standoff": 15
           },
           "zerolinecolor": "white",
           "zerolinewidth": 2
          },
          "yaxis": {
           "automargin": true,
           "gridcolor": "white",
           "linecolor": "white",
           "ticks": "",
           "title": {
            "standoff": 15
           },
           "zerolinecolor": "white",
           "zerolinewidth": 2
          }
         }
        },
        "title": {
         "text": "How Many People Finished their Races"
        },
        "xaxis": {
         "title": {
          "text": "Race Status"
         }
        },
        "yaxis": {
         "title": {
          "text": "Number of People"
         }
        }
       }
      }
     },
     "metadata": {},
     "output_type": "display_data"
    }
   ],
   "source": [
    "finish_status = [row['time'] if len(row['time'].split(':')) == 1 else 'Finished' for row in data]\n",
    "counter = Counter(finish_status)\n",
    "x = []\n",
    "y = []\n",
    "for finish_category, num_in_category in sorted(counter.items(), key=lambda x: x[1], reverse=True):\n",
    "    x.append(finish_category)\n",
    "    y.append(num_in_category)\n",
    "\n",
    "fig = go.Figure(\n",
    "    data={'x': x, 'y': y, 'type': 'bar'},\n",
    "    layout={\n",
    "        \"title\": \"How Many People Finished their Races\",\n",
    "        \"xaxis_title\": \"Race Status\",\n",
    "        \"yaxis_title\": \"Number of People\",\n",
    "    }\n",
    ")\n",
    "fig.show()\n",
    "save_figure(fig, 'how_many_people_finished_their_races.json')"
   ]
  },
  {
   "cell_type": "markdown",
   "metadata": {},
   "source": [
    "Of the 11,635 participants, most of them finished their events. We can see a whopping 1703 participants in either the \"Not Started\" and \"DNS\" categories (why these are different categories, (since they both mean \"didn't start\") I don't know, but I'd guess they both mean different things, but from different recording mechanisms. Perhaps 1692 people didn't pick up their race bib, but then a further 11 who did pick up their gear still didn't show up to their race.\n",
    "\n",
    "Also we can see the 156 DNF's, which is remarkably low really, showing that if you start your race, you have only a ~1.5% of not finishing it.\n",
    "\n",
    "I wonder how these rates change depending on the race entered..."
   ]
  },
  {
   "cell_type": "code",
   "execution_count": 89,
   "metadata": {},
   "outputs": [
    {
     "data": {
      "application/vnd.plotly.v1+json": {
       "config": {
        "plotlyServerURL": "https://plot.ly"
       },
       "data": [
        {
         "alignmentgroup": "True",
         "hovertemplate": "time=finished<br>event_name=%{x}<br>Percentage (%)=%{y}<extra></extra>",
         "legendgroup": "finished",
         "marker": {
          "color": "#636efa",
          "pattern": {
           "shape": ""
          }
         },
         "name": "finished",
         "offsetgroup": "finished",
         "orientation": "v",
         "showlegend": true,
         "textposition": "auto",
         "type": "bar",
         "visible": "legendonly",
         "x": [
          "10km",
          "2km",
          "5km",
          "Half Marathon",
          "Marathon"
         ],
         "xaxis": "x",
         "y": [
          83.86727688787185,
          88.33333333333333,
          82.77227722772277,
          85.91044776119404,
          77.0023419203747
         ],
         "yaxis": "y"
        },
        {
         "alignmentgroup": "True",
         "hovertemplate": "time=Not started<br>event_name=%{x}<br>Percentage (%)=%{y}<extra></extra>",
         "legendgroup": "Not started",
         "marker": {
          "color": "#EF553B",
          "pattern": {
           "shape": ""
          }
         },
         "name": "Not started",
         "offsetgroup": "Not started",
         "orientation": "v",
         "showlegend": true,
         "textposition": "auto",
         "type": "bar",
         "x": [
          "10km",
          "2km",
          "5km",
          "Half Marathon",
          "Marathon"
         ],
         "xaxis": "x",
         "y": [
          15.598779557589626,
          10.714285714285714,
          17.02970297029703,
          13.114427860696518,
          16.95550351288056
         ],
         "yaxis": "y"
        },
        {
         "alignmentgroup": "True",
         "hovertemplate": "time=DNF<br>event_name=%{x}<br>Percentage (%)=%{y}<extra></extra>",
         "legendgroup": "DNF",
         "marker": {
          "color": "#00cc96",
          "pattern": {
           "shape": ""
          }
         },
         "name": "DNF",
         "offsetgroup": "DNF",
         "orientation": "v",
         "showlegend": true,
         "textposition": "auto",
         "type": "bar",
         "x": [
          "10km",
          "2km",
          "5km",
          "Half Marathon",
          "Marathon"
         ],
         "xaxis": "x",
         "y": [
          0.34324942791762014,
          0.8333333333333334,
          0.19801980198019803,
          0.7761194029850746,
          4.6370023419203745
         ],
         "yaxis": "y"
        },
        {
         "alignmentgroup": "True",
         "hovertemplate": "time=DNS<br>event_name=%{x}<br>Percentage (%)=%{y}<extra></extra>",
         "legendgroup": "DNS",
         "marker": {
          "color": "#ab63fa",
          "pattern": {
           "shape": ""
          }
         },
         "name": "DNS",
         "offsetgroup": "DNS",
         "orientation": "v",
         "showlegend": true,
         "textposition": "auto",
         "type": "bar",
         "x": [
          "10km",
          "2km",
          "Half Marathon",
          "Marathon"
         ],
         "xaxis": "x",
         "y": [
          0.11441647597254005,
          0.11904761904761905,
          0.07960199004975124,
          0.1405152224824356
         ],
         "yaxis": "y"
        },
        {
         "alignmentgroup": "True",
         "hovertemplate": "time=DQ<br>event_name=%{x}<br>Percentage (%)=%{y}<extra></extra>",
         "legendgroup": "DQ",
         "marker": {
          "color": "#FFA15A",
          "pattern": {
           "shape": ""
          }
         },
         "name": "DQ",
         "offsetgroup": "DQ",
         "orientation": "v",
         "showlegend": true,
         "textposition": "auto",
         "type": "bar",
         "x": [
          "10km",
          "Half Marathon",
          "Marathon"
         ],
         "xaxis": "x",
         "y": [
          0.03813882532418002,
          0.07960199004975124,
          1.1709601873536302
         ],
         "yaxis": "y"
        },
        {
         "alignmentgroup": "True",
         "hovertemplate": "time=QRY<br>event_name=%{x}<br>Percentage (%)=%{y}<extra></extra>",
         "legendgroup": "QRY",
         "marker": {
          "color": "#19d3f3",
          "pattern": {
           "shape": ""
          }
         },
         "name": "QRY",
         "offsetgroup": "QRY",
         "orientation": "v",
         "showlegend": true,
         "textposition": "auto",
         "type": "bar",
         "x": [
          "10km",
          "Half Marathon",
          "Marathon"
         ],
         "xaxis": "x",
         "y": [
          0.03813882532418002,
          0.03980099502487562,
          0.09367681498829039
         ],
         "yaxis": "y"
        }
       ],
       "layout": {
        "barmode": "relative",
        "legend": {
         "title": {
          "text": "time"
         },
         "tracegroupgap": 0
        },
        "margin": {
         "t": 60
        },
        "template": {
         "data": {
          "bar": [
           {
            "error_x": {
             "color": "#2a3f5f"
            },
            "error_y": {
             "color": "#2a3f5f"
            },
            "marker": {
             "line": {
              "color": "#E5ECF6",
              "width": 0.5
             },
             "pattern": {
              "fillmode": "overlay",
              "size": 10,
              "solidity": 0.2
             }
            },
            "type": "bar"
           }
          ],
          "barpolar": [
           {
            "marker": {
             "line": {
              "color": "#E5ECF6",
              "width": 0.5
             },
             "pattern": {
              "fillmode": "overlay",
              "size": 10,
              "solidity": 0.2
             }
            },
            "type": "barpolar"
           }
          ],
          "carpet": [
           {
            "aaxis": {
             "endlinecolor": "#2a3f5f",
             "gridcolor": "white",
             "linecolor": "white",
             "minorgridcolor": "white",
             "startlinecolor": "#2a3f5f"
            },
            "baxis": {
             "endlinecolor": "#2a3f5f",
             "gridcolor": "white",
             "linecolor": "white",
             "minorgridcolor": "white",
             "startlinecolor": "#2a3f5f"
            },
            "type": "carpet"
           }
          ],
          "choropleth": [
           {
            "colorbar": {
             "outlinewidth": 0,
             "ticks": ""
            },
            "type": "choropleth"
           }
          ],
          "contour": [
           {
            "colorbar": {
             "outlinewidth": 0,
             "ticks": ""
            },
            "colorscale": [
             [
              0,
              "#0d0887"
             ],
             [
              0.1111111111111111,
              "#46039f"
             ],
             [
              0.2222222222222222,
              "#7201a8"
             ],
             [
              0.3333333333333333,
              "#9c179e"
             ],
             [
              0.4444444444444444,
              "#bd3786"
             ],
             [
              0.5555555555555556,
              "#d8576b"
             ],
             [
              0.6666666666666666,
              "#ed7953"
             ],
             [
              0.7777777777777778,
              "#fb9f3a"
             ],
             [
              0.8888888888888888,
              "#fdca26"
             ],
             [
              1,
              "#f0f921"
             ]
            ],
            "type": "contour"
           }
          ],
          "contourcarpet": [
           {
            "colorbar": {
             "outlinewidth": 0,
             "ticks": ""
            },
            "type": "contourcarpet"
           }
          ],
          "heatmap": [
           {
            "colorbar": {
             "outlinewidth": 0,
             "ticks": ""
            },
            "colorscale": [
             [
              0,
              "#0d0887"
             ],
             [
              0.1111111111111111,
              "#46039f"
             ],
             [
              0.2222222222222222,
              "#7201a8"
             ],
             [
              0.3333333333333333,
              "#9c179e"
             ],
             [
              0.4444444444444444,
              "#bd3786"
             ],
             [
              0.5555555555555556,
              "#d8576b"
             ],
             [
              0.6666666666666666,
              "#ed7953"
             ],
             [
              0.7777777777777778,
              "#fb9f3a"
             ],
             [
              0.8888888888888888,
              "#fdca26"
             ],
             [
              1,
              "#f0f921"
             ]
            ],
            "type": "heatmap"
           }
          ],
          "heatmapgl": [
           {
            "colorbar": {
             "outlinewidth": 0,
             "ticks": ""
            },
            "colorscale": [
             [
              0,
              "#0d0887"
             ],
             [
              0.1111111111111111,
              "#46039f"
             ],
             [
              0.2222222222222222,
              "#7201a8"
             ],
             [
              0.3333333333333333,
              "#9c179e"
             ],
             [
              0.4444444444444444,
              "#bd3786"
             ],
             [
              0.5555555555555556,
              "#d8576b"
             ],
             [
              0.6666666666666666,
              "#ed7953"
             ],
             [
              0.7777777777777778,
              "#fb9f3a"
             ],
             [
              0.8888888888888888,
              "#fdca26"
             ],
             [
              1,
              "#f0f921"
             ]
            ],
            "type": "heatmapgl"
           }
          ],
          "histogram": [
           {
            "marker": {
             "pattern": {
              "fillmode": "overlay",
              "size": 10,
              "solidity": 0.2
             }
            },
            "type": "histogram"
           }
          ],
          "histogram2d": [
           {
            "colorbar": {
             "outlinewidth": 0,
             "ticks": ""
            },
            "colorscale": [
             [
              0,
              "#0d0887"
             ],
             [
              0.1111111111111111,
              "#46039f"
             ],
             [
              0.2222222222222222,
              "#7201a8"
             ],
             [
              0.3333333333333333,
              "#9c179e"
             ],
             [
              0.4444444444444444,
              "#bd3786"
             ],
             [
              0.5555555555555556,
              "#d8576b"
             ],
             [
              0.6666666666666666,
              "#ed7953"
             ],
             [
              0.7777777777777778,
              "#fb9f3a"
             ],
             [
              0.8888888888888888,
              "#fdca26"
             ],
             [
              1,
              "#f0f921"
             ]
            ],
            "type": "histogram2d"
           }
          ],
          "histogram2dcontour": [
           {
            "colorbar": {
             "outlinewidth": 0,
             "ticks": ""
            },
            "colorscale": [
             [
              0,
              "#0d0887"
             ],
             [
              0.1111111111111111,
              "#46039f"
             ],
             [
              0.2222222222222222,
              "#7201a8"
             ],
             [
              0.3333333333333333,
              "#9c179e"
             ],
             [
              0.4444444444444444,
              "#bd3786"
             ],
             [
              0.5555555555555556,
              "#d8576b"
             ],
             [
              0.6666666666666666,
              "#ed7953"
             ],
             [
              0.7777777777777778,
              "#fb9f3a"
             ],
             [
              0.8888888888888888,
              "#fdca26"
             ],
             [
              1,
              "#f0f921"
             ]
            ],
            "type": "histogram2dcontour"
           }
          ],
          "mesh3d": [
           {
            "colorbar": {
             "outlinewidth": 0,
             "ticks": ""
            },
            "type": "mesh3d"
           }
          ],
          "parcoords": [
           {
            "line": {
             "colorbar": {
              "outlinewidth": 0,
              "ticks": ""
             }
            },
            "type": "parcoords"
           }
          ],
          "pie": [
           {
            "automargin": true,
            "type": "pie"
           }
          ],
          "scatter": [
           {
            "fillpattern": {
             "fillmode": "overlay",
             "size": 10,
             "solidity": 0.2
            },
            "type": "scatter"
           }
          ],
          "scatter3d": [
           {
            "line": {
             "colorbar": {
              "outlinewidth": 0,
              "ticks": ""
             }
            },
            "marker": {
             "colorbar": {
              "outlinewidth": 0,
              "ticks": ""
             }
            },
            "type": "scatter3d"
           }
          ],
          "scattercarpet": [
           {
            "marker": {
             "colorbar": {
              "outlinewidth": 0,
              "ticks": ""
             }
            },
            "type": "scattercarpet"
           }
          ],
          "scattergeo": [
           {
            "marker": {
             "colorbar": {
              "outlinewidth": 0,
              "ticks": ""
             }
            },
            "type": "scattergeo"
           }
          ],
          "scattergl": [
           {
            "marker": {
             "colorbar": {
              "outlinewidth": 0,
              "ticks": ""
             }
            },
            "type": "scattergl"
           }
          ],
          "scattermapbox": [
           {
            "marker": {
             "colorbar": {
              "outlinewidth": 0,
              "ticks": ""
             }
            },
            "type": "scattermapbox"
           }
          ],
          "scatterpolar": [
           {
            "marker": {
             "colorbar": {
              "outlinewidth": 0,
              "ticks": ""
             }
            },
            "type": "scatterpolar"
           }
          ],
          "scatterpolargl": [
           {
            "marker": {
             "colorbar": {
              "outlinewidth": 0,
              "ticks": ""
             }
            },
            "type": "scatterpolargl"
           }
          ],
          "scatterternary": [
           {
            "marker": {
             "colorbar": {
              "outlinewidth": 0,
              "ticks": ""
             }
            },
            "type": "scatterternary"
           }
          ],
          "surface": [
           {
            "colorbar": {
             "outlinewidth": 0,
             "ticks": ""
            },
            "colorscale": [
             [
              0,
              "#0d0887"
             ],
             [
              0.1111111111111111,
              "#46039f"
             ],
             [
              0.2222222222222222,
              "#7201a8"
             ],
             [
              0.3333333333333333,
              "#9c179e"
             ],
             [
              0.4444444444444444,
              "#bd3786"
             ],
             [
              0.5555555555555556,
              "#d8576b"
             ],
             [
              0.6666666666666666,
              "#ed7953"
             ],
             [
              0.7777777777777778,
              "#fb9f3a"
             ],
             [
              0.8888888888888888,
              "#fdca26"
             ],
             [
              1,
              "#f0f921"
             ]
            ],
            "type": "surface"
           }
          ],
          "table": [
           {
            "cells": {
             "fill": {
              "color": "#EBF0F8"
             },
             "line": {
              "color": "white"
             }
            },
            "header": {
             "fill": {
              "color": "#C8D4E3"
             },
             "line": {
              "color": "white"
             }
            },
            "type": "table"
           }
          ]
         },
         "layout": {
          "annotationdefaults": {
           "arrowcolor": "#2a3f5f",
           "arrowhead": 0,
           "arrowwidth": 1
          },
          "autotypenumbers": "strict",
          "coloraxis": {
           "colorbar": {
            "outlinewidth": 0,
            "ticks": ""
           }
          },
          "colorscale": {
           "diverging": [
            [
             0,
             "#8e0152"
            ],
            [
             0.1,
             "#c51b7d"
            ],
            [
             0.2,
             "#de77ae"
            ],
            [
             0.3,
             "#f1b6da"
            ],
            [
             0.4,
             "#fde0ef"
            ],
            [
             0.5,
             "#f7f7f7"
            ],
            [
             0.6,
             "#e6f5d0"
            ],
            [
             0.7,
             "#b8e186"
            ],
            [
             0.8,
             "#7fbc41"
            ],
            [
             0.9,
             "#4d9221"
            ],
            [
             1,
             "#276419"
            ]
           ],
           "sequential": [
            [
             0,
             "#0d0887"
            ],
            [
             0.1111111111111111,
             "#46039f"
            ],
            [
             0.2222222222222222,
             "#7201a8"
            ],
            [
             0.3333333333333333,
             "#9c179e"
            ],
            [
             0.4444444444444444,
             "#bd3786"
            ],
            [
             0.5555555555555556,
             "#d8576b"
            ],
            [
             0.6666666666666666,
             "#ed7953"
            ],
            [
             0.7777777777777778,
             "#fb9f3a"
            ],
            [
             0.8888888888888888,
             "#fdca26"
            ],
            [
             1,
             "#f0f921"
            ]
           ],
           "sequentialminus": [
            [
             0,
             "#0d0887"
            ],
            [
             0.1111111111111111,
             "#46039f"
            ],
            [
             0.2222222222222222,
             "#7201a8"
            ],
            [
             0.3333333333333333,
             "#9c179e"
            ],
            [
             0.4444444444444444,
             "#bd3786"
            ],
            [
             0.5555555555555556,
             "#d8576b"
            ],
            [
             0.6666666666666666,
             "#ed7953"
            ],
            [
             0.7777777777777778,
             "#fb9f3a"
            ],
            [
             0.8888888888888888,
             "#fdca26"
            ],
            [
             1,
             "#f0f921"
            ]
           ]
          },
          "colorway": [
           "#636efa",
           "#EF553B",
           "#00cc96",
           "#ab63fa",
           "#FFA15A",
           "#19d3f3",
           "#FF6692",
           "#B6E880",
           "#FF97FF",
           "#FECB52"
          ],
          "font": {
           "color": "#2a3f5f"
          },
          "geo": {
           "bgcolor": "white",
           "lakecolor": "white",
           "landcolor": "#E5ECF6",
           "showlakes": true,
           "showland": true,
           "subunitcolor": "white"
          },
          "hoverlabel": {
           "align": "left"
          },
          "hovermode": "closest",
          "mapbox": {
           "style": "light"
          },
          "paper_bgcolor": "white",
          "plot_bgcolor": "#E5ECF6",
          "polar": {
           "angularaxis": {
            "gridcolor": "white",
            "linecolor": "white",
            "ticks": ""
           },
           "bgcolor": "#E5ECF6",
           "radialaxis": {
            "gridcolor": "white",
            "linecolor": "white",
            "ticks": ""
           }
          },
          "scene": {
           "xaxis": {
            "backgroundcolor": "#E5ECF6",
            "gridcolor": "white",
            "gridwidth": 2,
            "linecolor": "white",
            "showbackground": true,
            "ticks": "",
            "zerolinecolor": "white"
           },
           "yaxis": {
            "backgroundcolor": "#E5ECF6",
            "gridcolor": "white",
            "gridwidth": 2,
            "linecolor": "white",
            "showbackground": true,
            "ticks": "",
            "zerolinecolor": "white"
           },
           "zaxis": {
            "backgroundcolor": "#E5ECF6",
            "gridcolor": "white",
            "gridwidth": 2,
            "linecolor": "white",
            "showbackground": true,
            "ticks": "",
            "zerolinecolor": "white"
           }
          },
          "shapedefaults": {
           "line": {
            "color": "#2a3f5f"
           }
          },
          "ternary": {
           "aaxis": {
            "gridcolor": "white",
            "linecolor": "white",
            "ticks": ""
           },
           "baxis": {
            "gridcolor": "white",
            "linecolor": "white",
            "ticks": ""
           },
           "bgcolor": "#E5ECF6",
           "caxis": {
            "gridcolor": "white",
            "linecolor": "white",
            "ticks": ""
           }
          },
          "title": {
           "x": 0.05
          },
          "xaxis": {
           "automargin": true,
           "gridcolor": "white",
           "linecolor": "white",
           "ticks": "",
           "title": {
            "standoff": 15
           },
           "zerolinecolor": "white",
           "zerolinewidth": 2
          },
          "yaxis": {
           "automargin": true,
           "gridcolor": "white",
           "linecolor": "white",
           "ticks": "",
           "title": {
            "standoff": 15
           },
           "zerolinecolor": "white",
           "zerolinewidth": 2
          }
         }
        },
        "title": {
         "text": "Race Results by Event Type as a Percentage",
         "x": 0.5
        },
        "xaxis": {
         "anchor": "y",
         "categoryarray": [
          "Marathon",
          "Half Marathon",
          "10km",
          "5km",
          "2km"
         ],
         "categoryorder": "array",
         "domain": [
          0,
          1
         ],
         "title": {
          "text": "Event"
         }
        },
        "yaxis": {
         "anchor": "x",
         "domain": [
          0,
          1
         ],
         "title": {
          "text": "Percentage (%)"
         }
        }
       }
      }
     },
     "metadata": {},
     "output_type": "display_data"
    }
   ],
   "source": [
    "import plotly.express as px\n",
    "import pandas as pd\n",
    "\n",
    "df = pd.DataFrame(data)\n",
    "\n",
    "# Create a copy of the DataFrame\n",
    "test_df = df.copy()\n",
    "\n",
    "# Replace values in 'time' that contain ':' with 'finished'\n",
    "test_df['time'] = test_df['time'].apply(lambda x: \"finished\"if':'in x else x)\n",
    "\n",
    "test_df = test_df[test_df['event_name'].isin(EVENTS_OF_INTEREST)]\n",
    "\n",
    "# Group by 'event_name' and 'time', and count the occurrences\n",
    "grouped_df = test_df.groupby(['event_name', 'time']).size().reset_index(name='count')\n",
    "\n",
    "# Calculate the total counts per 'event_name'\n",
    "total_counts = test_df.groupby('event_name').size().reset_index(name='total_count')\n",
    "\n",
    "# Merge the total counts with the grouped counts\n",
    "merged_df = pd.merge(grouped_df, total_counts, on='event_name')\n",
    "\n",
    "# Normalize the 'count' by the 'total_count'\n",
    "merged_df['Percentage (%)'] = merged_df['count'] / merged_df['total_count'] * 100\n",
    "\n",
    "# Specify the order of event names\n",
    "event_order = [\"Marathon\", \"Half Marathon\", \"10km\", \"5km\", \"2km\"]\n",
    "color_order = ['finished', 'Not started', 'DNS', 'DNF', \"QRY\", \"DQ\"]\n",
    "\n",
    "# Plot the normalized counts\n",
    "fig = px.bar(merged_df, x='event_name', y='Percentage (%)', color='time', category_orders={'event_name': event_order, 'time':['finished', 'Not started']})\n",
    "for trace in fig.data:\n",
    "    if trace.name == 'finished':\n",
    "        trace.visible = 'legendonly'\n",
    "fig.update_layout(\n",
    "    title=\"Race Results by Event Type as a Percentage\",\n",
    "    xaxis_title=\"Event\",\n",
    "    title_x=0.5\n",
    ")\n",
    "\n",
    "fig.show()\n",
    "save_figure(fig, 'race_result_by_event_type.json')"
   ]
  },
  {
   "cell_type": "markdown",
   "metadata": {},
   "source": [
    "Now that we're looking at the individual events, we can see that if you ran the marathon, there is actually a 4.6% chance that you would have dropped out, but for all other lengths, it was less than 1%. We can also see that the rate of disqualifications is significantly lower for all non-marathon events. This makes sense since the entire festival is centered around the marathon."
   ]
  },
  {
   "cell_type": "code",
   "execution_count": 90,
   "metadata": {},
   "outputs": [
    {
     "data": {
      "application/vnd.plotly.v1+json": {
       "config": {
        "plotlyServerURL": "https://plot.ly"
       },
       "data": [
        {
         "alignmentgroup": "True",
         "hovertemplate": "australia_or_not=%{text}<br>Country=%{x}<br>count=%{y}<extra></extra>",
         "legendgroup": "AUSTRALIA",
         "marker": {
          "color": "#636efa",
          "pattern": {
           "shape": ""
          }
         },
         "name": "AUSTRALIA",
         "offsetgroup": "AUSTRALIA",
         "orientation": "v",
         "showlegend": true,
         "text": [
          "AUSTRALIA"
         ],
         "textposition": "auto",
         "type": "bar",
         "x": [
          ""
         ],
         "xaxis": "x",
         "y": [
          11368
         ],
         "yaxis": "y"
        },
        {
         "alignmentgroup": "True",
         "hovertemplate": "australia_or_not=%{text}<br>Country=%{x}<br>count=%{y}<extra></extra>",
         "legendgroup": "OTHER",
         "marker": {
          "color": "#EF553B",
          "pattern": {
           "shape": ""
          }
         },
         "name": "OTHER",
         "offsetgroup": "OTHER",
         "orientation": "v",
         "showlegend": true,
         "text": [
          "OTHER"
         ],
         "textposition": "auto",
         "type": "bar",
         "x": [
          ""
         ],
         "xaxis": "x",
         "y": [
          267
         ],
         "yaxis": "y"
        }
       ],
       "layout": {
        "barmode": "relative",
        "legend": {
         "title": {
          "text": "australia_or_not"
         },
         "tracegroupgap": 0
        },
        "margin": {
         "t": 60
        },
        "showlegend": false,
        "template": {
         "data": {
          "bar": [
           {
            "error_x": {
             "color": "#2a3f5f"
            },
            "error_y": {
             "color": "#2a3f5f"
            },
            "marker": {
             "line": {
              "color": "#E5ECF6",
              "width": 0.5
             },
             "pattern": {
              "fillmode": "overlay",
              "size": 10,
              "solidity": 0.2
             }
            },
            "type": "bar"
           }
          ],
          "barpolar": [
           {
            "marker": {
             "line": {
              "color": "#E5ECF6",
              "width": 0.5
             },
             "pattern": {
              "fillmode": "overlay",
              "size": 10,
              "solidity": 0.2
             }
            },
            "type": "barpolar"
           }
          ],
          "carpet": [
           {
            "aaxis": {
             "endlinecolor": "#2a3f5f",
             "gridcolor": "white",
             "linecolor": "white",
             "minorgridcolor": "white",
             "startlinecolor": "#2a3f5f"
            },
            "baxis": {
             "endlinecolor": "#2a3f5f",
             "gridcolor": "white",
             "linecolor": "white",
             "minorgridcolor": "white",
             "startlinecolor": "#2a3f5f"
            },
            "type": "carpet"
           }
          ],
          "choropleth": [
           {
            "colorbar": {
             "outlinewidth": 0,
             "ticks": ""
            },
            "type": "choropleth"
           }
          ],
          "contour": [
           {
            "colorbar": {
             "outlinewidth": 0,
             "ticks": ""
            },
            "colorscale": [
             [
              0,
              "#0d0887"
             ],
             [
              0.1111111111111111,
              "#46039f"
             ],
             [
              0.2222222222222222,
              "#7201a8"
             ],
             [
              0.3333333333333333,
              "#9c179e"
             ],
             [
              0.4444444444444444,
              "#bd3786"
             ],
             [
              0.5555555555555556,
              "#d8576b"
             ],
             [
              0.6666666666666666,
              "#ed7953"
             ],
             [
              0.7777777777777778,
              "#fb9f3a"
             ],
             [
              0.8888888888888888,
              "#fdca26"
             ],
             [
              1,
              "#f0f921"
             ]
            ],
            "type": "contour"
           }
          ],
          "contourcarpet": [
           {
            "colorbar": {
             "outlinewidth": 0,
             "ticks": ""
            },
            "type": "contourcarpet"
           }
          ],
          "heatmap": [
           {
            "colorbar": {
             "outlinewidth": 0,
             "ticks": ""
            },
            "colorscale": [
             [
              0,
              "#0d0887"
             ],
             [
              0.1111111111111111,
              "#46039f"
             ],
             [
              0.2222222222222222,
              "#7201a8"
             ],
             [
              0.3333333333333333,
              "#9c179e"
             ],
             [
              0.4444444444444444,
              "#bd3786"
             ],
             [
              0.5555555555555556,
              "#d8576b"
             ],
             [
              0.6666666666666666,
              "#ed7953"
             ],
             [
              0.7777777777777778,
              "#fb9f3a"
             ],
             [
              0.8888888888888888,
              "#fdca26"
             ],
             [
              1,
              "#f0f921"
             ]
            ],
            "type": "heatmap"
           }
          ],
          "heatmapgl": [
           {
            "colorbar": {
             "outlinewidth": 0,
             "ticks": ""
            },
            "colorscale": [
             [
              0,
              "#0d0887"
             ],
             [
              0.1111111111111111,
              "#46039f"
             ],
             [
              0.2222222222222222,
              "#7201a8"
             ],
             [
              0.3333333333333333,
              "#9c179e"
             ],
             [
              0.4444444444444444,
              "#bd3786"
             ],
             [
              0.5555555555555556,
              "#d8576b"
             ],
             [
              0.6666666666666666,
              "#ed7953"
             ],
             [
              0.7777777777777778,
              "#fb9f3a"
             ],
             [
              0.8888888888888888,
              "#fdca26"
             ],
             [
              1,
              "#f0f921"
             ]
            ],
            "type": "heatmapgl"
           }
          ],
          "histogram": [
           {
            "marker": {
             "pattern": {
              "fillmode": "overlay",
              "size": 10,
              "solidity": 0.2
             }
            },
            "type": "histogram"
           }
          ],
          "histogram2d": [
           {
            "colorbar": {
             "outlinewidth": 0,
             "ticks": ""
            },
            "colorscale": [
             [
              0,
              "#0d0887"
             ],
             [
              0.1111111111111111,
              "#46039f"
             ],
             [
              0.2222222222222222,
              "#7201a8"
             ],
             [
              0.3333333333333333,
              "#9c179e"
             ],
             [
              0.4444444444444444,
              "#bd3786"
             ],
             [
              0.5555555555555556,
              "#d8576b"
             ],
             [
              0.6666666666666666,
              "#ed7953"
             ],
             [
              0.7777777777777778,
              "#fb9f3a"
             ],
             [
              0.8888888888888888,
              "#fdca26"
             ],
             [
              1,
              "#f0f921"
             ]
            ],
            "type": "histogram2d"
           }
          ],
          "histogram2dcontour": [
           {
            "colorbar": {
             "outlinewidth": 0,
             "ticks": ""
            },
            "colorscale": [
             [
              0,
              "#0d0887"
             ],
             [
              0.1111111111111111,
              "#46039f"
             ],
             [
              0.2222222222222222,
              "#7201a8"
             ],
             [
              0.3333333333333333,
              "#9c179e"
             ],
             [
              0.4444444444444444,
              "#bd3786"
             ],
             [
              0.5555555555555556,
              "#d8576b"
             ],
             [
              0.6666666666666666,
              "#ed7953"
             ],
             [
              0.7777777777777778,
              "#fb9f3a"
             ],
             [
              0.8888888888888888,
              "#fdca26"
             ],
             [
              1,
              "#f0f921"
             ]
            ],
            "type": "histogram2dcontour"
           }
          ],
          "mesh3d": [
           {
            "colorbar": {
             "outlinewidth": 0,
             "ticks": ""
            },
            "type": "mesh3d"
           }
          ],
          "parcoords": [
           {
            "line": {
             "colorbar": {
              "outlinewidth": 0,
              "ticks": ""
             }
            },
            "type": "parcoords"
           }
          ],
          "pie": [
           {
            "automargin": true,
            "type": "pie"
           }
          ],
          "scatter": [
           {
            "fillpattern": {
             "fillmode": "overlay",
             "size": 10,
             "solidity": 0.2
            },
            "type": "scatter"
           }
          ],
          "scatter3d": [
           {
            "line": {
             "colorbar": {
              "outlinewidth": 0,
              "ticks": ""
             }
            },
            "marker": {
             "colorbar": {
              "outlinewidth": 0,
              "ticks": ""
             }
            },
            "type": "scatter3d"
           }
          ],
          "scattercarpet": [
           {
            "marker": {
             "colorbar": {
              "outlinewidth": 0,
              "ticks": ""
             }
            },
            "type": "scattercarpet"
           }
          ],
          "scattergeo": [
           {
            "marker": {
             "colorbar": {
              "outlinewidth": 0,
              "ticks": ""
             }
            },
            "type": "scattergeo"
           }
          ],
          "scattergl": [
           {
            "marker": {
             "colorbar": {
              "outlinewidth": 0,
              "ticks": ""
             }
            },
            "type": "scattergl"
           }
          ],
          "scattermapbox": [
           {
            "marker": {
             "colorbar": {
              "outlinewidth": 0,
              "ticks": ""
             }
            },
            "type": "scattermapbox"
           }
          ],
          "scatterpolar": [
           {
            "marker": {
             "colorbar": {
              "outlinewidth": 0,
              "ticks": ""
             }
            },
            "type": "scatterpolar"
           }
          ],
          "scatterpolargl": [
           {
            "marker": {
             "colorbar": {
              "outlinewidth": 0,
              "ticks": ""
             }
            },
            "type": "scatterpolargl"
           }
          ],
          "scatterternary": [
           {
            "marker": {
             "colorbar": {
              "outlinewidth": 0,
              "ticks": ""
             }
            },
            "type": "scatterternary"
           }
          ],
          "surface": [
           {
            "colorbar": {
             "outlinewidth": 0,
             "ticks": ""
            },
            "colorscale": [
             [
              0,
              "#0d0887"
             ],
             [
              0.1111111111111111,
              "#46039f"
             ],
             [
              0.2222222222222222,
              "#7201a8"
             ],
             [
              0.3333333333333333,
              "#9c179e"
             ],
             [
              0.4444444444444444,
              "#bd3786"
             ],
             [
              0.5555555555555556,
              "#d8576b"
             ],
             [
              0.6666666666666666,
              "#ed7953"
             ],
             [
              0.7777777777777778,
              "#fb9f3a"
             ],
             [
              0.8888888888888888,
              "#fdca26"
             ],
             [
              1,
              "#f0f921"
             ]
            ],
            "type": "surface"
           }
          ],
          "table": [
           {
            "cells": {
             "fill": {
              "color": "#EBF0F8"
             },
             "line": {
              "color": "white"
             }
            },
            "header": {
             "fill": {
              "color": "#C8D4E3"
             },
             "line": {
              "color": "white"
             }
            },
            "type": "table"
           }
          ]
         },
         "layout": {
          "annotationdefaults": {
           "arrowcolor": "#2a3f5f",
           "arrowhead": 0,
           "arrowwidth": 1
          },
          "autotypenumbers": "strict",
          "coloraxis": {
           "colorbar": {
            "outlinewidth": 0,
            "ticks": ""
           }
          },
          "colorscale": {
           "diverging": [
            [
             0,
             "#8e0152"
            ],
            [
             0.1,
             "#c51b7d"
            ],
            [
             0.2,
             "#de77ae"
            ],
            [
             0.3,
             "#f1b6da"
            ],
            [
             0.4,
             "#fde0ef"
            ],
            [
             0.5,
             "#f7f7f7"
            ],
            [
             0.6,
             "#e6f5d0"
            ],
            [
             0.7,
             "#b8e186"
            ],
            [
             0.8,
             "#7fbc41"
            ],
            [
             0.9,
             "#4d9221"
            ],
            [
             1,
             "#276419"
            ]
           ],
           "sequential": [
            [
             0,
             "#0d0887"
            ],
            [
             0.1111111111111111,
             "#46039f"
            ],
            [
             0.2222222222222222,
             "#7201a8"
            ],
            [
             0.3333333333333333,
             "#9c179e"
            ],
            [
             0.4444444444444444,
             "#bd3786"
            ],
            [
             0.5555555555555556,
             "#d8576b"
            ],
            [
             0.6666666666666666,
             "#ed7953"
            ],
            [
             0.7777777777777778,
             "#fb9f3a"
            ],
            [
             0.8888888888888888,
             "#fdca26"
            ],
            [
             1,
             "#f0f921"
            ]
           ],
           "sequentialminus": [
            [
             0,
             "#0d0887"
            ],
            [
             0.1111111111111111,
             "#46039f"
            ],
            [
             0.2222222222222222,
             "#7201a8"
            ],
            [
             0.3333333333333333,
             "#9c179e"
            ],
            [
             0.4444444444444444,
             "#bd3786"
            ],
            [
             0.5555555555555556,
             "#d8576b"
            ],
            [
             0.6666666666666666,
             "#ed7953"
            ],
            [
             0.7777777777777778,
             "#fb9f3a"
            ],
            [
             0.8888888888888888,
             "#fdca26"
            ],
            [
             1,
             "#f0f921"
            ]
           ]
          },
          "colorway": [
           "#636efa",
           "#EF553B",
           "#00cc96",
           "#ab63fa",
           "#FFA15A",
           "#19d3f3",
           "#FF6692",
           "#B6E880",
           "#FF97FF",
           "#FECB52"
          ],
          "font": {
           "color": "#2a3f5f"
          },
          "geo": {
           "bgcolor": "white",
           "lakecolor": "white",
           "landcolor": "#E5ECF6",
           "showlakes": true,
           "showland": true,
           "subunitcolor": "white"
          },
          "hoverlabel": {
           "align": "left"
          },
          "hovermode": "closest",
          "mapbox": {
           "style": "light"
          },
          "paper_bgcolor": "white",
          "plot_bgcolor": "#E5ECF6",
          "polar": {
           "angularaxis": {
            "gridcolor": "white",
            "linecolor": "white",
            "ticks": ""
           },
           "bgcolor": "#E5ECF6",
           "radialaxis": {
            "gridcolor": "white",
            "linecolor": "white",
            "ticks": ""
           }
          },
          "scene": {
           "xaxis": {
            "backgroundcolor": "#E5ECF6",
            "gridcolor": "white",
            "gridwidth": 2,
            "linecolor": "white",
            "showbackground": true,
            "ticks": "",
            "zerolinecolor": "white"
           },
           "yaxis": {
            "backgroundcolor": "#E5ECF6",
            "gridcolor": "white",
            "gridwidth": 2,
            "linecolor": "white",
            "showbackground": true,
            "ticks": "",
            "zerolinecolor": "white"
           },
           "zaxis": {
            "backgroundcolor": "#E5ECF6",
            "gridcolor": "white",
            "gridwidth": 2,
            "linecolor": "white",
            "showbackground": true,
            "ticks": "",
            "zerolinecolor": "white"
           }
          },
          "shapedefaults": {
           "line": {
            "color": "#2a3f5f"
           }
          },
          "ternary": {
           "aaxis": {
            "gridcolor": "white",
            "linecolor": "white",
            "ticks": ""
           },
           "baxis": {
            "gridcolor": "white",
            "linecolor": "white",
            "ticks": ""
           },
           "bgcolor": "#E5ECF6",
           "caxis": {
            "gridcolor": "white",
            "linecolor": "white",
            "ticks": ""
           }
          },
          "title": {
           "x": 0.05
          },
          "xaxis": {
           "automargin": true,
           "gridcolor": "white",
           "linecolor": "white",
           "ticks": "",
           "title": {
            "standoff": 15
           },
           "zerolinecolor": "white",
           "zerolinewidth": 2
          },
          "yaxis": {
           "automargin": true,
           "gridcolor": "white",
           "linecolor": "white",
           "ticks": "",
           "title": {
            "standoff": 15
           },
           "zerolinecolor": "white",
           "zerolinewidth": 2
          }
         }
        },
        "title": {
         "text": "Australian Entrants Vs Other"
        },
        "xaxis": {
         "anchor": "y",
         "domain": [
          0,
          1
         ],
         "title": {
          "text": "Entrants"
         }
        },
        "yaxis": {
         "anchor": "x",
         "domain": [
          0,
          1
         ],
         "title": {
          "text": "Number of People"
         }
        }
       }
      }
     },
     "metadata": {},
     "output_type": "display_data"
    }
   ],
   "source": [
    "australia_or_not_df = df.copy()\n",
    "australia_or_not_df['australia_or_not'] = australia_or_not_df['country'].where(australia_or_not_df['country'] == \"AUSTRALIA\", 'OTHER')\n",
    "australia_or_not_df = australia_or_not_df.groupby(['australia_or_not']).size().reset_index(name='count')\n",
    "australia_or_not_df['Country'] = ''\n",
    "\n",
    "fig = px.bar(australia_or_not_df, x='Country', y='count', color='australia_or_not', text='australia_or_not')\n",
    "fig.update_layout(showlegend=False, title='Australian Entrants Vs Other', xaxis_title='Entrants', yaxis_title='Number of People')\n",
    "\n",
    "fig.show()\n",
    "save_figure(fig, 'australia_vs_other.json')"
   ]
  },
  {
   "cell_type": "markdown",
   "metadata": {},
   "source": [
    "We can see that almost 2% of race entrants registered under countries other than Australia. Here is the breakdown of where the non-Australian atheletes came from:"
   ]
  },
  {
   "cell_type": "code",
   "execution_count": 91,
   "metadata": {},
   "outputs": [
    {
     "data": {
      "application/vnd.plotly.v1+json": {
       "config": {
        "plotlyServerURL": "https://plot.ly"
       },
       "data": [
        {
         "alignmentgroup": "True",
         "hovertemplate": "country=%{text}<br>Country=%{x}<br>count=%{y}<extra></extra>",
         "legendgroup": "NEW ZEALAND",
         "marker": {
          "color": "#636efa",
          "pattern": {
           "shape": ""
          }
         },
         "name": "NEW ZEALAND",
         "offsetgroup": "NEW ZEALAND",
         "orientation": "v",
         "showlegend": true,
         "text": [
          "NEW ZEALAND"
         ],
         "textposition": "auto",
         "type": "bar",
         "x": [
          "Other"
         ],
         "xaxis": "x",
         "y": [
          83
         ],
         "yaxis": "y"
        },
        {
         "alignmentgroup": "True",
         "hovertemplate": "country=%{text}<br>Country=%{x}<br>count=%{y}<extra></extra>",
         "legendgroup": "UNITED KINGDOM",
         "marker": {
          "color": "#EF553B",
          "pattern": {
           "shape": ""
          }
         },
         "name": "UNITED KINGDOM",
         "offsetgroup": "UNITED KINGDOM",
         "orientation": "v",
         "showlegend": true,
         "text": [
          "UNITED KINGDOM"
         ],
         "textposition": "auto",
         "type": "bar",
         "x": [
          "Other"
         ],
         "xaxis": "x",
         "y": [
          29
         ],
         "yaxis": "y"
        },
        {
         "alignmentgroup": "True",
         "hovertemplate": "country=%{text}<br>Country=%{x}<br>count=%{y}<extra></extra>",
         "legendgroup": "SINGAPORE",
         "marker": {
          "color": "#00cc96",
          "pattern": {
           "shape": ""
          }
         },
         "name": "SINGAPORE",
         "offsetgroup": "SINGAPORE",
         "orientation": "v",
         "showlegend": true,
         "text": [
          "SINGAPORE"
         ],
         "textposition": "auto",
         "type": "bar",
         "x": [
          "Other"
         ],
         "xaxis": "x",
         "y": [
          27
         ],
         "yaxis": "y"
        },
        {
         "alignmentgroup": "True",
         "hovertemplate": "country=%{text}<br>Country=%{x}<br>count=%{y}<extra></extra>",
         "legendgroup": "UNITED STATES",
         "marker": {
          "color": "#ab63fa",
          "pattern": {
           "shape": ""
          }
         },
         "name": "UNITED STATES",
         "offsetgroup": "UNITED STATES",
         "orientation": "v",
         "showlegend": true,
         "text": [
          "UNITED STATES"
         ],
         "textposition": "auto",
         "type": "bar",
         "x": [
          "Other"
         ],
         "xaxis": "x",
         "y": [
          18
         ],
         "yaxis": "y"
        },
        {
         "alignmentgroup": "True",
         "hovertemplate": "country=%{text}<br>Country=%{x}<br>count=%{y}<extra></extra>",
         "legendgroup": "JAPAN",
         "marker": {
          "color": "#FFA15A",
          "pattern": {
           "shape": ""
          }
         },
         "name": "JAPAN",
         "offsetgroup": "JAPAN",
         "orientation": "v",
         "showlegend": true,
         "text": [
          "JAPAN"
         ],
         "textposition": "auto",
         "type": "bar",
         "x": [
          "Other"
         ],
         "xaxis": "x",
         "y": [
          17
         ],
         "yaxis": "y"
        },
        {
         "alignmentgroup": "True",
         "hovertemplate": "country=%{text}<br>Country=%{x}<br>count=%{y}<extra></extra>",
         "legendgroup": "TAIWAN, PROVINCE OF CHINA",
         "marker": {
          "color": "#19d3f3",
          "pattern": {
           "shape": ""
          }
         },
         "name": "TAIWAN, PROVINCE OF CHINA",
         "offsetgroup": "TAIWAN, PROVINCE OF CHINA",
         "orientation": "v",
         "showlegend": true,
         "text": [
          "TAIWAN, PROVINCE OF CHINA"
         ],
         "textposition": "auto",
         "type": "bar",
         "x": [
          "Other"
         ],
         "xaxis": "x",
         "y": [
          17
         ],
         "yaxis": "y"
        },
        {
         "alignmentgroup": "True",
         "hovertemplate": "country=%{text}<br>Country=%{x}<br>count=%{y}<extra></extra>",
         "legendgroup": "HONG KONG",
         "marker": {
          "color": "#FF6692",
          "pattern": {
           "shape": ""
          }
         },
         "name": "HONG KONG",
         "offsetgroup": "HONG KONG",
         "orientation": "v",
         "showlegend": true,
         "text": [
          "HONG KONG"
         ],
         "textposition": "auto",
         "type": "bar",
         "x": [
          "Other"
         ],
         "xaxis": "x",
         "y": [
          16
         ],
         "yaxis": "y"
        },
        {
         "alignmentgroup": "True",
         "hovertemplate": "country=%{text}<br>Country=%{x}<br>count=%{y}<extra></extra>",
         "legendgroup": "NORWAY",
         "marker": {
          "color": "#B6E880",
          "pattern": {
           "shape": ""
          }
         },
         "name": "NORWAY",
         "offsetgroup": "NORWAY",
         "orientation": "v",
         "showlegend": true,
         "text": [
          "NORWAY"
         ],
         "textposition": "auto",
         "type": "bar",
         "x": [
          "Other"
         ],
         "xaxis": "x",
         "y": [
          10
         ],
         "yaxis": "y"
        },
        {
         "alignmentgroup": "True",
         "hovertemplate": "country=%{text}<br>Country=%{x}<br>count=%{y}<extra></extra>",
         "legendgroup": "GERMANY",
         "marker": {
          "color": "#FF97FF",
          "pattern": {
           "shape": ""
          }
         },
         "name": "GERMANY",
         "offsetgroup": "GERMANY",
         "orientation": "v",
         "showlegend": true,
         "text": [
          "GERMANY"
         ],
         "textposition": "auto",
         "type": "bar",
         "x": [
          "Other"
         ],
         "xaxis": "x",
         "y": [
          7
         ],
         "yaxis": "y"
        },
        {
         "alignmentgroup": "True",
         "hovertemplate": "country=%{text}<br>Country=%{x}<br>count=%{y}<extra></extra>",
         "legendgroup": "FRANCE",
         "marker": {
          "color": "#FECB52",
          "pattern": {
           "shape": ""
          }
         },
         "name": "FRANCE",
         "offsetgroup": "FRANCE",
         "orientation": "v",
         "showlegend": true,
         "text": [
          "FRANCE"
         ],
         "textposition": "auto",
         "type": "bar",
         "x": [
          "Other"
         ],
         "xaxis": "x",
         "y": [
          5
         ],
         "yaxis": "y"
        },
        {
         "alignmentgroup": "True",
         "hovertemplate": "country=%{text}<br>Country=%{x}<br>count=%{y}<extra></extra>",
         "legendgroup": "CANADA",
         "marker": {
          "color": "#636efa",
          "pattern": {
           "shape": ""
          }
         },
         "name": "CANADA",
         "offsetgroup": "CANADA",
         "orientation": "v",
         "showlegend": true,
         "text": [
          "CANADA"
         ],
         "textposition": "auto",
         "type": "bar",
         "x": [
          "Other"
         ],
         "xaxis": "x",
         "y": [
          5
         ],
         "yaxis": "y"
        },
        {
         "alignmentgroup": "True",
         "hovertemplate": "country=%{text}<br>Country=%{x}<br>count=%{y}<extra></extra>",
         "legendgroup": "PHILIPPINES",
         "marker": {
          "color": "#EF553B",
          "pattern": {
           "shape": ""
          }
         },
         "name": "PHILIPPINES",
         "offsetgroup": "PHILIPPINES",
         "orientation": "v",
         "showlegend": true,
         "text": [
          "PHILIPPINES"
         ],
         "textposition": "auto",
         "type": "bar",
         "x": [
          "Other"
         ],
         "xaxis": "x",
         "y": [
          4
         ],
         "yaxis": "y"
        },
        {
         "alignmentgroup": "True",
         "hovertemplate": "country=%{text}<br>Country=%{x}<br>count=%{y}<extra></extra>",
         "legendgroup": "IRELAND",
         "marker": {
          "color": "#00cc96",
          "pattern": {
           "shape": ""
          }
         },
         "name": "IRELAND",
         "offsetgroup": "IRELAND",
         "orientation": "v",
         "showlegend": true,
         "text": [
          "IRELAND"
         ],
         "textposition": "auto",
         "type": "bar",
         "x": [
          "Other"
         ],
         "xaxis": "x",
         "y": [
          3
         ],
         "yaxis": "y"
        },
        {
         "alignmentgroup": "True",
         "hovertemplate": "country=%{text}<br>Country=%{x}<br>count=%{y}<extra></extra>",
         "legendgroup": "AUSTRIA",
         "marker": {
          "color": "#ab63fa",
          "pattern": {
           "shape": ""
          }
         },
         "name": "AUSTRIA",
         "offsetgroup": "AUSTRIA",
         "orientation": "v",
         "showlegend": true,
         "text": [
          "AUSTRIA"
         ],
         "textposition": "auto",
         "type": "bar",
         "x": [
          "Other"
         ],
         "xaxis": "x",
         "y": [
          3
         ],
         "yaxis": "y"
        },
        {
         "alignmentgroup": "True",
         "hovertemplate": "country=%{text}<br>Country=%{x}<br>count=%{y}<extra></extra>",
         "legendgroup": "COLOMBIA",
         "marker": {
          "color": "#FFA15A",
          "pattern": {
           "shape": ""
          }
         },
         "name": "COLOMBIA",
         "offsetgroup": "COLOMBIA",
         "orientation": "v",
         "showlegend": true,
         "text": [
          "COLOMBIA"
         ],
         "textposition": "auto",
         "type": "bar",
         "x": [
          "Other"
         ],
         "xaxis": "x",
         "y": [
          3
         ],
         "yaxis": "y"
        },
        {
         "alignmentgroup": "True",
         "hovertemplate": "country=%{text}<br>Country=%{x}<br>count=%{y}<extra></extra>",
         "legendgroup": "Unknown",
         "marker": {
          "color": "#19d3f3",
          "pattern": {
           "shape": ""
          }
         },
         "name": "Unknown",
         "offsetgroup": "Unknown",
         "orientation": "v",
         "showlegend": true,
         "text": [
          "Unknown"
         ],
         "textposition": "auto",
         "type": "bar",
         "x": [
          "Other"
         ],
         "xaxis": "x",
         "y": [
          2
         ],
         "yaxis": "y"
        },
        {
         "alignmentgroup": "True",
         "hovertemplate": "country=%{text}<br>Country=%{x}<br>count=%{y}<extra></extra>",
         "legendgroup": "VIET NAM",
         "marker": {
          "color": "#FF6692",
          "pattern": {
           "shape": ""
          }
         },
         "name": "VIET NAM",
         "offsetgroup": "VIET NAM",
         "orientation": "v",
         "showlegend": true,
         "text": [
          "VIET NAM"
         ],
         "textposition": "auto",
         "type": "bar",
         "x": [
          "Other"
         ],
         "xaxis": "x",
         "y": [
          2
         ],
         "yaxis": "y"
        },
        {
         "alignmentgroup": "True",
         "hovertemplate": "country=%{text}<br>Country=%{x}<br>count=%{y}<extra></extra>",
         "legendgroup": "KOREA, REPUBLIC OF",
         "marker": {
          "color": "#B6E880",
          "pattern": {
           "shape": ""
          }
         },
         "name": "KOREA, REPUBLIC OF",
         "offsetgroup": "KOREA, REPUBLIC OF",
         "orientation": "v",
         "showlegend": true,
         "text": [
          "KOREA, REPUBLIC OF"
         ],
         "textposition": "auto",
         "type": "bar",
         "x": [
          "Other"
         ],
         "xaxis": "x",
         "y": [
          2
         ],
         "yaxis": "y"
        },
        {
         "alignmentgroup": "True",
         "hovertemplate": "country=%{text}<br>Country=%{x}<br>count=%{y}<extra></extra>",
         "legendgroup": "DENMARK",
         "marker": {
          "color": "#FF97FF",
          "pattern": {
           "shape": ""
          }
         },
         "name": "DENMARK",
         "offsetgroup": "DENMARK",
         "orientation": "v",
         "showlegend": true,
         "text": [
          "DENMARK"
         ],
         "textposition": "auto",
         "type": "bar",
         "x": [
          "Other"
         ],
         "xaxis": "x",
         "y": [
          2
         ],
         "yaxis": "y"
        },
        {
         "alignmentgroup": "True",
         "hovertemplate": "country=%{text}<br>Country=%{x}<br>count=%{y}<extra></extra>",
         "legendgroup": "ITALY",
         "marker": {
          "color": "#FECB52",
          "pattern": {
           "shape": ""
          }
         },
         "name": "ITALY",
         "offsetgroup": "ITALY",
         "orientation": "v",
         "showlegend": true,
         "text": [
          "ITALY"
         ],
         "textposition": "auto",
         "type": "bar",
         "x": [
          "Other"
         ],
         "xaxis": "x",
         "y": [
          2
         ],
         "yaxis": "y"
        },
        {
         "alignmentgroup": "True",
         "hovertemplate": "country=%{text}<br>Country=%{x}<br>count=%{y}<extra></extra>",
         "legendgroup": "CHINA",
         "marker": {
          "color": "#636efa",
          "pattern": {
           "shape": ""
          }
         },
         "name": "CHINA",
         "offsetgroup": "CHINA",
         "orientation": "v",
         "showlegend": true,
         "text": [
          "CHINA"
         ],
         "textposition": "auto",
         "type": "bar",
         "x": [
          "Other"
         ],
         "xaxis": "x",
         "y": [
          1
         ],
         "yaxis": "y"
        },
        {
         "alignmentgroup": "True",
         "hovertemplate": "country=%{text}<br>Country=%{x}<br>count=%{y}<extra></extra>",
         "legendgroup": "CZECH REPUBLIC",
         "marker": {
          "color": "#EF553B",
          "pattern": {
           "shape": ""
          }
         },
         "name": "CZECH REPUBLIC",
         "offsetgroup": "CZECH REPUBLIC",
         "orientation": "v",
         "showlegend": true,
         "text": [
          "CZECH REPUBLIC"
         ],
         "textposition": "auto",
         "type": "bar",
         "x": [
          "Other"
         ],
         "xaxis": "x",
         "y": [
          1
         ],
         "yaxis": "y"
        },
        {
         "alignmentgroup": "True",
         "hovertemplate": "country=%{text}<br>Country=%{x}<br>count=%{y}<extra></extra>",
         "legendgroup": "HUNGARY",
         "marker": {
          "color": "#00cc96",
          "pattern": {
           "shape": ""
          }
         },
         "name": "HUNGARY",
         "offsetgroup": "HUNGARY",
         "orientation": "v",
         "showlegend": true,
         "text": [
          "HUNGARY"
         ],
         "textposition": "auto",
         "type": "bar",
         "x": [
          "Other"
         ],
         "xaxis": "x",
         "y": [
          1
         ],
         "yaxis": "y"
        },
        {
         "alignmentgroup": "True",
         "hovertemplate": "country=%{text}<br>Country=%{x}<br>count=%{y}<extra></extra>",
         "legendgroup": "BRAZIL",
         "marker": {
          "color": "#ab63fa",
          "pattern": {
           "shape": ""
          }
         },
         "name": "BRAZIL",
         "offsetgroup": "BRAZIL",
         "orientation": "v",
         "showlegend": true,
         "text": [
          "BRAZIL"
         ],
         "textposition": "auto",
         "type": "bar",
         "x": [
          "Other"
         ],
         "xaxis": "x",
         "y": [
          1
         ],
         "yaxis": "y"
        },
        {
         "alignmentgroup": "True",
         "hovertemplate": "country=%{text}<br>Country=%{x}<br>count=%{y}<extra></extra>",
         "legendgroup": "NEW CALEDONIA",
         "marker": {
          "color": "#FFA15A",
          "pattern": {
           "shape": ""
          }
         },
         "name": "NEW CALEDONIA",
         "offsetgroup": "NEW CALEDONIA",
         "orientation": "v",
         "showlegend": true,
         "text": [
          "NEW CALEDONIA"
         ],
         "textposition": "auto",
         "type": "bar",
         "x": [
          "Other"
         ],
         "xaxis": "x",
         "y": [
          1
         ],
         "yaxis": "y"
        },
        {
         "alignmentgroup": "True",
         "hovertemplate": "country=%{text}<br>Country=%{x}<br>count=%{y}<extra></extra>",
         "legendgroup": "PORTUGAL",
         "marker": {
          "color": "#19d3f3",
          "pattern": {
           "shape": ""
          }
         },
         "name": "PORTUGAL",
         "offsetgroup": "PORTUGAL",
         "orientation": "v",
         "showlegend": true,
         "text": [
          "PORTUGAL"
         ],
         "textposition": "auto",
         "type": "bar",
         "x": [
          "Other"
         ],
         "xaxis": "x",
         "y": [
          1
         ],
         "yaxis": "y"
        },
        {
         "alignmentgroup": "True",
         "hovertemplate": "country=%{text}<br>Country=%{x}<br>count=%{y}<extra></extra>",
         "legendgroup": "SOUTH AFRICA",
         "marker": {
          "color": "#FF6692",
          "pattern": {
           "shape": ""
          }
         },
         "name": "SOUTH AFRICA",
         "offsetgroup": "SOUTH AFRICA",
         "orientation": "v",
         "showlegend": true,
         "text": [
          "SOUTH AFRICA"
         ],
         "textposition": "auto",
         "type": "bar",
         "x": [
          "Other"
         ],
         "xaxis": "x",
         "y": [
          1
         ],
         "yaxis": "y"
        },
        {
         "alignmentgroup": "True",
         "hovertemplate": "country=%{text}<br>Country=%{x}<br>count=%{y}<extra></extra>",
         "legendgroup": "UNITED ARAB EMIRATES",
         "marker": {
          "color": "#B6E880",
          "pattern": {
           "shape": ""
          }
         },
         "name": "UNITED ARAB EMIRATES",
         "offsetgroup": "UNITED ARAB EMIRATES",
         "orientation": "v",
         "showlegend": true,
         "text": [
          "UNITED ARAB EMIRATES"
         ],
         "textposition": "auto",
         "type": "bar",
         "x": [
          "Other"
         ],
         "xaxis": "x",
         "y": [
          1
         ],
         "yaxis": "y"
        },
        {
         "alignmentgroup": "True",
         "hovertemplate": "country=%{text}<br>Country=%{x}<br>count=%{y}<extra></extra>",
         "legendgroup": "SPAIN",
         "marker": {
          "color": "#FF97FF",
          "pattern": {
           "shape": ""
          }
         },
         "name": "SPAIN",
         "offsetgroup": "SPAIN",
         "orientation": "v",
         "showlegend": true,
         "text": [
          "SPAIN"
         ],
         "textposition": "auto",
         "type": "bar",
         "x": [
          "Other"
         ],
         "xaxis": "x",
         "y": [
          1
         ],
         "yaxis": "y"
        },
        {
         "alignmentgroup": "True",
         "hovertemplate": "country=%{text}<br>Country=%{x}<br>count=%{y}<extra></extra>",
         "legendgroup": "SWITZERLAND",
         "marker": {
          "color": "#FECB52",
          "pattern": {
           "shape": ""
          }
         },
         "name": "SWITZERLAND",
         "offsetgroup": "SWITZERLAND",
         "orientation": "v",
         "showlegend": true,
         "text": [
          "SWITZERLAND"
         ],
         "textposition": "auto",
         "type": "bar",
         "x": [
          "Other"
         ],
         "xaxis": "x",
         "y": [
          1
         ],
         "yaxis": "y"
        }
       ],
       "layout": {
        "barmode": "relative",
        "legend": {
         "title": {
          "text": "country"
         },
         "tracegroupgap": 0
        },
        "margin": {
         "t": 60
        },
        "showlegend": false,
        "template": {
         "data": {
          "bar": [
           {
            "error_x": {
             "color": "#2a3f5f"
            },
            "error_y": {
             "color": "#2a3f5f"
            },
            "marker": {
             "line": {
              "color": "#E5ECF6",
              "width": 0.5
             },
             "pattern": {
              "fillmode": "overlay",
              "size": 10,
              "solidity": 0.2
             }
            },
            "type": "bar"
           }
          ],
          "barpolar": [
           {
            "marker": {
             "line": {
              "color": "#E5ECF6",
              "width": 0.5
             },
             "pattern": {
              "fillmode": "overlay",
              "size": 10,
              "solidity": 0.2
             }
            },
            "type": "barpolar"
           }
          ],
          "carpet": [
           {
            "aaxis": {
             "endlinecolor": "#2a3f5f",
             "gridcolor": "white",
             "linecolor": "white",
             "minorgridcolor": "white",
             "startlinecolor": "#2a3f5f"
            },
            "baxis": {
             "endlinecolor": "#2a3f5f",
             "gridcolor": "white",
             "linecolor": "white",
             "minorgridcolor": "white",
             "startlinecolor": "#2a3f5f"
            },
            "type": "carpet"
           }
          ],
          "choropleth": [
           {
            "colorbar": {
             "outlinewidth": 0,
             "ticks": ""
            },
            "type": "choropleth"
           }
          ],
          "contour": [
           {
            "colorbar": {
             "outlinewidth": 0,
             "ticks": ""
            },
            "colorscale": [
             [
              0,
              "#0d0887"
             ],
             [
              0.1111111111111111,
              "#46039f"
             ],
             [
              0.2222222222222222,
              "#7201a8"
             ],
             [
              0.3333333333333333,
              "#9c179e"
             ],
             [
              0.4444444444444444,
              "#bd3786"
             ],
             [
              0.5555555555555556,
              "#d8576b"
             ],
             [
              0.6666666666666666,
              "#ed7953"
             ],
             [
              0.7777777777777778,
              "#fb9f3a"
             ],
             [
              0.8888888888888888,
              "#fdca26"
             ],
             [
              1,
              "#f0f921"
             ]
            ],
            "type": "contour"
           }
          ],
          "contourcarpet": [
           {
            "colorbar": {
             "outlinewidth": 0,
             "ticks": ""
            },
            "type": "contourcarpet"
           }
          ],
          "heatmap": [
           {
            "colorbar": {
             "outlinewidth": 0,
             "ticks": ""
            },
            "colorscale": [
             [
              0,
              "#0d0887"
             ],
             [
              0.1111111111111111,
              "#46039f"
             ],
             [
              0.2222222222222222,
              "#7201a8"
             ],
             [
              0.3333333333333333,
              "#9c179e"
             ],
             [
              0.4444444444444444,
              "#bd3786"
             ],
             [
              0.5555555555555556,
              "#d8576b"
             ],
             [
              0.6666666666666666,
              "#ed7953"
             ],
             [
              0.7777777777777778,
              "#fb9f3a"
             ],
             [
              0.8888888888888888,
              "#fdca26"
             ],
             [
              1,
              "#f0f921"
             ]
            ],
            "type": "heatmap"
           }
          ],
          "heatmapgl": [
           {
            "colorbar": {
             "outlinewidth": 0,
             "ticks": ""
            },
            "colorscale": [
             [
              0,
              "#0d0887"
             ],
             [
              0.1111111111111111,
              "#46039f"
             ],
             [
              0.2222222222222222,
              "#7201a8"
             ],
             [
              0.3333333333333333,
              "#9c179e"
             ],
             [
              0.4444444444444444,
              "#bd3786"
             ],
             [
              0.5555555555555556,
              "#d8576b"
             ],
             [
              0.6666666666666666,
              "#ed7953"
             ],
             [
              0.7777777777777778,
              "#fb9f3a"
             ],
             [
              0.8888888888888888,
              "#fdca26"
             ],
             [
              1,
              "#f0f921"
             ]
            ],
            "type": "heatmapgl"
           }
          ],
          "histogram": [
           {
            "marker": {
             "pattern": {
              "fillmode": "overlay",
              "size": 10,
              "solidity": 0.2
             }
            },
            "type": "histogram"
           }
          ],
          "histogram2d": [
           {
            "colorbar": {
             "outlinewidth": 0,
             "ticks": ""
            },
            "colorscale": [
             [
              0,
              "#0d0887"
             ],
             [
              0.1111111111111111,
              "#46039f"
             ],
             [
              0.2222222222222222,
              "#7201a8"
             ],
             [
              0.3333333333333333,
              "#9c179e"
             ],
             [
              0.4444444444444444,
              "#bd3786"
             ],
             [
              0.5555555555555556,
              "#d8576b"
             ],
             [
              0.6666666666666666,
              "#ed7953"
             ],
             [
              0.7777777777777778,
              "#fb9f3a"
             ],
             [
              0.8888888888888888,
              "#fdca26"
             ],
             [
              1,
              "#f0f921"
             ]
            ],
            "type": "histogram2d"
           }
          ],
          "histogram2dcontour": [
           {
            "colorbar": {
             "outlinewidth": 0,
             "ticks": ""
            },
            "colorscale": [
             [
              0,
              "#0d0887"
             ],
             [
              0.1111111111111111,
              "#46039f"
             ],
             [
              0.2222222222222222,
              "#7201a8"
             ],
             [
              0.3333333333333333,
              "#9c179e"
             ],
             [
              0.4444444444444444,
              "#bd3786"
             ],
             [
              0.5555555555555556,
              "#d8576b"
             ],
             [
              0.6666666666666666,
              "#ed7953"
             ],
             [
              0.7777777777777778,
              "#fb9f3a"
             ],
             [
              0.8888888888888888,
              "#fdca26"
             ],
             [
              1,
              "#f0f921"
             ]
            ],
            "type": "histogram2dcontour"
           }
          ],
          "mesh3d": [
           {
            "colorbar": {
             "outlinewidth": 0,
             "ticks": ""
            },
            "type": "mesh3d"
           }
          ],
          "parcoords": [
           {
            "line": {
             "colorbar": {
              "outlinewidth": 0,
              "ticks": ""
             }
            },
            "type": "parcoords"
           }
          ],
          "pie": [
           {
            "automargin": true,
            "type": "pie"
           }
          ],
          "scatter": [
           {
            "fillpattern": {
             "fillmode": "overlay",
             "size": 10,
             "solidity": 0.2
            },
            "type": "scatter"
           }
          ],
          "scatter3d": [
           {
            "line": {
             "colorbar": {
              "outlinewidth": 0,
              "ticks": ""
             }
            },
            "marker": {
             "colorbar": {
              "outlinewidth": 0,
              "ticks": ""
             }
            },
            "type": "scatter3d"
           }
          ],
          "scattercarpet": [
           {
            "marker": {
             "colorbar": {
              "outlinewidth": 0,
              "ticks": ""
             }
            },
            "type": "scattercarpet"
           }
          ],
          "scattergeo": [
           {
            "marker": {
             "colorbar": {
              "outlinewidth": 0,
              "ticks": ""
             }
            },
            "type": "scattergeo"
           }
          ],
          "scattergl": [
           {
            "marker": {
             "colorbar": {
              "outlinewidth": 0,
              "ticks": ""
             }
            },
            "type": "scattergl"
           }
          ],
          "scattermapbox": [
           {
            "marker": {
             "colorbar": {
              "outlinewidth": 0,
              "ticks": ""
             }
            },
            "type": "scattermapbox"
           }
          ],
          "scatterpolar": [
           {
            "marker": {
             "colorbar": {
              "outlinewidth": 0,
              "ticks": ""
             }
            },
            "type": "scatterpolar"
           }
          ],
          "scatterpolargl": [
           {
            "marker": {
             "colorbar": {
              "outlinewidth": 0,
              "ticks": ""
             }
            },
            "type": "scatterpolargl"
           }
          ],
          "scatterternary": [
           {
            "marker": {
             "colorbar": {
              "outlinewidth": 0,
              "ticks": ""
             }
            },
            "type": "scatterternary"
           }
          ],
          "surface": [
           {
            "colorbar": {
             "outlinewidth": 0,
             "ticks": ""
            },
            "colorscale": [
             [
              0,
              "#0d0887"
             ],
             [
              0.1111111111111111,
              "#46039f"
             ],
             [
              0.2222222222222222,
              "#7201a8"
             ],
             [
              0.3333333333333333,
              "#9c179e"
             ],
             [
              0.4444444444444444,
              "#bd3786"
             ],
             [
              0.5555555555555556,
              "#d8576b"
             ],
             [
              0.6666666666666666,
              "#ed7953"
             ],
             [
              0.7777777777777778,
              "#fb9f3a"
             ],
             [
              0.8888888888888888,
              "#fdca26"
             ],
             [
              1,
              "#f0f921"
             ]
            ],
            "type": "surface"
           }
          ],
          "table": [
           {
            "cells": {
             "fill": {
              "color": "#EBF0F8"
             },
             "line": {
              "color": "white"
             }
            },
            "header": {
             "fill": {
              "color": "#C8D4E3"
             },
             "line": {
              "color": "white"
             }
            },
            "type": "table"
           }
          ]
         },
         "layout": {
          "annotationdefaults": {
           "arrowcolor": "#2a3f5f",
           "arrowhead": 0,
           "arrowwidth": 1
          },
          "autotypenumbers": "strict",
          "coloraxis": {
           "colorbar": {
            "outlinewidth": 0,
            "ticks": ""
           }
          },
          "colorscale": {
           "diverging": [
            [
             0,
             "#8e0152"
            ],
            [
             0.1,
             "#c51b7d"
            ],
            [
             0.2,
             "#de77ae"
            ],
            [
             0.3,
             "#f1b6da"
            ],
            [
             0.4,
             "#fde0ef"
            ],
            [
             0.5,
             "#f7f7f7"
            ],
            [
             0.6,
             "#e6f5d0"
            ],
            [
             0.7,
             "#b8e186"
            ],
            [
             0.8,
             "#7fbc41"
            ],
            [
             0.9,
             "#4d9221"
            ],
            [
             1,
             "#276419"
            ]
           ],
           "sequential": [
            [
             0,
             "#0d0887"
            ],
            [
             0.1111111111111111,
             "#46039f"
            ],
            [
             0.2222222222222222,
             "#7201a8"
            ],
            [
             0.3333333333333333,
             "#9c179e"
            ],
            [
             0.4444444444444444,
             "#bd3786"
            ],
            [
             0.5555555555555556,
             "#d8576b"
            ],
            [
             0.6666666666666666,
             "#ed7953"
            ],
            [
             0.7777777777777778,
             "#fb9f3a"
            ],
            [
             0.8888888888888888,
             "#fdca26"
            ],
            [
             1,
             "#f0f921"
            ]
           ],
           "sequentialminus": [
            [
             0,
             "#0d0887"
            ],
            [
             0.1111111111111111,
             "#46039f"
            ],
            [
             0.2222222222222222,
             "#7201a8"
            ],
            [
             0.3333333333333333,
             "#9c179e"
            ],
            [
             0.4444444444444444,
             "#bd3786"
            ],
            [
             0.5555555555555556,
             "#d8576b"
            ],
            [
             0.6666666666666666,
             "#ed7953"
            ],
            [
             0.7777777777777778,
             "#fb9f3a"
            ],
            [
             0.8888888888888888,
             "#fdca26"
            ],
            [
             1,
             "#f0f921"
            ]
           ]
          },
          "colorway": [
           "#636efa",
           "#EF553B",
           "#00cc96",
           "#ab63fa",
           "#FFA15A",
           "#19d3f3",
           "#FF6692",
           "#B6E880",
           "#FF97FF",
           "#FECB52"
          ],
          "font": {
           "color": "#2a3f5f"
          },
          "geo": {
           "bgcolor": "white",
           "lakecolor": "white",
           "landcolor": "#E5ECF6",
           "showlakes": true,
           "showland": true,
           "subunitcolor": "white"
          },
          "hoverlabel": {
           "align": "left"
          },
          "hovermode": "closest",
          "mapbox": {
           "style": "light"
          },
          "paper_bgcolor": "white",
          "plot_bgcolor": "#E5ECF6",
          "polar": {
           "angularaxis": {
            "gridcolor": "white",
            "linecolor": "white",
            "ticks": ""
           },
           "bgcolor": "#E5ECF6",
           "radialaxis": {
            "gridcolor": "white",
            "linecolor": "white",
            "ticks": ""
           }
          },
          "scene": {
           "xaxis": {
            "backgroundcolor": "#E5ECF6",
            "gridcolor": "white",
            "gridwidth": 2,
            "linecolor": "white",
            "showbackground": true,
            "ticks": "",
            "zerolinecolor": "white"
           },
           "yaxis": {
            "backgroundcolor": "#E5ECF6",
            "gridcolor": "white",
            "gridwidth": 2,
            "linecolor": "white",
            "showbackground": true,
            "ticks": "",
            "zerolinecolor": "white"
           },
           "zaxis": {
            "backgroundcolor": "#E5ECF6",
            "gridcolor": "white",
            "gridwidth": 2,
            "linecolor": "white",
            "showbackground": true,
            "ticks": "",
            "zerolinecolor": "white"
           }
          },
          "shapedefaults": {
           "line": {
            "color": "#2a3f5f"
           }
          },
          "ternary": {
           "aaxis": {
            "gridcolor": "white",
            "linecolor": "white",
            "ticks": ""
           },
           "baxis": {
            "gridcolor": "white",
            "linecolor": "white",
            "ticks": ""
           },
           "bgcolor": "#E5ECF6",
           "caxis": {
            "gridcolor": "white",
            "linecolor": "white",
            "ticks": ""
           }
          },
          "title": {
           "x": 0.05
          },
          "xaxis": {
           "automargin": true,
           "gridcolor": "white",
           "linecolor": "white",
           "ticks": "",
           "title": {
            "standoff": 15
           },
           "zerolinecolor": "white",
           "zerolinewidth": 2
          },
          "yaxis": {
           "automargin": true,
           "gridcolor": "white",
           "linecolor": "white",
           "ticks": "",
           "title": {
            "standoff": 15
           },
           "zerolinecolor": "white",
           "zerolinewidth": 2
          }
         }
        },
        "title": {
         "text": "A Breakdown of Other Countries"
        },
        "xaxis": {
         "anchor": "y",
         "domain": [
          0,
          1
         ],
         "title": {
          "text": ""
         }
        },
        "yaxis": {
         "anchor": "x",
         "domain": [
          0,
          1
         ],
         "title": {
          "text": "Number of People"
         }
        }
       }
      }
     },
     "metadata": {},
     "output_type": "display_data"
    }
   ],
   "source": [
    "others_df = df.copy()\n",
    "others_df = others_df.groupby(['country']).size().reset_index(name='count')\n",
    "others_df = others_df[others_df['country'] != 'AUSTRALIA']\n",
    "others_df = others_df.sort_values(ascending=False, by=['count'])\n",
    "others_df['Country'] = 'Other'\n",
    "\n",
    "fig = px.bar(others_df, x='Country', y='count', color='country', text='country')\n",
    "fig.update_layout(showlegend=False, title='A Breakdown of Other Countries', xaxis_title='', yaxis_title='Number of People')\n",
    "fig.show()\n",
    "save_figure(fig, 'other_countries_breakdown.json')"
   ]
  },
  {
   "cell_type": "markdown",
   "metadata": {},
   "source": [
    "We have great representation from a large number of countries. I can figure out an athlete's country by looking at the flag displayed on the website. The flags seem to use ISO 3166-1 2 letter country codes which let me link them to countries, but there are still 2 athletes who have a blank country in the data. I wonder if these athletes somehow managed to register without a country, or if they registered with a country that doesn't have a valid ISO code. I suppose the question: \"How many countries are there?\" is actually very contentious with no consensus between governments worldwide, so it makes sense that we can run into an edge case like this."
   ]
  },
  {
   "cell_type": "code",
   "execution_count": 92,
   "metadata": {},
   "outputs": [
    {
     "data": {
      "application/vnd.plotly.v1+json": {
       "config": {
        "plotlyServerURL": "https://plot.ly"
       },
       "data": [
        {
         "name": "idk",
         "type": "histogram",
         "x": [
          "2000-01-01T01:03:40",
          "2000-01-01T01:03:56",
          "2000-01-01T01:04:23",
          "2000-01-01T01:04:40",
          "2000-01-01T01:04:42",
          "2000-01-01T01:05:56",
          "2000-01-01T01:06:29",
          "2000-01-01T01:06:38",
          "2000-01-01T01:06:40",
          "2000-01-01T01:07:29",
          "2000-01-01T01:08:06",
          "2000-01-01T01:09:26",
          "2000-01-01T01:09:28",
          "2000-01-01T01:10:09",
          "2000-01-01T01:10:23",
          "2000-01-01T01:10:28",
          "2000-01-01T01:10:49",
          "2000-01-01T01:10:55",
          "2000-01-01T01:12:20",
          "2000-01-01T01:12:25",
          "2000-01-01T01:12:25",
          "2000-01-01T01:12:37",
          "2000-01-01T01:12:38",
          "2000-01-01T01:12:41",
          "2000-01-01T01:12:48",
          "2000-01-01T01:12:55",
          "2000-01-01T01:12:58",
          "2000-01-01T01:13:00",
          "2000-01-01T01:13:14",
          "2000-01-01T01:13:27",
          "2000-01-01T01:13:28",
          "2000-01-01T01:13:37",
          "2000-01-01T01:13:43",
          "2000-01-01T01:13:48",
          "2000-01-01T01:13:57",
          "2000-01-01T01:13:58",
          "2000-01-01T01:14:22",
          "2000-01-01T01:14:24",
          "2000-01-01T01:14:53",
          "2000-01-01T01:15:08",
          "2000-01-01T01:15:13",
          "2000-01-01T01:15:22",
          "2000-01-01T01:15:25",
          "2000-01-01T01:15:26",
          "2000-01-01T01:15:38",
          "2000-01-01T01:15:49",
          "2000-01-01T01:15:57",
          "2000-01-01T01:16:06",
          "2000-01-01T01:16:07",
          "2000-01-01T01:16:07",
          "2000-01-01T01:16:10",
          "2000-01-01T01:16:28",
          "2000-01-01T01:16:32",
          "2000-01-01T01:16:49",
          "2000-01-01T01:16:50",
          "2000-01-01T01:17:03",
          "2000-01-01T01:17:05",
          "2000-01-01T01:17:07",
          "2000-01-01T01:17:28",
          "2000-01-01T01:17:37",
          "2000-01-01T01:17:37",
          "2000-01-01T01:17:46",
          "2000-01-01T01:17:52",
          "2000-01-01T01:17:57",
          "2000-01-01T01:18:03",
          "2000-01-01T01:18:07",
          "2000-01-01T01:18:08",
          "2000-01-01T01:18:12",
          "2000-01-01T01:18:15",
          "2000-01-01T01:18:19",
          "2000-01-01T01:18:40",
          "2000-01-01T01:18:41",
          "2000-01-01T01:18:41",
          "2000-01-01T01:18:49",
          "2000-01-01T01:18:55",
          "2000-01-01T01:19:06",
          "2000-01-01T01:19:13",
          "2000-01-01T01:19:19",
          "2000-01-01T01:19:19",
          "2000-01-01T01:19:20",
          "2000-01-01T01:19:23",
          "2000-01-01T01:19:24",
          "2000-01-01T01:19:27",
          "2000-01-01T01:19:33",
          "2000-01-01T01:19:46",
          "2000-01-01T01:19:48",
          "2000-01-01T01:19:54",
          "2000-01-01T01:19:54",
          "2000-01-01T01:20:02",
          "2000-01-01T01:20:06",
          "2000-01-01T01:20:07",
          "2000-01-01T01:20:12",
          "2000-01-01T01:20:21",
          "2000-01-01T01:20:24",
          "2000-01-01T01:20:31",
          "2000-01-01T01:20:40",
          "2000-01-01T01:20:56",
          "2000-01-01T01:21:00",
          "2000-01-01T01:21:09",
          "2000-01-01T01:21:11",
          "2000-01-01T01:21:14",
          "2000-01-01T01:21:15",
          "2000-01-01T01:21:18",
          "2000-01-01T01:21:25",
          "2000-01-01T01:21:37",
          "2000-01-01T01:21:40",
          "2000-01-01T01:21:47",
          "2000-01-01T01:21:50",
          "2000-01-01T01:21:51",
          "2000-01-01T01:21:53",
          "2000-01-01T01:21:54",
          "2000-01-01T01:21:56",
          "2000-01-01T01:21:57",
          "2000-01-01T01:21:59",
          "2000-01-01T01:22:09",
          "2000-01-01T01:22:11",
          "2000-01-01T01:22:18",
          "2000-01-01T01:22:19",
          "2000-01-01T01:22:22",
          "2000-01-01T01:22:23",
          "2000-01-01T01:22:33",
          "2000-01-01T01:22:34",
          "2000-01-01T01:22:40",
          "2000-01-01T01:22:49",
          "2000-01-01T01:22:50",
          "2000-01-01T01:22:50",
          "2000-01-01T01:23:01",
          "2000-01-01T01:23:04",
          "2000-01-01T01:23:06",
          "2000-01-01T01:23:11",
          "2000-01-01T01:23:18",
          "2000-01-01T01:23:26",
          "2000-01-01T01:23:26",
          "2000-01-01T01:23:30",
          "2000-01-01T01:23:34",
          "2000-01-01T01:23:36",
          "2000-01-01T01:23:36",
          "2000-01-01T01:23:36",
          "2000-01-01T01:23:43",
          "2000-01-01T01:23:44",
          "2000-01-01T01:23:47",
          "2000-01-01T01:23:52",
          "2000-01-01T01:23:56",
          "2000-01-01T01:24:00",
          "2000-01-01T01:24:04",
          "2000-01-01T01:24:08",
          "2000-01-01T01:24:09",
          "2000-01-01T01:24:13",
          "2000-01-01T01:24:13",
          "2000-01-01T01:24:13",
          "2000-01-01T01:24:19",
          "2000-01-01T01:24:24",
          "2000-01-01T01:24:29",
          "2000-01-01T01:24:34",
          "2000-01-01T01:24:35",
          "2000-01-01T01:24:41",
          "2000-01-01T01:24:42",
          "2000-01-01T01:24:50",
          "2000-01-01T01:25:00",
          "2000-01-01T01:25:02",
          "2000-01-01T01:25:14",
          "2000-01-01T01:25:19",
          "2000-01-01T01:25:19",
          "2000-01-01T01:25:19",
          "2000-01-01T01:25:20",
          "2000-01-01T01:25:21",
          "2000-01-01T01:25:30",
          "2000-01-01T01:25:34",
          "2000-01-01T01:25:35",
          "2000-01-01T01:25:37",
          "2000-01-01T01:25:39",
          "2000-01-01T01:25:51",
          "2000-01-01T01:26:01",
          "2000-01-01T01:26:16",
          "2000-01-01T01:26:20",
          "2000-01-01T01:26:21",
          "2000-01-01T01:26:21",
          "2000-01-01T01:26:33",
          "2000-01-01T01:26:34",
          "2000-01-01T01:26:40",
          "2000-01-01T01:26:42",
          "2000-01-01T01:26:43",
          "2000-01-01T01:26:47",
          "2000-01-01T01:26:51",
          "2000-01-01T01:26:59",
          "2000-01-01T01:27:09",
          "2000-01-01T01:27:09",
          "2000-01-01T01:27:11",
          "2000-01-01T01:27:21",
          "2000-01-01T01:27:21",
          "2000-01-01T01:27:23",
          "2000-01-01T01:27:27",
          "2000-01-01T01:27:28",
          "2000-01-01T01:27:30",
          "2000-01-01T01:27:32",
          "2000-01-01T01:27:32",
          "2000-01-01T01:27:33",
          "2000-01-01T01:27:33",
          "2000-01-01T01:27:34",
          "2000-01-01T01:27:37",
          "2000-01-01T01:27:38",
          "2000-01-01T01:27:49",
          "2000-01-01T01:27:50",
          "2000-01-01T01:27:51",
          "2000-01-01T01:27:56",
          "2000-01-01T01:27:59",
          "2000-01-01T01:28:00",
          "2000-01-01T01:28:04",
          "2000-01-01T01:28:05",
          "2000-01-01T01:28:06",
          "2000-01-01T01:28:11",
          "2000-01-01T01:28:11",
          "2000-01-01T01:28:12",
          "2000-01-01T01:28:14",
          "2000-01-01T01:28:15",
          "2000-01-01T01:28:17",
          "2000-01-01T01:28:20",
          "2000-01-01T01:28:20",
          "2000-01-01T01:28:27",
          "2000-01-01T01:28:28",
          "2000-01-01T01:28:30",
          "2000-01-01T01:28:34",
          "2000-01-01T01:28:41",
          "2000-01-01T01:28:42",
          "2000-01-01T01:28:46",
          "2000-01-01T01:28:51",
          "2000-01-01T01:28:51",
          "2000-01-01T01:28:53",
          "2000-01-01T01:28:55",
          "2000-01-01T01:28:58",
          "2000-01-01T01:28:58",
          "2000-01-01T01:29:00",
          "2000-01-01T01:29:01",
          "2000-01-01T01:29:01",
          "2000-01-01T01:29:03",
          "2000-01-01T01:29:03",
          "2000-01-01T01:29:04",
          "2000-01-01T01:29:05",
          "2000-01-01T01:29:05",
          "2000-01-01T01:29:06",
          "2000-01-01T01:29:10",
          "2000-01-01T01:29:10",
          "2000-01-01T01:29:11",
          "2000-01-01T01:29:23",
          "2000-01-01T01:29:25",
          "2000-01-01T01:29:26",
          "2000-01-01T01:29:29",
          "2000-01-01T01:29:37",
          "2000-01-01T01:29:37",
          "2000-01-01T01:29:38",
          "2000-01-01T01:29:45",
          "2000-01-01T01:29:46",
          "2000-01-01T01:29:47",
          "2000-01-01T01:29:48",
          "2000-01-01T01:29:50",
          "2000-01-01T01:29:52",
          "2000-01-01T01:29:57",
          "2000-01-01T01:30:02",
          "2000-01-01T01:30:10",
          "2000-01-01T01:30:11",
          "2000-01-01T01:30:16",
          "2000-01-01T01:30:18",
          "2000-01-01T01:30:19",
          "2000-01-01T01:30:20",
          "2000-01-01T01:30:21",
          "2000-01-01T01:30:27",
          "2000-01-01T01:30:27",
          "2000-01-01T01:30:31",
          "2000-01-01T01:30:38",
          "2000-01-01T01:30:42",
          "2000-01-01T01:30:44",
          "2000-01-01T01:30:45",
          "2000-01-01T01:30:46",
          "2000-01-01T01:30:47",
          "2000-01-01T01:30:51",
          "2000-01-01T01:30:55",
          "2000-01-01T01:30:57",
          "2000-01-01T01:31:01",
          "2000-01-01T01:31:05",
          "2000-01-01T01:31:11",
          "2000-01-01T01:31:12",
          "2000-01-01T01:31:13",
          "2000-01-01T01:31:14",
          "2000-01-01T01:31:17",
          "2000-01-01T01:31:19",
          "2000-01-01T01:31:19",
          "2000-01-01T01:31:22",
          "2000-01-01T01:31:34",
          "2000-01-01T01:31:40",
          "2000-01-01T01:31:41",
          "2000-01-01T01:31:42",
          "2000-01-01T01:31:42",
          "2000-01-01T01:31:46",
          "2000-01-01T01:31:52",
          "2000-01-01T01:31:54",
          "2000-01-01T01:31:57",
          "2000-01-01T01:32:00",
          "2000-01-01T01:32:01",
          "2000-01-01T01:32:05",
          "2000-01-01T01:32:07",
          "2000-01-01T01:32:10",
          "2000-01-01T01:32:13",
          "2000-01-01T01:32:13",
          "2000-01-01T01:32:14",
          "2000-01-01T01:32:14",
          "2000-01-01T01:32:17",
          "2000-01-01T01:32:19",
          "2000-01-01T01:32:20",
          "2000-01-01T01:32:23",
          "2000-01-01T01:32:32",
          "2000-01-01T01:32:32",
          "2000-01-01T01:32:33",
          "2000-01-01T01:32:34",
          "2000-01-01T01:32:36",
          "2000-01-01T01:32:36",
          "2000-01-01T01:32:37",
          "2000-01-01T01:32:39",
          "2000-01-01T01:32:39",
          "2000-01-01T01:32:41",
          "2000-01-01T01:32:41",
          "2000-01-01T01:32:44",
          "2000-01-01T01:32:45",
          "2000-01-01T01:32:45",
          "2000-01-01T01:32:49",
          "2000-01-01T01:32:51",
          "2000-01-01T01:32:54",
          "2000-01-01T01:32:54",
          "2000-01-01T01:32:56",
          "2000-01-01T01:32:57",
          "2000-01-01T01:33:03",
          "2000-01-01T01:33:12",
          "2000-01-01T01:33:18",
          "2000-01-01T01:33:23",
          "2000-01-01T01:33:26",
          "2000-01-01T01:33:27",
          "2000-01-01T01:33:30",
          "2000-01-01T01:33:36",
          "2000-01-01T01:33:37",
          "2000-01-01T01:33:39",
          "2000-01-01T01:33:41",
          "2000-01-01T01:33:48",
          "2000-01-01T01:33:49",
          "2000-01-01T01:33:49",
          "2000-01-01T01:33:49",
          "2000-01-01T01:33:50",
          "2000-01-01T01:33:50",
          "2000-01-01T01:33:51",
          "2000-01-01T01:33:52",
          "2000-01-01T01:33:52",
          "2000-01-01T01:33:52",
          "2000-01-01T01:33:56",
          "2000-01-01T01:33:57",
          "2000-01-01T01:33:57",
          "2000-01-01T01:34:02",
          "2000-01-01T01:34:03",
          "2000-01-01T01:34:04",
          "2000-01-01T01:34:08",
          "2000-01-01T01:34:08",
          "2000-01-01T01:34:08",
          "2000-01-01T01:34:09",
          "2000-01-01T01:34:10",
          "2000-01-01T01:34:15",
          "2000-01-01T01:34:21",
          "2000-01-01T01:34:25",
          "2000-01-01T01:34:26",
          "2000-01-01T01:34:29",
          "2000-01-01T01:34:30",
          "2000-01-01T01:34:31",
          "2000-01-01T01:34:31",
          "2000-01-01T01:34:35",
          "2000-01-01T01:34:38",
          "2000-01-01T01:34:41",
          "2000-01-01T01:34:41",
          "2000-01-01T01:34:42",
          "2000-01-01T01:34:43",
          "2000-01-01T01:34:43",
          "2000-01-01T01:34:45",
          "2000-01-01T01:34:50",
          "2000-01-01T01:34:52",
          "2000-01-01T01:34:56",
          "2000-01-01T01:34:57",
          "2000-01-01T01:34:57",
          "2000-01-01T01:34:59",
          "2000-01-01T01:35:00",
          "2000-01-01T01:35:00",
          "2000-01-01T01:35:01",
          "2000-01-01T01:35:02",
          "2000-01-01T01:35:03",
          "2000-01-01T01:35:07",
          "2000-01-01T01:35:07",
          "2000-01-01T01:35:09",
          "2000-01-01T01:35:10",
          "2000-01-01T01:35:10",
          "2000-01-01T01:35:12",
          "2000-01-01T01:35:12",
          "2000-01-01T01:35:14",
          "2000-01-01T01:35:15",
          "2000-01-01T01:35:16",
          "2000-01-01T01:35:19",
          "2000-01-01T01:35:20",
          "2000-01-01T01:35:23",
          "2000-01-01T01:35:23",
          "2000-01-01T01:35:24",
          "2000-01-01T01:35:25",
          "2000-01-01T01:35:27",
          "2000-01-01T01:35:30",
          "2000-01-01T01:35:31",
          "2000-01-01T01:35:31",
          "2000-01-01T01:35:31",
          "2000-01-01T01:35:32",
          "2000-01-01T01:35:32",
          "2000-01-01T01:35:35",
          "2000-01-01T01:35:36",
          "2000-01-01T01:35:39",
          "2000-01-01T01:35:40",
          "2000-01-01T01:35:40",
          "2000-01-01T01:35:42",
          "2000-01-01T01:35:44",
          "2000-01-01T01:35:45",
          "2000-01-01T01:35:54",
          "2000-01-01T01:35:55",
          "2000-01-01T01:35:55",
          "2000-01-01T01:35:55",
          "2000-01-01T01:35:55",
          "2000-01-01T01:36:00",
          "2000-01-01T01:36:01",
          "2000-01-01T01:36:02",
          "2000-01-01T01:36:05",
          "2000-01-01T01:36:07",
          "2000-01-01T01:36:08",
          "2000-01-01T01:36:08",
          "2000-01-01T01:36:10",
          "2000-01-01T01:36:11",
          "2000-01-01T01:36:12",
          "2000-01-01T01:36:12",
          "2000-01-01T01:36:14",
          "2000-01-01T01:36:16",
          "2000-01-01T01:36:20",
          "2000-01-01T01:36:20",
          "2000-01-01T01:36:21",
          "2000-01-01T01:36:22",
          "2000-01-01T01:36:26",
          "2000-01-01T01:36:27",
          "2000-01-01T01:36:28",
          "2000-01-01T01:36:28",
          "2000-01-01T01:36:28",
          "2000-01-01T01:36:30",
          "2000-01-01T01:36:34",
          "2000-01-01T01:36:37",
          "2000-01-01T01:36:38",
          "2000-01-01T01:36:38",
          "2000-01-01T01:36:39",
          "2000-01-01T01:36:40",
          "2000-01-01T01:36:42",
          "2000-01-01T01:36:42",
          "2000-01-01T01:36:42",
          "2000-01-01T01:36:43",
          "2000-01-01T01:36:43",
          "2000-01-01T01:36:43",
          "2000-01-01T01:36:48",
          "2000-01-01T01:36:48",
          "2000-01-01T01:36:50",
          "2000-01-01T01:36:51",
          "2000-01-01T01:36:51",
          "2000-01-01T01:36:53",
          "2000-01-01T01:36:53",
          "2000-01-01T01:36:54",
          "2000-01-01T01:36:56",
          "2000-01-01T01:36:57",
          "2000-01-01T01:36:59",
          "2000-01-01T01:36:59",
          "2000-01-01T01:37:00",
          "2000-01-01T01:37:01",
          "2000-01-01T01:37:02",
          "2000-01-01T01:37:02",
          "2000-01-01T01:37:02",
          "2000-01-01T01:37:05",
          "2000-01-01T01:37:05",
          "2000-01-01T01:37:06",
          "2000-01-01T01:37:10",
          "2000-01-01T01:37:11",
          "2000-01-01T01:37:13",
          "2000-01-01T01:37:15",
          "2000-01-01T01:37:18",
          "2000-01-01T01:37:22",
          "2000-01-01T01:37:22",
          "2000-01-01T01:37:22",
          "2000-01-01T01:37:23",
          "2000-01-01T01:37:24",
          "2000-01-01T01:37:24",
          "2000-01-01T01:37:24",
          "2000-01-01T01:37:26",
          "2000-01-01T01:37:26",
          "2000-01-01T01:37:29",
          "2000-01-01T01:37:30",
          "2000-01-01T01:37:31",
          "2000-01-01T01:37:36",
          "2000-01-01T01:37:39",
          "2000-01-01T01:37:39",
          "2000-01-01T01:37:41",
          "2000-01-01T01:37:41",
          "2000-01-01T01:37:42",
          "2000-01-01T01:37:43",
          "2000-01-01T01:37:47",
          "2000-01-01T01:37:48",
          "2000-01-01T01:37:48",
          "2000-01-01T01:37:51",
          "2000-01-01T01:37:51",
          "2000-01-01T01:37:52",
          "2000-01-01T01:37:54",
          "2000-01-01T01:37:55",
          "2000-01-01T01:37:55",
          "2000-01-01T01:37:56",
          "2000-01-01T01:38:01",
          "2000-01-01T01:38:02",
          "2000-01-01T01:38:02",
          "2000-01-01T01:38:05",
          "2000-01-01T01:38:05",
          "2000-01-01T01:38:06",
          "2000-01-01T01:38:06",
          "2000-01-01T01:38:07",
          "2000-01-01T01:38:08",
          "2000-01-01T01:38:09",
          "2000-01-01T01:38:14",
          "2000-01-01T01:38:15",
          "2000-01-01T01:38:18",
          "2000-01-01T01:38:18",
          "2000-01-01T01:38:19",
          "2000-01-01T01:38:20",
          "2000-01-01T01:38:20",
          "2000-01-01T01:38:21",
          "2000-01-01T01:38:21",
          "2000-01-01T01:38:25",
          "2000-01-01T01:38:26",
          "2000-01-01T01:38:27",
          "2000-01-01T01:38:27",
          "2000-01-01T01:38:29",
          "2000-01-01T01:38:30",
          "2000-01-01T01:38:31",
          "2000-01-01T01:38:31",
          "2000-01-01T01:38:31",
          "2000-01-01T01:38:31",
          "2000-01-01T01:38:32",
          "2000-01-01T01:38:34",
          "2000-01-01T01:38:35",
          "2000-01-01T01:38:36",
          "2000-01-01T01:38:41",
          "2000-01-01T01:38:43",
          "2000-01-01T01:38:46",
          "2000-01-01T01:38:48",
          "2000-01-01T01:38:48",
          "2000-01-01T01:38:48",
          "2000-01-01T01:38:49",
          "2000-01-01T01:38:49",
          "2000-01-01T01:38:50",
          "2000-01-01T01:38:52",
          "2000-01-01T01:38:52",
          "2000-01-01T01:38:53",
          "2000-01-01T01:38:54",
          "2000-01-01T01:38:55",
          "2000-01-01T01:38:56",
          "2000-01-01T01:38:59",
          "2000-01-01T01:38:59",
          "2000-01-01T01:39:04",
          "2000-01-01T01:39:04",
          "2000-01-01T01:39:05",
          "2000-01-01T01:39:06",
          "2000-01-01T01:39:08",
          "2000-01-01T01:39:09",
          "2000-01-01T01:39:10",
          "2000-01-01T01:39:11",
          "2000-01-01T01:39:12",
          "2000-01-01T01:39:12",
          "2000-01-01T01:39:14",
          "2000-01-01T01:39:14",
          "2000-01-01T01:39:15",
          "2000-01-01T01:39:15",
          "2000-01-01T01:39:16",
          "2000-01-01T01:39:16",
          "2000-01-01T01:39:18",
          "2000-01-01T01:39:21",
          "2000-01-01T01:39:21",
          "2000-01-01T01:39:23",
          "2000-01-01T01:39:23",
          "2000-01-01T01:39:24",
          "2000-01-01T01:39:26",
          "2000-01-01T01:39:28",
          "2000-01-01T01:39:29",
          "2000-01-01T01:39:34",
          "2000-01-01T01:39:34",
          "2000-01-01T01:39:35",
          "2000-01-01T01:39:36",
          "2000-01-01T01:39:36",
          "2000-01-01T01:39:36",
          "2000-01-01T01:39:36",
          "2000-01-01T01:39:38",
          "2000-01-01T01:39:40",
          "2000-01-01T01:39:40",
          "2000-01-01T01:39:41",
          "2000-01-01T01:39:41",
          "2000-01-01T01:39:43",
          "2000-01-01T01:39:46",
          "2000-01-01T01:39:46",
          "2000-01-01T01:39:47",
          "2000-01-01T01:39:50",
          "2000-01-01T01:39:50",
          "2000-01-01T01:39:54",
          "2000-01-01T01:39:57",
          "2000-01-01T01:39:57",
          "2000-01-01T01:40:00",
          "2000-01-01T01:40:00",
          "2000-01-01T01:40:04",
          "2000-01-01T01:40:06",
          "2000-01-01T01:40:07",
          "2000-01-01T01:40:08",
          "2000-01-01T01:40:08",
          "2000-01-01T01:40:10",
          "2000-01-01T01:40:10",
          "2000-01-01T01:40:10",
          "2000-01-01T01:40:14",
          "2000-01-01T01:40:17",
          "2000-01-01T01:40:19",
          "2000-01-01T01:40:21",
          "2000-01-01T01:40:22",
          "2000-01-01T01:40:24",
          "2000-01-01T01:40:25",
          "2000-01-01T01:40:25",
          "2000-01-01T01:40:26",
          "2000-01-01T01:40:26",
          "2000-01-01T01:40:28",
          "2000-01-01T01:40:28",
          "2000-01-01T01:40:31",
          "2000-01-01T01:40:34",
          "2000-01-01T01:40:36",
          "2000-01-01T01:40:38",
          "2000-01-01T01:40:43",
          "2000-01-01T01:40:49",
          "2000-01-01T01:40:50",
          "2000-01-01T01:40:50",
          "2000-01-01T01:40:52",
          "2000-01-01T01:40:52",
          "2000-01-01T01:40:53",
          "2000-01-01T01:40:53",
          "2000-01-01T01:40:54",
          "2000-01-01T01:40:54",
          "2000-01-01T01:40:55",
          "2000-01-01T01:40:56",
          "2000-01-01T01:40:58",
          "2000-01-01T01:40:58",
          "2000-01-01T01:40:59",
          "2000-01-01T01:40:59",
          "2000-01-01T01:41:00",
          "2000-01-01T01:41:01",
          "2000-01-01T01:41:03",
          "2000-01-01T01:41:05",
          "2000-01-01T01:41:05",
          "2000-01-01T01:41:07",
          "2000-01-01T01:41:07",
          "2000-01-01T01:41:08",
          "2000-01-01T01:41:09",
          "2000-01-01T01:41:11",
          "2000-01-01T01:41:14",
          "2000-01-01T01:41:15",
          "2000-01-01T01:41:15",
          "2000-01-01T01:41:16",
          "2000-01-01T01:41:17",
          "2000-01-01T01:41:17",
          "2000-01-01T01:41:19",
          "2000-01-01T01:41:20",
          "2000-01-01T01:41:20",
          "2000-01-01T01:41:21",
          "2000-01-01T01:41:21",
          "2000-01-01T01:41:21",
          "2000-01-01T01:41:25",
          "2000-01-01T01:41:25",
          "2000-01-01T01:41:29",
          "2000-01-01T01:41:32",
          "2000-01-01T01:41:32",
          "2000-01-01T01:41:35",
          "2000-01-01T01:41:35",
          "2000-01-01T01:41:36",
          "2000-01-01T01:41:38",
          "2000-01-01T01:41:39",
          "2000-01-01T01:41:41",
          "2000-01-01T01:41:43",
          "2000-01-01T01:41:45",
          "2000-01-01T01:41:46",
          "2000-01-01T01:41:46",
          "2000-01-01T01:41:46",
          "2000-01-01T01:41:46",
          "2000-01-01T01:41:47",
          "2000-01-01T01:41:47",
          "2000-01-01T01:41:49",
          "2000-01-01T01:41:51",
          "2000-01-01T01:41:53",
          "2000-01-01T01:41:53",
          "2000-01-01T01:41:53",
          "2000-01-01T01:41:53",
          "2000-01-01T01:41:53",
          "2000-01-01T01:41:53",
          "2000-01-01T01:41:57",
          "2000-01-01T01:41:57",
          "2000-01-01T01:41:57",
          "2000-01-01T01:41:59",
          "2000-01-01T01:42:01",
          "2000-01-01T01:42:02",
          "2000-01-01T01:42:03",
          "2000-01-01T01:42:04",
          "2000-01-01T01:42:04",
          "2000-01-01T01:42:04",
          "2000-01-01T01:42:04",
          "2000-01-01T01:42:04",
          "2000-01-01T01:42:04",
          "2000-01-01T01:42:07",
          "2000-01-01T01:42:07",
          "2000-01-01T01:42:07",
          "2000-01-01T01:42:08",
          "2000-01-01T01:42:08",
          "2000-01-01T01:42:08",
          "2000-01-01T01:42:08",
          "2000-01-01T01:42:09",
          "2000-01-01T01:42:12",
          "2000-01-01T01:42:12",
          "2000-01-01T01:42:15",
          "2000-01-01T01:42:16",
          "2000-01-01T01:42:17",
          "2000-01-01T01:42:18",
          "2000-01-01T01:42:21",
          "2000-01-01T01:42:21",
          "2000-01-01T01:42:24",
          "2000-01-01T01:42:24",
          "2000-01-01T01:42:27",
          "2000-01-01T01:42:28",
          "2000-01-01T01:42:34",
          "2000-01-01T01:42:36",
          "2000-01-01T01:42:37",
          "2000-01-01T01:42:39",
          "2000-01-01T01:42:39",
          "2000-01-01T01:42:39",
          "2000-01-01T01:42:41",
          "2000-01-01T01:42:42",
          "2000-01-01T01:42:43",
          "2000-01-01T01:42:44",
          "2000-01-01T01:42:44",
          "2000-01-01T01:42:46",
          "2000-01-01T01:42:52",
          "2000-01-01T01:42:53",
          "2000-01-01T01:42:53",
          "2000-01-01T01:42:53",
          "2000-01-01T01:42:54",
          "2000-01-01T01:42:55",
          "2000-01-01T01:42:56",
          "2000-01-01T01:42:56",
          "2000-01-01T01:42:56",
          "2000-01-01T01:42:56",
          "2000-01-01T01:42:57",
          "2000-01-01T01:42:59",
          "2000-01-01T01:43:01",
          "2000-01-01T01:43:02",
          "2000-01-01T01:43:03",
          "2000-01-01T01:43:03",
          "2000-01-01T01:43:03",
          "2000-01-01T01:43:04",
          "2000-01-01T01:43:05",
          "2000-01-01T01:43:06",
          "2000-01-01T01:43:06",
          "2000-01-01T01:43:09",
          "2000-01-01T01:43:10",
          "2000-01-01T01:43:10",
          "2000-01-01T01:43:12",
          "2000-01-01T01:43:13",
          "2000-01-01T01:43:13",
          "2000-01-01T01:43:13",
          "2000-01-01T01:43:13",
          "2000-01-01T01:43:13",
          "2000-01-01T01:43:16",
          "2000-01-01T01:43:16",
          "2000-01-01T01:43:18",
          "2000-01-01T01:43:19",
          "2000-01-01T01:43:19",
          "2000-01-01T01:43:21",
          "2000-01-01T01:43:23",
          "2000-01-01T01:43:23",
          "2000-01-01T01:43:25",
          "2000-01-01T01:43:27",
          "2000-01-01T01:43:32",
          "2000-01-01T01:43:32",
          "2000-01-01T01:43:33",
          "2000-01-01T01:43:34",
          "2000-01-01T01:43:34",
          "2000-01-01T01:43:34",
          "2000-01-01T01:43:35",
          "2000-01-01T01:43:36",
          "2000-01-01T01:43:37",
          "2000-01-01T01:43:37",
          "2000-01-01T01:43:38",
          "2000-01-01T01:43:38",
          "2000-01-01T01:43:42",
          "2000-01-01T01:43:42",
          "2000-01-01T01:43:43",
          "2000-01-01T01:43:43",
          "2000-01-01T01:43:45",
          "2000-01-01T01:43:46",
          "2000-01-01T01:43:46",
          "2000-01-01T01:43:47",
          "2000-01-01T01:43:50",
          "2000-01-01T01:43:50",
          "2000-01-01T01:43:52",
          "2000-01-01T01:43:53",
          "2000-01-01T01:43:54",
          "2000-01-01T01:43:54",
          "2000-01-01T01:43:58",
          "2000-01-01T01:44:00",
          "2000-01-01T01:44:00",
          "2000-01-01T01:44:01",
          "2000-01-01T01:44:02",
          "2000-01-01T01:44:02",
          "2000-01-01T01:44:04",
          "2000-01-01T01:44:05",
          "2000-01-01T01:44:05",
          "2000-01-01T01:44:05",
          "2000-01-01T01:44:06",
          "2000-01-01T01:44:07",
          "2000-01-01T01:44:11",
          "2000-01-01T01:44:12",
          "2000-01-01T01:44:12",
          "2000-01-01T01:44:13",
          "2000-01-01T01:44:13",
          "2000-01-01T01:44:14",
          "2000-01-01T01:44:14",
          "2000-01-01T01:44:14",
          "2000-01-01T01:44:17",
          "2000-01-01T01:44:17",
          "2000-01-01T01:44:17",
          "2000-01-01T01:44:17",
          "2000-01-01T01:44:18",
          "2000-01-01T01:44:19",
          "2000-01-01T01:44:19",
          "2000-01-01T01:44:20",
          "2000-01-01T01:44:20",
          "2000-01-01T01:44:21",
          "2000-01-01T01:44:23",
          "2000-01-01T01:44:24",
          "2000-01-01T01:44:24",
          "2000-01-01T01:44:25",
          "2000-01-01T01:44:26",
          "2000-01-01T01:44:27",
          "2000-01-01T01:44:27",
          "2000-01-01T01:44:30",
          "2000-01-01T01:44:31",
          "2000-01-01T01:44:31",
          "2000-01-01T01:44:31",
          "2000-01-01T01:44:32",
          "2000-01-01T01:44:33",
          "2000-01-01T01:44:35",
          "2000-01-01T01:44:36",
          "2000-01-01T01:44:37",
          "2000-01-01T01:44:38",
          "2000-01-01T01:44:38",
          "2000-01-01T01:44:38",
          "2000-01-01T01:44:39",
          "2000-01-01T01:44:40",
          "2000-01-01T01:44:40",
          "2000-01-01T01:44:41",
          "2000-01-01T01:44:42",
          "2000-01-01T01:44:42",
          "2000-01-01T01:44:42",
          "2000-01-01T01:44:43",
          "2000-01-01T01:44:44",
          "2000-01-01T01:44:44",
          "2000-01-01T01:44:44",
          "2000-01-01T01:44:46",
          "2000-01-01T01:44:47",
          "2000-01-01T01:44:47",
          "2000-01-01T01:44:48",
          "2000-01-01T01:44:49",
          "2000-01-01T01:44:52",
          "2000-01-01T01:44:52",
          "2000-01-01T01:44:52",
          "2000-01-01T01:44:53",
          "2000-01-01T01:44:53",
          "2000-01-01T01:44:53",
          "2000-01-01T01:44:54",
          "2000-01-01T01:44:54",
          "2000-01-01T01:44:55",
          "2000-01-01T01:44:55",
          "2000-01-01T01:44:56",
          "2000-01-01T01:44:57",
          "2000-01-01T01:45:00",
          "2000-01-01T01:45:02",
          "2000-01-01T01:45:07",
          "2000-01-01T01:45:07",
          "2000-01-01T01:45:07",
          "2000-01-01T01:45:07",
          "2000-01-01T01:45:07",
          "2000-01-01T01:45:07",
          "2000-01-01T01:45:08",
          "2000-01-01T01:45:08",
          "2000-01-01T01:45:08",
          "2000-01-01T01:45:09",
          "2000-01-01T01:45:09",
          "2000-01-01T01:45:10",
          "2000-01-01T01:45:10",
          "2000-01-01T01:45:10",
          "2000-01-01T01:45:10",
          "2000-01-01T01:45:10",
          "2000-01-01T01:45:11",
          "2000-01-01T01:45:12",
          "2000-01-01T01:45:12",
          "2000-01-01T01:45:12",
          "2000-01-01T01:45:13",
          "2000-01-01T01:45:14",
          "2000-01-01T01:45:14",
          "2000-01-01T01:45:15",
          "2000-01-01T01:45:15",
          "2000-01-01T01:45:15",
          "2000-01-01T01:45:16",
          "2000-01-01T01:45:19",
          "2000-01-01T01:45:19",
          "2000-01-01T01:45:20",
          "2000-01-01T01:45:21",
          "2000-01-01T01:45:22",
          "2000-01-01T01:45:22",
          "2000-01-01T01:45:23",
          "2000-01-01T01:45:25",
          "2000-01-01T01:45:30",
          "2000-01-01T01:45:32",
          "2000-01-01T01:45:32",
          "2000-01-01T01:45:33",
          "2000-01-01T01:45:34",
          "2000-01-01T01:45:35",
          "2000-01-01T01:45:35",
          "2000-01-01T01:45:38",
          "2000-01-01T01:45:39",
          "2000-01-01T01:45:41",
          "2000-01-01T01:45:42",
          "2000-01-01T01:45:42",
          "2000-01-01T01:45:42",
          "2000-01-01T01:45:43",
          "2000-01-01T01:45:44",
          "2000-01-01T01:45:44",
          "2000-01-01T01:45:44",
          "2000-01-01T01:45:47",
          "2000-01-01T01:45:47",
          "2000-01-01T01:45:48",
          "2000-01-01T01:45:49",
          "2000-01-01T01:45:51",
          "2000-01-01T01:45:52",
          "2000-01-01T01:45:52",
          "2000-01-01T01:45:52",
          "2000-01-01T01:45:54",
          "2000-01-01T01:45:55",
          "2000-01-01T01:45:56",
          "2000-01-01T01:45:56",
          "2000-01-01T01:45:56",
          "2000-01-01T01:45:58",
          "2000-01-01T01:45:58",
          "2000-01-01T01:46:02",
          "2000-01-01T01:46:02",
          "2000-01-01T01:46:02",
          "2000-01-01T01:46:03",
          "2000-01-01T01:46:03",
          "2000-01-01T01:46:06",
          "2000-01-01T01:46:06",
          "2000-01-01T01:46:07",
          "2000-01-01T01:46:08",
          "2000-01-01T01:46:09",
          "2000-01-01T01:46:11",
          "2000-01-01T01:46:11",
          "2000-01-01T01:46:12",
          "2000-01-01T01:46:14",
          "2000-01-01T01:46:15",
          "2000-01-01T01:46:15",
          "2000-01-01T01:46:15",
          "2000-01-01T01:46:19",
          "2000-01-01T01:46:19",
          "2000-01-01T01:46:20",
          "2000-01-01T01:46:20",
          "2000-01-01T01:46:21",
          "2000-01-01T01:46:21",
          "2000-01-01T01:46:21",
          "2000-01-01T01:46:21",
          "2000-01-01T01:46:22",
          "2000-01-01T01:46:22",
          "2000-01-01T01:46:23",
          "2000-01-01T01:46:25",
          "2000-01-01T01:46:25",
          "2000-01-01T01:46:26",
          "2000-01-01T01:46:27",
          "2000-01-01T01:46:27",
          "2000-01-01T01:46:29",
          "2000-01-01T01:46:30",
          "2000-01-01T01:46:30",
          "2000-01-01T01:46:30",
          "2000-01-01T01:46:32",
          "2000-01-01T01:46:33",
          "2000-01-01T01:46:34",
          "2000-01-01T01:46:34",
          "2000-01-01T01:46:34",
          "2000-01-01T01:46:38",
          "2000-01-01T01:46:38",
          "2000-01-01T01:46:39",
          "2000-01-01T01:46:43",
          "2000-01-01T01:46:43",
          "2000-01-01T01:46:43",
          "2000-01-01T01:46:44",
          "2000-01-01T01:46:46",
          "2000-01-01T01:46:46",
          "2000-01-01T01:46:47",
          "2000-01-01T01:46:48",
          "2000-01-01T01:46:48",
          "2000-01-01T01:46:48",
          "2000-01-01T01:46:49",
          "2000-01-01T01:46:52",
          "2000-01-01T01:46:53",
          "2000-01-01T01:46:54",
          "2000-01-01T01:46:55",
          "2000-01-01T01:46:56",
          "2000-01-01T01:46:56",
          "2000-01-01T01:46:56",
          "2000-01-01T01:46:57",
          "2000-01-01T01:46:58",
          "2000-01-01T01:46:59",
          "2000-01-01T01:47:00",
          "2000-01-01T01:47:01",
          "2000-01-01T01:47:02",
          "2000-01-01T01:47:05",
          "2000-01-01T01:47:05",
          "2000-01-01T01:47:06",
          "2000-01-01T01:47:08",
          "2000-01-01T01:47:09",
          "2000-01-01T01:47:12",
          "2000-01-01T01:47:12",
          "2000-01-01T01:47:14",
          "2000-01-01T01:47:14",
          "2000-01-01T01:47:16",
          "2000-01-01T01:47:16",
          "2000-01-01T01:47:17",
          "2000-01-01T01:47:18",
          "2000-01-01T01:47:19",
          "2000-01-01T01:47:19",
          "2000-01-01T01:47:20",
          "2000-01-01T01:47:22",
          "2000-01-01T01:47:22",
          "2000-01-01T01:47:23",
          "2000-01-01T01:47:23",
          "2000-01-01T01:47:25",
          "2000-01-01T01:47:25",
          "2000-01-01T01:47:25",
          "2000-01-01T01:47:25",
          "2000-01-01T01:47:26",
          "2000-01-01T01:47:29",
          "2000-01-01T01:47:30",
          "2000-01-01T01:47:30",
          "2000-01-01T01:47:30",
          "2000-01-01T01:47:30",
          "2000-01-01T01:47:33",
          "2000-01-01T01:47:33",
          "2000-01-01T01:47:35",
          "2000-01-01T01:47:35",
          "2000-01-01T01:47:36",
          "2000-01-01T01:47:36",
          "2000-01-01T01:47:36",
          "2000-01-01T01:47:37",
          "2000-01-01T01:47:37",
          "2000-01-01T01:47:37",
          "2000-01-01T01:47:37",
          "2000-01-01T01:47:38",
          "2000-01-01T01:47:39",
          "2000-01-01T01:47:40",
          "2000-01-01T01:47:40",
          "2000-01-01T01:47:42",
          "2000-01-01T01:47:42",
          "2000-01-01T01:47:42",
          "2000-01-01T01:47:45",
          "2000-01-01T01:47:47",
          "2000-01-01T01:47:47",
          "2000-01-01T01:47:48",
          "2000-01-01T01:47:48",
          "2000-01-01T01:47:50",
          "2000-01-01T01:47:51",
          "2000-01-01T01:47:51",
          "2000-01-01T01:47:51",
          "2000-01-01T01:47:52",
          "2000-01-01T01:47:53",
          "2000-01-01T01:47:53",
          "2000-01-01T01:47:55",
          "2000-01-01T01:47:56",
          "2000-01-01T01:47:56",
          "2000-01-01T01:47:56",
          "2000-01-01T01:47:57",
          "2000-01-01T01:47:57",
          "2000-01-01T01:47:57",
          "2000-01-01T01:47:57",
          "2000-01-01T01:47:57",
          "2000-01-01T01:47:57",
          "2000-01-01T01:47:57",
          "2000-01-01T01:47:57",
          "2000-01-01T01:48:00",
          "2000-01-01T01:48:00",
          "2000-01-01T01:48:01",
          "2000-01-01T01:48:02",
          "2000-01-01T01:48:02",
          "2000-01-01T01:48:03",
          "2000-01-01T01:48:03",
          "2000-01-01T01:48:03",
          "2000-01-01T01:48:03",
          "2000-01-01T01:48:07",
          "2000-01-01T01:48:07",
          "2000-01-01T01:48:07",
          "2000-01-01T01:48:07",
          "2000-01-01T01:48:08",
          "2000-01-01T01:48:11",
          "2000-01-01T01:48:11",
          "2000-01-01T01:48:12",
          "2000-01-01T01:48:13",
          "2000-01-01T01:48:14",
          "2000-01-01T01:48:15",
          "2000-01-01T01:48:15",
          "2000-01-01T01:48:17",
          "2000-01-01T01:48:18",
          "2000-01-01T01:48:18",
          "2000-01-01T01:48:18",
          "2000-01-01T01:48:19",
          "2000-01-01T01:48:20",
          "2000-01-01T01:48:21",
          "2000-01-01T01:48:23",
          "2000-01-01T01:48:23",
          "2000-01-01T01:48:23",
          "2000-01-01T01:48:24",
          "2000-01-01T01:48:24",
          "2000-01-01T01:48:25",
          "2000-01-01T01:48:25",
          "2000-01-01T01:48:26",
          "2000-01-01T01:48:29",
          "2000-01-01T01:48:30",
          "2000-01-01T01:48:32",
          "2000-01-01T01:48:34",
          "2000-01-01T01:48:35",
          "2000-01-01T01:48:37",
          "2000-01-01T01:48:37",
          "2000-01-01T01:48:37",
          "2000-01-01T01:48:40",
          "2000-01-01T01:48:41",
          "2000-01-01T01:48:41",
          "2000-01-01T01:48:42",
          "2000-01-01T01:48:42",
          "2000-01-01T01:48:43",
          "2000-01-01T01:48:47",
          "2000-01-01T01:48:47",
          "2000-01-01T01:48:48",
          "2000-01-01T01:48:49",
          "2000-01-01T01:48:52",
          "2000-01-01T01:48:53",
          "2000-01-01T01:48:54",
          "2000-01-01T01:48:55",
          "2000-01-01T01:48:55",
          "2000-01-01T01:48:55",
          "2000-01-01T01:48:56",
          "2000-01-01T01:48:59",
          "2000-01-01T01:48:59",
          "2000-01-01T01:49:00",
          "2000-01-01T01:49:00",
          "2000-01-01T01:49:01",
          "2000-01-01T01:49:02",
          "2000-01-01T01:49:03",
          "2000-01-01T01:49:03",
          "2000-01-01T01:49:05",
          "2000-01-01T01:49:05",
          "2000-01-01T01:49:07",
          "2000-01-01T01:49:07",
          "2000-01-01T01:49:08",
          "2000-01-01T01:49:09",
          "2000-01-01T01:49:12",
          "2000-01-01T01:49:13",
          "2000-01-01T01:49:16",
          "2000-01-01T01:49:16",
          "2000-01-01T01:49:16",
          "2000-01-01T01:49:16",
          "2000-01-01T01:49:16",
          "2000-01-01T01:49:17",
          "2000-01-01T01:49:18",
          "2000-01-01T01:49:18",
          "2000-01-01T01:49:20",
          "2000-01-01T01:49:20",
          "2000-01-01T01:49:20",
          "2000-01-01T01:49:20",
          "2000-01-01T01:49:20",
          "2000-01-01T01:49:21",
          "2000-01-01T01:49:21",
          "2000-01-01T01:49:22",
          "2000-01-01T01:49:22",
          "2000-01-01T01:49:23",
          "2000-01-01T01:49:25",
          "2000-01-01T01:49:25",
          "2000-01-01T01:49:27",
          "2000-01-01T01:49:27",
          "2000-01-01T01:49:28",
          "2000-01-01T01:49:28",
          "2000-01-01T01:49:31",
          "2000-01-01T01:49:32",
          "2000-01-01T01:49:33",
          "2000-01-01T01:49:35",
          "2000-01-01T01:49:35",
          "2000-01-01T01:49:36",
          "2000-01-01T01:49:36",
          "2000-01-01T01:49:38",
          "2000-01-01T01:49:38",
          "2000-01-01T01:49:38",
          "2000-01-01T01:49:39",
          "2000-01-01T01:49:40",
          "2000-01-01T01:49:40",
          "2000-01-01T01:49:40",
          "2000-01-01T01:49:41",
          "2000-01-01T01:49:44",
          "2000-01-01T01:49:44",
          "2000-01-01T01:49:45",
          "2000-01-01T01:49:47",
          "2000-01-01T01:49:51",
          "2000-01-01T01:49:53",
          "2000-01-01T01:49:54",
          "2000-01-01T01:49:54",
          "2000-01-01T01:49:55",
          "2000-01-01T01:49:55",
          "2000-01-01T01:49:56",
          "2000-01-01T01:49:57",
          "2000-01-01T01:49:58",
          "2000-01-01T01:49:58",
          "2000-01-01T01:49:58",
          "2000-01-01T01:50:01",
          "2000-01-01T01:50:01",
          "2000-01-01T01:50:03",
          "2000-01-01T01:50:05",
          "2000-01-01T01:50:05",
          "2000-01-01T01:50:07",
          "2000-01-01T01:50:09",
          "2000-01-01T01:50:09",
          "2000-01-01T01:50:09",
          "2000-01-01T01:50:10",
          "2000-01-01T01:50:11",
          "2000-01-01T01:50:11",
          "2000-01-01T01:50:12",
          "2000-01-01T01:50:12",
          "2000-01-01T01:50:13",
          "2000-01-01T01:50:13",
          "2000-01-01T01:50:14",
          "2000-01-01T01:50:15",
          "2000-01-01T01:50:16",
          "2000-01-01T01:50:19",
          "2000-01-01T01:50:19",
          "2000-01-01T01:50:19",
          "2000-01-01T01:50:20",
          "2000-01-01T01:50:21",
          "2000-01-01T01:50:21",
          "2000-01-01T01:50:22",
          "2000-01-01T01:50:22",
          "2000-01-01T01:50:23",
          "2000-01-01T01:50:23",
          "2000-01-01T01:50:24",
          "2000-01-01T01:50:27",
          "2000-01-01T01:50:27",
          "2000-01-01T01:50:30",
          "2000-01-01T01:50:30",
          "2000-01-01T01:50:30",
          "2000-01-01T01:50:31",
          "2000-01-01T01:50:31",
          "2000-01-01T01:50:32",
          "2000-01-01T01:50:33",
          "2000-01-01T01:50:33",
          "2000-01-01T01:50:38",
          "2000-01-01T01:50:38",
          "2000-01-01T01:50:38",
          "2000-01-01T01:50:39",
          "2000-01-01T01:50:39",
          "2000-01-01T01:50:40",
          "2000-01-01T01:50:40",
          "2000-01-01T01:50:40",
          "2000-01-01T01:50:41",
          "2000-01-01T01:50:41",
          "2000-01-01T01:50:43",
          "2000-01-01T01:50:44",
          "2000-01-01T01:50:44",
          "2000-01-01T01:50:46",
          "2000-01-01T01:50:47",
          "2000-01-01T01:50:48",
          "2000-01-01T01:50:48",
          "2000-01-01T01:50:49",
          "2000-01-01T01:50:50",
          "2000-01-01T01:50:50",
          "2000-01-01T01:50:51",
          "2000-01-01T01:50:51",
          "2000-01-01T01:50:52",
          "2000-01-01T01:50:54",
          "2000-01-01T01:50:56",
          "2000-01-01T01:50:57",
          "2000-01-01T01:50:57",
          "2000-01-01T01:51:02",
          "2000-01-01T01:51:02",
          "2000-01-01T01:51:03",
          "2000-01-01T01:51:03",
          "2000-01-01T01:51:04",
          "2000-01-01T01:51:05",
          "2000-01-01T01:51:06",
          "2000-01-01T01:51:07",
          "2000-01-01T01:51:08",
          "2000-01-01T01:51:09",
          "2000-01-01T01:51:10",
          "2000-01-01T01:51:11",
          "2000-01-01T01:51:12",
          "2000-01-01T01:51:12",
          "2000-01-01T01:51:12",
          "2000-01-01T01:51:13",
          "2000-01-01T01:51:13",
          "2000-01-01T01:51:14",
          "2000-01-01T01:51:15",
          "2000-01-01T01:51:15",
          "2000-01-01T01:51:16",
          "2000-01-01T01:51:16",
          "2000-01-01T01:51:16",
          "2000-01-01T01:51:21",
          "2000-01-01T01:51:22",
          "2000-01-01T01:51:22",
          "2000-01-01T01:51:23",
          "2000-01-01T01:51:23",
          "2000-01-01T01:51:23",
          "2000-01-01T01:51:24",
          "2000-01-01T01:51:24",
          "2000-01-01T01:51:25",
          "2000-01-01T01:51:26",
          "2000-01-01T01:51:27",
          "2000-01-01T01:51:27",
          "2000-01-01T01:51:27",
          "2000-01-01T01:51:28",
          "2000-01-01T01:51:28",
          "2000-01-01T01:51:29",
          "2000-01-01T01:51:30",
          "2000-01-01T01:51:30",
          "2000-01-01T01:51:32",
          "2000-01-01T01:51:32",
          "2000-01-01T01:51:34",
          "2000-01-01T01:51:34",
          "2000-01-01T01:51:35",
          "2000-01-01T01:51:36",
          "2000-01-01T01:51:40",
          "2000-01-01T01:51:40",
          "2000-01-01T01:51:41",
          "2000-01-01T01:51:43",
          "2000-01-01T01:51:43",
          "2000-01-01T01:51:43",
          "2000-01-01T01:51:43",
          "2000-01-01T01:51:43",
          "2000-01-01T01:51:43",
          "2000-01-01T01:51:44",
          "2000-01-01T01:51:46",
          "2000-01-01T01:51:46",
          "2000-01-01T01:51:47",
          "2000-01-01T01:51:48",
          "2000-01-01T01:51:48",
          "2000-01-01T01:51:49",
          "2000-01-01T01:51:51",
          "2000-01-01T01:51:54",
          "2000-01-01T01:51:54",
          "2000-01-01T01:51:55",
          "2000-01-01T01:51:58",
          "2000-01-01T01:51:59",
          "2000-01-01T01:52:01",
          "2000-01-01T01:52:01",
          "2000-01-01T01:52:02",
          "2000-01-01T01:52:02",
          "2000-01-01T01:52:04",
          "2000-01-01T01:52:04",
          "2000-01-01T01:52:05",
          "2000-01-01T01:52:07",
          "2000-01-01T01:52:07",
          "2000-01-01T01:52:08",
          "2000-01-01T01:52:08",
          "2000-01-01T01:52:10",
          "2000-01-01T01:52:11",
          "2000-01-01T01:52:13",
          "2000-01-01T01:52:13",
          "2000-01-01T01:52:14",
          "2000-01-01T01:52:16",
          "2000-01-01T01:52:16",
          "2000-01-01T01:52:16",
          "2000-01-01T01:52:17",
          "2000-01-01T01:52:18",
          "2000-01-01T01:52:18",
          "2000-01-01T01:52:20",
          "2000-01-01T01:52:21",
          "2000-01-01T01:52:22",
          "2000-01-01T01:52:24",
          "2000-01-01T01:52:24",
          "2000-01-01T01:52:27",
          "2000-01-01T01:52:27",
          "2000-01-01T01:52:27",
          "2000-01-01T01:52:28",
          "2000-01-01T01:52:29",
          "2000-01-01T01:52:30",
          "2000-01-01T01:52:31",
          "2000-01-01T01:52:31",
          "2000-01-01T01:52:34",
          "2000-01-01T01:52:34",
          "2000-01-01T01:52:35",
          "2000-01-01T01:52:35",
          "2000-01-01T01:52:36",
          "2000-01-01T01:52:38",
          "2000-01-01T01:52:38",
          "2000-01-01T01:52:39",
          "2000-01-01T01:52:40",
          "2000-01-01T01:52:40",
          "2000-01-01T01:52:41",
          "2000-01-01T01:52:41",
          "2000-01-01T01:52:44",
          "2000-01-01T01:52:44",
          "2000-01-01T01:52:45",
          "2000-01-01T01:52:45",
          "2000-01-01T01:52:45",
          "2000-01-01T01:52:46",
          "2000-01-01T01:52:47",
          "2000-01-01T01:52:47",
          "2000-01-01T01:52:49",
          "2000-01-01T01:52:49",
          "2000-01-01T01:52:50",
          "2000-01-01T01:52:51",
          "2000-01-01T01:52:51",
          "2000-01-01T01:52:51",
          "2000-01-01T01:52:52",
          "2000-01-01T01:52:53",
          "2000-01-01T01:52:53",
          "2000-01-01T01:52:53",
          "2000-01-01T01:52:54",
          "2000-01-01T01:52:54",
          "2000-01-01T01:52:54",
          "2000-01-01T01:52:54",
          "2000-01-01T01:52:55",
          "2000-01-01T01:52:56",
          "2000-01-01T01:53:00",
          "2000-01-01T01:53:02",
          "2000-01-01T01:53:03",
          "2000-01-01T01:53:06",
          "2000-01-01T01:53:06",
          "2000-01-01T01:53:07",
          "2000-01-01T01:53:07",
          "2000-01-01T01:53:09",
          "2000-01-01T01:53:10",
          "2000-01-01T01:53:11",
          "2000-01-01T01:53:11",
          "2000-01-01T01:53:12",
          "2000-01-01T01:53:12",
          "2000-01-01T01:53:13",
          "2000-01-01T01:53:13",
          "2000-01-01T01:53:16",
          "2000-01-01T01:53:16",
          "2000-01-01T01:53:17",
          "2000-01-01T01:53:18",
          "2000-01-01T01:53:18",
          "2000-01-01T01:53:19",
          "2000-01-01T01:53:20",
          "2000-01-01T01:53:22",
          "2000-01-01T01:53:22",
          "2000-01-01T01:53:22",
          "2000-01-01T01:53:23",
          "2000-01-01T01:53:25",
          "2000-01-01T01:53:26",
          "2000-01-01T01:53:26",
          "2000-01-01T01:53:27",
          "2000-01-01T01:53:27",
          "2000-01-01T01:53:28",
          "2000-01-01T01:53:28",
          "2000-01-01T01:53:29",
          "2000-01-01T01:53:31",
          "2000-01-01T01:53:32",
          "2000-01-01T01:53:34",
          "2000-01-01T01:53:36",
          "2000-01-01T01:53:38",
          "2000-01-01T01:53:39",
          "2000-01-01T01:53:39",
          "2000-01-01T01:53:39",
          "2000-01-01T01:53:41",
          "2000-01-01T01:53:44",
          "2000-01-01T01:53:44",
          "2000-01-01T01:53:45",
          "2000-01-01T01:53:45",
          "2000-01-01T01:53:45",
          "2000-01-01T01:53:46",
          "2000-01-01T01:53:47",
          "2000-01-01T01:53:48",
          "2000-01-01T01:53:51",
          "2000-01-01T01:53:51",
          "2000-01-01T01:53:52",
          "2000-01-01T01:53:52",
          "2000-01-01T01:53:53",
          "2000-01-01T01:53:54",
          "2000-01-01T01:53:54",
          "2000-01-01T01:53:54",
          "2000-01-01T01:53:54",
          "2000-01-01T01:53:54",
          "2000-01-01T01:53:55",
          "2000-01-01T01:53:56",
          "2000-01-01T01:53:57",
          "2000-01-01T01:53:57",
          "2000-01-01T01:53:57",
          "2000-01-01T01:53:58",
          "2000-01-01T01:54:00",
          "2000-01-01T01:54:00",
          "2000-01-01T01:54:00",
          "2000-01-01T01:54:01",
          "2000-01-01T01:54:02",
          "2000-01-01T01:54:02",
          "2000-01-01T01:54:03",
          "2000-01-01T01:54:03",
          "2000-01-01T01:54:03",
          "2000-01-01T01:54:04",
          "2000-01-01T01:54:07",
          "2000-01-01T01:54:08",
          "2000-01-01T01:54:08",
          "2000-01-01T01:54:09",
          "2000-01-01T01:54:12",
          "2000-01-01T01:54:12",
          "2000-01-01T01:54:12",
          "2000-01-01T01:54:14",
          "2000-01-01T01:54:14",
          "2000-01-01T01:54:15",
          "2000-01-01T01:54:16",
          "2000-01-01T01:54:16",
          "2000-01-01T01:54:16",
          "2000-01-01T01:54:18",
          "2000-01-01T01:54:20",
          "2000-01-01T01:54:21",
          "2000-01-01T01:54:21",
          "2000-01-01T01:54:21",
          "2000-01-01T01:54:23",
          "2000-01-01T01:54:23",
          "2000-01-01T01:54:24",
          "2000-01-01T01:54:26",
          "2000-01-01T01:54:26",
          "2000-01-01T01:54:26",
          "2000-01-01T01:54:28",
          "2000-01-01T01:54:28",
          "2000-01-01T01:54:29",
          "2000-01-01T01:54:30",
          "2000-01-01T01:54:30",
          "2000-01-01T01:54:30",
          "2000-01-01T01:54:31",
          "2000-01-01T01:54:32",
          "2000-01-01T01:54:33",
          "2000-01-01T01:54:33",
          "2000-01-01T01:54:33",
          "2000-01-01T01:54:34",
          "2000-01-01T01:54:34",
          "2000-01-01T01:54:34",
          "2000-01-01T01:54:35",
          "2000-01-01T01:54:35",
          "2000-01-01T01:54:35",
          "2000-01-01T01:54:35",
          "2000-01-01T01:54:37",
          "2000-01-01T01:54:37",
          "2000-01-01T01:54:38",
          "2000-01-01T01:54:40",
          "2000-01-01T01:54:41",
          "2000-01-01T01:54:42",
          "2000-01-01T01:54:42",
          "2000-01-01T01:54:42",
          "2000-01-01T01:54:42",
          "2000-01-01T01:54:44",
          "2000-01-01T01:54:46",
          "2000-01-01T01:54:46",
          "2000-01-01T01:54:47",
          "2000-01-01T01:54:48",
          "2000-01-01T01:54:49",
          "2000-01-01T01:54:49",
          "2000-01-01T01:54:50",
          "2000-01-01T01:54:51",
          "2000-01-01T01:54:52",
          "2000-01-01T01:54:52",
          "2000-01-01T01:54:53",
          "2000-01-01T01:54:54",
          "2000-01-01T01:54:54",
          "2000-01-01T01:54:55",
          "2000-01-01T01:54:56",
          "2000-01-01T01:54:56",
          "2000-01-01T01:54:57",
          "2000-01-01T01:54:57",
          "2000-01-01T01:54:57",
          "2000-01-01T01:54:59",
          "2000-01-01T01:55:00",
          "2000-01-01T01:55:00",
          "2000-01-01T01:55:01",
          "2000-01-01T01:55:01",
          "2000-01-01T01:55:01",
          "2000-01-01T01:55:01",
          "2000-01-01T01:55:02",
          "2000-01-01T01:55:05",
          "2000-01-01T01:55:05",
          "2000-01-01T01:55:05",
          "2000-01-01T01:55:06",
          "2000-01-01T01:55:07",
          "2000-01-01T01:55:09",
          "2000-01-01T01:55:10",
          "2000-01-01T01:55:11",
          "2000-01-01T01:55:11",
          "2000-01-01T01:55:11",
          "2000-01-01T01:55:11",
          "2000-01-01T01:55:12",
          "2000-01-01T01:55:12",
          "2000-01-01T01:55:13",
          "2000-01-01T01:55:14",
          "2000-01-01T01:55:14",
          "2000-01-01T01:55:15",
          "2000-01-01T01:55:17",
          "2000-01-01T01:55:19",
          "2000-01-01T01:55:21",
          "2000-01-01T01:55:22",
          "2000-01-01T01:55:23",
          "2000-01-01T01:55:25",
          "2000-01-01T01:55:25",
          "2000-01-01T01:55:26",
          "2000-01-01T01:55:26",
          "2000-01-01T01:55:27",
          "2000-01-01T01:55:27",
          "2000-01-01T01:55:28",
          "2000-01-01T01:55:28",
          "2000-01-01T01:55:29",
          "2000-01-01T01:55:29",
          "2000-01-01T01:55:32",
          "2000-01-01T01:55:32",
          "2000-01-01T01:55:33",
          "2000-01-01T01:55:34",
          "2000-01-01T01:55:39",
          "2000-01-01T01:55:41",
          "2000-01-01T01:55:41",
          "2000-01-01T01:55:41",
          "2000-01-01T01:55:41",
          "2000-01-01T01:55:43",
          "2000-01-01T01:55:44",
          "2000-01-01T01:55:46",
          "2000-01-01T01:55:46",
          "2000-01-01T01:55:47",
          "2000-01-01T01:55:47",
          "2000-01-01T01:55:47",
          "2000-01-01T01:55:47",
          "2000-01-01T01:55:48",
          "2000-01-01T01:55:48",
          "2000-01-01T01:55:50",
          "2000-01-01T01:55:51",
          "2000-01-01T01:55:51",
          "2000-01-01T01:55:53",
          "2000-01-01T01:55:53",
          "2000-01-01T01:55:54",
          "2000-01-01T01:55:54",
          "2000-01-01T01:55:54",
          "2000-01-01T01:55:54",
          "2000-01-01T01:55:55",
          "2000-01-01T01:55:56",
          "2000-01-01T01:55:56",
          "2000-01-01T01:55:57",
          "2000-01-01T01:56:00",
          "2000-01-01T01:56:00",
          "2000-01-01T01:56:01",
          "2000-01-01T01:56:02",
          "2000-01-01T01:56:02",
          "2000-01-01T01:56:02",
          "2000-01-01T01:56:03",
          "2000-01-01T01:56:04",
          "2000-01-01T01:56:04",
          "2000-01-01T01:56:04",
          "2000-01-01T01:56:05",
          "2000-01-01T01:56:05",
          "2000-01-01T01:56:06",
          "2000-01-01T01:56:06",
          "2000-01-01T01:56:07",
          "2000-01-01T01:56:07",
          "2000-01-01T01:56:08",
          "2000-01-01T01:56:08",
          "2000-01-01T01:56:08",
          "2000-01-01T01:56:10",
          "2000-01-01T01:56:11",
          "2000-01-01T01:56:11",
          "2000-01-01T01:56:11",
          "2000-01-01T01:56:12",
          "2000-01-01T01:56:12",
          "2000-01-01T01:56:12",
          "2000-01-01T01:56:13",
          "2000-01-01T01:56:14",
          "2000-01-01T01:56:14",
          "2000-01-01T01:56:14",
          "2000-01-01T01:56:14",
          "2000-01-01T01:56:15",
          "2000-01-01T01:56:16",
          "2000-01-01T01:56:19",
          "2000-01-01T01:56:20",
          "2000-01-01T01:56:20",
          "2000-01-01T01:56:21",
          "2000-01-01T01:56:22",
          "2000-01-01T01:56:23",
          "2000-01-01T01:56:24",
          "2000-01-01T01:56:25",
          "2000-01-01T01:56:25",
          "2000-01-01T01:56:26",
          "2000-01-01T01:56:26",
          "2000-01-01T01:56:27",
          "2000-01-01T01:56:27",
          "2000-01-01T01:56:27",
          "2000-01-01T01:56:29",
          "2000-01-01T01:56:30",
          "2000-01-01T01:56:30",
          "2000-01-01T01:56:31",
          "2000-01-01T01:56:32",
          "2000-01-01T01:56:33",
          "2000-01-01T01:56:34",
          "2000-01-01T01:56:35",
          "2000-01-01T01:56:35",
          "2000-01-01T01:56:35",
          "2000-01-01T01:56:36",
          "2000-01-01T01:56:36",
          "2000-01-01T01:56:36",
          "2000-01-01T01:56:37",
          "2000-01-01T01:56:37",
          "2000-01-01T01:56:37",
          "2000-01-01T01:56:38",
          "2000-01-01T01:56:38",
          "2000-01-01T01:56:40",
          "2000-01-01T01:56:42",
          "2000-01-01T01:56:43",
          "2000-01-01T01:56:44",
          "2000-01-01T01:56:44",
          "2000-01-01T01:56:45",
          "2000-01-01T01:56:46",
          "2000-01-01T01:56:47",
          "2000-01-01T01:56:47",
          "2000-01-01T01:56:49",
          "2000-01-01T01:56:50",
          "2000-01-01T01:56:51",
          "2000-01-01T01:56:51",
          "2000-01-01T01:56:53",
          "2000-01-01T01:56:53",
          "2000-01-01T01:56:54",
          "2000-01-01T01:56:54",
          "2000-01-01T01:56:54",
          "2000-01-01T01:56:56",
          "2000-01-01T01:56:57",
          "2000-01-01T01:56:57",
          "2000-01-01T01:56:57",
          "2000-01-01T01:56:58",
          "2000-01-01T01:56:59",
          "2000-01-01T01:56:59",
          "2000-01-01T01:57:00",
          "2000-01-01T01:57:00",
          "2000-01-01T01:57:00",
          "2000-01-01T01:57:00",
          "2000-01-01T01:57:00",
          "2000-01-01T01:57:02",
          "2000-01-01T01:57:02",
          "2000-01-01T01:57:02",
          "2000-01-01T01:57:03",
          "2000-01-01T01:57:03",
          "2000-01-01T01:57:05",
          "2000-01-01T01:57:06",
          "2000-01-01T01:57:07",
          "2000-01-01T01:57:07",
          "2000-01-01T01:57:09",
          "2000-01-01T01:57:10",
          "2000-01-01T01:57:10",
          "2000-01-01T01:57:11",
          "2000-01-01T01:57:13",
          "2000-01-01T01:57:13",
          "2000-01-01T01:57:13",
          "2000-01-01T01:57:13",
          "2000-01-01T01:57:13",
          "2000-01-01T01:57:14",
          "2000-01-01T01:57:14",
          "2000-01-01T01:57:15",
          "2000-01-01T01:57:15",
          "2000-01-01T01:57:15",
          "2000-01-01T01:57:15",
          "2000-01-01T01:57:15",
          "2000-01-01T01:57:15",
          "2000-01-01T01:57:15",
          "2000-01-01T01:57:18",
          "2000-01-01T01:57:19",
          "2000-01-01T01:57:19",
          "2000-01-01T01:57:19",
          "2000-01-01T01:57:19",
          "2000-01-01T01:57:20",
          "2000-01-01T01:57:21",
          "2000-01-01T01:57:21",
          "2000-01-01T01:57:24",
          "2000-01-01T01:57:25",
          "2000-01-01T01:57:25",
          "2000-01-01T01:57:25",
          "2000-01-01T01:57:27",
          "2000-01-01T01:57:27",
          "2000-01-01T01:57:28",
          "2000-01-01T01:57:28",
          "2000-01-01T01:57:28",
          "2000-01-01T01:57:29",
          "2000-01-01T01:57:30",
          "2000-01-01T01:57:31",
          "2000-01-01T01:57:31",
          "2000-01-01T01:57:31",
          "2000-01-01T01:57:32",
          "2000-01-01T01:57:33",
          "2000-01-01T01:57:33",
          "2000-01-01T01:57:34",
          "2000-01-01T01:57:35",
          "2000-01-01T01:57:36",
          "2000-01-01T01:57:36",
          "2000-01-01T01:57:37",
          "2000-01-01T01:57:38",
          "2000-01-01T01:57:38",
          "2000-01-01T01:57:39",
          "2000-01-01T01:57:39",
          "2000-01-01T01:57:39",
          "2000-01-01T01:57:39",
          "2000-01-01T01:57:39",
          "2000-01-01T01:57:40",
          "2000-01-01T01:57:40",
          "2000-01-01T01:57:40",
          "2000-01-01T01:57:41",
          "2000-01-01T01:57:42",
          "2000-01-01T01:57:42",
          "2000-01-01T01:57:42",
          "2000-01-01T01:57:42",
          "2000-01-01T01:57:42",
          "2000-01-01T01:57:43",
          "2000-01-01T01:57:43",
          "2000-01-01T01:57:43",
          "2000-01-01T01:57:43",
          "2000-01-01T01:57:45",
          "2000-01-01T01:57:46",
          "2000-01-01T01:57:47",
          "2000-01-01T01:57:47",
          "2000-01-01T01:57:47",
          "2000-01-01T01:57:48",
          "2000-01-01T01:57:51",
          "2000-01-01T01:57:53",
          "2000-01-01T01:57:53",
          "2000-01-01T01:57:53",
          "2000-01-01T01:57:53",
          "2000-01-01T01:57:54",
          "2000-01-01T01:57:55",
          "2000-01-01T01:57:55",
          "2000-01-01T01:57:55",
          "2000-01-01T01:57:56",
          "2000-01-01T01:57:57",
          "2000-01-01T01:57:58",
          "2000-01-01T01:57:58",
          "2000-01-01T01:58:00",
          "2000-01-01T01:58:00",
          "2000-01-01T01:58:03",
          "2000-01-01T01:58:04",
          "2000-01-01T01:58:05",
          "2000-01-01T01:58:05",
          "2000-01-01T01:58:06",
          "2000-01-01T01:58:07",
          "2000-01-01T01:58:07",
          "2000-01-01T01:58:07",
          "2000-01-01T01:58:07",
          "2000-01-01T01:58:08",
          "2000-01-01T01:58:09",
          "2000-01-01T01:58:09",
          "2000-01-01T01:58:09",
          "2000-01-01T01:58:09",
          "2000-01-01T01:58:10",
          "2000-01-01T01:58:10",
          "2000-01-01T01:58:12",
          "2000-01-01T01:58:14",
          "2000-01-01T01:58:14",
          "2000-01-01T01:58:14",
          "2000-01-01T01:58:16",
          "2000-01-01T01:58:17",
          "2000-01-01T01:58:17",
          "2000-01-01T01:58:18",
          "2000-01-01T01:58:19",
          "2000-01-01T01:58:20",
          "2000-01-01T01:58:20",
          "2000-01-01T01:58:20",
          "2000-01-01T01:58:20",
          "2000-01-01T01:58:20",
          "2000-01-01T01:58:21",
          "2000-01-01T01:58:21",
          "2000-01-01T01:58:21",
          "2000-01-01T01:58:22",
          "2000-01-01T01:58:23",
          "2000-01-01T01:58:23",
          "2000-01-01T01:58:24",
          "2000-01-01T01:58:24",
          "2000-01-01T01:58:24",
          "2000-01-01T01:58:25",
          "2000-01-01T01:58:27",
          "2000-01-01T01:58:27",
          "2000-01-01T01:58:27",
          "2000-01-01T01:58:29",
          "2000-01-01T01:58:30",
          "2000-01-01T01:58:31",
          "2000-01-01T01:58:31",
          "2000-01-01T01:58:32",
          "2000-01-01T01:58:33",
          "2000-01-01T01:58:33",
          "2000-01-01T01:58:34",
          "2000-01-01T01:58:37",
          "2000-01-01T01:58:37",
          "2000-01-01T01:58:39",
          "2000-01-01T01:58:39",
          "2000-01-01T01:58:40",
          "2000-01-01T01:58:40",
          "2000-01-01T01:58:40",
          "2000-01-01T01:58:41",
          "2000-01-01T01:58:42",
          "2000-01-01T01:58:42",
          "2000-01-01T01:58:42",
          "2000-01-01T01:58:43",
          "2000-01-01T01:58:43",
          "2000-01-01T01:58:43",
          "2000-01-01T01:58:43",
          "2000-01-01T01:58:43",
          "2000-01-01T01:58:44",
          "2000-01-01T01:58:45",
          "2000-01-01T01:58:45",
          "2000-01-01T01:58:45",
          "2000-01-01T01:58:46",
          "2000-01-01T01:58:47",
          "2000-01-01T01:58:47",
          "2000-01-01T01:58:48",
          "2000-01-01T01:58:49",
          "2000-01-01T01:58:49",
          "2000-01-01T01:58:50",
          "2000-01-01T01:58:50",
          "2000-01-01T01:58:51",
          "2000-01-01T01:58:51",
          "2000-01-01T01:58:51",
          "2000-01-01T01:58:51",
          "2000-01-01T01:58:52",
          "2000-01-01T01:58:53",
          "2000-01-01T01:58:54",
          "2000-01-01T01:58:55",
          "2000-01-01T01:58:55",
          "2000-01-01T01:58:55",
          "2000-01-01T01:58:55",
          "2000-01-01T01:58:56",
          "2000-01-01T01:58:56",
          "2000-01-01T01:58:57",
          "2000-01-01T01:58:58",
          "2000-01-01T01:58:58",
          "2000-01-01T01:58:59",
          "2000-01-01T01:58:59",
          "2000-01-01T01:59:00",
          "2000-01-01T01:59:00",
          "2000-01-01T01:59:01",
          "2000-01-01T01:59:01",
          "2000-01-01T01:59:01",
          "2000-01-01T01:59:01",
          "2000-01-01T01:59:02",
          "2000-01-01T01:59:03",
          "2000-01-01T01:59:03",
          "2000-01-01T01:59:03",
          "2000-01-01T01:59:03",
          "2000-01-01T01:59:04",
          "2000-01-01T01:59:05",
          "2000-01-01T01:59:06",
          "2000-01-01T01:59:06",
          "2000-01-01T01:59:07",
          "2000-01-01T01:59:08",
          "2000-01-01T01:59:09",
          "2000-01-01T01:59:10",
          "2000-01-01T01:59:12",
          "2000-01-01T01:59:13",
          "2000-01-01T01:59:15",
          "2000-01-01T01:59:16",
          "2000-01-01T01:59:16",
          "2000-01-01T01:59:16",
          "2000-01-01T01:59:18",
          "2000-01-01T01:59:19",
          "2000-01-01T01:59:20",
          "2000-01-01T01:59:20",
          "2000-01-01T01:59:21",
          "2000-01-01T01:59:22",
          "2000-01-01T01:59:22",
          "2000-01-01T01:59:26",
          "2000-01-01T01:59:27",
          "2000-01-01T01:59:27",
          "2000-01-01T01:59:28",
          "2000-01-01T01:59:28",
          "2000-01-01T01:59:29",
          "2000-01-01T01:59:29",
          "2000-01-01T01:59:29",
          "2000-01-01T01:59:29",
          "2000-01-01T01:59:30",
          "2000-01-01T01:59:32",
          "2000-01-01T01:59:33",
          "2000-01-01T01:59:33",
          "2000-01-01T01:59:34",
          "2000-01-01T01:59:34",
          "2000-01-01T01:59:36",
          "2000-01-01T01:59:39",
          "2000-01-01T01:59:39",
          "2000-01-01T01:59:39",
          "2000-01-01T01:59:40",
          "2000-01-01T01:59:41",
          "2000-01-01T01:59:42",
          "2000-01-01T01:59:42",
          "2000-01-01T01:59:42",
          "2000-01-01T01:59:43",
          "2000-01-01T01:59:44",
          "2000-01-01T01:59:45",
          "2000-01-01T01:59:45",
          "2000-01-01T01:59:46",
          "2000-01-01T01:59:46",
          "2000-01-01T01:59:48",
          "2000-01-01T01:59:49",
          "2000-01-01T01:59:50",
          "2000-01-01T01:59:50",
          "2000-01-01T01:59:51",
          "2000-01-01T01:59:51",
          "2000-01-01T01:59:52",
          "2000-01-01T01:59:52",
          "2000-01-01T01:59:53",
          "2000-01-01T01:59:53",
          "2000-01-01T01:59:53",
          "2000-01-01T01:59:54",
          "2000-01-01T01:59:55",
          "2000-01-01T01:59:55",
          "2000-01-01T01:59:57",
          "2000-01-01T01:59:58",
          "2000-01-01T01:59:58",
          "2000-01-01T01:59:58",
          "2000-01-01T01:59:58",
          "2000-01-01T01:59:59",
          "2000-01-01T02:00:00",
          "2000-01-01T02:00:00",
          "2000-01-01T02:00:02",
          "2000-01-01T02:00:02",
          "2000-01-01T02:00:03",
          "2000-01-01T02:00:04",
          "2000-01-01T02:00:05",
          "2000-01-01T02:00:05",
          "2000-01-01T02:00:06",
          "2000-01-01T02:00:06",
          "2000-01-01T02:00:08",
          "2000-01-01T02:00:08",
          "2000-01-01T02:00:08",
          "2000-01-01T02:00:09",
          "2000-01-01T02:00:12",
          "2000-01-01T02:00:13",
          "2000-01-01T02:00:13",
          "2000-01-01T02:00:14",
          "2000-01-01T02:00:15",
          "2000-01-01T02:00:15",
          "2000-01-01T02:00:15",
          "2000-01-01T02:00:16",
          "2000-01-01T02:00:17",
          "2000-01-01T02:00:17",
          "2000-01-01T02:00:18",
          "2000-01-01T02:00:18",
          "2000-01-01T02:00:18",
          "2000-01-01T02:00:20",
          "2000-01-01T02:00:21",
          "2000-01-01T02:00:21",
          "2000-01-01T02:00:22",
          "2000-01-01T02:00:22",
          "2000-01-01T02:00:22",
          "2000-01-01T02:00:23",
          "2000-01-01T02:00:23",
          "2000-01-01T02:00:23",
          "2000-01-01T02:00:23",
          "2000-01-01T02:00:23",
          "2000-01-01T02:00:23",
          "2000-01-01T02:00:23",
          "2000-01-01T02:00:24",
          "2000-01-01T02:00:26",
          "2000-01-01T02:00:26",
          "2000-01-01T02:00:27",
          "2000-01-01T02:00:29",
          "2000-01-01T02:00:29",
          "2000-01-01T02:00:29",
          "2000-01-01T02:00:31",
          "2000-01-01T02:00:31",
          "2000-01-01T02:00:32",
          "2000-01-01T02:00:32",
          "2000-01-01T02:00:33",
          "2000-01-01T02:00:34",
          "2000-01-01T02:00:34",
          "2000-01-01T02:00:34",
          "2000-01-01T02:00:35",
          "2000-01-01T02:00:35",
          "2000-01-01T02:00:36",
          "2000-01-01T02:00:38",
          "2000-01-01T02:00:38",
          "2000-01-01T02:00:38",
          "2000-01-01T02:00:39",
          "2000-01-01T02:00:39",
          "2000-01-01T02:00:39",
          "2000-01-01T02:00:41",
          "2000-01-01T02:00:43",
          "2000-01-01T02:00:43",
          "2000-01-01T02:00:43",
          "2000-01-01T02:00:43",
          "2000-01-01T02:00:45",
          "2000-01-01T02:00:46",
          "2000-01-01T02:00:46",
          "2000-01-01T02:00:47",
          "2000-01-01T02:00:48",
          "2000-01-01T02:00:49",
          "2000-01-01T02:00:49",
          "2000-01-01T02:00:51",
          "2000-01-01T02:00:52",
          "2000-01-01T02:00:53",
          "2000-01-01T02:00:53",
          "2000-01-01T02:00:54",
          "2000-01-01T02:00:55",
          "2000-01-01T02:00:56",
          "2000-01-01T02:00:56",
          "2000-01-01T02:00:57",
          "2000-01-01T02:00:57",
          "2000-01-01T02:00:58",
          "2000-01-01T02:00:59",
          "2000-01-01T02:00:59",
          "2000-01-01T02:01:01",
          "2000-01-01T02:01:01",
          "2000-01-01T02:01:03",
          "2000-01-01T02:01:04",
          "2000-01-01T02:01:04",
          "2000-01-01T02:01:04",
          "2000-01-01T02:01:04",
          "2000-01-01T02:01:04",
          "2000-01-01T02:01:05",
          "2000-01-01T02:01:08",
          "2000-01-01T02:01:09",
          "2000-01-01T02:01:09",
          "2000-01-01T02:01:10",
          "2000-01-01T02:01:10",
          "2000-01-01T02:01:10",
          "2000-01-01T02:01:11",
          "2000-01-01T02:01:11",
          "2000-01-01T02:01:12",
          "2000-01-01T02:01:12",
          "2000-01-01T02:01:13",
          "2000-01-01T02:01:13",
          "2000-01-01T02:01:13",
          "2000-01-01T02:01:14",
          "2000-01-01T02:01:14",
          "2000-01-01T02:01:15",
          "2000-01-01T02:01:16",
          "2000-01-01T02:01:16",
          "2000-01-01T02:01:17",
          "2000-01-01T02:01:18",
          "2000-01-01T02:01:19",
          "2000-01-01T02:01:20",
          "2000-01-01T02:01:20",
          "2000-01-01T02:01:20",
          "2000-01-01T02:01:22",
          "2000-01-01T02:01:22",
          "2000-01-01T02:01:23",
          "2000-01-01T02:01:24",
          "2000-01-01T02:01:25",
          "2000-01-01T02:01:25",
          "2000-01-01T02:01:25",
          "2000-01-01T02:01:25",
          "2000-01-01T02:01:25",
          "2000-01-01T02:01:26",
          "2000-01-01T02:01:26",
          "2000-01-01T02:01:27",
          "2000-01-01T02:01:28",
          "2000-01-01T02:01:29",
          "2000-01-01T02:01:29",
          "2000-01-01T02:01:30",
          "2000-01-01T02:01:32",
          "2000-01-01T02:01:32",
          "2000-01-01T02:01:32",
          "2000-01-01T02:01:33",
          "2000-01-01T02:01:35",
          "2000-01-01T02:01:35",
          "2000-01-01T02:01:36",
          "2000-01-01T02:01:36",
          "2000-01-01T02:01:37",
          "2000-01-01T02:01:37",
          "2000-01-01T02:01:38",
          "2000-01-01T02:01:38",
          "2000-01-01T02:01:39",
          "2000-01-01T02:01:39",
          "2000-01-01T02:01:39",
          "2000-01-01T02:01:41",
          "2000-01-01T02:01:41",
          "2000-01-01T02:01:43",
          "2000-01-01T02:01:44",
          "2000-01-01T02:01:45",
          "2000-01-01T02:01:45",
          "2000-01-01T02:01:45",
          "2000-01-01T02:01:45",
          "2000-01-01T02:01:46",
          "2000-01-01T02:01:46",
          "2000-01-01T02:01:47",
          "2000-01-01T02:01:48",
          "2000-01-01T02:01:49",
          "2000-01-01T02:01:50",
          "2000-01-01T02:01:51",
          "2000-01-01T02:01:52",
          "2000-01-01T02:01:52",
          "2000-01-01T02:01:52",
          "2000-01-01T02:01:52",
          "2000-01-01T02:01:53",
          "2000-01-01T02:01:54",
          "2000-01-01T02:01:54",
          "2000-01-01T02:01:54",
          "2000-01-01T02:01:55",
          "2000-01-01T02:01:55",
          "2000-01-01T02:01:55",
          "2000-01-01T02:01:55",
          "2000-01-01T02:01:56",
          "2000-01-01T02:01:56",
          "2000-01-01T02:01:56",
          "2000-01-01T02:01:56",
          "2000-01-01T02:01:57",
          "2000-01-01T02:02:00",
          "2000-01-01T02:02:01",
          "2000-01-01T02:02:01",
          "2000-01-01T02:02:01",
          "2000-01-01T02:02:02",
          "2000-01-01T02:02:02",
          "2000-01-01T02:02:03",
          "2000-01-01T02:02:05",
          "2000-01-01T02:02:07",
          "2000-01-01T02:02:07",
          "2000-01-01T02:02:07",
          "2000-01-01T02:02:07",
          "2000-01-01T02:02:07",
          "2000-01-01T02:02:07",
          "2000-01-01T02:02:09",
          "2000-01-01T02:02:12",
          "2000-01-01T02:02:14",
          "2000-01-01T02:02:14",
          "2000-01-01T02:02:14",
          "2000-01-01T02:02:14",
          "2000-01-01T02:02:15",
          "2000-01-01T02:02:15",
          "2000-01-01T02:02:17",
          "2000-01-01T02:02:17",
          "2000-01-01T02:02:19",
          "2000-01-01T02:02:19",
          "2000-01-01T02:02:20",
          "2000-01-01T02:02:22",
          "2000-01-01T02:02:23",
          "2000-01-01T02:02:24",
          "2000-01-01T02:02:24",
          "2000-01-01T02:02:24",
          "2000-01-01T02:02:25",
          "2000-01-01T02:02:26",
          "2000-01-01T02:02:26",
          "2000-01-01T02:02:27",
          "2000-01-01T02:02:28",
          "2000-01-01T02:02:28",
          "2000-01-01T02:02:29",
          "2000-01-01T02:02:31",
          "2000-01-01T02:02:32",
          "2000-01-01T02:02:33",
          "2000-01-01T02:02:35",
          "2000-01-01T02:02:35",
          "2000-01-01T02:02:38",
          "2000-01-01T02:02:38",
          "2000-01-01T02:02:38",
          "2000-01-01T02:02:40",
          "2000-01-01T02:02:41",
          "2000-01-01T02:02:42",
          "2000-01-01T02:02:43",
          "2000-01-01T02:02:43",
          "2000-01-01T02:02:44",
          "2000-01-01T02:02:44",
          "2000-01-01T02:02:44",
          "2000-01-01T02:02:49",
          "2000-01-01T02:02:49",
          "2000-01-01T02:02:49",
          "2000-01-01T02:02:49",
          "2000-01-01T02:02:50",
          "2000-01-01T02:02:50",
          "2000-01-01T02:02:51",
          "2000-01-01T02:02:51",
          "2000-01-01T02:02:51",
          "2000-01-01T02:02:53",
          "2000-01-01T02:02:54",
          "2000-01-01T02:02:54",
          "2000-01-01T02:02:54",
          "2000-01-01T02:02:56",
          "2000-01-01T02:02:56",
          "2000-01-01T02:02:58",
          "2000-01-01T02:02:58",
          "2000-01-01T02:02:58",
          "2000-01-01T02:02:59",
          "2000-01-01T02:03:00",
          "2000-01-01T02:03:01",
          "2000-01-01T02:03:01",
          "2000-01-01T02:03:02",
          "2000-01-01T02:03:02",
          "2000-01-01T02:03:02",
          "2000-01-01T02:03:03",
          "2000-01-01T02:03:03",
          "2000-01-01T02:03:04",
          "2000-01-01T02:03:04",
          "2000-01-01T02:03:04",
          "2000-01-01T02:03:05",
          "2000-01-01T02:03:07",
          "2000-01-01T02:03:07",
          "2000-01-01T02:03:07",
          "2000-01-01T02:03:13",
          "2000-01-01T02:03:13",
          "2000-01-01T02:03:14",
          "2000-01-01T02:03:15",
          "2000-01-01T02:03:15",
          "2000-01-01T02:03:19",
          "2000-01-01T02:03:19",
          "2000-01-01T02:03:19",
          "2000-01-01T02:03:19",
          "2000-01-01T02:03:20",
          "2000-01-01T02:03:21",
          "2000-01-01T02:03:22",
          "2000-01-01T02:03:24",
          "2000-01-01T02:03:24",
          "2000-01-01T02:03:25",
          "2000-01-01T02:03:25",
          "2000-01-01T02:03:27",
          "2000-01-01T02:03:27",
          "2000-01-01T02:03:28",
          "2000-01-01T02:03:28",
          "2000-01-01T02:03:30",
          "2000-01-01T02:03:31",
          "2000-01-01T02:03:31",
          "2000-01-01T02:03:35",
          "2000-01-01T02:03:35",
          "2000-01-01T02:03:38",
          "2000-01-01T02:03:39",
          "2000-01-01T02:03:39",
          "2000-01-01T02:03:40",
          "2000-01-01T02:03:42",
          "2000-01-01T02:03:43",
          "2000-01-01T02:03:43",
          "2000-01-01T02:03:44",
          "2000-01-01T02:03:45",
          "2000-01-01T02:03:45",
          "2000-01-01T02:03:46",
          "2000-01-01T02:03:48",
          "2000-01-01T02:03:48",
          "2000-01-01T02:03:49",
          "2000-01-01T02:03:49",
          "2000-01-01T02:03:50",
          "2000-01-01T02:03:50",
          "2000-01-01T02:03:51",
          "2000-01-01T02:03:51",
          "2000-01-01T02:03:51",
          "2000-01-01T02:03:53",
          "2000-01-01T02:03:53",
          "2000-01-01T02:03:53",
          "2000-01-01T02:03:53",
          "2000-01-01T02:03:57",
          "2000-01-01T02:03:58",
          "2000-01-01T02:03:58",
          "2000-01-01T02:04:00",
          "2000-01-01T02:04:00",
          "2000-01-01T02:04:01",
          "2000-01-01T02:04:02",
          "2000-01-01T02:04:03",
          "2000-01-01T02:04:03",
          "2000-01-01T02:04:04",
          "2000-01-01T02:04:04",
          "2000-01-01T02:04:05",
          "2000-01-01T02:04:05",
          "2000-01-01T02:04:06",
          "2000-01-01T02:04:07",
          "2000-01-01T02:04:08",
          "2000-01-01T02:04:09",
          "2000-01-01T02:04:09",
          "2000-01-01T02:04:10",
          "2000-01-01T02:04:10",
          "2000-01-01T02:04:10",
          "2000-01-01T02:04:13",
          "2000-01-01T02:04:14",
          "2000-01-01T02:04:14",
          "2000-01-01T02:04:15",
          "2000-01-01T02:04:15",
          "2000-01-01T02:04:15",
          "2000-01-01T02:04:15",
          "2000-01-01T02:04:16",
          "2000-01-01T02:04:18",
          "2000-01-01T02:04:20",
          "2000-01-01T02:04:20",
          "2000-01-01T02:04:21",
          "2000-01-01T02:04:21",
          "2000-01-01T02:04:22",
          "2000-01-01T02:04:25",
          "2000-01-01T02:04:25",
          "2000-01-01T02:04:26",
          "2000-01-01T02:04:27",
          "2000-01-01T02:04:28",
          "2000-01-01T02:04:29",
          "2000-01-01T02:04:29",
          "2000-01-01T02:04:33",
          "2000-01-01T02:04:33",
          "2000-01-01T02:04:33",
          "2000-01-01T02:04:34",
          "2000-01-01T02:04:35",
          "2000-01-01T02:04:35",
          "2000-01-01T02:04:35",
          "2000-01-01T02:04:36",
          "2000-01-01T02:04:38",
          "2000-01-01T02:04:39",
          "2000-01-01T02:04:39",
          "2000-01-01T02:04:40",
          "2000-01-01T02:04:41",
          "2000-01-01T02:04:42",
          "2000-01-01T02:04:43",
          "2000-01-01T02:04:43",
          "2000-01-01T02:04:44",
          "2000-01-01T02:04:44",
          "2000-01-01T02:04:44",
          "2000-01-01T02:04:45",
          "2000-01-01T02:04:46",
          "2000-01-01T02:04:46",
          "2000-01-01T02:04:47",
          "2000-01-01T02:04:47",
          "2000-01-01T02:04:48",
          "2000-01-01T02:04:48",
          "2000-01-01T02:04:49",
          "2000-01-01T02:04:49",
          "2000-01-01T02:04:50",
          "2000-01-01T02:04:51",
          "2000-01-01T02:04:51",
          "2000-01-01T02:04:52",
          "2000-01-01T02:04:53",
          "2000-01-01T02:04:55",
          "2000-01-01T02:04:55",
          "2000-01-01T02:04:56",
          "2000-01-01T02:04:59",
          "2000-01-01T02:05:00",
          "2000-01-01T02:05:01",
          "2000-01-01T02:05:03",
          "2000-01-01T02:05:03",
          "2000-01-01T02:05:06",
          "2000-01-01T02:05:07",
          "2000-01-01T02:05:07",
          "2000-01-01T02:05:08",
          "2000-01-01T02:05:08",
          "2000-01-01T02:05:09",
          "2000-01-01T02:05:09",
          "2000-01-01T02:05:10",
          "2000-01-01T02:05:11",
          "2000-01-01T02:05:11",
          "2000-01-01T02:05:11",
          "2000-01-01T02:05:15",
          "2000-01-01T02:05:17",
          "2000-01-01T02:05:17",
          "2000-01-01T02:05:17",
          "2000-01-01T02:05:17",
          "2000-01-01T02:05:18",
          "2000-01-01T02:05:19",
          "2000-01-01T02:05:20",
          "2000-01-01T02:05:21",
          "2000-01-01T02:05:22",
          "2000-01-01T02:05:23",
          "2000-01-01T02:05:25",
          "2000-01-01T02:05:25",
          "2000-01-01T02:05:25",
          "2000-01-01T02:05:26",
          "2000-01-01T02:05:26",
          "2000-01-01T02:05:26",
          "2000-01-01T02:05:26",
          "2000-01-01T02:05:29",
          "2000-01-01T02:05:31",
          "2000-01-01T02:05:33",
          "2000-01-01T02:05:33",
          "2000-01-01T02:05:34",
          "2000-01-01T02:05:35",
          "2000-01-01T02:05:36",
          "2000-01-01T02:05:36",
          "2000-01-01T02:05:37",
          "2000-01-01T02:05:37",
          "2000-01-01T02:05:39",
          "2000-01-01T02:05:39",
          "2000-01-01T02:05:40",
          "2000-01-01T02:05:41",
          "2000-01-01T02:05:41",
          "2000-01-01T02:05:43",
          "2000-01-01T02:05:44",
          "2000-01-01T02:05:45",
          "2000-01-01T02:05:47",
          "2000-01-01T02:05:47",
          "2000-01-01T02:05:47",
          "2000-01-01T02:05:48",
          "2000-01-01T02:05:49",
          "2000-01-01T02:05:49",
          "2000-01-01T02:05:50",
          "2000-01-01T02:05:52",
          "2000-01-01T02:05:52",
          "2000-01-01T02:05:52",
          "2000-01-01T02:05:52",
          "2000-01-01T02:05:52",
          "2000-01-01T02:05:53",
          "2000-01-01T02:05:54",
          "2000-01-01T02:05:55",
          "2000-01-01T02:05:55",
          "2000-01-01T02:05:55",
          "2000-01-01T02:05:57",
          "2000-01-01T02:05:58",
          "2000-01-01T02:06:00",
          "2000-01-01T02:06:00",
          "2000-01-01T02:06:00",
          "2000-01-01T02:06:00",
          "2000-01-01T02:06:00",
          "2000-01-01T02:06:01",
          "2000-01-01T02:06:01",
          "2000-01-01T02:06:01",
          "2000-01-01T02:06:02",
          "2000-01-01T02:06:02",
          "2000-01-01T02:06:02",
          "2000-01-01T02:06:02",
          "2000-01-01T02:06:02",
          "2000-01-01T02:06:03",
          "2000-01-01T02:06:06",
          "2000-01-01T02:06:06",
          "2000-01-01T02:06:08",
          "2000-01-01T02:06:08",
          "2000-01-01T02:06:08",
          "2000-01-01T02:06:09",
          "2000-01-01T02:06:09",
          "2000-01-01T02:06:10",
          "2000-01-01T02:06:10",
          "2000-01-01T02:06:11",
          "2000-01-01T02:06:13",
          "2000-01-01T02:06:14",
          "2000-01-01T02:06:14",
          "2000-01-01T02:06:15",
          "2000-01-01T02:06:17",
          "2000-01-01T02:06:17",
          "2000-01-01T02:06:18",
          "2000-01-01T02:06:19",
          "2000-01-01T02:06:20",
          "2000-01-01T02:06:21",
          "2000-01-01T02:06:22",
          "2000-01-01T02:06:24",
          "2000-01-01T02:06:24",
          "2000-01-01T02:06:24",
          "2000-01-01T02:06:26",
          "2000-01-01T02:06:27",
          "2000-01-01T02:06:27",
          "2000-01-01T02:06:29",
          "2000-01-01T02:06:30",
          "2000-01-01T02:06:30",
          "2000-01-01T02:06:30",
          "2000-01-01T02:06:31",
          "2000-01-01T02:06:31",
          "2000-01-01T02:06:31",
          "2000-01-01T02:06:32",
          "2000-01-01T02:06:33",
          "2000-01-01T02:06:33",
          "2000-01-01T02:06:34",
          "2000-01-01T02:06:34",
          "2000-01-01T02:06:35",
          "2000-01-01T02:06:35",
          "2000-01-01T02:06:35",
          "2000-01-01T02:06:36",
          "2000-01-01T02:06:36",
          "2000-01-01T02:06:37",
          "2000-01-01T02:06:38",
          "2000-01-01T02:06:38",
          "2000-01-01T02:06:39",
          "2000-01-01T02:06:41",
          "2000-01-01T02:06:43",
          "2000-01-01T02:06:43",
          "2000-01-01T02:06:44",
          "2000-01-01T02:06:46",
          "2000-01-01T02:06:46",
          "2000-01-01T02:06:48",
          "2000-01-01T02:06:48",
          "2000-01-01T02:06:50",
          "2000-01-01T02:06:51",
          "2000-01-01T02:06:51",
          "2000-01-01T02:06:52",
          "2000-01-01T02:06:53",
          "2000-01-01T02:06:55",
          "2000-01-01T02:06:55",
          "2000-01-01T02:06:56",
          "2000-01-01T02:06:58",
          "2000-01-01T02:06:59",
          "2000-01-01T02:06:59",
          "2000-01-01T02:07:00",
          "2000-01-01T02:07:00",
          "2000-01-01T02:07:02",
          "2000-01-01T02:07:02",
          "2000-01-01T02:07:03",
          "2000-01-01T02:07:03",
          "2000-01-01T02:07:03",
          "2000-01-01T02:07:04",
          "2000-01-01T02:07:05",
          "2000-01-01T02:07:05",
          "2000-01-01T02:07:07",
          "2000-01-01T02:07:08",
          "2000-01-01T02:07:09",
          "2000-01-01T02:07:10",
          "2000-01-01T02:07:11",
          "2000-01-01T02:07:11",
          "2000-01-01T02:07:12",
          "2000-01-01T02:07:12",
          "2000-01-01T02:07:15",
          "2000-01-01T02:07:15",
          "2000-01-01T02:07:15",
          "2000-01-01T02:07:17",
          "2000-01-01T02:07:17",
          "2000-01-01T02:07:18",
          "2000-01-01T02:07:18",
          "2000-01-01T02:07:19",
          "2000-01-01T02:07:20",
          "2000-01-01T02:07:22",
          "2000-01-01T02:07:23",
          "2000-01-01T02:07:23",
          "2000-01-01T02:07:24",
          "2000-01-01T02:07:25",
          "2000-01-01T02:07:25",
          "2000-01-01T02:07:25",
          "2000-01-01T02:07:26",
          "2000-01-01T02:07:26",
          "2000-01-01T02:07:27",
          "2000-01-01T02:07:28",
          "2000-01-01T02:07:28",
          "2000-01-01T02:07:29",
          "2000-01-01T02:07:29",
          "2000-01-01T02:07:29",
          "2000-01-01T02:07:29",
          "2000-01-01T02:07:31",
          "2000-01-01T02:07:31",
          "2000-01-01T02:07:32",
          "2000-01-01T02:07:32",
          "2000-01-01T02:07:33",
          "2000-01-01T02:07:35",
          "2000-01-01T02:07:36",
          "2000-01-01T02:07:37",
          "2000-01-01T02:07:38",
          "2000-01-01T02:07:39",
          "2000-01-01T02:07:39",
          "2000-01-01T02:07:41",
          "2000-01-01T02:07:41",
          "2000-01-01T02:07:42",
          "2000-01-01T02:07:42",
          "2000-01-01T02:07:43",
          "2000-01-01T02:07:43",
          "2000-01-01T02:07:44",
          "2000-01-01T02:07:46",
          "2000-01-01T02:07:47",
          "2000-01-01T02:07:47",
          "2000-01-01T02:07:48",
          "2000-01-01T02:07:48",
          "2000-01-01T02:07:48",
          "2000-01-01T02:07:49",
          "2000-01-01T02:07:51",
          "2000-01-01T02:07:51",
          "2000-01-01T02:07:51",
          "2000-01-01T02:07:52",
          "2000-01-01T02:07:54",
          "2000-01-01T02:07:55",
          "2000-01-01T02:07:55",
          "2000-01-01T02:07:55",
          "2000-01-01T02:07:57",
          "2000-01-01T02:07:59",
          "2000-01-01T02:08:00",
          "2000-01-01T02:08:01",
          "2000-01-01T02:08:04",
          "2000-01-01T02:08:04",
          "2000-01-01T02:08:05",
          "2000-01-01T02:08:06",
          "2000-01-01T02:08:07",
          "2000-01-01T02:08:08",
          "2000-01-01T02:08:08",
          "2000-01-01T02:08:09",
          "2000-01-01T02:08:09",
          "2000-01-01T02:08:09",
          "2000-01-01T02:08:09",
          "2000-01-01T02:08:09",
          "2000-01-01T02:08:10",
          "2000-01-01T02:08:10",
          "2000-01-01T02:08:11",
          "2000-01-01T02:08:13",
          "2000-01-01T02:08:13",
          "2000-01-01T02:08:15",
          "2000-01-01T02:08:15",
          "2000-01-01T02:08:15",
          "2000-01-01T02:08:15",
          "2000-01-01T02:08:15",
          "2000-01-01T02:08:16",
          "2000-01-01T02:08:18",
          "2000-01-01T02:08:19",
          "2000-01-01T02:08:19",
          "2000-01-01T02:08:19",
          "2000-01-01T02:08:20",
          "2000-01-01T02:08:22",
          "2000-01-01T02:08:24",
          "2000-01-01T02:08:25",
          "2000-01-01T02:08:25",
          "2000-01-01T02:08:26",
          "2000-01-01T02:08:26",
          "2000-01-01T02:08:26",
          "2000-01-01T02:08:27",
          "2000-01-01T02:08:29",
          "2000-01-01T02:08:29",
          "2000-01-01T02:08:30",
          "2000-01-01T02:08:33",
          "2000-01-01T02:08:33",
          "2000-01-01T02:08:33",
          "2000-01-01T02:08:33",
          "2000-01-01T02:08:34",
          "2000-01-01T02:08:34",
          "2000-01-01T02:08:34",
          "2000-01-01T02:08:35",
          "2000-01-01T02:08:36",
          "2000-01-01T02:08:36",
          "2000-01-01T02:08:37",
          "2000-01-01T02:08:37",
          "2000-01-01T02:08:37",
          "2000-01-01T02:08:37",
          "2000-01-01T02:08:38",
          "2000-01-01T02:08:38",
          "2000-01-01T02:08:38",
          "2000-01-01T02:08:39",
          "2000-01-01T02:08:39",
          "2000-01-01T02:08:41",
          "2000-01-01T02:08:41",
          "2000-01-01T02:08:42",
          "2000-01-01T02:08:44",
          "2000-01-01T02:08:45",
          "2000-01-01T02:08:45",
          "2000-01-01T02:08:46",
          "2000-01-01T02:08:47",
          "2000-01-01T02:08:47",
          "2000-01-01T02:08:48",
          "2000-01-01T02:08:48",
          "2000-01-01T02:08:49",
          "2000-01-01T02:08:49",
          "2000-01-01T02:08:49",
          "2000-01-01T02:08:49",
          "2000-01-01T02:08:51",
          "2000-01-01T02:08:52",
          "2000-01-01T02:08:52",
          "2000-01-01T02:08:54",
          "2000-01-01T02:08:54",
          "2000-01-01T02:08:54",
          "2000-01-01T02:08:55",
          "2000-01-01T02:08:56",
          "2000-01-01T02:08:56",
          "2000-01-01T02:08:56",
          "2000-01-01T02:08:57",
          "2000-01-01T02:08:58",
          "2000-01-01T02:08:58",
          "2000-01-01T02:08:58",
          "2000-01-01T02:08:58",
          "2000-01-01T02:08:59",
          "2000-01-01T02:09:00",
          "2000-01-01T02:09:00",
          "2000-01-01T02:09:01",
          "2000-01-01T02:09:01",
          "2000-01-01T02:09:01",
          "2000-01-01T02:09:04",
          "2000-01-01T02:09:05",
          "2000-01-01T02:09:05",
          "2000-01-01T02:09:07",
          "2000-01-01T02:09:07",
          "2000-01-01T02:09:09",
          "2000-01-01T02:09:10",
          "2000-01-01T02:09:11",
          "2000-01-01T02:09:12",
          "2000-01-01T02:09:12",
          "2000-01-01T02:09:12",
          "2000-01-01T02:09:13",
          "2000-01-01T02:09:13",
          "2000-01-01T02:09:15",
          "2000-01-01T02:09:17",
          "2000-01-01T02:09:17",
          "2000-01-01T02:09:18",
          "2000-01-01T02:09:20",
          "2000-01-01T02:09:20",
          "2000-01-01T02:09:21",
          "2000-01-01T02:09:21",
          "2000-01-01T02:09:21",
          "2000-01-01T02:09:22",
          "2000-01-01T02:09:22",
          "2000-01-01T02:09:23",
          "2000-01-01T02:09:24",
          "2000-01-01T02:09:24",
          "2000-01-01T02:09:25",
          "2000-01-01T02:09:25",
          "2000-01-01T02:09:29",
          "2000-01-01T02:09:29",
          "2000-01-01T02:09:30",
          "2000-01-01T02:09:30",
          "2000-01-01T02:09:30",
          "2000-01-01T02:09:30",
          "2000-01-01T02:09:31",
          "2000-01-01T02:09:33",
          "2000-01-01T02:09:33",
          "2000-01-01T02:09:36",
          "2000-01-01T02:09:36",
          "2000-01-01T02:09:36",
          "2000-01-01T02:09:37",
          "2000-01-01T02:09:37",
          "2000-01-01T02:09:38",
          "2000-01-01T02:09:39",
          "2000-01-01T02:09:39",
          "2000-01-01T02:09:39",
          "2000-01-01T02:09:39",
          "2000-01-01T02:09:40",
          "2000-01-01T02:09:41",
          "2000-01-01T02:09:43",
          "2000-01-01T02:09:43",
          "2000-01-01T02:09:45",
          "2000-01-01T02:09:47",
          "2000-01-01T02:09:48",
          "2000-01-01T02:09:48",
          "2000-01-01T02:09:48",
          "2000-01-01T02:09:52",
          "2000-01-01T02:09:52",
          "2000-01-01T02:09:54",
          "2000-01-01T02:09:55",
          "2000-01-01T02:09:57",
          "2000-01-01T02:09:59",
          "2000-01-01T02:09:59",
          "2000-01-01T02:10:00",
          "2000-01-01T02:10:00",
          "2000-01-01T02:10:00",
          "2000-01-01T02:10:02",
          "2000-01-01T02:10:02",
          "2000-01-01T02:10:04",
          "2000-01-01T02:10:04",
          "2000-01-01T02:10:04",
          "2000-01-01T02:10:05",
          "2000-01-01T02:10:05",
          "2000-01-01T02:10:07",
          "2000-01-01T02:10:07",
          "2000-01-01T02:10:07",
          "2000-01-01T02:10:09",
          "2000-01-01T02:10:09",
          "2000-01-01T02:10:10",
          "2000-01-01T02:10:10",
          "2000-01-01T02:10:10",
          "2000-01-01T02:10:10",
          "2000-01-01T02:10:11",
          "2000-01-01T02:10:11",
          "2000-01-01T02:10:13",
          "2000-01-01T02:10:14",
          "2000-01-01T02:10:14",
          "2000-01-01T02:10:14",
          "2000-01-01T02:10:14",
          "2000-01-01T02:10:14",
          "2000-01-01T02:10:15",
          "2000-01-01T02:10:16",
          "2000-01-01T02:10:17",
          "2000-01-01T02:10:18",
          "2000-01-01T02:10:19",
          "2000-01-01T02:10:20",
          "2000-01-01T02:10:20",
          "2000-01-01T02:10:22",
          "2000-01-01T02:10:23",
          "2000-01-01T02:10:24",
          "2000-01-01T02:10:24",
          "2000-01-01T02:10:25",
          "2000-01-01T02:10:26",
          "2000-01-01T02:10:26",
          "2000-01-01T02:10:28",
          "2000-01-01T02:10:29",
          "2000-01-01T02:10:31",
          "2000-01-01T02:10:31",
          "2000-01-01T02:10:32",
          "2000-01-01T02:10:33",
          "2000-01-01T02:10:34",
          "2000-01-01T02:10:34",
          "2000-01-01T02:10:36",
          "2000-01-01T02:10:40",
          "2000-01-01T02:10:41",
          "2000-01-01T02:10:43",
          "2000-01-01T02:10:43",
          "2000-01-01T02:10:43",
          "2000-01-01T02:10:44",
          "2000-01-01T02:10:45",
          "2000-01-01T02:10:46",
          "2000-01-01T02:10:46",
          "2000-01-01T02:10:47",
          "2000-01-01T02:10:47",
          "2000-01-01T02:10:48",
          "2000-01-01T02:10:48",
          "2000-01-01T02:10:49",
          "2000-01-01T02:10:50",
          "2000-01-01T02:10:50",
          "2000-01-01T02:10:50",
          "2000-01-01T02:10:51",
          "2000-01-01T02:10:52",
          "2000-01-01T02:10:52",
          "2000-01-01T02:10:53",
          "2000-01-01T02:10:54",
          "2000-01-01T02:10:55",
          "2000-01-01T02:10:57",
          "2000-01-01T02:10:57",
          "2000-01-01T02:10:57",
          "2000-01-01T02:10:58",
          "2000-01-01T02:10:58",
          "2000-01-01T02:10:58",
          "2000-01-01T02:11:00",
          "2000-01-01T02:11:00",
          "2000-01-01T02:11:00",
          "2000-01-01T02:11:02",
          "2000-01-01T02:11:07",
          "2000-01-01T02:11:07",
          "2000-01-01T02:11:07",
          "2000-01-01T02:11:08",
          "2000-01-01T02:11:12",
          "2000-01-01T02:11:12",
          "2000-01-01T02:11:14",
          "2000-01-01T02:11:15",
          "2000-01-01T02:11:15",
          "2000-01-01T02:11:16",
          "2000-01-01T02:11:16",
          "2000-01-01T02:11:18",
          "2000-01-01T02:11:18",
          "2000-01-01T02:11:18",
          "2000-01-01T02:11:19",
          "2000-01-01T02:11:23",
          "2000-01-01T02:11:23",
          "2000-01-01T02:11:24",
          "2000-01-01T02:11:24",
          "2000-01-01T02:11:25",
          "2000-01-01T02:11:25",
          "2000-01-01T02:11:25",
          "2000-01-01T02:11:25",
          "2000-01-01T02:11:25",
          "2000-01-01T02:11:26",
          "2000-01-01T02:11:27",
          "2000-01-01T02:11:29",
          "2000-01-01T02:11:30",
          "2000-01-01T02:11:30",
          "2000-01-01T02:11:30",
          "2000-01-01T02:11:32",
          "2000-01-01T02:11:33",
          "2000-01-01T02:11:34",
          "2000-01-01T02:11:35",
          "2000-01-01T02:11:36",
          "2000-01-01T02:11:37",
          "2000-01-01T02:11:38",
          "2000-01-01T02:11:38",
          "2000-01-01T02:11:39",
          "2000-01-01T02:11:39",
          "2000-01-01T02:11:39",
          "2000-01-01T02:11:39",
          "2000-01-01T02:11:41",
          "2000-01-01T02:11:43",
          "2000-01-01T02:11:48",
          "2000-01-01T02:11:49",
          "2000-01-01T02:11:51",
          "2000-01-01T02:11:53",
          "2000-01-01T02:11:54",
          "2000-01-01T02:11:54",
          "2000-01-01T02:11:54",
          "2000-01-01T02:11:55",
          "2000-01-01T02:11:55",
          "2000-01-01T02:11:56",
          "2000-01-01T02:11:56",
          "2000-01-01T02:11:56",
          "2000-01-01T02:11:57",
          "2000-01-01T02:11:57",
          "2000-01-01T02:11:57",
          "2000-01-01T02:11:58",
          "2000-01-01T02:11:58",
          "2000-01-01T02:11:58",
          "2000-01-01T02:11:59",
          "2000-01-01T02:11:59",
          "2000-01-01T02:12:01",
          "2000-01-01T02:12:01",
          "2000-01-01T02:12:01",
          "2000-01-01T02:12:02",
          "2000-01-01T02:12:02",
          "2000-01-01T02:12:03",
          "2000-01-01T02:12:07",
          "2000-01-01T02:12:07",
          "2000-01-01T02:12:07",
          "2000-01-01T02:12:08",
          "2000-01-01T02:12:08",
          "2000-01-01T02:12:08",
          "2000-01-01T02:12:10",
          "2000-01-01T02:12:10",
          "2000-01-01T02:12:11",
          "2000-01-01T02:12:11",
          "2000-01-01T02:12:11",
          "2000-01-01T02:12:12",
          "2000-01-01T02:12:12",
          "2000-01-01T02:12:12",
          "2000-01-01T02:12:13",
          "2000-01-01T02:12:13",
          "2000-01-01T02:12:15",
          "2000-01-01T02:12:16",
          "2000-01-01T02:12:17",
          "2000-01-01T02:12:17",
          "2000-01-01T02:12:17",
          "2000-01-01T02:12:18",
          "2000-01-01T02:12:18",
          "2000-01-01T02:12:20",
          "2000-01-01T02:12:20",
          "2000-01-01T02:12:20",
          "2000-01-01T02:12:26",
          "2000-01-01T02:12:26",
          "2000-01-01T02:12:27",
          "2000-01-01T02:12:27",
          "2000-01-01T02:12:27",
          "2000-01-01T02:12:27",
          "2000-01-01T02:12:28",
          "2000-01-01T02:12:28",
          "2000-01-01T02:12:29",
          "2000-01-01T02:12:31",
          "2000-01-01T02:12:32",
          "2000-01-01T02:12:33",
          "2000-01-01T02:12:33",
          "2000-01-01T02:12:33",
          "2000-01-01T02:12:34",
          "2000-01-01T02:12:34",
          "2000-01-01T02:12:35",
          "2000-01-01T02:12:35",
          "2000-01-01T02:12:36",
          "2000-01-01T02:12:39",
          "2000-01-01T02:12:40",
          "2000-01-01T02:12:44",
          "2000-01-01T02:12:44",
          "2000-01-01T02:12:45",
          "2000-01-01T02:12:45",
          "2000-01-01T02:12:46",
          "2000-01-01T02:12:47",
          "2000-01-01T02:12:47",
          "2000-01-01T02:12:47",
          "2000-01-01T02:12:49",
          "2000-01-01T02:12:49",
          "2000-01-01T02:12:50",
          "2000-01-01T02:12:50",
          "2000-01-01T02:12:51",
          "2000-01-01T02:12:51",
          "2000-01-01T02:12:53",
          "2000-01-01T02:12:56",
          "2000-01-01T02:12:57",
          "2000-01-01T02:12:58",
          "2000-01-01T02:12:58",
          "2000-01-01T02:12:58",
          "2000-01-01T02:12:59",
          "2000-01-01T02:12:59",
          "2000-01-01T02:12:59",
          "2000-01-01T02:13:00",
          "2000-01-01T02:13:00",
          "2000-01-01T02:13:00",
          "2000-01-01T02:13:00",
          "2000-01-01T02:13:01",
          "2000-01-01T02:13:02",
          "2000-01-01T02:13:02",
          "2000-01-01T02:13:02",
          "2000-01-01T02:13:03",
          "2000-01-01T02:13:05",
          "2000-01-01T02:13:06",
          "2000-01-01T02:13:06",
          "2000-01-01T02:13:08",
          "2000-01-01T02:13:08",
          "2000-01-01T02:13:09",
          "2000-01-01T02:13:15",
          "2000-01-01T02:13:15",
          "2000-01-01T02:13:16",
          "2000-01-01T02:13:19",
          "2000-01-01T02:13:20",
          "2000-01-01T02:13:20",
          "2000-01-01T02:13:21",
          "2000-01-01T02:13:22",
          "2000-01-01T02:13:22",
          "2000-01-01T02:13:23",
          "2000-01-01T02:13:24",
          "2000-01-01T02:13:27",
          "2000-01-01T02:13:28",
          "2000-01-01T02:13:31",
          "2000-01-01T02:13:32",
          "2000-01-01T02:13:33",
          "2000-01-01T02:13:33",
          "2000-01-01T02:13:35",
          "2000-01-01T02:13:38",
          "2000-01-01T02:13:39",
          "2000-01-01T02:13:41",
          "2000-01-01T02:13:42",
          "2000-01-01T02:13:42",
          "2000-01-01T02:13:43",
          "2000-01-01T02:13:43",
          "2000-01-01T02:13:46",
          "2000-01-01T02:13:46",
          "2000-01-01T02:13:46",
          "2000-01-01T02:13:46",
          "2000-01-01T02:13:47",
          "2000-01-01T02:13:48",
          "2000-01-01T02:13:48",
          "2000-01-01T02:13:48",
          "2000-01-01T02:13:48",
          "2000-01-01T02:13:51",
          "2000-01-01T02:13:52",
          "2000-01-01T02:13:53",
          "2000-01-01T02:13:55",
          "2000-01-01T02:13:55",
          "2000-01-01T02:13:55",
          "2000-01-01T02:13:55",
          "2000-01-01T02:13:55",
          "2000-01-01T02:13:56",
          "2000-01-01T02:13:56",
          "2000-01-01T02:14:00",
          "2000-01-01T02:14:00",
          "2000-01-01T02:14:00",
          "2000-01-01T02:14:00",
          "2000-01-01T02:14:02",
          "2000-01-01T02:14:03",
          "2000-01-01T02:14:04",
          "2000-01-01T02:14:04",
          "2000-01-01T02:14:05",
          "2000-01-01T02:14:06",
          "2000-01-01T02:14:06",
          "2000-01-01T02:14:08",
          "2000-01-01T02:14:08",
          "2000-01-01T02:14:08",
          "2000-01-01T02:14:10",
          "2000-01-01T02:14:12",
          "2000-01-01T02:14:12",
          "2000-01-01T02:14:14",
          "2000-01-01T02:14:15",
          "2000-01-01T02:14:16",
          "2000-01-01T02:14:22",
          "2000-01-01T02:14:25",
          "2000-01-01T02:14:28",
          "2000-01-01T02:14:28",
          "2000-01-01T02:14:29",
          "2000-01-01T02:14:31",
          "2000-01-01T02:14:33",
          "2000-01-01T02:14:34",
          "2000-01-01T02:14:35",
          "2000-01-01T02:14:36",
          "2000-01-01T02:14:37",
          "2000-01-01T02:14:40",
          "2000-01-01T02:14:43",
          "2000-01-01T02:14:44",
          "2000-01-01T02:14:44",
          "2000-01-01T02:14:44",
          "2000-01-01T02:14:44",
          "2000-01-01T02:14:45",
          "2000-01-01T02:14:45",
          "2000-01-01T02:14:46",
          "2000-01-01T02:14:46",
          "2000-01-01T02:14:47",
          "2000-01-01T02:14:48",
          "2000-01-01T02:14:48",
          "2000-01-01T02:14:48",
          "2000-01-01T02:14:51",
          "2000-01-01T02:14:53",
          "2000-01-01T02:14:58",
          "2000-01-01T02:14:58",
          "2000-01-01T02:14:59",
          "2000-01-01T02:14:59",
          "2000-01-01T02:15:00",
          "2000-01-01T02:15:00",
          "2000-01-01T02:15:01",
          "2000-01-01T02:15:04",
          "2000-01-01T02:15:06",
          "2000-01-01T02:15:07",
          "2000-01-01T02:15:08",
          "2000-01-01T02:15:08",
          "2000-01-01T02:15:09",
          "2000-01-01T02:15:09",
          "2000-01-01T02:15:10",
          "2000-01-01T02:15:13",
          "2000-01-01T02:15:13",
          "2000-01-01T02:15:16",
          "2000-01-01T02:15:16",
          "2000-01-01T02:15:18",
          "2000-01-01T02:15:21",
          "2000-01-01T02:15:22",
          "2000-01-01T02:15:22",
          "2000-01-01T02:15:24",
          "2000-01-01T02:15:24",
          "2000-01-01T02:15:26",
          "2000-01-01T02:15:27",
          "2000-01-01T02:15:28",
          "2000-01-01T02:15:28",
          "2000-01-01T02:15:29",
          "2000-01-01T02:15:29",
          "2000-01-01T02:15:29",
          "2000-01-01T02:15:30",
          "2000-01-01T02:15:30",
          "2000-01-01T02:15:31",
          "2000-01-01T02:15:31",
          "2000-01-01T02:15:35",
          "2000-01-01T02:15:40",
          "2000-01-01T02:15:40",
          "2000-01-01T02:15:42",
          "2000-01-01T02:15:43",
          "2000-01-01T02:15:46",
          "2000-01-01T02:15:47",
          "2000-01-01T02:15:48",
          "2000-01-01T02:15:48",
          "2000-01-01T02:15:49",
          "2000-01-01T02:15:49",
          "2000-01-01T02:15:52",
          "2000-01-01T02:15:53",
          "2000-01-01T02:15:54",
          "2000-01-01T02:15:55",
          "2000-01-01T02:15:57",
          "2000-01-01T02:15:57",
          "2000-01-01T02:15:57",
          "2000-01-01T02:15:57",
          "2000-01-01T02:15:58",
          "2000-01-01T02:15:59",
          "2000-01-01T02:16:00",
          "2000-01-01T02:16:01",
          "2000-01-01T02:16:01",
          "2000-01-01T02:16:02",
          "2000-01-01T02:16:03",
          "2000-01-01T02:16:03",
          "2000-01-01T02:16:03",
          "2000-01-01T02:16:03",
          "2000-01-01T02:16:03",
          "2000-01-01T02:16:07",
          "2000-01-01T02:16:07",
          "2000-01-01T02:16:08",
          "2000-01-01T02:16:10",
          "2000-01-01T02:16:10",
          "2000-01-01T02:16:10",
          "2000-01-01T02:16:11",
          "2000-01-01T02:16:12",
          "2000-01-01T02:16:13",
          "2000-01-01T02:16:15",
          "2000-01-01T02:16:15",
          "2000-01-01T02:16:15",
          "2000-01-01T02:16:17",
          "2000-01-01T02:16:18",
          "2000-01-01T02:16:19",
          "2000-01-01T02:16:19",
          "2000-01-01T02:16:19",
          "2000-01-01T02:16:21",
          "2000-01-01T02:16:21",
          "2000-01-01T02:16:22",
          "2000-01-01T02:16:22",
          "2000-01-01T02:16:24",
          "2000-01-01T02:16:25",
          "2000-01-01T02:16:25",
          "2000-01-01T02:16:26",
          "2000-01-01T02:16:26",
          "2000-01-01T02:16:27",
          "2000-01-01T02:16:27",
          "2000-01-01T02:16:27",
          "2000-01-01T02:16:27",
          "2000-01-01T02:16:28",
          "2000-01-01T02:16:29",
          "2000-01-01T02:16:29",
          "2000-01-01T02:16:29",
          "2000-01-01T02:16:29",
          "2000-01-01T02:16:30",
          "2000-01-01T02:16:30",
          "2000-01-01T02:16:31",
          "2000-01-01T02:16:31",
          "2000-01-01T02:16:33",
          "2000-01-01T02:16:33",
          "2000-01-01T02:16:35",
          "2000-01-01T02:16:36",
          "2000-01-01T02:16:38",
          "2000-01-01T02:16:38",
          "2000-01-01T02:16:39",
          "2000-01-01T02:16:40",
          "2000-01-01T02:16:43",
          "2000-01-01T02:16:43",
          "2000-01-01T02:16:44",
          "2000-01-01T02:16:45",
          "2000-01-01T02:16:47",
          "2000-01-01T02:16:49",
          "2000-01-01T02:16:50",
          "2000-01-01T02:16:51",
          "2000-01-01T02:16:51",
          "2000-01-01T02:16:51",
          "2000-01-01T02:16:52",
          "2000-01-01T02:16:52",
          "2000-01-01T02:16:53",
          "2000-01-01T02:16:54",
          "2000-01-01T02:16:55",
          "2000-01-01T02:16:55",
          "2000-01-01T02:16:56",
          "2000-01-01T02:17:00",
          "2000-01-01T02:17:00",
          "2000-01-01T02:17:01",
          "2000-01-01T02:17:01",
          "2000-01-01T02:17:01",
          "2000-01-01T02:17:02",
          "2000-01-01T02:17:03",
          "2000-01-01T02:17:07",
          "2000-01-01T02:17:10",
          "2000-01-01T02:17:10",
          "2000-01-01T02:17:12",
          "2000-01-01T02:17:12",
          "2000-01-01T02:17:15",
          "2000-01-01T02:17:16",
          "2000-01-01T02:17:16",
          "2000-01-01T02:17:18",
          "2000-01-01T02:17:19",
          "2000-01-01T02:17:20",
          "2000-01-01T02:17:23",
          "2000-01-01T02:17:24",
          "2000-01-01T02:17:24",
          "2000-01-01T02:17:24",
          "2000-01-01T02:17:24",
          "2000-01-01T02:17:25",
          "2000-01-01T02:17:26",
          "2000-01-01T02:17:27",
          "2000-01-01T02:17:28",
          "2000-01-01T02:17:28",
          "2000-01-01T02:17:30",
          "2000-01-01T02:17:31",
          "2000-01-01T02:17:31",
          "2000-01-01T02:17:33",
          "2000-01-01T02:17:33",
          "2000-01-01T02:17:33",
          "2000-01-01T02:17:35",
          "2000-01-01T02:17:35",
          "2000-01-01T02:17:37",
          "2000-01-01T02:17:38",
          "2000-01-01T02:17:38",
          "2000-01-01T02:17:39",
          "2000-01-01T02:17:40",
          "2000-01-01T02:17:44",
          "2000-01-01T02:17:45",
          "2000-01-01T02:17:45",
          "2000-01-01T02:17:45",
          "2000-01-01T02:17:45",
          "2000-01-01T02:17:46",
          "2000-01-01T02:17:46",
          "2000-01-01T02:17:47",
          "2000-01-01T02:17:48",
          "2000-01-01T02:17:48",
          "2000-01-01T02:17:50",
          "2000-01-01T02:17:54",
          "2000-01-01T02:17:55",
          "2000-01-01T02:17:55",
          "2000-01-01T02:17:57",
          "2000-01-01T02:17:58",
          "2000-01-01T02:18:00",
          "2000-01-01T02:18:02",
          "2000-01-01T02:18:04",
          "2000-01-01T02:18:05",
          "2000-01-01T02:18:08",
          "2000-01-01T02:18:08",
          "2000-01-01T02:18:09",
          "2000-01-01T02:18:10",
          "2000-01-01T02:18:11",
          "2000-01-01T02:18:12",
          "2000-01-01T02:18:13",
          "2000-01-01T02:18:14",
          "2000-01-01T02:18:15",
          "2000-01-01T02:18:16",
          "2000-01-01T02:18:19",
          "2000-01-01T02:18:20",
          "2000-01-01T02:18:21",
          "2000-01-01T02:18:22",
          "2000-01-01T02:18:22",
          "2000-01-01T02:18:23",
          "2000-01-01T02:18:24",
          "2000-01-01T02:18:24",
          "2000-01-01T02:18:26",
          "2000-01-01T02:18:27",
          "2000-01-01T02:18:27",
          "2000-01-01T02:18:30",
          "2000-01-01T02:18:30",
          "2000-01-01T02:18:31",
          "2000-01-01T02:18:33",
          "2000-01-01T02:18:34",
          "2000-01-01T02:18:36",
          "2000-01-01T02:18:36",
          "2000-01-01T02:18:37",
          "2000-01-01T02:18:37",
          "2000-01-01T02:18:40",
          "2000-01-01T02:18:41",
          "2000-01-01T02:18:41",
          "2000-01-01T02:18:41",
          "2000-01-01T02:18:42",
          "2000-01-01T02:18:45",
          "2000-01-01T02:18:46",
          "2000-01-01T02:18:47",
          "2000-01-01T02:18:47",
          "2000-01-01T02:18:49",
          "2000-01-01T02:18:52",
          "2000-01-01T02:18:52",
          "2000-01-01T02:18:52",
          "2000-01-01T02:18:58",
          "2000-01-01T02:18:59",
          "2000-01-01T02:18:59",
          "2000-01-01T02:18:59",
          "2000-01-01T02:19:00",
          "2000-01-01T02:19:01",
          "2000-01-01T02:19:03",
          "2000-01-01T02:19:04",
          "2000-01-01T02:19:04",
          "2000-01-01T02:19:06",
          "2000-01-01T02:19:07",
          "2000-01-01T02:19:08",
          "2000-01-01T02:19:08",
          "2000-01-01T02:19:13",
          "2000-01-01T02:19:16",
          "2000-01-01T02:19:16",
          "2000-01-01T02:19:16",
          "2000-01-01T02:19:16",
          "2000-01-01T02:19:17",
          "2000-01-01T02:19:17",
          "2000-01-01T02:19:18",
          "2000-01-01T02:19:24",
          "2000-01-01T02:19:24",
          "2000-01-01T02:19:27",
          "2000-01-01T02:19:28",
          "2000-01-01T02:19:29",
          "2000-01-01T02:19:29",
          "2000-01-01T02:19:29",
          "2000-01-01T02:19:29",
          "2000-01-01T02:19:29",
          "2000-01-01T02:19:29",
          "2000-01-01T02:19:30",
          "2000-01-01T02:19:30",
          "2000-01-01T02:19:30",
          "2000-01-01T02:19:34",
          "2000-01-01T02:19:35",
          "2000-01-01T02:19:35",
          "2000-01-01T02:19:35",
          "2000-01-01T02:19:36",
          "2000-01-01T02:19:36",
          "2000-01-01T02:19:37",
          "2000-01-01T02:19:39",
          "2000-01-01T02:19:40",
          "2000-01-01T02:19:41",
          "2000-01-01T02:19:46",
          "2000-01-01T02:19:47",
          "2000-01-01T02:19:48",
          "2000-01-01T02:19:51",
          "2000-01-01T02:19:51",
          "2000-01-01T02:19:52",
          "2000-01-01T02:19:52",
          "2000-01-01T02:19:53",
          "2000-01-01T02:19:54",
          "2000-01-01T02:19:55",
          "2000-01-01T02:19:55",
          "2000-01-01T02:19:57",
          "2000-01-01T02:19:58",
          "2000-01-01T02:19:59",
          "2000-01-01T02:20:00",
          "2000-01-01T02:20:03",
          "2000-01-01T02:20:04",
          "2000-01-01T02:20:05",
          "2000-01-01T02:20:05",
          "2000-01-01T02:20:05",
          "2000-01-01T02:20:06",
          "2000-01-01T02:20:06",
          "2000-01-01T02:20:07",
          "2000-01-01T02:20:13",
          "2000-01-01T02:20:16",
          "2000-01-01T02:20:16",
          "2000-01-01T02:20:17",
          "2000-01-01T02:20:17",
          "2000-01-01T02:20:18",
          "2000-01-01T02:20:19",
          "2000-01-01T02:20:20",
          "2000-01-01T02:20:20",
          "2000-01-01T02:20:20",
          "2000-01-01T02:20:21",
          "2000-01-01T02:20:22",
          "2000-01-01T02:20:24",
          "2000-01-01T02:20:25",
          "2000-01-01T02:20:25",
          "2000-01-01T02:20:27",
          "2000-01-01T02:20:27",
          "2000-01-01T02:20:27",
          "2000-01-01T02:20:28",
          "2000-01-01T02:20:28",
          "2000-01-01T02:20:28",
          "2000-01-01T02:20:31",
          "2000-01-01T02:20:34",
          "2000-01-01T02:20:35",
          "2000-01-01T02:20:35",
          "2000-01-01T02:20:35",
          "2000-01-01T02:20:35",
          "2000-01-01T02:20:36",
          "2000-01-01T02:20:36",
          "2000-01-01T02:20:36",
          "2000-01-01T02:20:37",
          "2000-01-01T02:20:41",
          "2000-01-01T02:20:42",
          "2000-01-01T02:20:45",
          "2000-01-01T02:20:46",
          "2000-01-01T02:20:47",
          "2000-01-01T02:20:49",
          "2000-01-01T02:20:53",
          "2000-01-01T02:20:54",
          "2000-01-01T02:20:55",
          "2000-01-01T02:20:57",
          "2000-01-01T02:20:58",
          "2000-01-01T02:20:58",
          "2000-01-01T02:20:59",
          "2000-01-01T02:21:01",
          "2000-01-01T02:21:01",
          "2000-01-01T02:21:01",
          "2000-01-01T02:21:02",
          "2000-01-01T02:21:03",
          "2000-01-01T02:21:07",
          "2000-01-01T02:21:07",
          "2000-01-01T02:21:07",
          "2000-01-01T02:21:09",
          "2000-01-01T02:21:13",
          "2000-01-01T02:21:14",
          "2000-01-01T02:21:16",
          "2000-01-01T02:21:16",
          "2000-01-01T02:21:18",
          "2000-01-01T02:21:19",
          "2000-01-01T02:21:21",
          "2000-01-01T02:21:23",
          "2000-01-01T02:21:25",
          "2000-01-01T02:21:33",
          "2000-01-01T02:21:33",
          "2000-01-01T02:21:34",
          "2000-01-01T02:21:35",
          "2000-01-01T02:21:35",
          "2000-01-01T02:21:35",
          "2000-01-01T02:21:40",
          "2000-01-01T02:21:42",
          "2000-01-01T02:21:42",
          "2000-01-01T02:21:45",
          "2000-01-01T02:21:46",
          "2000-01-01T02:21:47",
          "2000-01-01T02:21:48",
          "2000-01-01T02:21:51",
          "2000-01-01T02:21:51",
          "2000-01-01T02:21:53",
          "2000-01-01T02:21:53",
          "2000-01-01T02:21:53",
          "2000-01-01T02:21:53",
          "2000-01-01T02:21:56",
          "2000-01-01T02:21:56",
          "2000-01-01T02:21:56",
          "2000-01-01T02:21:58",
          "2000-01-01T02:21:58",
          "2000-01-01T02:21:59",
          "2000-01-01T02:22:05",
          "2000-01-01T02:22:07",
          "2000-01-01T02:22:09",
          "2000-01-01T02:22:10",
          "2000-01-01T02:22:14",
          "2000-01-01T02:22:15",
          "2000-01-01T02:22:16",
          "2000-01-01T02:22:16",
          "2000-01-01T02:22:16",
          "2000-01-01T02:22:16",
          "2000-01-01T02:22:16",
          "2000-01-01T02:22:19",
          "2000-01-01T02:22:20",
          "2000-01-01T02:22:22",
          "2000-01-01T02:22:22",
          "2000-01-01T02:22:22",
          "2000-01-01T02:22:24",
          "2000-01-01T02:22:24",
          "2000-01-01T02:22:26",
          "2000-01-01T02:22:27",
          "2000-01-01T02:22:28",
          "2000-01-01T02:22:29",
          "2000-01-01T02:22:29",
          "2000-01-01T02:22:31",
          "2000-01-01T02:22:33",
          "2000-01-01T02:22:37",
          "2000-01-01T02:22:39",
          "2000-01-01T02:22:40",
          "2000-01-01T02:22:42",
          "2000-01-01T02:22:43",
          "2000-01-01T02:22:44",
          "2000-01-01T02:22:45",
          "2000-01-01T02:22:49",
          "2000-01-01T02:22:50",
          "2000-01-01T02:22:51",
          "2000-01-01T02:22:55",
          "2000-01-01T02:22:56",
          "2000-01-01T02:22:57",
          "2000-01-01T02:22:57",
          "2000-01-01T02:22:59",
          "2000-01-01T02:22:59",
          "2000-01-01T02:23:00",
          "2000-01-01T02:23:04",
          "2000-01-01T02:23:07",
          "2000-01-01T02:23:08",
          "2000-01-01T02:23:09",
          "2000-01-01T02:23:09",
          "2000-01-01T02:23:10",
          "2000-01-01T02:23:10",
          "2000-01-01T02:23:15",
          "2000-01-01T02:23:16",
          "2000-01-01T02:23:19",
          "2000-01-01T02:23:20",
          "2000-01-01T02:23:21",
          "2000-01-01T02:23:25",
          "2000-01-01T02:23:27",
          "2000-01-01T02:23:29",
          "2000-01-01T02:23:38",
          "2000-01-01T02:23:38",
          "2000-01-01T02:23:43",
          "2000-01-01T02:23:44",
          "2000-01-01T02:23:45",
          "2000-01-01T02:23:46",
          "2000-01-01T02:23:48",
          "2000-01-01T02:23:49",
          "2000-01-01T02:23:51",
          "2000-01-01T02:23:52",
          "2000-01-01T02:23:54",
          "2000-01-01T02:23:55",
          "2000-01-01T02:23:56",
          "2000-01-01T02:23:57",
          "2000-01-01T02:24:01",
          "2000-01-01T02:24:02",
          "2000-01-01T02:24:03",
          "2000-01-01T02:24:09",
          "2000-01-01T02:24:09",
          "2000-01-01T02:24:10",
          "2000-01-01T02:24:11",
          "2000-01-01T02:24:12",
          "2000-01-01T02:24:12",
          "2000-01-01T02:24:13",
          "2000-01-01T02:24:14",
          "2000-01-01T02:24:14",
          "2000-01-01T02:24:15",
          "2000-01-01T02:24:16",
          "2000-01-01T02:24:18",
          "2000-01-01T02:24:19",
          "2000-01-01T02:24:21",
          "2000-01-01T02:24:22",
          "2000-01-01T02:24:22",
          "2000-01-01T02:24:24",
          "2000-01-01T02:24:27",
          "2000-01-01T02:24:28",
          "2000-01-01T02:24:28",
          "2000-01-01T02:24:32",
          "2000-01-01T02:24:33",
          "2000-01-01T02:24:35",
          "2000-01-01T02:24:36",
          "2000-01-01T02:24:36",
          "2000-01-01T02:24:36",
          "2000-01-01T02:24:37",
          "2000-01-01T02:24:38",
          "2000-01-01T02:24:38",
          "2000-01-01T02:24:39",
          "2000-01-01T02:24:40",
          "2000-01-01T02:24:41",
          "2000-01-01T02:24:41",
          "2000-01-01T02:24:44",
          "2000-01-01T02:24:45",
          "2000-01-01T02:24:48",
          "2000-01-01T02:24:48",
          "2000-01-01T02:24:48",
          "2000-01-01T02:24:49",
          "2000-01-01T02:24:54",
          "2000-01-01T02:24:54",
          "2000-01-01T02:24:55",
          "2000-01-01T02:24:55",
          "2000-01-01T02:24:56",
          "2000-01-01T02:24:57",
          "2000-01-01T02:24:59",
          "2000-01-01T02:24:59",
          "2000-01-01T02:25:01",
          "2000-01-01T02:25:01",
          "2000-01-01T02:25:02",
          "2000-01-01T02:25:05",
          "2000-01-01T02:25:06",
          "2000-01-01T02:25:06",
          "2000-01-01T02:25:08",
          "2000-01-01T02:25:10",
          "2000-01-01T02:25:11",
          "2000-01-01T02:25:11",
          "2000-01-01T02:25:13",
          "2000-01-01T02:25:14",
          "2000-01-01T02:25:16",
          "2000-01-01T02:25:18",
          "2000-01-01T02:25:19",
          "2000-01-01T02:25:20",
          "2000-01-01T02:25:22",
          "2000-01-01T02:25:24",
          "2000-01-01T02:25:26",
          "2000-01-01T02:25:26",
          "2000-01-01T02:25:27",
          "2000-01-01T02:25:27",
          "2000-01-01T02:25:27",
          "2000-01-01T02:25:27",
          "2000-01-01T02:25:28",
          "2000-01-01T02:25:30",
          "2000-01-01T02:25:31",
          "2000-01-01T02:25:33",
          "2000-01-01T02:25:34",
          "2000-01-01T02:25:39",
          "2000-01-01T02:25:41",
          "2000-01-01T02:25:42",
          "2000-01-01T02:25:42",
          "2000-01-01T02:25:44",
          "2000-01-01T02:25:46",
          "2000-01-01T02:25:53",
          "2000-01-01T02:25:55",
          "2000-01-01T02:25:58",
          "2000-01-01T02:25:58",
          "2000-01-01T02:25:59",
          "2000-01-01T02:25:59",
          "2000-01-01T02:26:06",
          "2000-01-01T02:26:09",
          "2000-01-01T02:26:12",
          "2000-01-01T02:26:13",
          "2000-01-01T02:26:13",
          "2000-01-01T02:26:15",
          "2000-01-01T02:26:17",
          "2000-01-01T02:26:21",
          "2000-01-01T02:26:21",
          "2000-01-01T02:26:25",
          "2000-01-01T02:26:29",
          "2000-01-01T02:26:29",
          "2000-01-01T02:26:31",
          "2000-01-01T02:26:32",
          "2000-01-01T02:26:32",
          "2000-01-01T02:26:34",
          "2000-01-01T02:26:37",
          "2000-01-01T02:26:37",
          "2000-01-01T02:26:37",
          "2000-01-01T02:26:38",
          "2000-01-01T02:26:38",
          "2000-01-01T02:26:39",
          "2000-01-01T02:26:40",
          "2000-01-01T02:26:40",
          "2000-01-01T02:26:43",
          "2000-01-01T02:26:50",
          "2000-01-01T02:26:55",
          "2000-01-01T02:26:55",
          "2000-01-01T02:26:55",
          "2000-01-01T02:26:55",
          "2000-01-01T02:26:59",
          "2000-01-01T02:27:01",
          "2000-01-01T02:27:01",
          "2000-01-01T02:27:03",
          "2000-01-01T02:27:03",
          "2000-01-01T02:27:03",
          "2000-01-01T02:27:06",
          "2000-01-01T02:27:07",
          "2000-01-01T02:27:09",
          "2000-01-01T02:27:10",
          "2000-01-01T02:27:16",
          "2000-01-01T02:27:16",
          "2000-01-01T02:27:16",
          "2000-01-01T02:27:19",
          "2000-01-01T02:27:19",
          "2000-01-01T02:27:19",
          "2000-01-01T02:27:22",
          "2000-01-01T02:27:23",
          "2000-01-01T02:27:24",
          "2000-01-01T02:27:28",
          "2000-01-01T02:27:29",
          "2000-01-01T02:27:29",
          "2000-01-01T02:27:34",
          "2000-01-01T02:27:35",
          "2000-01-01T02:27:37",
          "2000-01-01T02:27:38",
          "2000-01-01T02:27:43",
          "2000-01-01T02:27:44",
          "2000-01-01T02:27:44",
          "2000-01-01T02:27:45",
          "2000-01-01T02:27:45",
          "2000-01-01T02:27:46",
          "2000-01-01T02:27:47",
          "2000-01-01T02:27:50",
          "2000-01-01T02:27:51",
          "2000-01-01T02:27:52",
          "2000-01-01T02:27:54",
          "2000-01-01T02:27:58",
          "2000-01-01T02:28:00",
          "2000-01-01T02:28:00",
          "2000-01-01T02:28:03",
          "2000-01-01T02:28:08",
          "2000-01-01T02:28:13",
          "2000-01-01T02:28:13",
          "2000-01-01T02:28:13",
          "2000-01-01T02:28:19",
          "2000-01-01T02:28:19",
          "2000-01-01T02:28:20",
          "2000-01-01T02:28:22",
          "2000-01-01T02:28:22",
          "2000-01-01T02:28:23",
          "2000-01-01T02:28:24",
          "2000-01-01T02:28:24",
          "2000-01-01T02:28:25",
          "2000-01-01T02:28:26",
          "2000-01-01T02:28:29",
          "2000-01-01T02:28:34",
          "2000-01-01T02:28:34",
          "2000-01-01T02:28:36",
          "2000-01-01T02:28:36",
          "2000-01-01T02:28:36",
          "2000-01-01T02:28:37",
          "2000-01-01T02:28:37",
          "2000-01-01T02:28:42",
          "2000-01-01T02:28:44",
          "2000-01-01T02:28:47",
          "2000-01-01T02:28:47",
          "2000-01-01T02:28:47",
          "2000-01-01T02:28:47",
          "2000-01-01T02:28:48",
          "2000-01-01T02:28:49",
          "2000-01-01T02:28:51",
          "2000-01-01T02:28:52",
          "2000-01-01T02:28:57",
          "2000-01-01T02:28:57",
          "2000-01-01T02:28:57",
          "2000-01-01T02:28:59",
          "2000-01-01T02:29:00",
          "2000-01-01T02:29:04",
          "2000-01-01T02:29:04",
          "2000-01-01T02:29:05",
          "2000-01-01T02:29:06",
          "2000-01-01T02:29:06",
          "2000-01-01T02:29:06",
          "2000-01-01T02:29:10",
          "2000-01-01T02:29:11",
          "2000-01-01T02:29:12",
          "2000-01-01T02:29:15",
          "2000-01-01T02:29:16",
          "2000-01-01T02:29:18",
          "2000-01-01T02:29:18",
          "2000-01-01T02:29:27",
          "2000-01-01T02:29:30",
          "2000-01-01T02:29:30",
          "2000-01-01T02:29:31",
          "2000-01-01T02:29:40",
          "2000-01-01T02:29:41",
          "2000-01-01T02:29:43",
          "2000-01-01T02:29:44",
          "2000-01-01T02:29:45",
          "2000-01-01T02:29:49",
          "2000-01-01T02:29:56",
          "2000-01-01T02:29:58",
          "2000-01-01T02:29:59",
          "2000-01-01T02:30:03",
          "2000-01-01T02:30:03",
          "2000-01-01T02:30:04",
          "2000-01-01T02:30:05",
          "2000-01-01T02:30:06",
          "2000-01-01T02:30:07",
          "2000-01-01T02:30:07",
          "2000-01-01T02:30:12",
          "2000-01-01T02:30:18",
          "2000-01-01T02:30:20",
          "2000-01-01T02:30:30",
          "2000-01-01T02:30:32",
          "2000-01-01T02:30:32",
          "2000-01-01T02:30:34",
          "2000-01-01T02:30:37",
          "2000-01-01T02:30:37",
          "2000-01-01T02:30:41",
          "2000-01-01T02:30:42",
          "2000-01-01T02:30:45",
          "2000-01-01T02:30:46",
          "2000-01-01T02:30:50",
          "2000-01-01T02:30:50",
          "2000-01-01T02:30:51",
          "2000-01-01T02:30:52",
          "2000-01-01T02:31:00",
          "2000-01-01T02:31:02",
          "2000-01-01T02:31:03",
          "2000-01-01T02:31:04",
          "2000-01-01T02:31:09",
          "2000-01-01T02:31:13",
          "2000-01-01T02:31:15",
          "2000-01-01T02:31:22",
          "2000-01-01T02:31:25",
          "2000-01-01T02:31:25",
          "2000-01-01T02:31:26",
          "2000-01-01T02:31:29",
          "2000-01-01T02:31:30",
          "2000-01-01T02:31:30",
          "2000-01-01T02:31:31",
          "2000-01-01T02:31:34",
          "2000-01-01T02:31:38",
          "2000-01-01T02:31:38",
          "2000-01-01T02:31:39",
          "2000-01-01T02:31:40",
          "2000-01-01T02:31:53",
          "2000-01-01T02:31:59",
          "2000-01-01T02:32:00",
          "2000-01-01T02:32:03",
          "2000-01-01T02:32:04",
          "2000-01-01T02:32:07",
          "2000-01-01T02:32:09",
          "2000-01-01T02:32:11",
          "2000-01-01T02:32:12",
          "2000-01-01T02:32:14",
          "2000-01-01T02:32:24",
          "2000-01-01T02:32:25",
          "2000-01-01T02:32:27",
          "2000-01-01T02:32:28",
          "2000-01-01T02:32:38",
          "2000-01-01T02:32:41",
          "2000-01-01T02:32:44",
          "2000-01-01T02:32:44",
          "2000-01-01T02:32:45",
          "2000-01-01T02:32:48",
          "2000-01-01T02:32:49",
          "2000-01-01T02:32:54",
          "2000-01-01T02:32:54",
          "2000-01-01T02:32:56",
          "2000-01-01T02:32:57",
          "2000-01-01T02:32:57",
          "2000-01-01T02:33:01",
          "2000-01-01T02:33:05",
          "2000-01-01T02:33:05",
          "2000-01-01T02:33:15",
          "2000-01-01T02:33:15",
          "2000-01-01T02:33:18",
          "2000-01-01T02:33:19",
          "2000-01-01T02:33:19",
          "2000-01-01T02:33:20",
          "2000-01-01T02:33:21",
          "2000-01-01T02:33:25",
          "2000-01-01T02:33:26",
          "2000-01-01T02:33:26",
          "2000-01-01T02:33:31",
          "2000-01-01T02:33:34",
          "2000-01-01T02:33:35",
          "2000-01-01T02:33:40",
          "2000-01-01T02:33:43",
          "2000-01-01T02:33:43",
          "2000-01-01T02:33:45",
          "2000-01-01T02:33:50",
          "2000-01-01T02:33:52",
          "2000-01-01T02:33:56",
          "2000-01-01T02:34:01",
          "2000-01-01T02:34:01",
          "2000-01-01T02:34:02",
          "2000-01-01T02:34:02",
          "2000-01-01T02:34:05",
          "2000-01-01T02:34:06",
          "2000-01-01T02:34:12",
          "2000-01-01T02:34:15",
          "2000-01-01T02:34:16",
          "2000-01-01T02:34:21",
          "2000-01-01T02:34:26",
          "2000-01-01T02:34:30",
          "2000-01-01T02:34:31",
          "2000-01-01T02:34:38",
          "2000-01-01T02:34:43",
          "2000-01-01T02:34:50",
          "2000-01-01T02:34:51",
          "2000-01-01T02:34:54",
          "2000-01-01T02:34:55",
          "2000-01-01T02:34:55",
          "2000-01-01T02:34:56",
          "2000-01-01T02:35:00",
          "2000-01-01T02:35:00",
          "2000-01-01T02:35:03",
          "2000-01-01T02:35:05",
          "2000-01-01T02:35:10",
          "2000-01-01T02:35:14",
          "2000-01-01T02:35:14",
          "2000-01-01T02:35:14",
          "2000-01-01T02:35:16",
          "2000-01-01T02:35:16",
          "2000-01-01T02:35:19",
          "2000-01-01T02:35:22",
          "2000-01-01T02:35:26",
          "2000-01-01T02:35:27",
          "2000-01-01T02:35:31",
          "2000-01-01T02:35:34",
          "2000-01-01T02:35:36",
          "2000-01-01T02:35:37",
          "2000-01-01T02:35:38",
          "2000-01-01T02:35:41",
          "2000-01-01T02:35:42",
          "2000-01-01T02:35:42",
          "2000-01-01T02:35:50",
          "2000-01-01T02:35:51",
          "2000-01-01T02:35:56",
          "2000-01-01T02:35:57",
          "2000-01-01T02:35:57",
          "2000-01-01T02:36:04",
          "2000-01-01T02:36:12",
          "2000-01-01T02:36:13",
          "2000-01-01T02:36:13",
          "2000-01-01T02:36:23",
          "2000-01-01T02:36:24",
          "2000-01-01T02:36:27",
          "2000-01-01T02:36:31",
          "2000-01-01T02:36:31",
          "2000-01-01T02:36:34",
          "2000-01-01T02:36:34",
          "2000-01-01T02:36:41",
          "2000-01-01T02:36:44",
          "2000-01-01T02:36:44",
          "2000-01-01T02:36:44",
          "2000-01-01T02:36:45",
          "2000-01-01T02:36:47",
          "2000-01-01T02:36:49",
          "2000-01-01T02:36:50",
          "2000-01-01T02:37:01",
          "2000-01-01T02:37:01",
          "2000-01-01T02:37:16",
          "2000-01-01T02:37:21",
          "2000-01-01T02:37:25",
          "2000-01-01T02:37:31",
          "2000-01-01T02:37:32",
          "2000-01-01T02:37:33",
          "2000-01-01T02:37:37",
          "2000-01-01T02:37:47",
          "2000-01-01T02:37:48",
          "2000-01-01T02:37:50",
          "2000-01-01T02:37:50",
          "2000-01-01T02:37:50",
          "2000-01-01T02:37:57",
          "2000-01-01T02:37:59",
          "2000-01-01T02:38:00",
          "2000-01-01T02:38:01",
          "2000-01-01T02:38:01",
          "2000-01-01T02:38:05",
          "2000-01-01T02:38:09",
          "2000-01-01T02:38:17",
          "2000-01-01T02:38:20",
          "2000-01-01T02:38:21",
          "2000-01-01T02:38:21",
          "2000-01-01T02:38:22",
          "2000-01-01T02:38:24",
          "2000-01-01T02:38:41",
          "2000-01-01T02:38:41",
          "2000-01-01T02:38:55",
          "2000-01-01T02:39:01",
          "2000-01-01T02:39:03",
          "2000-01-01T02:39:04",
          "2000-01-01T02:39:08",
          "2000-01-01T02:39:15",
          "2000-01-01T02:39:24",
          "2000-01-01T02:39:25",
          "2000-01-01T02:39:29",
          "2000-01-01T02:39:30",
          "2000-01-01T02:39:32",
          "2000-01-01T02:39:33",
          "2000-01-01T02:39:34",
          "2000-01-01T02:39:40",
          "2000-01-01T02:39:43",
          "2000-01-01T02:39:47",
          "2000-01-01T02:39:51",
          "2000-01-01T02:39:54",
          "2000-01-01T02:39:58",
          "2000-01-01T02:40:01",
          "2000-01-01T02:40:02",
          "2000-01-01T02:40:15",
          "2000-01-01T02:40:24",
          "2000-01-01T02:40:28",
          "2000-01-01T02:40:28",
          "2000-01-01T02:40:29",
          "2000-01-01T02:40:30",
          "2000-01-01T02:40:39",
          "2000-01-01T02:40:40",
          "2000-01-01T02:40:46",
          "2000-01-01T02:40:47",
          "2000-01-01T02:40:49",
          "2000-01-01T02:41:05",
          "2000-01-01T02:41:08",
          "2000-01-01T02:41:09",
          "2000-01-01T02:41:15",
          "2000-01-01T02:41:19",
          "2000-01-01T02:41:20",
          "2000-01-01T02:41:20",
          "2000-01-01T02:41:31",
          "2000-01-01T02:41:46",
          "2000-01-01T02:41:53",
          "2000-01-01T02:41:56",
          "2000-01-01T02:41:56",
          "2000-01-01T02:42:03",
          "2000-01-01T02:42:03",
          "2000-01-01T02:42:05",
          "2000-01-01T02:42:07",
          "2000-01-01T02:42:16",
          "2000-01-01T02:42:16",
          "2000-01-01T02:42:17",
          "2000-01-01T02:42:18",
          "2000-01-01T02:42:19",
          "2000-01-01T02:42:21",
          "2000-01-01T02:42:25",
          "2000-01-01T02:42:34",
          "2000-01-01T02:42:39",
          "2000-01-01T02:42:40",
          "2000-01-01T02:42:40",
          "2000-01-01T02:42:49",
          "2000-01-01T02:42:52",
          "2000-01-01T02:42:54",
          "2000-01-01T02:42:56",
          "2000-01-01T02:42:56",
          "2000-01-01T02:42:59",
          "2000-01-01T02:43:01",
          "2000-01-01T02:43:13",
          "2000-01-01T02:43:14",
          "2000-01-01T02:43:15",
          "2000-01-01T02:43:22",
          "2000-01-01T02:43:22",
          "2000-01-01T02:43:28",
          "2000-01-01T02:43:30",
          "2000-01-01T02:43:31",
          "2000-01-01T02:43:36",
          "2000-01-01T02:43:47",
          "2000-01-01T02:43:49",
          "2000-01-01T02:43:50",
          "2000-01-01T02:43:51",
          "2000-01-01T02:43:52",
          "2000-01-01T02:43:52",
          "2000-01-01T02:43:57",
          "2000-01-01T02:43:59",
          "2000-01-01T02:44:02",
          "2000-01-01T02:44:04",
          "2000-01-01T02:44:07",
          "2000-01-01T02:44:07",
          "2000-01-01T02:44:12",
          "2000-01-01T02:44:20",
          "2000-01-01T02:44:21",
          "2000-01-01T02:44:22",
          "2000-01-01T02:44:24",
          "2000-01-01T02:44:26",
          "2000-01-01T02:44:34",
          "2000-01-01T02:44:37",
          "2000-01-01T02:44:43",
          "2000-01-01T02:44:45",
          "2000-01-01T02:44:47",
          "2000-01-01T02:44:55",
          "2000-01-01T02:44:58",
          "2000-01-01T02:45:00",
          "2000-01-01T02:45:05",
          "2000-01-01T02:45:06",
          "2000-01-01T02:45:07",
          "2000-01-01T02:45:08",
          "2000-01-01T02:45:11",
          "2000-01-01T02:45:12",
          "2000-01-01T02:45:13",
          "2000-01-01T02:45:13",
          "2000-01-01T02:45:18",
          "2000-01-01T02:45:20",
          "2000-01-01T02:45:27",
          "2000-01-01T02:45:34",
          "2000-01-01T02:45:34",
          "2000-01-01T02:45:47",
          "2000-01-01T02:46:01",
          "2000-01-01T02:46:07",
          "2000-01-01T02:46:08",
          "2000-01-01T02:46:11",
          "2000-01-01T02:46:11",
          "2000-01-01T02:46:13",
          "2000-01-01T02:46:15",
          "2000-01-01T02:46:15",
          "2000-01-01T02:46:16",
          "2000-01-01T02:46:20",
          "2000-01-01T02:46:21",
          "2000-01-01T02:46:24",
          "2000-01-01T02:46:29",
          "2000-01-01T02:46:29",
          "2000-01-01T02:46:30",
          "2000-01-01T02:46:36",
          "2000-01-01T02:46:44",
          "2000-01-01T02:46:51",
          "2000-01-01T02:46:54",
          "2000-01-01T02:46:56",
          "2000-01-01T02:46:57",
          "2000-01-01T02:47:02",
          "2000-01-01T02:47:06",
          "2000-01-01T02:47:18",
          "2000-01-01T02:47:21",
          "2000-01-01T02:47:25",
          "2000-01-01T02:47:31",
          "2000-01-01T02:47:31",
          "2000-01-01T02:47:31",
          "2000-01-01T02:47:44",
          "2000-01-01T02:47:46",
          "2000-01-01T02:47:59",
          "2000-01-01T02:48:00",
          "2000-01-01T02:48:00",
          "2000-01-01T02:48:00",
          "2000-01-01T02:48:05",
          "2000-01-01T02:48:05",
          "2000-01-01T02:48:17",
          "2000-01-01T02:48:17",
          "2000-01-01T02:48:23",
          "2000-01-01T02:48:28",
          "2000-01-01T02:48:35",
          "2000-01-01T02:48:42",
          "2000-01-01T02:48:43",
          "2000-01-01T02:48:44",
          "2000-01-01T02:48:59",
          "2000-01-01T02:49:00",
          "2000-01-01T02:49:04",
          "2000-01-01T02:49:12",
          "2000-01-01T02:49:21",
          "2000-01-01T02:49:22",
          "2000-01-01T02:49:22",
          "2000-01-01T02:49:37",
          "2000-01-01T02:49:52",
          "2000-01-01T02:50:22",
          "2000-01-01T02:50:38",
          "2000-01-01T02:50:38",
          "2000-01-01T02:50:41",
          "2000-01-01T02:50:44",
          "2000-01-01T02:50:46",
          "2000-01-01T02:50:48",
          "2000-01-01T02:50:57",
          "2000-01-01T02:51:23",
          "2000-01-01T02:51:23",
          "2000-01-01T02:51:26",
          "2000-01-01T02:51:26",
          "2000-01-01T02:51:34",
          "2000-01-01T02:51:43",
          "2000-01-01T02:51:44",
          "2000-01-01T02:51:49",
          "2000-01-01T02:52:00",
          "2000-01-01T02:52:13",
          "2000-01-01T02:52:22",
          "2000-01-01T02:52:22",
          "2000-01-01T02:52:23",
          "2000-01-01T02:52:28",
          "2000-01-01T02:52:32",
          "2000-01-01T02:52:32",
          "2000-01-01T02:52:41",
          "2000-01-01T02:52:48",
          "2000-01-01T02:52:50",
          "2000-01-01T02:52:52",
          "2000-01-01T02:52:52",
          "2000-01-01T02:53:01",
          "2000-01-01T02:53:33",
          "2000-01-01T02:53:36",
          "2000-01-01T02:53:39",
          "2000-01-01T02:53:39",
          "2000-01-01T02:53:39",
          "2000-01-01T02:53:54",
          "2000-01-01T02:53:59",
          "2000-01-01T02:54:13",
          "2000-01-01T02:54:13",
          "2000-01-01T02:54:36",
          "2000-01-01T02:54:42",
          "2000-01-01T02:54:42",
          "2000-01-01T02:54:42",
          "2000-01-01T02:54:43",
          "2000-01-01T02:55:20",
          "2000-01-01T02:55:34",
          "2000-01-01T02:55:48",
          "2000-01-01T02:55:59",
          "2000-01-01T02:56:07",
          "2000-01-01T02:56:13",
          "2000-01-01T02:56:37",
          "2000-01-01T02:56:52",
          "2000-01-01T02:57:04",
          "2000-01-01T02:57:16",
          "2000-01-01T02:57:29",
          "2000-01-01T02:57:36",
          "2000-01-01T02:57:44",
          "2000-01-01T02:57:45",
          "2000-01-01T02:57:58",
          "2000-01-01T02:58:06",
          "2000-01-01T02:58:12",
          "2000-01-01T02:58:37",
          "2000-01-01T02:58:44",
          "2000-01-01T02:59:10",
          "2000-01-01T02:59:30",
          "2000-01-01T03:00:44",
          "2000-01-01T03:00:46",
          "2000-01-01T03:00:49",
          "2000-01-01T03:01:32",
          "2000-01-01T03:01:41",
          "2000-01-01T03:01:48",
          "2000-01-01T03:01:48",
          "2000-01-01T03:01:49",
          "2000-01-01T03:01:54",
          "2000-01-01T03:02:58",
          "2000-01-01T03:02:59",
          "2000-01-01T03:03:24",
          "2000-01-01T03:03:26",
          "2000-01-01T03:04:37",
          "2000-01-01T03:04:54",
          "2000-01-01T03:04:59",
          "2000-01-01T03:05:03",
          "2000-01-01T03:05:29",
          "2000-01-01T03:05:34",
          "2000-01-01T03:05:35",
          "2000-01-01T03:05:38",
          "2000-01-01T03:06:00",
          "2000-01-01T03:08:15",
          "2000-01-01T03:09:06",
          "2000-01-01T03:10:01",
          "2000-01-01T03:10:04",
          "2000-01-01T03:10:17",
          "2000-01-01T03:10:20",
          "2000-01-01T03:10:27",
          "2000-01-01T03:10:28",
          "2000-01-01T03:11:02",
          "2000-01-01T03:12:07",
          "2000-01-01T03:12:35",
          "2000-01-01T03:12:37",
          "2000-01-01T03:12:53",
          "2000-01-01T03:12:58",
          "2000-01-01T03:13:59",
          "2000-01-01T03:15:27",
          "2000-01-01T03:15:28",
          "2000-01-01T03:15:35",
          "2000-01-01T03:16:57",
          "2000-01-01T03:17:00",
          "2000-01-01T03:17:00",
          "2000-01-01T03:17:00",
          "2000-01-01T03:19:14",
          "2000-01-01T03:20:40",
          "2000-01-01T03:20:47",
          "2000-01-01T03:22:03",
          "2000-01-01T03:22:59",
          "2000-01-01T03:27:57",
          "2000-01-01T03:28:22",
          "2000-01-01T03:29:19",
          "2000-01-01T03:29:23",
          "2000-01-01T03:30:09",
          "2000-01-01T03:33:00",
          "2000-01-01T03:40:29",
          "2000-01-01T03:47:02",
          "2000-01-01T03:56:46",
          "2000-01-01T04:14:43",
          "2000-01-01T04:39:32",
          "2000-01-01T06:14:56",
          "2000-01-01T06:14:56"
         ]
        }
       ],
       "layout": {
        "template": {
         "data": {
          "bar": [
           {
            "error_x": {
             "color": "#2a3f5f"
            },
            "error_y": {
             "color": "#2a3f5f"
            },
            "marker": {
             "line": {
              "color": "#E5ECF6",
              "width": 0.5
             },
             "pattern": {
              "fillmode": "overlay",
              "size": 10,
              "solidity": 0.2
             }
            },
            "type": "bar"
           }
          ],
          "barpolar": [
           {
            "marker": {
             "line": {
              "color": "#E5ECF6",
              "width": 0.5
             },
             "pattern": {
              "fillmode": "overlay",
              "size": 10,
              "solidity": 0.2
             }
            },
            "type": "barpolar"
           }
          ],
          "carpet": [
           {
            "aaxis": {
             "endlinecolor": "#2a3f5f",
             "gridcolor": "white",
             "linecolor": "white",
             "minorgridcolor": "white",
             "startlinecolor": "#2a3f5f"
            },
            "baxis": {
             "endlinecolor": "#2a3f5f",
             "gridcolor": "white",
             "linecolor": "white",
             "minorgridcolor": "white",
             "startlinecolor": "#2a3f5f"
            },
            "type": "carpet"
           }
          ],
          "choropleth": [
           {
            "colorbar": {
             "outlinewidth": 0,
             "ticks": ""
            },
            "type": "choropleth"
           }
          ],
          "contour": [
           {
            "colorbar": {
             "outlinewidth": 0,
             "ticks": ""
            },
            "colorscale": [
             [
              0,
              "#0d0887"
             ],
             [
              0.1111111111111111,
              "#46039f"
             ],
             [
              0.2222222222222222,
              "#7201a8"
             ],
             [
              0.3333333333333333,
              "#9c179e"
             ],
             [
              0.4444444444444444,
              "#bd3786"
             ],
             [
              0.5555555555555556,
              "#d8576b"
             ],
             [
              0.6666666666666666,
              "#ed7953"
             ],
             [
              0.7777777777777778,
              "#fb9f3a"
             ],
             [
              0.8888888888888888,
              "#fdca26"
             ],
             [
              1,
              "#f0f921"
             ]
            ],
            "type": "contour"
           }
          ],
          "contourcarpet": [
           {
            "colorbar": {
             "outlinewidth": 0,
             "ticks": ""
            },
            "type": "contourcarpet"
           }
          ],
          "heatmap": [
           {
            "colorbar": {
             "outlinewidth": 0,
             "ticks": ""
            },
            "colorscale": [
             [
              0,
              "#0d0887"
             ],
             [
              0.1111111111111111,
              "#46039f"
             ],
             [
              0.2222222222222222,
              "#7201a8"
             ],
             [
              0.3333333333333333,
              "#9c179e"
             ],
             [
              0.4444444444444444,
              "#bd3786"
             ],
             [
              0.5555555555555556,
              "#d8576b"
             ],
             [
              0.6666666666666666,
              "#ed7953"
             ],
             [
              0.7777777777777778,
              "#fb9f3a"
             ],
             [
              0.8888888888888888,
              "#fdca26"
             ],
             [
              1,
              "#f0f921"
             ]
            ],
            "type": "heatmap"
           }
          ],
          "heatmapgl": [
           {
            "colorbar": {
             "outlinewidth": 0,
             "ticks": ""
            },
            "colorscale": [
             [
              0,
              "#0d0887"
             ],
             [
              0.1111111111111111,
              "#46039f"
             ],
             [
              0.2222222222222222,
              "#7201a8"
             ],
             [
              0.3333333333333333,
              "#9c179e"
             ],
             [
              0.4444444444444444,
              "#bd3786"
             ],
             [
              0.5555555555555556,
              "#d8576b"
             ],
             [
              0.6666666666666666,
              "#ed7953"
             ],
             [
              0.7777777777777778,
              "#fb9f3a"
             ],
             [
              0.8888888888888888,
              "#fdca26"
             ],
             [
              1,
              "#f0f921"
             ]
            ],
            "type": "heatmapgl"
           }
          ],
          "histogram": [
           {
            "marker": {
             "pattern": {
              "fillmode": "overlay",
              "size": 10,
              "solidity": 0.2
             }
            },
            "type": "histogram"
           }
          ],
          "histogram2d": [
           {
            "colorbar": {
             "outlinewidth": 0,
             "ticks": ""
            },
            "colorscale": [
             [
              0,
              "#0d0887"
             ],
             [
              0.1111111111111111,
              "#46039f"
             ],
             [
              0.2222222222222222,
              "#7201a8"
             ],
             [
              0.3333333333333333,
              "#9c179e"
             ],
             [
              0.4444444444444444,
              "#bd3786"
             ],
             [
              0.5555555555555556,
              "#d8576b"
             ],
             [
              0.6666666666666666,
              "#ed7953"
             ],
             [
              0.7777777777777778,
              "#fb9f3a"
             ],
             [
              0.8888888888888888,
              "#fdca26"
             ],
             [
              1,
              "#f0f921"
             ]
            ],
            "type": "histogram2d"
           }
          ],
          "histogram2dcontour": [
           {
            "colorbar": {
             "outlinewidth": 0,
             "ticks": ""
            },
            "colorscale": [
             [
              0,
              "#0d0887"
             ],
             [
              0.1111111111111111,
              "#46039f"
             ],
             [
              0.2222222222222222,
              "#7201a8"
             ],
             [
              0.3333333333333333,
              "#9c179e"
             ],
             [
              0.4444444444444444,
              "#bd3786"
             ],
             [
              0.5555555555555556,
              "#d8576b"
             ],
             [
              0.6666666666666666,
              "#ed7953"
             ],
             [
              0.7777777777777778,
              "#fb9f3a"
             ],
             [
              0.8888888888888888,
              "#fdca26"
             ],
             [
              1,
              "#f0f921"
             ]
            ],
            "type": "histogram2dcontour"
           }
          ],
          "mesh3d": [
           {
            "colorbar": {
             "outlinewidth": 0,
             "ticks": ""
            },
            "type": "mesh3d"
           }
          ],
          "parcoords": [
           {
            "line": {
             "colorbar": {
              "outlinewidth": 0,
              "ticks": ""
             }
            },
            "type": "parcoords"
           }
          ],
          "pie": [
           {
            "automargin": true,
            "type": "pie"
           }
          ],
          "scatter": [
           {
            "fillpattern": {
             "fillmode": "overlay",
             "size": 10,
             "solidity": 0.2
            },
            "type": "scatter"
           }
          ],
          "scatter3d": [
           {
            "line": {
             "colorbar": {
              "outlinewidth": 0,
              "ticks": ""
             }
            },
            "marker": {
             "colorbar": {
              "outlinewidth": 0,
              "ticks": ""
             }
            },
            "type": "scatter3d"
           }
          ],
          "scattercarpet": [
           {
            "marker": {
             "colorbar": {
              "outlinewidth": 0,
              "ticks": ""
             }
            },
            "type": "scattercarpet"
           }
          ],
          "scattergeo": [
           {
            "marker": {
             "colorbar": {
              "outlinewidth": 0,
              "ticks": ""
             }
            },
            "type": "scattergeo"
           }
          ],
          "scattergl": [
           {
            "marker": {
             "colorbar": {
              "outlinewidth": 0,
              "ticks": ""
             }
            },
            "type": "scattergl"
           }
          ],
          "scattermapbox": [
           {
            "marker": {
             "colorbar": {
              "outlinewidth": 0,
              "ticks": ""
             }
            },
            "type": "scattermapbox"
           }
          ],
          "scatterpolar": [
           {
            "marker": {
             "colorbar": {
              "outlinewidth": 0,
              "ticks": ""
             }
            },
            "type": "scatterpolar"
           }
          ],
          "scatterpolargl": [
           {
            "marker": {
             "colorbar": {
              "outlinewidth": 0,
              "ticks": ""
             }
            },
            "type": "scatterpolargl"
           }
          ],
          "scatterternary": [
           {
            "marker": {
             "colorbar": {
              "outlinewidth": 0,
              "ticks": ""
             }
            },
            "type": "scatterternary"
           }
          ],
          "surface": [
           {
            "colorbar": {
             "outlinewidth": 0,
             "ticks": ""
            },
            "colorscale": [
             [
              0,
              "#0d0887"
             ],
             [
              0.1111111111111111,
              "#46039f"
             ],
             [
              0.2222222222222222,
              "#7201a8"
             ],
             [
              0.3333333333333333,
              "#9c179e"
             ],
             [
              0.4444444444444444,
              "#bd3786"
             ],
             [
              0.5555555555555556,
              "#d8576b"
             ],
             [
              0.6666666666666666,
              "#ed7953"
             ],
             [
              0.7777777777777778,
              "#fb9f3a"
             ],
             [
              0.8888888888888888,
              "#fdca26"
             ],
             [
              1,
              "#f0f921"
             ]
            ],
            "type": "surface"
           }
          ],
          "table": [
           {
            "cells": {
             "fill": {
              "color": "#EBF0F8"
             },
             "line": {
              "color": "white"
             }
            },
            "header": {
             "fill": {
              "color": "#C8D4E3"
             },
             "line": {
              "color": "white"
             }
            },
            "type": "table"
           }
          ]
         },
         "layout": {
          "annotationdefaults": {
           "arrowcolor": "#2a3f5f",
           "arrowhead": 0,
           "arrowwidth": 1
          },
          "autotypenumbers": "strict",
          "coloraxis": {
           "colorbar": {
            "outlinewidth": 0,
            "ticks": ""
           }
          },
          "colorscale": {
           "diverging": [
            [
             0,
             "#8e0152"
            ],
            [
             0.1,
             "#c51b7d"
            ],
            [
             0.2,
             "#de77ae"
            ],
            [
             0.3,
             "#f1b6da"
            ],
            [
             0.4,
             "#fde0ef"
            ],
            [
             0.5,
             "#f7f7f7"
            ],
            [
             0.6,
             "#e6f5d0"
            ],
            [
             0.7,
             "#b8e186"
            ],
            [
             0.8,
             "#7fbc41"
            ],
            [
             0.9,
             "#4d9221"
            ],
            [
             1,
             "#276419"
            ]
           ],
           "sequential": [
            [
             0,
             "#0d0887"
            ],
            [
             0.1111111111111111,
             "#46039f"
            ],
            [
             0.2222222222222222,
             "#7201a8"
            ],
            [
             0.3333333333333333,
             "#9c179e"
            ],
            [
             0.4444444444444444,
             "#bd3786"
            ],
            [
             0.5555555555555556,
             "#d8576b"
            ],
            [
             0.6666666666666666,
             "#ed7953"
            ],
            [
             0.7777777777777778,
             "#fb9f3a"
            ],
            [
             0.8888888888888888,
             "#fdca26"
            ],
            [
             1,
             "#f0f921"
            ]
           ],
           "sequentialminus": [
            [
             0,
             "#0d0887"
            ],
            [
             0.1111111111111111,
             "#46039f"
            ],
            [
             0.2222222222222222,
             "#7201a8"
            ],
            [
             0.3333333333333333,
             "#9c179e"
            ],
            [
             0.4444444444444444,
             "#bd3786"
            ],
            [
             0.5555555555555556,
             "#d8576b"
            ],
            [
             0.6666666666666666,
             "#ed7953"
            ],
            [
             0.7777777777777778,
             "#fb9f3a"
            ],
            [
             0.8888888888888888,
             "#fdca26"
            ],
            [
             1,
             "#f0f921"
            ]
           ]
          },
          "colorway": [
           "#636efa",
           "#EF553B",
           "#00cc96",
           "#ab63fa",
           "#FFA15A",
           "#19d3f3",
           "#FF6692",
           "#B6E880",
           "#FF97FF",
           "#FECB52"
          ],
          "font": {
           "color": "#2a3f5f"
          },
          "geo": {
           "bgcolor": "white",
           "lakecolor": "white",
           "landcolor": "#E5ECF6",
           "showlakes": true,
           "showland": true,
           "subunitcolor": "white"
          },
          "hoverlabel": {
           "align": "left"
          },
          "hovermode": "closest",
          "mapbox": {
           "style": "light"
          },
          "paper_bgcolor": "white",
          "plot_bgcolor": "#E5ECF6",
          "polar": {
           "angularaxis": {
            "gridcolor": "white",
            "linecolor": "white",
            "ticks": ""
           },
           "bgcolor": "#E5ECF6",
           "radialaxis": {
            "gridcolor": "white",
            "linecolor": "white",
            "ticks": ""
           }
          },
          "scene": {
           "xaxis": {
            "backgroundcolor": "#E5ECF6",
            "gridcolor": "white",
            "gridwidth": 2,
            "linecolor": "white",
            "showbackground": true,
            "ticks": "",
            "zerolinecolor": "white"
           },
           "yaxis": {
            "backgroundcolor": "#E5ECF6",
            "gridcolor": "white",
            "gridwidth": 2,
            "linecolor": "white",
            "showbackground": true,
            "ticks": "",
            "zerolinecolor": "white"
           },
           "zaxis": {
            "backgroundcolor": "#E5ECF6",
            "gridcolor": "white",
            "gridwidth": 2,
            "linecolor": "white",
            "showbackground": true,
            "ticks": "",
            "zerolinecolor": "white"
           }
          },
          "shapedefaults": {
           "line": {
            "color": "#2a3f5f"
           }
          },
          "ternary": {
           "aaxis": {
            "gridcolor": "white",
            "linecolor": "white",
            "ticks": ""
           },
           "baxis": {
            "gridcolor": "white",
            "linecolor": "white",
            "ticks": ""
           },
           "bgcolor": "#E5ECF6",
           "caxis": {
            "gridcolor": "white",
            "linecolor": "white",
            "ticks": ""
           }
          },
          "title": {
           "x": 0.05
          },
          "xaxis": {
           "automargin": true,
           "gridcolor": "white",
           "linecolor": "white",
           "ticks": "",
           "title": {
            "standoff": 15
           },
           "zerolinecolor": "white",
           "zerolinewidth": 2
          },
          "yaxis": {
           "automargin": true,
           "gridcolor": "white",
           "linecolor": "white",
           "ticks": "",
           "title": {
            "standoff": 15
           },
           "zerolinecolor": "white",
           "zerolinewidth": 2
          }
         }
        },
        "title": {
         "text": "Number of Participants in the Half Marathon"
        },
        "xaxis": {
         "tickformat": "%H:%M:%S",
         "title": {
          "text": "Time (HH:MM:SS)"
         }
        },
        "yaxis": {
         "title": {
          "text": "Number of Participants"
         }
        }
       }
      }
     },
     "metadata": {},
     "output_type": "display_data"
    }
   ],
   "source": [
    "import plotly.graph_objects as go\n",
    "from collections import defaultdict\n",
    "import datetime as dt\n",
    "\n",
    "times = defaultdict(list)\n",
    "\n",
    "for row in data:\n",
    "# Process the times and group by genderfor row in data:\n",
    "    if row['event_name'] in EVENTS_OF_INTEREST:\n",
    "        time = row['time']\n",
    "        if len(time.split(':')) == 1:\n",
    "            continue\n",
    "\n",
    "        hours, minutes, seconds = time.split(':')\n",
    "        time = dt.timedelta(hours=int(hours), minutes=int(minutes), seconds=int(seconds))\n",
    "        time = dt.datetime(2000, 1, 1) + time\n",
    "        times[row['event_name']].append(time)\n",
    "\n",
    "half_marathon_times = times['Half Marathon']\n",
    "\n",
    "# Create the stacked histogram\n",
    "fig = go.Figure()\n",
    "fig.add_trace(go.Histogram(\n",
    "    x=half_marathon_times,\n",
    "    name='idk',\n",
    "))\n",
    "\n",
    "# Update the layout for stacked histogram\n",
    "fig.update_layout(\n",
    "    title=\"Number of Participants in the Half Marathon\",\n",
    "    yaxis_title=\"Number of Participants\",\n",
    "    xaxis={\"tickformat\": \"%H:%M:%S\", 'title': 'Time (HH:MM:SS)'},  # Format x-axis ticks as HH:MM:SS\n",
    ")\n",
    "\n",
    "fig.show()"
   ]
  },
  {
   "cell_type": "markdown",
   "metadata": {},
   "source": [
    "You'll see that the finishing times have a very long tail. In future time distributions, I'm going to remove the slowest 0.5% of runners. I'd rather not, but in an era where most of our phone usage is vertical, this will make the visualisations much easier to see."
   ]
  },
  {
   "cell_type": "code",
   "execution_count": 93,
   "metadata": {},
   "outputs": [
    {
     "data": {
      "application/vnd.plotly.v1+json": {
       "config": {
        "plotlyServerURL": "https://plot.ly"
       },
       "data": [
        {
         "name": "Male",
         "type": "histogram",
         "x": [
          "2000-01-01T01:03:40",
          "2000-01-01T01:03:56",
          "2000-01-01T01:04:23",
          "2000-01-01T01:04:40",
          "2000-01-01T01:04:42",
          "2000-01-01T01:05:56",
          "2000-01-01T01:06:29",
          "2000-01-01T01:06:38",
          "2000-01-01T01:06:40",
          "2000-01-01T01:07:29",
          "2000-01-01T01:08:06",
          "2000-01-01T01:09:26",
          "2000-01-01T01:09:28",
          "2000-01-01T01:10:09",
          "2000-01-01T01:10:28",
          "2000-01-01T01:10:49",
          "2000-01-01T01:10:55",
          "2000-01-01T01:12:20",
          "2000-01-01T01:12:25",
          "2000-01-01T01:12:25",
          "2000-01-01T01:12:37",
          "2000-01-01T01:12:38",
          "2000-01-01T01:12:41",
          "2000-01-01T01:12:48",
          "2000-01-01T01:12:55",
          "2000-01-01T01:12:58",
          "2000-01-01T01:13:00",
          "2000-01-01T01:13:14",
          "2000-01-01T01:13:27",
          "2000-01-01T01:13:28",
          "2000-01-01T01:13:43",
          "2000-01-01T01:13:48",
          "2000-01-01T01:13:57",
          "2000-01-01T01:13:58",
          "2000-01-01T01:14:22",
          "2000-01-01T01:14:24",
          "2000-01-01T01:14:53",
          "2000-01-01T01:15:08",
          "2000-01-01T01:15:13",
          "2000-01-01T01:15:22",
          "2000-01-01T01:15:25",
          "2000-01-01T01:15:26",
          "2000-01-01T01:15:49",
          "2000-01-01T01:15:57",
          "2000-01-01T01:16:06",
          "2000-01-01T01:16:07",
          "2000-01-01T01:16:07",
          "2000-01-01T01:16:10",
          "2000-01-01T01:16:28",
          "2000-01-01T01:16:32",
          "2000-01-01T01:16:49",
          "2000-01-01T01:16:50",
          "2000-01-01T01:17:03",
          "2000-01-01T01:17:05",
          "2000-01-01T01:17:07",
          "2000-01-01T01:17:28",
          "2000-01-01T01:17:37",
          "2000-01-01T01:17:46",
          "2000-01-01T01:17:52",
          "2000-01-01T01:17:57",
          "2000-01-01T01:18:07",
          "2000-01-01T01:18:08",
          "2000-01-01T01:18:12",
          "2000-01-01T01:18:15",
          "2000-01-01T01:18:19",
          "2000-01-01T01:18:40",
          "2000-01-01T01:18:41",
          "2000-01-01T01:18:41",
          "2000-01-01T01:18:49",
          "2000-01-01T01:18:55",
          "2000-01-01T01:19:13",
          "2000-01-01T01:19:19",
          "2000-01-01T01:19:19",
          "2000-01-01T01:19:20",
          "2000-01-01T01:19:23",
          "2000-01-01T01:19:24",
          "2000-01-01T01:19:27",
          "2000-01-01T01:19:46",
          "2000-01-01T01:19:48",
          "2000-01-01T01:19:54",
          "2000-01-01T01:19:54",
          "2000-01-01T01:20:02",
          "2000-01-01T01:20:07",
          "2000-01-01T01:20:12",
          "2000-01-01T01:20:21",
          "2000-01-01T01:20:24",
          "2000-01-01T01:20:31",
          "2000-01-01T01:20:40",
          "2000-01-01T01:20:56",
          "2000-01-01T01:21:09",
          "2000-01-01T01:21:11",
          "2000-01-01T01:21:14",
          "2000-01-01T01:21:15",
          "2000-01-01T01:21:18",
          "2000-01-01T01:21:25",
          "2000-01-01T01:21:37",
          "2000-01-01T01:21:40",
          "2000-01-01T01:21:47",
          "2000-01-01T01:21:51",
          "2000-01-01T01:21:53",
          "2000-01-01T01:21:54",
          "2000-01-01T01:21:56",
          "2000-01-01T01:21:57",
          "2000-01-01T01:21:59",
          "2000-01-01T01:22:09",
          "2000-01-01T01:22:11",
          "2000-01-01T01:22:18",
          "2000-01-01T01:22:19",
          "2000-01-01T01:22:22",
          "2000-01-01T01:22:23",
          "2000-01-01T01:22:33",
          "2000-01-01T01:22:34",
          "2000-01-01T01:22:40",
          "2000-01-01T01:22:49",
          "2000-01-01T01:23:01",
          "2000-01-01T01:23:04",
          "2000-01-01T01:23:11",
          "2000-01-01T01:23:18",
          "2000-01-01T01:23:26",
          "2000-01-01T01:23:26",
          "2000-01-01T01:23:30",
          "2000-01-01T01:23:34",
          "2000-01-01T01:23:36",
          "2000-01-01T01:23:36",
          "2000-01-01T01:23:43",
          "2000-01-01T01:23:44",
          "2000-01-01T01:23:47",
          "2000-01-01T01:23:52",
          "2000-01-01T01:23:56",
          "2000-01-01T01:24:04",
          "2000-01-01T01:24:08",
          "2000-01-01T01:24:09",
          "2000-01-01T01:24:13",
          "2000-01-01T01:24:13",
          "2000-01-01T01:24:13",
          "2000-01-01T01:24:19",
          "2000-01-01T01:24:24",
          "2000-01-01T01:24:29",
          "2000-01-01T01:24:34",
          "2000-01-01T01:24:35",
          "2000-01-01T01:24:41",
          "2000-01-01T01:24:42",
          "2000-01-01T01:24:50",
          "2000-01-01T01:25:00",
          "2000-01-01T01:25:02",
          "2000-01-01T01:25:14",
          "2000-01-01T01:25:19",
          "2000-01-01T01:25:19",
          "2000-01-01T01:25:20",
          "2000-01-01T01:25:21",
          "2000-01-01T01:25:30",
          "2000-01-01T01:25:34",
          "2000-01-01T01:25:35",
          "2000-01-01T01:25:37",
          "2000-01-01T01:25:51",
          "2000-01-01T01:26:01",
          "2000-01-01T01:26:16",
          "2000-01-01T01:26:20",
          "2000-01-01T01:26:21",
          "2000-01-01T01:26:33",
          "2000-01-01T01:26:34",
          "2000-01-01T01:26:40",
          "2000-01-01T01:26:42",
          "2000-01-01T01:26:43",
          "2000-01-01T01:26:51",
          "2000-01-01T01:26:59",
          "2000-01-01T01:27:09",
          "2000-01-01T01:27:09",
          "2000-01-01T01:27:11",
          "2000-01-01T01:27:21",
          "2000-01-01T01:27:21",
          "2000-01-01T01:27:23",
          "2000-01-01T01:27:27",
          "2000-01-01T01:27:30",
          "2000-01-01T01:27:32",
          "2000-01-01T01:27:32",
          "2000-01-01T01:27:33",
          "2000-01-01T01:27:34",
          "2000-01-01T01:27:37",
          "2000-01-01T01:27:38",
          "2000-01-01T01:27:50",
          "2000-01-01T01:27:51",
          "2000-01-01T01:27:56",
          "2000-01-01T01:27:59",
          "2000-01-01T01:28:04",
          "2000-01-01T01:28:05",
          "2000-01-01T01:28:06",
          "2000-01-01T01:28:11",
          "2000-01-01T01:28:12",
          "2000-01-01T01:28:14",
          "2000-01-01T01:28:15",
          "2000-01-01T01:28:17",
          "2000-01-01T01:28:20",
          "2000-01-01T01:28:27",
          "2000-01-01T01:28:28",
          "2000-01-01T01:28:30",
          "2000-01-01T01:28:34",
          "2000-01-01T01:28:41",
          "2000-01-01T01:28:42",
          "2000-01-01T01:28:51",
          "2000-01-01T01:28:51",
          "2000-01-01T01:28:53",
          "2000-01-01T01:28:58",
          "2000-01-01T01:29:00",
          "2000-01-01T01:29:01",
          "2000-01-01T01:29:01",
          "2000-01-01T01:29:03",
          "2000-01-01T01:29:04",
          "2000-01-01T01:29:05",
          "2000-01-01T01:29:05",
          "2000-01-01T01:29:10",
          "2000-01-01T01:29:10",
          "2000-01-01T01:29:11",
          "2000-01-01T01:29:23",
          "2000-01-01T01:29:25",
          "2000-01-01T01:29:26",
          "2000-01-01T01:29:37",
          "2000-01-01T01:29:37",
          "2000-01-01T01:29:45",
          "2000-01-01T01:29:46",
          "2000-01-01T01:29:47",
          "2000-01-01T01:29:48",
          "2000-01-01T01:29:50",
          "2000-01-01T01:29:57",
          "2000-01-01T01:30:02",
          "2000-01-01T01:30:10",
          "2000-01-01T01:30:11",
          "2000-01-01T01:30:18",
          "2000-01-01T01:30:19",
          "2000-01-01T01:30:21",
          "2000-01-01T01:30:27",
          "2000-01-01T01:30:27",
          "2000-01-01T01:30:31",
          "2000-01-01T01:30:44",
          "2000-01-01T01:30:45",
          "2000-01-01T01:30:51",
          "2000-01-01T01:30:55",
          "2000-01-01T01:30:57",
          "2000-01-01T01:31:05",
          "2000-01-01T01:31:11",
          "2000-01-01T01:31:14",
          "2000-01-01T01:31:17",
          "2000-01-01T01:31:19",
          "2000-01-01T01:31:22",
          "2000-01-01T01:31:40",
          "2000-01-01T01:31:41",
          "2000-01-01T01:31:42",
          "2000-01-01T01:31:42",
          "2000-01-01T01:31:52",
          "2000-01-01T01:31:54",
          "2000-01-01T01:32:00",
          "2000-01-01T01:32:01",
          "2000-01-01T01:32:07",
          "2000-01-01T01:32:10",
          "2000-01-01T01:32:13",
          "2000-01-01T01:32:13",
          "2000-01-01T01:32:14",
          "2000-01-01T01:32:14",
          "2000-01-01T01:32:17",
          "2000-01-01T01:32:23",
          "2000-01-01T01:32:32",
          "2000-01-01T01:32:32",
          "2000-01-01T01:32:33",
          "2000-01-01T01:32:34",
          "2000-01-01T01:32:36",
          "2000-01-01T01:32:36",
          "2000-01-01T01:32:37",
          "2000-01-01T01:32:39",
          "2000-01-01T01:32:41",
          "2000-01-01T01:32:41",
          "2000-01-01T01:32:44",
          "2000-01-01T01:32:51",
          "2000-01-01T01:32:54",
          "2000-01-01T01:32:54",
          "2000-01-01T01:32:56",
          "2000-01-01T01:32:57",
          "2000-01-01T01:33:03",
          "2000-01-01T01:33:12",
          "2000-01-01T01:33:18",
          "2000-01-01T01:33:23",
          "2000-01-01T01:33:26",
          "2000-01-01T01:33:27",
          "2000-01-01T01:33:30",
          "2000-01-01T01:33:36",
          "2000-01-01T01:33:37",
          "2000-01-01T01:33:39",
          "2000-01-01T01:33:41",
          "2000-01-01T01:33:48",
          "2000-01-01T01:33:49",
          "2000-01-01T01:33:49",
          "2000-01-01T01:33:49",
          "2000-01-01T01:33:50",
          "2000-01-01T01:33:50",
          "2000-01-01T01:33:51",
          "2000-01-01T01:33:52",
          "2000-01-01T01:33:52",
          "2000-01-01T01:33:52",
          "2000-01-01T01:33:56",
          "2000-01-01T01:33:57",
          "2000-01-01T01:33:57",
          "2000-01-01T01:34:02",
          "2000-01-01T01:34:03",
          "2000-01-01T01:34:04",
          "2000-01-01T01:34:08",
          "2000-01-01T01:34:08",
          "2000-01-01T01:34:09",
          "2000-01-01T01:34:10",
          "2000-01-01T01:34:15",
          "2000-01-01T01:34:21",
          "2000-01-01T01:34:25",
          "2000-01-01T01:34:26",
          "2000-01-01T01:34:29",
          "2000-01-01T01:34:30",
          "2000-01-01T01:34:38",
          "2000-01-01T01:34:41",
          "2000-01-01T01:34:42",
          "2000-01-01T01:34:43",
          "2000-01-01T01:34:45",
          "2000-01-01T01:34:50",
          "2000-01-01T01:34:52",
          "2000-01-01T01:34:56",
          "2000-01-01T01:34:57",
          "2000-01-01T01:34:57",
          "2000-01-01T01:34:59",
          "2000-01-01T01:35:00",
          "2000-01-01T01:35:00",
          "2000-01-01T01:35:01",
          "2000-01-01T01:35:03",
          "2000-01-01T01:35:09",
          "2000-01-01T01:35:10",
          "2000-01-01T01:35:10",
          "2000-01-01T01:35:14",
          "2000-01-01T01:35:15",
          "2000-01-01T01:35:19",
          "2000-01-01T01:35:20",
          "2000-01-01T01:35:23",
          "2000-01-01T01:35:24",
          "2000-01-01T01:35:31",
          "2000-01-01T01:35:32",
          "2000-01-01T01:35:32",
          "2000-01-01T01:35:35",
          "2000-01-01T01:35:36",
          "2000-01-01T01:35:39",
          "2000-01-01T01:35:40",
          "2000-01-01T01:35:40",
          "2000-01-01T01:35:45",
          "2000-01-01T01:35:54",
          "2000-01-01T01:35:55",
          "2000-01-01T01:35:55",
          "2000-01-01T01:35:55",
          "2000-01-01T01:35:55",
          "2000-01-01T01:36:00",
          "2000-01-01T01:36:01",
          "2000-01-01T01:36:02",
          "2000-01-01T01:36:05",
          "2000-01-01T01:36:07",
          "2000-01-01T01:36:08",
          "2000-01-01T01:36:08",
          "2000-01-01T01:36:11",
          "2000-01-01T01:36:12",
          "2000-01-01T01:36:14",
          "2000-01-01T01:36:20",
          "2000-01-01T01:36:21",
          "2000-01-01T01:36:22",
          "2000-01-01T01:36:26",
          "2000-01-01T01:36:27",
          "2000-01-01T01:36:28",
          "2000-01-01T01:36:28",
          "2000-01-01T01:36:34",
          "2000-01-01T01:36:37",
          "2000-01-01T01:36:38",
          "2000-01-01T01:36:38",
          "2000-01-01T01:36:39",
          "2000-01-01T01:36:40",
          "2000-01-01T01:36:42",
          "2000-01-01T01:36:42",
          "2000-01-01T01:36:42",
          "2000-01-01T01:36:43",
          "2000-01-01T01:36:43",
          "2000-01-01T01:36:43",
          "2000-01-01T01:36:48",
          "2000-01-01T01:36:51",
          "2000-01-01T01:36:51",
          "2000-01-01T01:36:54",
          "2000-01-01T01:36:57",
          "2000-01-01T01:36:59",
          "2000-01-01T01:36:59",
          "2000-01-01T01:37:00",
          "2000-01-01T01:37:01",
          "2000-01-01T01:37:02",
          "2000-01-01T01:37:02",
          "2000-01-01T01:37:02",
          "2000-01-01T01:37:05",
          "2000-01-01T01:37:05",
          "2000-01-01T01:37:06",
          "2000-01-01T01:37:11",
          "2000-01-01T01:37:13",
          "2000-01-01T01:37:18",
          "2000-01-01T01:37:22",
          "2000-01-01T01:37:22",
          "2000-01-01T01:37:22",
          "2000-01-01T01:37:23",
          "2000-01-01T01:37:24",
          "2000-01-01T01:37:24",
          "2000-01-01T01:37:24",
          "2000-01-01T01:37:26",
          "2000-01-01T01:37:31",
          "2000-01-01T01:37:36",
          "2000-01-01T01:37:39",
          "2000-01-01T01:37:39",
          "2000-01-01T01:37:41",
          "2000-01-01T01:37:41",
          "2000-01-01T01:37:42",
          "2000-01-01T01:37:43",
          "2000-01-01T01:37:48",
          "2000-01-01T01:37:51",
          "2000-01-01T01:37:52",
          "2000-01-01T01:37:54",
          "2000-01-01T01:37:55",
          "2000-01-01T01:37:55",
          "2000-01-01T01:38:02",
          "2000-01-01T01:38:05",
          "2000-01-01T01:38:05",
          "2000-01-01T01:38:06",
          "2000-01-01T01:38:06",
          "2000-01-01T01:38:07",
          "2000-01-01T01:38:08",
          "2000-01-01T01:38:09",
          "2000-01-01T01:38:14",
          "2000-01-01T01:38:15",
          "2000-01-01T01:38:18",
          "2000-01-01T01:38:18",
          "2000-01-01T01:38:19",
          "2000-01-01T01:38:20",
          "2000-01-01T01:38:20",
          "2000-01-01T01:38:21",
          "2000-01-01T01:38:25",
          "2000-01-01T01:38:26",
          "2000-01-01T01:38:27",
          "2000-01-01T01:38:30",
          "2000-01-01T01:38:31",
          "2000-01-01T01:38:31",
          "2000-01-01T01:38:32",
          "2000-01-01T01:38:34",
          "2000-01-01T01:38:35",
          "2000-01-01T01:38:36",
          "2000-01-01T01:38:43",
          "2000-01-01T01:38:46",
          "2000-01-01T01:38:48",
          "2000-01-01T01:38:48",
          "2000-01-01T01:38:49",
          "2000-01-01T01:38:50",
          "2000-01-01T01:38:52",
          "2000-01-01T01:38:52",
          "2000-01-01T01:38:53",
          "2000-01-01T01:38:54",
          "2000-01-01T01:38:55",
          "2000-01-01T01:38:56",
          "2000-01-01T01:38:59",
          "2000-01-01T01:38:59",
          "2000-01-01T01:39:04",
          "2000-01-01T01:39:04",
          "2000-01-01T01:39:05",
          "2000-01-01T01:39:06",
          "2000-01-01T01:39:08",
          "2000-01-01T01:39:09",
          "2000-01-01T01:39:11",
          "2000-01-01T01:39:12",
          "2000-01-01T01:39:14",
          "2000-01-01T01:39:14",
          "2000-01-01T01:39:15",
          "2000-01-01T01:39:15",
          "2000-01-01T01:39:16",
          "2000-01-01T01:39:16",
          "2000-01-01T01:39:18",
          "2000-01-01T01:39:21",
          "2000-01-01T01:39:21",
          "2000-01-01T01:39:23",
          "2000-01-01T01:39:23",
          "2000-01-01T01:39:24",
          "2000-01-01T01:39:26",
          "2000-01-01T01:39:29",
          "2000-01-01T01:39:34",
          "2000-01-01T01:39:34",
          "2000-01-01T01:39:35",
          "2000-01-01T01:39:36",
          "2000-01-01T01:39:36",
          "2000-01-01T01:39:36",
          "2000-01-01T01:39:41",
          "2000-01-01T01:39:41",
          "2000-01-01T01:39:43",
          "2000-01-01T01:39:46",
          "2000-01-01T01:39:47",
          "2000-01-01T01:39:50",
          "2000-01-01T01:39:50",
          "2000-01-01T01:39:57",
          "2000-01-01T01:40:00",
          "2000-01-01T01:40:08",
          "2000-01-01T01:40:10",
          "2000-01-01T01:40:10",
          "2000-01-01T01:40:10",
          "2000-01-01T01:40:14",
          "2000-01-01T01:40:21",
          "2000-01-01T01:40:22",
          "2000-01-01T01:40:24",
          "2000-01-01T01:40:25",
          "2000-01-01T01:40:25",
          "2000-01-01T01:40:26",
          "2000-01-01T01:40:26",
          "2000-01-01T01:40:28",
          "2000-01-01T01:40:28",
          "2000-01-01T01:40:31",
          "2000-01-01T01:40:34",
          "2000-01-01T01:40:38",
          "2000-01-01T01:40:43",
          "2000-01-01T01:40:49",
          "2000-01-01T01:40:50",
          "2000-01-01T01:40:52",
          "2000-01-01T01:40:52",
          "2000-01-01T01:40:54",
          "2000-01-01T01:40:54",
          "2000-01-01T01:40:55",
          "2000-01-01T01:40:56",
          "2000-01-01T01:40:58",
          "2000-01-01T01:40:59",
          "2000-01-01T01:41:00",
          "2000-01-01T01:41:01",
          "2000-01-01T01:41:05",
          "2000-01-01T01:41:07",
          "2000-01-01T01:41:07",
          "2000-01-01T01:41:08",
          "2000-01-01T01:41:11",
          "2000-01-01T01:41:15",
          "2000-01-01T01:41:17",
          "2000-01-01T01:41:20",
          "2000-01-01T01:41:20",
          "2000-01-01T01:41:21",
          "2000-01-01T01:41:21",
          "2000-01-01T01:41:21",
          "2000-01-01T01:41:25",
          "2000-01-01T01:41:32",
          "2000-01-01T01:41:35",
          "2000-01-01T01:41:36",
          "2000-01-01T01:41:38",
          "2000-01-01T01:41:39",
          "2000-01-01T01:41:41",
          "2000-01-01T01:41:43",
          "2000-01-01T01:41:46",
          "2000-01-01T01:41:46",
          "2000-01-01T01:41:47",
          "2000-01-01T01:41:51",
          "2000-01-01T01:41:53",
          "2000-01-01T01:41:53",
          "2000-01-01T01:41:53",
          "2000-01-01T01:41:53",
          "2000-01-01T01:41:57",
          "2000-01-01T01:41:57",
          "2000-01-01T01:42:02",
          "2000-01-01T01:42:04",
          "2000-01-01T01:42:04",
          "2000-01-01T01:42:04",
          "2000-01-01T01:42:04",
          "2000-01-01T01:42:04",
          "2000-01-01T01:42:04",
          "2000-01-01T01:42:07",
          "2000-01-01T01:42:07",
          "2000-01-01T01:42:08",
          "2000-01-01T01:42:08",
          "2000-01-01T01:42:08",
          "2000-01-01T01:42:12",
          "2000-01-01T01:42:15",
          "2000-01-01T01:42:16",
          "2000-01-01T01:42:17",
          "2000-01-01T01:42:18",
          "2000-01-01T01:42:21",
          "2000-01-01T01:42:21",
          "2000-01-01T01:42:24",
          "2000-01-01T01:42:27",
          "2000-01-01T01:42:28",
          "2000-01-01T01:42:36",
          "2000-01-01T01:42:39",
          "2000-01-01T01:42:39",
          "2000-01-01T01:42:39",
          "2000-01-01T01:42:42",
          "2000-01-01T01:42:53",
          "2000-01-01T01:42:53",
          "2000-01-01T01:42:53",
          "2000-01-01T01:42:54",
          "2000-01-01T01:42:56",
          "2000-01-01T01:42:56",
          "2000-01-01T01:42:56",
          "2000-01-01T01:42:56",
          "2000-01-01T01:42:57",
          "2000-01-01T01:43:02",
          "2000-01-01T01:43:03",
          "2000-01-01T01:43:03",
          "2000-01-01T01:43:05",
          "2000-01-01T01:43:06",
          "2000-01-01T01:43:06",
          "2000-01-01T01:43:10",
          "2000-01-01T01:43:12",
          "2000-01-01T01:43:13",
          "2000-01-01T01:43:13",
          "2000-01-01T01:43:16",
          "2000-01-01T01:43:16",
          "2000-01-01T01:43:19",
          "2000-01-01T01:43:19",
          "2000-01-01T01:43:21",
          "2000-01-01T01:43:23",
          "2000-01-01T01:43:25",
          "2000-01-01T01:43:27",
          "2000-01-01T01:43:34",
          "2000-01-01T01:43:34",
          "2000-01-01T01:43:34",
          "2000-01-01T01:43:35",
          "2000-01-01T01:43:37",
          "2000-01-01T01:43:37",
          "2000-01-01T01:43:38",
          "2000-01-01T01:43:38",
          "2000-01-01T01:43:42",
          "2000-01-01T01:43:42",
          "2000-01-01T01:43:43",
          "2000-01-01T01:43:43",
          "2000-01-01T01:43:45",
          "2000-01-01T01:43:46",
          "2000-01-01T01:43:46",
          "2000-01-01T01:43:47",
          "2000-01-01T01:43:50",
          "2000-01-01T01:43:52",
          "2000-01-01T01:43:53",
          "2000-01-01T01:43:54",
          "2000-01-01T01:43:58",
          "2000-01-01T01:44:00",
          "2000-01-01T01:44:01",
          "2000-01-01T01:44:04",
          "2000-01-01T01:44:05",
          "2000-01-01T01:44:05",
          "2000-01-01T01:44:06",
          "2000-01-01T01:44:12",
          "2000-01-01T01:44:13",
          "2000-01-01T01:44:14",
          "2000-01-01T01:44:14",
          "2000-01-01T01:44:17",
          "2000-01-01T01:44:17",
          "2000-01-01T01:44:17",
          "2000-01-01T01:44:17",
          "2000-01-01T01:44:18",
          "2000-01-01T01:44:19",
          "2000-01-01T01:44:19",
          "2000-01-01T01:44:20",
          "2000-01-01T01:44:21",
          "2000-01-01T01:44:24",
          "2000-01-01T01:44:25",
          "2000-01-01T01:44:26",
          "2000-01-01T01:44:27",
          "2000-01-01T01:44:31",
          "2000-01-01T01:44:31",
          "2000-01-01T01:44:31",
          "2000-01-01T01:44:32",
          "2000-01-01T01:44:33",
          "2000-01-01T01:44:35",
          "2000-01-01T01:44:36",
          "2000-01-01T01:44:37",
          "2000-01-01T01:44:38",
          "2000-01-01T01:44:38",
          "2000-01-01T01:44:38",
          "2000-01-01T01:44:39",
          "2000-01-01T01:44:40",
          "2000-01-01T01:44:41",
          "2000-01-01T01:44:42",
          "2000-01-01T01:44:42",
          "2000-01-01T01:44:43",
          "2000-01-01T01:44:44",
          "2000-01-01T01:44:44",
          "2000-01-01T01:44:46",
          "2000-01-01T01:44:47",
          "2000-01-01T01:44:52",
          "2000-01-01T01:44:52",
          "2000-01-01T01:44:53",
          "2000-01-01T01:44:53",
          "2000-01-01T01:44:54",
          "2000-01-01T01:44:55",
          "2000-01-01T01:44:56",
          "2000-01-01T01:45:00",
          "2000-01-01T01:45:02",
          "2000-01-01T01:45:07",
          "2000-01-01T01:45:07",
          "2000-01-01T01:45:07",
          "2000-01-01T01:45:07",
          "2000-01-01T01:45:08",
          "2000-01-01T01:45:08",
          "2000-01-01T01:45:10",
          "2000-01-01T01:45:10",
          "2000-01-01T01:45:10",
          "2000-01-01T01:45:12",
          "2000-01-01T01:45:12",
          "2000-01-01T01:45:13",
          "2000-01-01T01:45:14",
          "2000-01-01T01:45:14",
          "2000-01-01T01:45:15",
          "2000-01-01T01:45:15",
          "2000-01-01T01:45:15",
          "2000-01-01T01:45:16",
          "2000-01-01T01:45:19",
          "2000-01-01T01:45:19",
          "2000-01-01T01:45:20",
          "2000-01-01T01:45:21",
          "2000-01-01T01:45:22",
          "2000-01-01T01:45:22",
          "2000-01-01T01:45:23",
          "2000-01-01T01:45:25",
          "2000-01-01T01:45:32",
          "2000-01-01T01:45:33",
          "2000-01-01T01:45:34",
          "2000-01-01T01:45:35",
          "2000-01-01T01:45:35",
          "2000-01-01T01:45:39",
          "2000-01-01T01:45:41",
          "2000-01-01T01:45:42",
          "2000-01-01T01:45:42",
          "2000-01-01T01:45:43",
          "2000-01-01T01:45:44",
          "2000-01-01T01:45:44",
          "2000-01-01T01:45:47",
          "2000-01-01T01:45:47",
          "2000-01-01T01:45:49",
          "2000-01-01T01:45:52",
          "2000-01-01T01:45:56",
          "2000-01-01T01:45:56",
          "2000-01-01T01:45:58",
          "2000-01-01T01:46:02",
          "2000-01-01T01:46:06",
          "2000-01-01T01:46:08",
          "2000-01-01T01:46:09",
          "2000-01-01T01:46:12",
          "2000-01-01T01:46:14",
          "2000-01-01T01:46:15",
          "2000-01-01T01:46:19",
          "2000-01-01T01:46:19",
          "2000-01-01T01:46:21",
          "2000-01-01T01:46:21",
          "2000-01-01T01:46:22",
          "2000-01-01T01:46:23",
          "2000-01-01T01:46:25",
          "2000-01-01T01:46:27",
          "2000-01-01T01:46:27",
          "2000-01-01T01:46:29",
          "2000-01-01T01:46:32",
          "2000-01-01T01:46:33",
          "2000-01-01T01:46:34",
          "2000-01-01T01:46:34",
          "2000-01-01T01:46:38",
          "2000-01-01T01:46:38",
          "2000-01-01T01:46:39",
          "2000-01-01T01:46:43",
          "2000-01-01T01:46:43",
          "2000-01-01T01:46:43",
          "2000-01-01T01:46:44",
          "2000-01-01T01:46:46",
          "2000-01-01T01:46:48",
          "2000-01-01T01:46:48",
          "2000-01-01T01:46:48",
          "2000-01-01T01:46:49",
          "2000-01-01T01:46:52",
          "2000-01-01T01:46:53",
          "2000-01-01T01:46:55",
          "2000-01-01T01:46:56",
          "2000-01-01T01:46:56",
          "2000-01-01T01:46:58",
          "2000-01-01T01:46:59",
          "2000-01-01T01:47:00",
          "2000-01-01T01:47:01",
          "2000-01-01T01:47:02",
          "2000-01-01T01:47:05",
          "2000-01-01T01:47:05",
          "2000-01-01T01:47:08",
          "2000-01-01T01:47:09",
          "2000-01-01T01:47:12",
          "2000-01-01T01:47:14",
          "2000-01-01T01:47:16",
          "2000-01-01T01:47:17",
          "2000-01-01T01:47:18",
          "2000-01-01T01:47:19",
          "2000-01-01T01:47:19",
          "2000-01-01T01:47:20",
          "2000-01-01T01:47:22",
          "2000-01-01T01:47:23",
          "2000-01-01T01:47:25",
          "2000-01-01T01:47:26",
          "2000-01-01T01:47:30",
          "2000-01-01T01:47:30",
          "2000-01-01T01:47:33",
          "2000-01-01T01:47:33",
          "2000-01-01T01:47:35",
          "2000-01-01T01:47:36",
          "2000-01-01T01:47:36",
          "2000-01-01T01:47:37",
          "2000-01-01T01:47:38",
          "2000-01-01T01:47:39",
          "2000-01-01T01:47:40",
          "2000-01-01T01:47:40",
          "2000-01-01T01:47:42",
          "2000-01-01T01:47:45",
          "2000-01-01T01:47:47",
          "2000-01-01T01:47:47",
          "2000-01-01T01:47:48",
          "2000-01-01T01:47:50",
          "2000-01-01T01:47:51",
          "2000-01-01T01:47:51",
          "2000-01-01T01:47:52",
          "2000-01-01T01:47:53",
          "2000-01-01T01:47:53",
          "2000-01-01T01:47:55",
          "2000-01-01T01:47:56",
          "2000-01-01T01:47:57",
          "2000-01-01T01:47:57",
          "2000-01-01T01:47:57",
          "2000-01-01T01:47:57",
          "2000-01-01T01:48:02",
          "2000-01-01T01:48:02",
          "2000-01-01T01:48:03",
          "2000-01-01T01:48:07",
          "2000-01-01T01:48:07",
          "2000-01-01T01:48:07",
          "2000-01-01T01:48:08",
          "2000-01-01T01:48:11",
          "2000-01-01T01:48:13",
          "2000-01-01T01:48:14",
          "2000-01-01T01:48:15",
          "2000-01-01T01:48:17",
          "2000-01-01T01:48:18",
          "2000-01-01T01:48:18",
          "2000-01-01T01:48:23",
          "2000-01-01T01:48:23",
          "2000-01-01T01:48:24",
          "2000-01-01T01:48:25",
          "2000-01-01T01:48:26",
          "2000-01-01T01:48:29",
          "2000-01-01T01:48:30",
          "2000-01-01T01:48:35",
          "2000-01-01T01:48:37",
          "2000-01-01T01:48:40",
          "2000-01-01T01:48:41",
          "2000-01-01T01:48:42",
          "2000-01-01T01:48:42",
          "2000-01-01T01:48:43",
          "2000-01-01T01:48:47",
          "2000-01-01T01:48:48",
          "2000-01-01T01:48:49",
          "2000-01-01T01:48:52",
          "2000-01-01T01:48:53",
          "2000-01-01T01:48:54",
          "2000-01-01T01:48:55",
          "2000-01-01T01:48:55",
          "2000-01-01T01:48:56",
          "2000-01-01T01:49:00",
          "2000-01-01T01:49:00",
          "2000-01-01T01:49:02",
          "2000-01-01T01:49:05",
          "2000-01-01T01:49:07",
          "2000-01-01T01:49:07",
          "2000-01-01T01:49:08",
          "2000-01-01T01:49:16",
          "2000-01-01T01:49:16",
          "2000-01-01T01:49:18",
          "2000-01-01T01:49:18",
          "2000-01-01T01:49:20",
          "2000-01-01T01:49:20",
          "2000-01-01T01:49:20",
          "2000-01-01T01:49:21",
          "2000-01-01T01:49:21",
          "2000-01-01T01:49:22",
          "2000-01-01T01:49:22",
          "2000-01-01T01:49:23",
          "2000-01-01T01:49:25",
          "2000-01-01T01:49:25",
          "2000-01-01T01:49:27",
          "2000-01-01T01:49:28",
          "2000-01-01T01:49:28",
          "2000-01-01T01:49:32",
          "2000-01-01T01:49:35",
          "2000-01-01T01:49:36",
          "2000-01-01T01:49:36",
          "2000-01-01T01:49:38",
          "2000-01-01T01:49:39",
          "2000-01-01T01:49:40",
          "2000-01-01T01:49:41",
          "2000-01-01T01:49:44",
          "2000-01-01T01:49:47",
          "2000-01-01T01:49:51",
          "2000-01-01T01:49:53",
          "2000-01-01T01:49:54",
          "2000-01-01T01:49:55",
          "2000-01-01T01:49:55",
          "2000-01-01T01:49:58",
          "2000-01-01T01:49:58",
          "2000-01-01T01:50:01",
          "2000-01-01T01:50:03",
          "2000-01-01T01:50:05",
          "2000-01-01T01:50:07",
          "2000-01-01T01:50:09",
          "2000-01-01T01:50:09",
          "2000-01-01T01:50:12",
          "2000-01-01T01:50:13",
          "2000-01-01T01:50:14",
          "2000-01-01T01:50:19",
          "2000-01-01T01:50:19",
          "2000-01-01T01:50:21",
          "2000-01-01T01:50:22",
          "2000-01-01T01:50:27",
          "2000-01-01T01:50:27",
          "2000-01-01T01:50:30",
          "2000-01-01T01:50:30",
          "2000-01-01T01:50:31",
          "2000-01-01T01:50:32",
          "2000-01-01T01:50:33",
          "2000-01-01T01:50:38",
          "2000-01-01T01:50:38",
          "2000-01-01T01:50:39",
          "2000-01-01T01:50:39",
          "2000-01-01T01:50:40",
          "2000-01-01T01:50:40",
          "2000-01-01T01:50:41",
          "2000-01-01T01:50:43",
          "2000-01-01T01:50:44",
          "2000-01-01T01:50:46",
          "2000-01-01T01:50:47",
          "2000-01-01T01:50:48",
          "2000-01-01T01:50:51",
          "2000-01-01T01:50:52",
          "2000-01-01T01:50:54",
          "2000-01-01T01:50:57",
          "2000-01-01T01:51:02",
          "2000-01-01T01:51:02",
          "2000-01-01T01:51:03",
          "2000-01-01T01:51:03",
          "2000-01-01T01:51:07",
          "2000-01-01T01:51:08",
          "2000-01-01T01:51:10",
          "2000-01-01T01:51:11",
          "2000-01-01T01:51:12",
          "2000-01-01T01:51:13",
          "2000-01-01T01:51:15",
          "2000-01-01T01:51:15",
          "2000-01-01T01:51:16",
          "2000-01-01T01:51:16",
          "2000-01-01T01:51:22",
          "2000-01-01T01:51:23",
          "2000-01-01T01:51:24",
          "2000-01-01T01:51:25",
          "2000-01-01T01:51:26",
          "2000-01-01T01:51:27",
          "2000-01-01T01:51:27",
          "2000-01-01T01:51:28",
          "2000-01-01T01:51:29",
          "2000-01-01T01:51:30",
          "2000-01-01T01:51:32",
          "2000-01-01T01:51:34",
          "2000-01-01T01:51:40",
          "2000-01-01T01:51:41",
          "2000-01-01T01:51:43",
          "2000-01-01T01:51:43",
          "2000-01-01T01:51:43",
          "2000-01-01T01:51:44",
          "2000-01-01T01:51:46",
          "2000-01-01T01:51:47",
          "2000-01-01T01:51:49",
          "2000-01-01T01:51:51",
          "2000-01-01T01:51:54",
          "2000-01-01T01:51:54",
          "2000-01-01T01:51:58",
          "2000-01-01T01:52:01",
          "2000-01-01T01:52:01",
          "2000-01-01T01:52:02",
          "2000-01-01T01:52:04",
          "2000-01-01T01:52:04",
          "2000-01-01T01:52:05",
          "2000-01-01T01:52:08",
          "2000-01-01T01:52:08",
          "2000-01-01T01:52:10",
          "2000-01-01T01:52:11",
          "2000-01-01T01:52:13",
          "2000-01-01T01:52:17",
          "2000-01-01T01:52:18",
          "2000-01-01T01:52:18",
          "2000-01-01T01:52:21",
          "2000-01-01T01:52:24",
          "2000-01-01T01:52:27",
          "2000-01-01T01:52:28",
          "2000-01-01T01:52:30",
          "2000-01-01T01:52:31",
          "2000-01-01T01:52:31",
          "2000-01-01T01:52:35",
          "2000-01-01T01:52:36",
          "2000-01-01T01:52:38",
          "2000-01-01T01:52:38",
          "2000-01-01T01:52:39",
          "2000-01-01T01:52:40",
          "2000-01-01T01:52:44",
          "2000-01-01T01:52:45",
          "2000-01-01T01:52:45",
          "2000-01-01T01:52:49",
          "2000-01-01T01:52:50",
          "2000-01-01T01:52:51",
          "2000-01-01T01:52:51",
          "2000-01-01T01:52:52",
          "2000-01-01T01:52:53",
          "2000-01-01T01:52:54",
          "2000-01-01T01:52:54",
          "2000-01-01T01:53:00",
          "2000-01-01T01:53:06",
          "2000-01-01T01:53:06",
          "2000-01-01T01:53:07",
          "2000-01-01T01:53:07",
          "2000-01-01T01:53:11",
          "2000-01-01T01:53:11",
          "2000-01-01T01:53:12",
          "2000-01-01T01:53:13",
          "2000-01-01T01:53:16",
          "2000-01-01T01:53:17",
          "2000-01-01T01:53:18",
          "2000-01-01T01:53:22",
          "2000-01-01T01:53:22",
          "2000-01-01T01:53:23",
          "2000-01-01T01:53:25",
          "2000-01-01T01:53:26",
          "2000-01-01T01:53:27",
          "2000-01-01T01:53:28",
          "2000-01-01T01:53:29",
          "2000-01-01T01:53:38",
          "2000-01-01T01:53:39",
          "2000-01-01T01:53:41",
          "2000-01-01T01:53:44",
          "2000-01-01T01:53:44",
          "2000-01-01T01:53:45",
          "2000-01-01T01:53:45",
          "2000-01-01T01:53:47",
          "2000-01-01T01:53:51",
          "2000-01-01T01:53:51",
          "2000-01-01T01:53:54",
          "2000-01-01T01:53:54",
          "2000-01-01T01:53:54",
          "2000-01-01T01:54:00",
          "2000-01-01T01:54:02",
          "2000-01-01T01:54:03",
          "2000-01-01T01:54:03",
          "2000-01-01T01:54:07",
          "2000-01-01T01:54:08",
          "2000-01-01T01:54:12",
          "2000-01-01T01:54:16",
          "2000-01-01T01:54:16",
          "2000-01-01T01:54:18",
          "2000-01-01T01:54:20",
          "2000-01-01T01:54:21",
          "2000-01-01T01:54:21",
          "2000-01-01T01:54:21",
          "2000-01-01T01:54:26",
          "2000-01-01T01:54:26",
          "2000-01-01T01:54:28",
          "2000-01-01T01:54:29",
          "2000-01-01T01:54:30",
          "2000-01-01T01:54:30",
          "2000-01-01T01:54:31",
          "2000-01-01T01:54:33",
          "2000-01-01T01:54:33",
          "2000-01-01T01:54:33",
          "2000-01-01T01:54:34",
          "2000-01-01T01:54:34",
          "2000-01-01T01:54:35",
          "2000-01-01T01:54:35",
          "2000-01-01T01:54:37",
          "2000-01-01T01:54:38",
          "2000-01-01T01:54:44",
          "2000-01-01T01:54:46",
          "2000-01-01T01:54:48",
          "2000-01-01T01:54:49",
          "2000-01-01T01:54:54",
          "2000-01-01T01:54:56",
          "2000-01-01T01:54:56",
          "2000-01-01T01:54:57",
          "2000-01-01T01:55:00",
          "2000-01-01T01:55:01",
          "2000-01-01T01:55:02",
          "2000-01-01T01:55:05",
          "2000-01-01T01:55:05",
          "2000-01-01T01:55:07",
          "2000-01-01T01:55:09",
          "2000-01-01T01:55:10",
          "2000-01-01T01:55:11",
          "2000-01-01T01:55:11",
          "2000-01-01T01:55:11",
          "2000-01-01T01:55:14",
          "2000-01-01T01:55:15",
          "2000-01-01T01:55:17",
          "2000-01-01T01:55:21",
          "2000-01-01T01:55:23",
          "2000-01-01T01:55:25",
          "2000-01-01T01:55:25",
          "2000-01-01T01:55:26",
          "2000-01-01T01:55:28",
          "2000-01-01T01:55:29",
          "2000-01-01T01:55:32",
          "2000-01-01T01:55:34",
          "2000-01-01T01:55:39",
          "2000-01-01T01:55:41",
          "2000-01-01T01:55:41",
          "2000-01-01T01:55:43",
          "2000-01-01T01:55:44",
          "2000-01-01T01:55:46",
          "2000-01-01T01:55:47",
          "2000-01-01T01:55:48",
          "2000-01-01T01:55:51",
          "2000-01-01T01:55:54",
          "2000-01-01T01:55:54",
          "2000-01-01T01:55:57",
          "2000-01-01T01:56:00",
          "2000-01-01T01:56:00",
          "2000-01-01T01:56:05",
          "2000-01-01T01:56:05",
          "2000-01-01T01:56:07",
          "2000-01-01T01:56:08",
          "2000-01-01T01:56:08",
          "2000-01-01T01:56:11",
          "2000-01-01T01:56:11",
          "2000-01-01T01:56:12",
          "2000-01-01T01:56:14",
          "2000-01-01T01:56:14",
          "2000-01-01T01:56:15",
          "2000-01-01T01:56:16",
          "2000-01-01T01:56:20",
          "2000-01-01T01:56:23",
          "2000-01-01T01:56:24",
          "2000-01-01T01:56:25",
          "2000-01-01T01:56:26",
          "2000-01-01T01:56:26",
          "2000-01-01T01:56:27",
          "2000-01-01T01:56:27",
          "2000-01-01T01:56:29",
          "2000-01-01T01:56:31",
          "2000-01-01T01:56:32",
          "2000-01-01T01:56:36",
          "2000-01-01T01:56:37",
          "2000-01-01T01:56:37",
          "2000-01-01T01:56:38",
          "2000-01-01T01:56:38",
          "2000-01-01T01:56:43",
          "2000-01-01T01:56:44",
          "2000-01-01T01:56:44",
          "2000-01-01T01:56:46",
          "2000-01-01T01:56:47",
          "2000-01-01T01:56:50",
          "2000-01-01T01:56:51",
          "2000-01-01T01:56:53",
          "2000-01-01T01:56:53",
          "2000-01-01T01:56:54",
          "2000-01-01T01:56:54",
          "2000-01-01T01:56:57",
          "2000-01-01T01:56:59",
          "2000-01-01T01:57:00",
          "2000-01-01T01:57:00",
          "2000-01-01T01:57:00",
          "2000-01-01T01:57:00",
          "2000-01-01T01:57:02",
          "2000-01-01T01:57:02",
          "2000-01-01T01:57:03",
          "2000-01-01T01:57:05",
          "2000-01-01T01:57:07",
          "2000-01-01T01:57:09",
          "2000-01-01T01:57:10",
          "2000-01-01T01:57:11",
          "2000-01-01T01:57:13",
          "2000-01-01T01:57:13",
          "2000-01-01T01:57:13",
          "2000-01-01T01:57:14",
          "2000-01-01T01:57:15",
          "2000-01-01T01:57:15",
          "2000-01-01T01:57:15",
          "2000-01-01T01:57:15",
          "2000-01-01T01:57:15",
          "2000-01-01T01:57:19",
          "2000-01-01T01:57:19",
          "2000-01-01T01:57:19",
          "2000-01-01T01:57:21",
          "2000-01-01T01:57:25",
          "2000-01-01T01:57:25",
          "2000-01-01T01:57:27",
          "2000-01-01T01:57:27",
          "2000-01-01T01:57:30",
          "2000-01-01T01:57:31",
          "2000-01-01T01:57:32",
          "2000-01-01T01:57:33",
          "2000-01-01T01:57:36",
          "2000-01-01T01:57:38",
          "2000-01-01T01:57:38",
          "2000-01-01T01:57:39",
          "2000-01-01T01:57:40",
          "2000-01-01T01:57:42",
          "2000-01-01T01:57:42",
          "2000-01-01T01:57:43",
          "2000-01-01T01:57:43",
          "2000-01-01T01:57:46",
          "2000-01-01T01:57:47",
          "2000-01-01T01:57:47",
          "2000-01-01T01:57:48",
          "2000-01-01T01:57:51",
          "2000-01-01T01:57:53",
          "2000-01-01T01:57:54",
          "2000-01-01T01:57:55",
          "2000-01-01T01:57:55",
          "2000-01-01T01:57:57",
          "2000-01-01T01:57:58",
          "2000-01-01T01:58:03",
          "2000-01-01T01:58:04",
          "2000-01-01T01:58:05",
          "2000-01-01T01:58:07",
          "2000-01-01T01:58:07",
          "2000-01-01T01:58:09",
          "2000-01-01T01:58:09",
          "2000-01-01T01:58:09",
          "2000-01-01T01:58:09",
          "2000-01-01T01:58:14",
          "2000-01-01T01:58:14",
          "2000-01-01T01:58:14",
          "2000-01-01T01:58:16",
          "2000-01-01T01:58:18",
          "2000-01-01T01:58:20",
          "2000-01-01T01:58:20",
          "2000-01-01T01:58:20",
          "2000-01-01T01:58:21",
          "2000-01-01T01:58:22",
          "2000-01-01T01:58:23",
          "2000-01-01T01:58:23",
          "2000-01-01T01:58:24",
          "2000-01-01T01:58:27",
          "2000-01-01T01:58:27",
          "2000-01-01T01:58:30",
          "2000-01-01T01:58:31",
          "2000-01-01T01:58:31",
          "2000-01-01T01:58:37",
          "2000-01-01T01:58:39",
          "2000-01-01T01:58:42",
          "2000-01-01T01:58:43",
          "2000-01-01T01:58:43",
          "2000-01-01T01:58:45",
          "2000-01-01T01:58:46",
          "2000-01-01T01:58:47",
          "2000-01-01T01:58:48",
          "2000-01-01T01:58:49",
          "2000-01-01T01:58:49",
          "2000-01-01T01:58:51",
          "2000-01-01T01:58:52",
          "2000-01-01T01:58:53",
          "2000-01-01T01:58:54",
          "2000-01-01T01:58:55",
          "2000-01-01T01:58:55",
          "2000-01-01T01:58:55",
          "2000-01-01T01:58:56",
          "2000-01-01T01:58:57",
          "2000-01-01T01:58:58",
          "2000-01-01T01:58:58",
          "2000-01-01T01:58:59",
          "2000-01-01T01:59:01",
          "2000-01-01T01:59:01",
          "2000-01-01T01:59:01",
          "2000-01-01T01:59:03",
          "2000-01-01T01:59:03",
          "2000-01-01T01:59:03",
          "2000-01-01T01:59:04",
          "2000-01-01T01:59:05",
          "2000-01-01T01:59:13",
          "2000-01-01T01:59:16",
          "2000-01-01T01:59:18",
          "2000-01-01T01:59:22",
          "2000-01-01T01:59:22",
          "2000-01-01T01:59:28",
          "2000-01-01T01:59:28",
          "2000-01-01T01:59:29",
          "2000-01-01T01:59:29",
          "2000-01-01T01:59:30",
          "2000-01-01T01:59:33",
          "2000-01-01T01:59:39",
          "2000-01-01T01:59:39",
          "2000-01-01T01:59:40",
          "2000-01-01T01:59:42",
          "2000-01-01T01:59:42",
          "2000-01-01T01:59:44",
          "2000-01-01T01:59:45",
          "2000-01-01T01:59:46",
          "2000-01-01T01:59:49",
          "2000-01-01T01:59:50",
          "2000-01-01T01:59:51",
          "2000-01-01T01:59:53",
          "2000-01-01T01:59:58",
          "2000-01-01T01:59:58",
          "2000-01-01T01:59:58",
          "2000-01-01T01:59:59",
          "2000-01-01T02:00:00",
          "2000-01-01T02:00:00",
          "2000-01-01T02:00:04",
          "2000-01-01T02:00:05",
          "2000-01-01T02:00:06",
          "2000-01-01T02:00:12",
          "2000-01-01T02:00:14",
          "2000-01-01T02:00:15",
          "2000-01-01T02:00:17",
          "2000-01-01T02:00:21",
          "2000-01-01T02:00:22",
          "2000-01-01T02:00:22",
          "2000-01-01T02:00:23",
          "2000-01-01T02:00:23",
          "2000-01-01T02:00:29",
          "2000-01-01T02:00:29",
          "2000-01-01T02:00:32",
          "2000-01-01T02:00:36",
          "2000-01-01T02:00:39",
          "2000-01-01T02:00:39",
          "2000-01-01T02:00:41",
          "2000-01-01T02:00:43",
          "2000-01-01T02:00:43",
          "2000-01-01T02:00:43",
          "2000-01-01T02:00:45",
          "2000-01-01T02:00:46",
          "2000-01-01T02:00:47",
          "2000-01-01T02:00:48",
          "2000-01-01T02:00:49",
          "2000-01-01T02:00:51",
          "2000-01-01T02:00:53",
          "2000-01-01T02:00:59",
          "2000-01-01T02:01:01",
          "2000-01-01T02:01:04",
          "2000-01-01T02:01:04",
          "2000-01-01T02:01:04",
          "2000-01-01T02:01:04",
          "2000-01-01T02:01:09",
          "2000-01-01T02:01:09",
          "2000-01-01T02:01:10",
          "2000-01-01T02:01:10",
          "2000-01-01T02:01:11",
          "2000-01-01T02:01:13",
          "2000-01-01T02:01:14",
          "2000-01-01T02:01:18",
          "2000-01-01T02:01:19",
          "2000-01-01T02:01:20",
          "2000-01-01T02:01:20",
          "2000-01-01T02:01:20",
          "2000-01-01T02:01:25",
          "2000-01-01T02:01:25",
          "2000-01-01T02:01:26",
          "2000-01-01T02:01:27",
          "2000-01-01T02:01:29",
          "2000-01-01T02:01:30",
          "2000-01-01T02:01:32",
          "2000-01-01T02:01:33",
          "2000-01-01T02:01:35",
          "2000-01-01T02:01:36",
          "2000-01-01T02:01:37",
          "2000-01-01T02:01:38",
          "2000-01-01T02:01:41",
          "2000-01-01T02:01:44",
          "2000-01-01T02:01:47",
          "2000-01-01T02:01:52",
          "2000-01-01T02:01:53",
          "2000-01-01T02:01:54",
          "2000-01-01T02:01:56",
          "2000-01-01T02:01:56",
          "2000-01-01T02:02:01",
          "2000-01-01T02:02:01",
          "2000-01-01T02:02:02",
          "2000-01-01T02:02:07",
          "2000-01-01T02:02:14",
          "2000-01-01T02:02:14",
          "2000-01-01T02:02:17",
          "2000-01-01T02:02:19",
          "2000-01-01T02:02:22",
          "2000-01-01T02:02:24",
          "2000-01-01T02:02:24",
          "2000-01-01T02:02:26",
          "2000-01-01T02:02:27",
          "2000-01-01T02:02:29",
          "2000-01-01T02:02:32",
          "2000-01-01T02:02:33",
          "2000-01-01T02:02:35",
          "2000-01-01T02:02:38",
          "2000-01-01T02:02:41",
          "2000-01-01T02:02:44",
          "2000-01-01T02:02:44",
          "2000-01-01T02:02:50",
          "2000-01-01T02:02:50",
          "2000-01-01T02:02:51",
          "2000-01-01T02:02:53",
          "2000-01-01T02:02:54",
          "2000-01-01T02:02:56",
          "2000-01-01T02:03:01",
          "2000-01-01T02:03:02",
          "2000-01-01T02:03:03",
          "2000-01-01T02:03:04",
          "2000-01-01T02:03:04",
          "2000-01-01T02:03:05",
          "2000-01-01T02:03:07",
          "2000-01-01T02:03:13",
          "2000-01-01T02:03:13",
          "2000-01-01T02:03:15",
          "2000-01-01T02:03:19",
          "2000-01-01T02:03:19",
          "2000-01-01T02:03:19",
          "2000-01-01T02:03:21",
          "2000-01-01T02:03:22",
          "2000-01-01T02:03:24",
          "2000-01-01T02:03:25",
          "2000-01-01T02:03:28",
          "2000-01-01T02:03:28",
          "2000-01-01T02:03:31",
          "2000-01-01T02:03:35",
          "2000-01-01T02:03:39",
          "2000-01-01T02:03:40",
          "2000-01-01T02:03:42",
          "2000-01-01T02:03:43",
          "2000-01-01T02:03:44",
          "2000-01-01T02:03:45",
          "2000-01-01T02:03:46",
          "2000-01-01T02:03:49",
          "2000-01-01T02:03:49",
          "2000-01-01T02:03:50",
          "2000-01-01T02:03:51",
          "2000-01-01T02:03:51",
          "2000-01-01T02:03:53",
          "2000-01-01T02:03:53",
          "2000-01-01T02:04:02",
          "2000-01-01T02:04:03",
          "2000-01-01T02:04:03",
          "2000-01-01T02:04:04",
          "2000-01-01T02:04:06",
          "2000-01-01T02:04:07",
          "2000-01-01T02:04:13",
          "2000-01-01T02:04:14",
          "2000-01-01T02:04:14",
          "2000-01-01T02:04:15",
          "2000-01-01T02:04:15",
          "2000-01-01T02:04:20",
          "2000-01-01T02:04:21",
          "2000-01-01T02:04:22",
          "2000-01-01T02:04:25",
          "2000-01-01T02:04:25",
          "2000-01-01T02:04:27",
          "2000-01-01T02:04:29",
          "2000-01-01T02:04:33",
          "2000-01-01T02:04:33",
          "2000-01-01T02:04:33",
          "2000-01-01T02:04:34",
          "2000-01-01T02:04:35",
          "2000-01-01T02:04:36",
          "2000-01-01T02:04:40",
          "2000-01-01T02:04:41",
          "2000-01-01T02:04:43",
          "2000-01-01T02:04:44",
          "2000-01-01T02:04:47",
          "2000-01-01T02:04:48",
          "2000-01-01T02:04:49",
          "2000-01-01T02:04:51",
          "2000-01-01T02:04:52",
          "2000-01-01T02:04:53",
          "2000-01-01T02:04:55",
          "2000-01-01T02:04:56",
          "2000-01-01T02:04:59",
          "2000-01-01T02:05:01",
          "2000-01-01T02:05:06",
          "2000-01-01T02:05:07",
          "2000-01-01T02:05:08",
          "2000-01-01T02:05:09",
          "2000-01-01T02:05:11",
          "2000-01-01T02:05:17",
          "2000-01-01T02:05:17",
          "2000-01-01T02:05:19",
          "2000-01-01T02:05:20",
          "2000-01-01T02:05:21",
          "2000-01-01T02:05:23",
          "2000-01-01T02:05:25",
          "2000-01-01T02:05:25",
          "2000-01-01T02:05:26",
          "2000-01-01T02:05:26",
          "2000-01-01T02:05:31",
          "2000-01-01T02:05:33",
          "2000-01-01T02:05:35",
          "2000-01-01T02:05:36",
          "2000-01-01T02:05:36",
          "2000-01-01T02:05:41",
          "2000-01-01T02:05:43",
          "2000-01-01T02:05:45",
          "2000-01-01T02:05:49",
          "2000-01-01T02:05:52",
          "2000-01-01T02:05:52",
          "2000-01-01T02:05:52",
          "2000-01-01T02:05:52",
          "2000-01-01T02:05:53",
          "2000-01-01T02:05:55",
          "2000-01-01T02:05:57",
          "2000-01-01T02:05:58",
          "2000-01-01T02:06:00",
          "2000-01-01T02:06:00",
          "2000-01-01T02:06:01",
          "2000-01-01T02:06:02",
          "2000-01-01T02:06:02",
          "2000-01-01T02:06:03",
          "2000-01-01T02:06:06",
          "2000-01-01T02:06:08",
          "2000-01-01T02:06:09",
          "2000-01-01T02:06:10",
          "2000-01-01T02:06:10",
          "2000-01-01T02:06:15",
          "2000-01-01T02:06:19",
          "2000-01-01T02:06:20",
          "2000-01-01T02:06:24",
          "2000-01-01T02:06:26",
          "2000-01-01T02:06:27",
          "2000-01-01T02:06:31",
          "2000-01-01T02:06:32",
          "2000-01-01T02:06:33",
          "2000-01-01T02:06:36",
          "2000-01-01T02:06:36",
          "2000-01-01T02:06:37",
          "2000-01-01T02:06:38",
          "2000-01-01T02:06:39",
          "2000-01-01T02:06:41",
          "2000-01-01T02:06:46",
          "2000-01-01T02:06:48",
          "2000-01-01T02:06:48",
          "2000-01-01T02:06:50",
          "2000-01-01T02:06:52",
          "2000-01-01T02:06:55",
          "2000-01-01T02:06:59",
          "2000-01-01T02:07:03",
          "2000-01-01T02:07:03",
          "2000-01-01T02:07:05",
          "2000-01-01T02:07:11",
          "2000-01-01T02:07:12",
          "2000-01-01T02:07:15",
          "2000-01-01T02:07:15",
          "2000-01-01T02:07:15",
          "2000-01-01T02:07:17",
          "2000-01-01T02:07:19",
          "2000-01-01T02:07:24",
          "2000-01-01T02:07:25",
          "2000-01-01T02:07:26",
          "2000-01-01T02:07:26",
          "2000-01-01T02:07:28",
          "2000-01-01T02:07:29",
          "2000-01-01T02:07:29",
          "2000-01-01T02:07:31",
          "2000-01-01T02:07:31",
          "2000-01-01T02:07:32",
          "2000-01-01T02:07:35",
          "2000-01-01T02:07:37",
          "2000-01-01T02:07:38",
          "2000-01-01T02:07:41",
          "2000-01-01T02:07:42",
          "2000-01-01T02:07:43",
          "2000-01-01T02:07:46",
          "2000-01-01T02:07:48",
          "2000-01-01T02:07:49",
          "2000-01-01T02:07:51",
          "2000-01-01T02:07:51",
          "2000-01-01T02:07:54",
          "2000-01-01T02:07:55",
          "2000-01-01T02:07:57",
          "2000-01-01T02:08:07",
          "2000-01-01T02:08:08",
          "2000-01-01T02:08:09",
          "2000-01-01T02:08:09",
          "2000-01-01T02:08:10",
          "2000-01-01T02:08:10",
          "2000-01-01T02:08:11",
          "2000-01-01T02:08:13",
          "2000-01-01T02:08:13",
          "2000-01-01T02:08:16",
          "2000-01-01T02:08:18",
          "2000-01-01T02:08:19",
          "2000-01-01T02:08:19",
          "2000-01-01T02:08:20",
          "2000-01-01T02:08:24",
          "2000-01-01T02:08:26",
          "2000-01-01T02:08:26",
          "2000-01-01T02:08:27",
          "2000-01-01T02:08:29",
          "2000-01-01T02:08:33",
          "2000-01-01T02:08:34",
          "2000-01-01T02:08:34",
          "2000-01-01T02:08:36",
          "2000-01-01T02:08:37",
          "2000-01-01T02:08:37",
          "2000-01-01T02:08:38",
          "2000-01-01T02:08:38",
          "2000-01-01T02:08:41",
          "2000-01-01T02:08:45",
          "2000-01-01T02:08:47",
          "2000-01-01T02:08:49",
          "2000-01-01T02:08:51",
          "2000-01-01T02:08:52",
          "2000-01-01T02:08:56",
          "2000-01-01T02:08:58",
          "2000-01-01T02:08:58",
          "2000-01-01T02:08:58",
          "2000-01-01T02:08:59",
          "2000-01-01T02:09:00",
          "2000-01-01T02:09:01",
          "2000-01-01T02:09:01",
          "2000-01-01T02:09:04",
          "2000-01-01T02:09:05",
          "2000-01-01T02:09:09",
          "2000-01-01T02:09:11",
          "2000-01-01T02:09:13",
          "2000-01-01T02:09:13",
          "2000-01-01T02:09:21",
          "2000-01-01T02:09:23",
          "2000-01-01T02:09:25",
          "2000-01-01T02:09:29",
          "2000-01-01T02:09:30",
          "2000-01-01T02:09:33",
          "2000-01-01T02:09:37",
          "2000-01-01T02:09:39",
          "2000-01-01T02:09:39",
          "2000-01-01T02:09:45",
          "2000-01-01T02:09:47",
          "2000-01-01T02:09:52",
          "2000-01-01T02:09:52",
          "2000-01-01T02:10:00",
          "2000-01-01T02:10:02",
          "2000-01-01T02:10:04",
          "2000-01-01T02:10:05",
          "2000-01-01T02:10:07",
          "2000-01-01T02:10:09",
          "2000-01-01T02:10:09",
          "2000-01-01T02:10:10",
          "2000-01-01T02:10:10",
          "2000-01-01T02:10:11",
          "2000-01-01T02:10:11",
          "2000-01-01T02:10:13",
          "2000-01-01T02:10:14",
          "2000-01-01T02:10:15",
          "2000-01-01T02:10:17",
          "2000-01-01T02:10:19",
          "2000-01-01T02:10:22",
          "2000-01-01T02:10:23",
          "2000-01-01T02:10:24",
          "2000-01-01T02:10:28",
          "2000-01-01T02:10:29",
          "2000-01-01T02:10:31",
          "2000-01-01T02:10:31",
          "2000-01-01T02:10:34",
          "2000-01-01T02:10:34",
          "2000-01-01T02:10:41",
          "2000-01-01T02:10:43",
          "2000-01-01T02:10:44",
          "2000-01-01T02:10:45",
          "2000-01-01T02:10:46",
          "2000-01-01T02:10:49",
          "2000-01-01T02:10:51",
          "2000-01-01T02:10:52",
          "2000-01-01T02:10:55",
          "2000-01-01T02:10:57",
          "2000-01-01T02:10:58",
          "2000-01-01T02:10:58",
          "2000-01-01T02:11:07",
          "2000-01-01T02:11:15",
          "2000-01-01T02:11:16",
          "2000-01-01T02:11:24",
          "2000-01-01T02:11:25",
          "2000-01-01T02:11:25",
          "2000-01-01T02:11:26",
          "2000-01-01T02:11:30",
          "2000-01-01T02:11:36",
          "2000-01-01T02:11:38",
          "2000-01-01T02:11:49",
          "2000-01-01T02:11:53",
          "2000-01-01T02:11:55",
          "2000-01-01T02:11:56",
          "2000-01-01T02:11:57",
          "2000-01-01T02:11:58",
          "2000-01-01T02:11:59",
          "2000-01-01T02:12:01",
          "2000-01-01T02:12:02",
          "2000-01-01T02:12:07",
          "2000-01-01T02:12:07",
          "2000-01-01T02:12:10",
          "2000-01-01T02:12:11",
          "2000-01-01T02:12:12",
          "2000-01-01T02:12:12",
          "2000-01-01T02:12:12",
          "2000-01-01T02:12:13",
          "2000-01-01T02:12:17",
          "2000-01-01T02:12:20",
          "2000-01-01T02:12:26",
          "2000-01-01T02:12:27",
          "2000-01-01T02:12:28",
          "2000-01-01T02:12:29",
          "2000-01-01T02:12:33",
          "2000-01-01T02:12:35",
          "2000-01-01T02:12:39",
          "2000-01-01T02:12:40",
          "2000-01-01T02:12:45",
          "2000-01-01T02:12:46",
          "2000-01-01T02:12:49",
          "2000-01-01T02:12:51",
          "2000-01-01T02:12:53",
          "2000-01-01T02:12:56",
          "2000-01-01T02:12:57",
          "2000-01-01T02:12:58",
          "2000-01-01T02:12:58",
          "2000-01-01T02:12:59",
          "2000-01-01T02:13:00",
          "2000-01-01T02:13:01",
          "2000-01-01T02:13:02",
          "2000-01-01T02:13:06",
          "2000-01-01T02:13:09",
          "2000-01-01T02:13:15",
          "2000-01-01T02:13:20",
          "2000-01-01T02:13:28",
          "2000-01-01T02:13:35",
          "2000-01-01T02:13:41",
          "2000-01-01T02:13:42",
          "2000-01-01T02:13:46",
          "2000-01-01T02:13:46",
          "2000-01-01T02:13:48",
          "2000-01-01T02:13:56",
          "2000-01-01T02:14:04",
          "2000-01-01T02:14:04",
          "2000-01-01T02:14:06",
          "2000-01-01T02:14:08",
          "2000-01-01T02:14:28",
          "2000-01-01T02:14:33",
          "2000-01-01T02:14:34",
          "2000-01-01T02:14:40",
          "2000-01-01T02:14:44",
          "2000-01-01T02:14:44",
          "2000-01-01T02:14:45",
          "2000-01-01T02:14:53",
          "2000-01-01T02:14:58",
          "2000-01-01T02:14:59",
          "2000-01-01T02:15:01",
          "2000-01-01T02:15:06",
          "2000-01-01T02:15:07",
          "2000-01-01T02:15:09",
          "2000-01-01T02:15:13",
          "2000-01-01T02:15:13",
          "2000-01-01T02:15:16",
          "2000-01-01T02:15:18",
          "2000-01-01T02:15:22",
          "2000-01-01T02:15:24",
          "2000-01-01T02:15:29",
          "2000-01-01T02:15:40",
          "2000-01-01T02:15:40",
          "2000-01-01T02:15:52",
          "2000-01-01T02:15:54",
          "2000-01-01T02:15:57",
          "2000-01-01T02:16:01",
          "2000-01-01T02:16:03",
          "2000-01-01T02:16:03",
          "2000-01-01T02:16:08",
          "2000-01-01T02:16:10",
          "2000-01-01T02:16:11",
          "2000-01-01T02:16:15",
          "2000-01-01T02:16:17",
          "2000-01-01T02:16:19",
          "2000-01-01T02:16:25",
          "2000-01-01T02:16:26",
          "2000-01-01T02:16:27",
          "2000-01-01T02:16:29",
          "2000-01-01T02:16:30",
          "2000-01-01T02:16:31",
          "2000-01-01T02:16:31",
          "2000-01-01T02:16:33",
          "2000-01-01T02:16:36",
          "2000-01-01T02:16:39",
          "2000-01-01T02:16:40",
          "2000-01-01T02:16:43",
          "2000-01-01T02:16:45",
          "2000-01-01T02:16:49",
          "2000-01-01T02:16:51",
          "2000-01-01T02:16:52",
          "2000-01-01T02:16:52",
          "2000-01-01T02:16:54",
          "2000-01-01T02:16:55",
          "2000-01-01T02:17:00",
          "2000-01-01T02:17:01",
          "2000-01-01T02:17:03",
          "2000-01-01T02:17:10",
          "2000-01-01T02:17:18",
          "2000-01-01T02:17:19",
          "2000-01-01T02:17:24",
          "2000-01-01T02:17:27",
          "2000-01-01T02:17:28",
          "2000-01-01T02:17:30",
          "2000-01-01T02:17:31",
          "2000-01-01T02:17:33",
          "2000-01-01T02:17:33",
          "2000-01-01T02:17:38",
          "2000-01-01T02:17:39",
          "2000-01-01T02:17:40",
          "2000-01-01T02:17:46",
          "2000-01-01T02:17:50",
          "2000-01-01T02:17:57",
          "2000-01-01T02:18:02",
          "2000-01-01T02:18:05",
          "2000-01-01T02:18:08",
          "2000-01-01T02:18:14",
          "2000-01-01T02:18:16",
          "2000-01-01T02:18:23",
          "2000-01-01T02:18:26",
          "2000-01-01T02:18:30",
          "2000-01-01T02:18:33",
          "2000-01-01T02:18:36",
          "2000-01-01T02:18:49",
          "2000-01-01T02:18:52",
          "2000-01-01T02:18:52",
          "2000-01-01T02:18:59",
          "2000-01-01T02:19:04",
          "2000-01-01T02:19:13",
          "2000-01-01T02:19:16",
          "2000-01-01T02:19:17",
          "2000-01-01T02:19:17",
          "2000-01-01T02:19:29",
          "2000-01-01T02:19:35",
          "2000-01-01T02:19:36",
          "2000-01-01T02:19:41",
          "2000-01-01T02:19:48",
          "2000-01-01T02:19:54",
          "2000-01-01T02:19:55",
          "2000-01-01T02:19:58",
          "2000-01-01T02:20:00",
          "2000-01-01T02:20:05",
          "2000-01-01T02:20:07",
          "2000-01-01T02:20:13",
          "2000-01-01T02:20:17",
          "2000-01-01T02:20:18",
          "2000-01-01T02:20:20",
          "2000-01-01T02:20:27",
          "2000-01-01T02:20:27",
          "2000-01-01T02:20:28",
          "2000-01-01T02:20:35",
          "2000-01-01T02:20:36",
          "2000-01-01T02:20:36",
          "2000-01-01T02:20:47",
          "2000-01-01T02:20:58",
          "2000-01-01T02:21:03",
          "2000-01-01T02:21:09",
          "2000-01-01T02:21:18",
          "2000-01-01T02:21:19",
          "2000-01-01T02:21:33",
          "2000-01-01T02:21:40",
          "2000-01-01T02:21:42",
          "2000-01-01T02:21:46",
          "2000-01-01T02:21:53",
          "2000-01-01T02:21:56",
          "2000-01-01T02:22:14",
          "2000-01-01T02:22:15",
          "2000-01-01T02:22:16",
          "2000-01-01T02:22:16",
          "2000-01-01T02:22:16",
          "2000-01-01T02:22:22",
          "2000-01-01T02:22:42",
          "2000-01-01T02:22:43",
          "2000-01-01T02:22:49",
          "2000-01-01T02:22:50",
          "2000-01-01T02:22:57",
          "2000-01-01T02:22:57",
          "2000-01-01T02:23:00",
          "2000-01-01T02:23:10",
          "2000-01-01T02:23:27",
          "2000-01-01T02:23:29",
          "2000-01-01T02:23:38",
          "2000-01-01T02:23:43",
          "2000-01-01T02:23:44",
          "2000-01-01T02:23:45",
          "2000-01-01T02:23:46",
          "2000-01-01T02:23:49",
          "2000-01-01T02:23:54",
          "2000-01-01T02:24:01",
          "2000-01-01T02:24:02",
          "2000-01-01T02:24:03",
          "2000-01-01T02:24:12",
          "2000-01-01T02:24:18",
          "2000-01-01T02:24:19",
          "2000-01-01T02:24:22",
          "2000-01-01T02:24:22",
          "2000-01-01T02:24:28",
          "2000-01-01T02:24:39",
          "2000-01-01T02:24:44",
          "2000-01-01T02:24:49",
          "2000-01-01T02:24:55",
          "2000-01-01T02:25:13",
          "2000-01-01T02:25:20",
          "2000-01-01T02:25:24",
          "2000-01-01T02:25:27",
          "2000-01-01T02:25:27",
          "2000-01-01T02:25:30",
          "2000-01-01T02:25:34",
          "2000-01-01T02:26:13",
          "2000-01-01T02:26:37",
          "2000-01-01T02:26:39",
          "2000-01-01T02:27:03",
          "2000-01-01T02:27:06",
          "2000-01-01T02:27:10",
          "2000-01-01T02:27:28",
          "2000-01-01T02:27:43",
          "2000-01-01T02:27:46",
          "2000-01-01T02:27:52",
          "2000-01-01T02:27:54",
          "2000-01-01T02:28:19",
          "2000-01-01T02:28:26",
          "2000-01-01T02:28:34",
          "2000-01-01T02:28:36",
          "2000-01-01T02:28:37",
          "2000-01-01T02:28:37",
          "2000-01-01T02:28:47",
          "2000-01-01T02:28:47",
          "2000-01-01T02:28:51",
          "2000-01-01T02:28:52",
          "2000-01-01T02:28:57",
          "2000-01-01T02:29:00",
          "2000-01-01T02:29:06",
          "2000-01-01T02:29:11",
          "2000-01-01T02:29:18",
          "2000-01-01T02:29:31",
          "2000-01-01T02:29:40",
          "2000-01-01T02:29:44",
          "2000-01-01T02:30:03",
          "2000-01-01T02:30:03",
          "2000-01-01T02:30:05",
          "2000-01-01T02:30:07",
          "2000-01-01T02:30:12",
          "2000-01-01T02:30:18",
          "2000-01-01T02:30:37",
          "2000-01-01T02:30:41",
          "2000-01-01T02:30:50",
          "2000-01-01T02:30:51",
          "2000-01-01T02:31:03",
          "2000-01-01T02:31:04",
          "2000-01-01T02:31:13",
          "2000-01-01T02:31:15",
          "2000-01-01T02:31:25",
          "2000-01-01T02:31:34",
          "2000-01-01T02:31:39",
          "2000-01-01T02:31:59",
          "2000-01-01T02:32:09",
          "2000-01-01T02:32:14",
          "2000-01-01T02:32:28",
          "2000-01-01T02:32:38",
          "2000-01-01T02:32:41",
          "2000-01-01T02:32:44",
          "2000-01-01T02:32:56",
          "2000-01-01T02:32:57",
          "2000-01-01T02:33:05",
          "2000-01-01T02:33:15",
          "2000-01-01T02:33:15",
          "2000-01-01T02:33:18",
          "2000-01-01T02:33:43",
          "2000-01-01T02:33:50",
          "2000-01-01T02:34:01",
          "2000-01-01T02:34:02",
          "2000-01-01T02:34:30",
          "2000-01-01T02:34:50",
          "2000-01-01T02:34:56",
          "2000-01-01T02:35:03",
          "2000-01-01T02:35:10",
          "2000-01-01T02:35:34",
          "2000-01-01T02:35:36",
          "2000-01-01T02:35:57",
          "2000-01-01T02:36:12",
          "2000-01-01T02:36:13",
          "2000-01-01T02:36:24",
          "2000-01-01T02:36:27",
          "2000-01-01T02:36:34",
          "2000-01-01T02:36:44",
          "2000-01-01T02:36:44",
          "2000-01-01T02:36:47",
          "2000-01-01T02:36:50",
          "2000-01-01T02:37:21",
          "2000-01-01T02:37:31",
          "2000-01-01T02:37:32",
          "2000-01-01T02:38:20",
          "2000-01-01T02:38:24",
          "2000-01-01T02:39:08",
          "2000-01-01T02:39:43",
          "2000-01-01T02:39:58",
          "2000-01-01T02:40:28",
          "2000-01-01T02:40:47",
          "2000-01-01T02:41:09",
          "2000-01-01T02:41:31",
          "2000-01-01T02:41:46",
          "2000-01-01T02:42:07",
          "2000-01-01T02:42:17",
          "2000-01-01T02:42:25",
          "2000-01-01T02:42:34",
          "2000-01-01T02:42:56",
          "2000-01-01T02:43:22",
          "2000-01-01T02:43:30",
          "2000-01-01T02:43:36",
          "2000-01-01T02:43:52",
          "2000-01-01T02:43:52",
          "2000-01-01T02:43:59",
          "2000-01-01T02:44:04",
          "2000-01-01T02:44:22",
          "2000-01-01T02:44:24",
          "2000-01-01T02:44:55",
          "2000-01-01T02:45:06",
          "2000-01-01T02:45:08",
          "2000-01-01T02:45:20",
          "2000-01-01T02:45:34",
          "2000-01-01T02:45:34",
          "2000-01-01T02:45:47",
          "2000-01-01T02:46:08",
          "2000-01-01T02:46:15",
          "2000-01-01T02:46:16",
          "2000-01-01T02:46:21",
          "2000-01-01T02:46:24",
          "2000-01-01T02:46:29",
          "2000-01-01T02:46:44",
          "2000-01-01T02:46:51",
          "2000-01-01T02:47:02",
          "2000-01-01T02:47:44",
          "2000-01-01T02:47:59",
          "2000-01-01T02:48:00",
          "2000-01-01T02:48:05",
          "2000-01-01T02:48:05",
          "2000-01-01T02:48:23",
          "2000-01-01T02:49:21",
          "2000-01-01T02:49:52",
          "2000-01-01T02:50:57",
          "2000-01-01T02:51:34",
          "2000-01-01T02:52:00",
          "2000-01-01T02:52:13",
          "2000-01-01T02:53:33",
          "2000-01-01T02:53:39",
          "2000-01-01T02:53:39",
          "2000-01-01T02:53:54",
          "2000-01-01T02:53:59",
          "2000-01-01T02:54:36",
          "2000-01-01T02:57:58",
          "2000-01-01T02:59:10",
          "2000-01-01T03:00:44"
         ],
         "xaxis": "x",
         "yaxis": "y"
        },
        {
         "name": "Female",
         "type": "histogram",
         "x": [
          "2000-01-01T01:10:23",
          "2000-01-01T01:13:37",
          "2000-01-01T01:15:38",
          "2000-01-01T01:17:37",
          "2000-01-01T01:18:03",
          "2000-01-01T01:19:06",
          "2000-01-01T01:19:33",
          "2000-01-01T01:20:06",
          "2000-01-01T01:21:00",
          "2000-01-01T01:21:50",
          "2000-01-01T01:22:50",
          "2000-01-01T01:22:50",
          "2000-01-01T01:23:06",
          "2000-01-01T01:23:36",
          "2000-01-01T01:24:00",
          "2000-01-01T01:25:19",
          "2000-01-01T01:25:39",
          "2000-01-01T01:26:21",
          "2000-01-01T01:26:47",
          "2000-01-01T01:27:28",
          "2000-01-01T01:27:33",
          "2000-01-01T01:27:49",
          "2000-01-01T01:28:00",
          "2000-01-01T01:28:11",
          "2000-01-01T01:28:20",
          "2000-01-01T01:28:46",
          "2000-01-01T01:28:55",
          "2000-01-01T01:28:58",
          "2000-01-01T01:29:03",
          "2000-01-01T01:29:06",
          "2000-01-01T01:29:29",
          "2000-01-01T01:29:38",
          "2000-01-01T01:29:52",
          "2000-01-01T01:30:16",
          "2000-01-01T01:30:20",
          "2000-01-01T01:30:38",
          "2000-01-01T01:30:42",
          "2000-01-01T01:30:46",
          "2000-01-01T01:30:47",
          "2000-01-01T01:31:01",
          "2000-01-01T01:31:12",
          "2000-01-01T01:31:13",
          "2000-01-01T01:31:19",
          "2000-01-01T01:31:34",
          "2000-01-01T01:31:46",
          "2000-01-01T01:31:57",
          "2000-01-01T01:32:05",
          "2000-01-01T01:32:19",
          "2000-01-01T01:32:20",
          "2000-01-01T01:32:39",
          "2000-01-01T01:32:45",
          "2000-01-01T01:32:45",
          "2000-01-01T01:32:49",
          "2000-01-01T01:34:08",
          "2000-01-01T01:34:31",
          "2000-01-01T01:34:31",
          "2000-01-01T01:34:35",
          "2000-01-01T01:34:41",
          "2000-01-01T01:34:43",
          "2000-01-01T01:35:02",
          "2000-01-01T01:35:07",
          "2000-01-01T01:35:07",
          "2000-01-01T01:35:12",
          "2000-01-01T01:35:12",
          "2000-01-01T01:35:16",
          "2000-01-01T01:35:23",
          "2000-01-01T01:35:25",
          "2000-01-01T01:35:27",
          "2000-01-01T01:35:30",
          "2000-01-01T01:35:31",
          "2000-01-01T01:35:31",
          "2000-01-01T01:35:42",
          "2000-01-01T01:35:44",
          "2000-01-01T01:36:10",
          "2000-01-01T01:36:12",
          "2000-01-01T01:36:16",
          "2000-01-01T01:36:20",
          "2000-01-01T01:36:28",
          "2000-01-01T01:36:30",
          "2000-01-01T01:36:48",
          "2000-01-01T01:36:50",
          "2000-01-01T01:36:53",
          "2000-01-01T01:36:53",
          "2000-01-01T01:36:56",
          "2000-01-01T01:37:10",
          "2000-01-01T01:37:15",
          "2000-01-01T01:37:26",
          "2000-01-01T01:37:29",
          "2000-01-01T01:37:30",
          "2000-01-01T01:37:47",
          "2000-01-01T01:37:48",
          "2000-01-01T01:37:51",
          "2000-01-01T01:37:56",
          "2000-01-01T01:38:01",
          "2000-01-01T01:38:02",
          "2000-01-01T01:38:21",
          "2000-01-01T01:38:27",
          "2000-01-01T01:38:29",
          "2000-01-01T01:38:31",
          "2000-01-01T01:38:31",
          "2000-01-01T01:38:41",
          "2000-01-01T01:38:48",
          "2000-01-01T01:38:49",
          "2000-01-01T01:39:10",
          "2000-01-01T01:39:12",
          "2000-01-01T01:39:28",
          "2000-01-01T01:39:36",
          "2000-01-01T01:39:38",
          "2000-01-01T01:39:40",
          "2000-01-01T01:39:40",
          "2000-01-01T01:39:46",
          "2000-01-01T01:39:54",
          "2000-01-01T01:39:57",
          "2000-01-01T01:40:00",
          "2000-01-01T01:40:04",
          "2000-01-01T01:40:06",
          "2000-01-01T01:40:07",
          "2000-01-01T01:40:08",
          "2000-01-01T01:40:17",
          "2000-01-01T01:40:19",
          "2000-01-01T01:40:36",
          "2000-01-01T01:40:50",
          "2000-01-01T01:40:53",
          "2000-01-01T01:40:53",
          "2000-01-01T01:40:58",
          "2000-01-01T01:40:59",
          "2000-01-01T01:41:03",
          "2000-01-01T01:41:05",
          "2000-01-01T01:41:09",
          "2000-01-01T01:41:14",
          "2000-01-01T01:41:15",
          "2000-01-01T01:41:16",
          "2000-01-01T01:41:17",
          "2000-01-01T01:41:19",
          "2000-01-01T01:41:25",
          "2000-01-01T01:41:29",
          "2000-01-01T01:41:32",
          "2000-01-01T01:41:35",
          "2000-01-01T01:41:45",
          "2000-01-01T01:41:46",
          "2000-01-01T01:41:46",
          "2000-01-01T01:41:47",
          "2000-01-01T01:41:49",
          "2000-01-01T01:41:53",
          "2000-01-01T01:41:53",
          "2000-01-01T01:41:57",
          "2000-01-01T01:41:59",
          "2000-01-01T01:42:01",
          "2000-01-01T01:42:03",
          "2000-01-01T01:42:07",
          "2000-01-01T01:42:08",
          "2000-01-01T01:42:09",
          "2000-01-01T01:42:12",
          "2000-01-01T01:42:24",
          "2000-01-01T01:42:34",
          "2000-01-01T01:42:37",
          "2000-01-01T01:42:41",
          "2000-01-01T01:42:43",
          "2000-01-01T01:42:44",
          "2000-01-01T01:42:44",
          "2000-01-01T01:42:46",
          "2000-01-01T01:42:52",
          "2000-01-01T01:42:55",
          "2000-01-01T01:42:59",
          "2000-01-01T01:43:01",
          "2000-01-01T01:43:03",
          "2000-01-01T01:43:04",
          "2000-01-01T01:43:09",
          "2000-01-01T01:43:10",
          "2000-01-01T01:43:13",
          "2000-01-01T01:43:13",
          "2000-01-01T01:43:13",
          "2000-01-01T01:43:18",
          "2000-01-01T01:43:23",
          "2000-01-01T01:43:32",
          "2000-01-01T01:43:32",
          "2000-01-01T01:43:33",
          "2000-01-01T01:43:36",
          "2000-01-01T01:43:50",
          "2000-01-01T01:43:54",
          "2000-01-01T01:44:00",
          "2000-01-01T01:44:02",
          "2000-01-01T01:44:02",
          "2000-01-01T01:44:05",
          "2000-01-01T01:44:07",
          "2000-01-01T01:44:11",
          "2000-01-01T01:44:12",
          "2000-01-01T01:44:13",
          "2000-01-01T01:44:14",
          "2000-01-01T01:44:20",
          "2000-01-01T01:44:23",
          "2000-01-01T01:44:24",
          "2000-01-01T01:44:27",
          "2000-01-01T01:44:30",
          "2000-01-01T01:44:40",
          "2000-01-01T01:44:42",
          "2000-01-01T01:44:44",
          "2000-01-01T01:44:47",
          "2000-01-01T01:44:48",
          "2000-01-01T01:44:49",
          "2000-01-01T01:44:52",
          "2000-01-01T01:44:53",
          "2000-01-01T01:44:54",
          "2000-01-01T01:44:55",
          "2000-01-01T01:44:57",
          "2000-01-01T01:45:07",
          "2000-01-01T01:45:07",
          "2000-01-01T01:45:08",
          "2000-01-01T01:45:09",
          "2000-01-01T01:45:09",
          "2000-01-01T01:45:10",
          "2000-01-01T01:45:10",
          "2000-01-01T01:45:11",
          "2000-01-01T01:45:12",
          "2000-01-01T01:45:30",
          "2000-01-01T01:45:32",
          "2000-01-01T01:45:38",
          "2000-01-01T01:45:42",
          "2000-01-01T01:45:44",
          "2000-01-01T01:45:48",
          "2000-01-01T01:45:51",
          "2000-01-01T01:45:52",
          "2000-01-01T01:45:52",
          "2000-01-01T01:45:54",
          "2000-01-01T01:45:55",
          "2000-01-01T01:45:56",
          "2000-01-01T01:45:58",
          "2000-01-01T01:46:02",
          "2000-01-01T01:46:02",
          "2000-01-01T01:46:03",
          "2000-01-01T01:46:03",
          "2000-01-01T01:46:06",
          "2000-01-01T01:46:07",
          "2000-01-01T01:46:11",
          "2000-01-01T01:46:11",
          "2000-01-01T01:46:15",
          "2000-01-01T01:46:15",
          "2000-01-01T01:46:20",
          "2000-01-01T01:46:20",
          "2000-01-01T01:46:21",
          "2000-01-01T01:46:21",
          "2000-01-01T01:46:22",
          "2000-01-01T01:46:25",
          "2000-01-01T01:46:26",
          "2000-01-01T01:46:30",
          "2000-01-01T01:46:30",
          "2000-01-01T01:46:30",
          "2000-01-01T01:46:34",
          "2000-01-01T01:46:46",
          "2000-01-01T01:46:47",
          "2000-01-01T01:46:54",
          "2000-01-01T01:46:56",
          "2000-01-01T01:46:57",
          "2000-01-01T01:47:06",
          "2000-01-01T01:47:12",
          "2000-01-01T01:47:14",
          "2000-01-01T01:47:16",
          "2000-01-01T01:47:22",
          "2000-01-01T01:47:23",
          "2000-01-01T01:47:25",
          "2000-01-01T01:47:25",
          "2000-01-01T01:47:25",
          "2000-01-01T01:47:29",
          "2000-01-01T01:47:30",
          "2000-01-01T01:47:30",
          "2000-01-01T01:47:35",
          "2000-01-01T01:47:36",
          "2000-01-01T01:47:37",
          "2000-01-01T01:47:37",
          "2000-01-01T01:47:37",
          "2000-01-01T01:47:42",
          "2000-01-01T01:47:42",
          "2000-01-01T01:47:48",
          "2000-01-01T01:47:51",
          "2000-01-01T01:47:56",
          "2000-01-01T01:47:56",
          "2000-01-01T01:47:57",
          "2000-01-01T01:47:57",
          "2000-01-01T01:47:57",
          "2000-01-01T01:47:57",
          "2000-01-01T01:48:00",
          "2000-01-01T01:48:00",
          "2000-01-01T01:48:01",
          "2000-01-01T01:48:03",
          "2000-01-01T01:48:03",
          "2000-01-01T01:48:03",
          "2000-01-01T01:48:07",
          "2000-01-01T01:48:11",
          "2000-01-01T01:48:12",
          "2000-01-01T01:48:15",
          "2000-01-01T01:48:18",
          "2000-01-01T01:48:19",
          "2000-01-01T01:48:20",
          "2000-01-01T01:48:21",
          "2000-01-01T01:48:23",
          "2000-01-01T01:48:24",
          "2000-01-01T01:48:25",
          "2000-01-01T01:48:32",
          "2000-01-01T01:48:34",
          "2000-01-01T01:48:37",
          "2000-01-01T01:48:37",
          "2000-01-01T01:48:41",
          "2000-01-01T01:48:47",
          "2000-01-01T01:48:55",
          "2000-01-01T01:48:59",
          "2000-01-01T01:48:59",
          "2000-01-01T01:49:01",
          "2000-01-01T01:49:03",
          "2000-01-01T01:49:03",
          "2000-01-01T01:49:05",
          "2000-01-01T01:49:09",
          "2000-01-01T01:49:12",
          "2000-01-01T01:49:13",
          "2000-01-01T01:49:16",
          "2000-01-01T01:49:16",
          "2000-01-01T01:49:16",
          "2000-01-01T01:49:17",
          "2000-01-01T01:49:20",
          "2000-01-01T01:49:20",
          "2000-01-01T01:49:27",
          "2000-01-01T01:49:31",
          "2000-01-01T01:49:33",
          "2000-01-01T01:49:35",
          "2000-01-01T01:49:38",
          "2000-01-01T01:49:38",
          "2000-01-01T01:49:40",
          "2000-01-01T01:49:40",
          "2000-01-01T01:49:44",
          "2000-01-01T01:49:45",
          "2000-01-01T01:49:54",
          "2000-01-01T01:49:56",
          "2000-01-01T01:49:57",
          "2000-01-01T01:49:58",
          "2000-01-01T01:50:01",
          "2000-01-01T01:50:05",
          "2000-01-01T01:50:09",
          "2000-01-01T01:50:10",
          "2000-01-01T01:50:11",
          "2000-01-01T01:50:11",
          "2000-01-01T01:50:12",
          "2000-01-01T01:50:13",
          "2000-01-01T01:50:15",
          "2000-01-01T01:50:16",
          "2000-01-01T01:50:19",
          "2000-01-01T01:50:20",
          "2000-01-01T01:50:21",
          "2000-01-01T01:50:22",
          "2000-01-01T01:50:23",
          "2000-01-01T01:50:23",
          "2000-01-01T01:50:24",
          "2000-01-01T01:50:30",
          "2000-01-01T01:50:31",
          "2000-01-01T01:50:33",
          "2000-01-01T01:50:38",
          "2000-01-01T01:50:40",
          "2000-01-01T01:50:41",
          "2000-01-01T01:50:44",
          "2000-01-01T01:50:48",
          "2000-01-01T01:50:49",
          "2000-01-01T01:50:50",
          "2000-01-01T01:50:50",
          "2000-01-01T01:50:51",
          "2000-01-01T01:50:56",
          "2000-01-01T01:50:57",
          "2000-01-01T01:51:04",
          "2000-01-01T01:51:05",
          "2000-01-01T01:51:06",
          "2000-01-01T01:51:09",
          "2000-01-01T01:51:12",
          "2000-01-01T01:51:12",
          "2000-01-01T01:51:13",
          "2000-01-01T01:51:14",
          "2000-01-01T01:51:16",
          "2000-01-01T01:51:21",
          "2000-01-01T01:51:22",
          "2000-01-01T01:51:23",
          "2000-01-01T01:51:23",
          "2000-01-01T01:51:24",
          "2000-01-01T01:51:27",
          "2000-01-01T01:51:28",
          "2000-01-01T01:51:30",
          "2000-01-01T01:51:32",
          "2000-01-01T01:51:34",
          "2000-01-01T01:51:35",
          "2000-01-01T01:51:36",
          "2000-01-01T01:51:40",
          "2000-01-01T01:51:43",
          "2000-01-01T01:51:43",
          "2000-01-01T01:51:43",
          "2000-01-01T01:51:46",
          "2000-01-01T01:51:48",
          "2000-01-01T01:51:48",
          "2000-01-01T01:51:55",
          "2000-01-01T01:51:59",
          "2000-01-01T01:52:02",
          "2000-01-01T01:52:07",
          "2000-01-01T01:52:07",
          "2000-01-01T01:52:13",
          "2000-01-01T01:52:14",
          "2000-01-01T01:52:16",
          "2000-01-01T01:52:16",
          "2000-01-01T01:52:16",
          "2000-01-01T01:52:20",
          "2000-01-01T01:52:22",
          "2000-01-01T01:52:24",
          "2000-01-01T01:52:27",
          "2000-01-01T01:52:27",
          "2000-01-01T01:52:29",
          "2000-01-01T01:52:34",
          "2000-01-01T01:52:34",
          "2000-01-01T01:52:35",
          "2000-01-01T01:52:40",
          "2000-01-01T01:52:41",
          "2000-01-01T01:52:41",
          "2000-01-01T01:52:44",
          "2000-01-01T01:52:45",
          "2000-01-01T01:52:46",
          "2000-01-01T01:52:47",
          "2000-01-01T01:52:47",
          "2000-01-01T01:52:49",
          "2000-01-01T01:52:51",
          "2000-01-01T01:52:53",
          "2000-01-01T01:52:53",
          "2000-01-01T01:52:54",
          "2000-01-01T01:52:54",
          "2000-01-01T01:52:55",
          "2000-01-01T01:52:56",
          "2000-01-01T01:53:02",
          "2000-01-01T01:53:03",
          "2000-01-01T01:53:09",
          "2000-01-01T01:53:10",
          "2000-01-01T01:53:12",
          "2000-01-01T01:53:13",
          "2000-01-01T01:53:16",
          "2000-01-01T01:53:18",
          "2000-01-01T01:53:19",
          "2000-01-01T01:53:20",
          "2000-01-01T01:53:22",
          "2000-01-01T01:53:26",
          "2000-01-01T01:53:27",
          "2000-01-01T01:53:28",
          "2000-01-01T01:53:31",
          "2000-01-01T01:53:32",
          "2000-01-01T01:53:34",
          "2000-01-01T01:53:36",
          "2000-01-01T01:53:39",
          "2000-01-01T01:53:39",
          "2000-01-01T01:53:45",
          "2000-01-01T01:53:46",
          "2000-01-01T01:53:48",
          "2000-01-01T01:53:52",
          "2000-01-01T01:53:52",
          "2000-01-01T01:53:53",
          "2000-01-01T01:53:54",
          "2000-01-01T01:53:54",
          "2000-01-01T01:53:55",
          "2000-01-01T01:53:56",
          "2000-01-01T01:53:57",
          "2000-01-01T01:53:57",
          "2000-01-01T01:53:57",
          "2000-01-01T01:53:58",
          "2000-01-01T01:54:00",
          "2000-01-01T01:54:00",
          "2000-01-01T01:54:01",
          "2000-01-01T01:54:02",
          "2000-01-01T01:54:03",
          "2000-01-01T01:54:04",
          "2000-01-01T01:54:08",
          "2000-01-01T01:54:09",
          "2000-01-01T01:54:12",
          "2000-01-01T01:54:12",
          "2000-01-01T01:54:14",
          "2000-01-01T01:54:14",
          "2000-01-01T01:54:15",
          "2000-01-01T01:54:16",
          "2000-01-01T01:54:23",
          "2000-01-01T01:54:23",
          "2000-01-01T01:54:24",
          "2000-01-01T01:54:26",
          "2000-01-01T01:54:28",
          "2000-01-01T01:54:30",
          "2000-01-01T01:54:32",
          "2000-01-01T01:54:34",
          "2000-01-01T01:54:35",
          "2000-01-01T01:54:35",
          "2000-01-01T01:54:37",
          "2000-01-01T01:54:40",
          "2000-01-01T01:54:41",
          "2000-01-01T01:54:42",
          "2000-01-01T01:54:42",
          "2000-01-01T01:54:42",
          "2000-01-01T01:54:42",
          "2000-01-01T01:54:46",
          "2000-01-01T01:54:47",
          "2000-01-01T01:54:49",
          "2000-01-01T01:54:50",
          "2000-01-01T01:54:51",
          "2000-01-01T01:54:52",
          "2000-01-01T01:54:52",
          "2000-01-01T01:54:53",
          "2000-01-01T01:54:54",
          "2000-01-01T01:54:55",
          "2000-01-01T01:54:57",
          "2000-01-01T01:54:57",
          "2000-01-01T01:54:59",
          "2000-01-01T01:55:00",
          "2000-01-01T01:55:01",
          "2000-01-01T01:55:01",
          "2000-01-01T01:55:01",
          "2000-01-01T01:55:05",
          "2000-01-01T01:55:06",
          "2000-01-01T01:55:11",
          "2000-01-01T01:55:12",
          "2000-01-01T01:55:12",
          "2000-01-01T01:55:13",
          "2000-01-01T01:55:14",
          "2000-01-01T01:55:19",
          "2000-01-01T01:55:22",
          "2000-01-01T01:55:26",
          "2000-01-01T01:55:27",
          "2000-01-01T01:55:27",
          "2000-01-01T01:55:28",
          "2000-01-01T01:55:29",
          "2000-01-01T01:55:32",
          "2000-01-01T01:55:33",
          "2000-01-01T01:55:41",
          "2000-01-01T01:55:41",
          "2000-01-01T01:55:46",
          "2000-01-01T01:55:47",
          "2000-01-01T01:55:47",
          "2000-01-01T01:55:47",
          "2000-01-01T01:55:48",
          "2000-01-01T01:55:50",
          "2000-01-01T01:55:51",
          "2000-01-01T01:55:53",
          "2000-01-01T01:55:53",
          "2000-01-01T01:55:54",
          "2000-01-01T01:55:54",
          "2000-01-01T01:55:55",
          "2000-01-01T01:55:56",
          "2000-01-01T01:55:56",
          "2000-01-01T01:56:01",
          "2000-01-01T01:56:02",
          "2000-01-01T01:56:02",
          "2000-01-01T01:56:02",
          "2000-01-01T01:56:03",
          "2000-01-01T01:56:04",
          "2000-01-01T01:56:04",
          "2000-01-01T01:56:04",
          "2000-01-01T01:56:06",
          "2000-01-01T01:56:06",
          "2000-01-01T01:56:07",
          "2000-01-01T01:56:08",
          "2000-01-01T01:56:10",
          "2000-01-01T01:56:11",
          "2000-01-01T01:56:12",
          "2000-01-01T01:56:12",
          "2000-01-01T01:56:13",
          "2000-01-01T01:56:14",
          "2000-01-01T01:56:14",
          "2000-01-01T01:56:19",
          "2000-01-01T01:56:20",
          "2000-01-01T01:56:21",
          "2000-01-01T01:56:22",
          "2000-01-01T01:56:25",
          "2000-01-01T01:56:27",
          "2000-01-01T01:56:30",
          "2000-01-01T01:56:30",
          "2000-01-01T01:56:33",
          "2000-01-01T01:56:34",
          "2000-01-01T01:56:35",
          "2000-01-01T01:56:35",
          "2000-01-01T01:56:35",
          "2000-01-01T01:56:36",
          "2000-01-01T01:56:36",
          "2000-01-01T01:56:37",
          "2000-01-01T01:56:40",
          "2000-01-01T01:56:42",
          "2000-01-01T01:56:45",
          "2000-01-01T01:56:47",
          "2000-01-01T01:56:49",
          "2000-01-01T01:56:51",
          "2000-01-01T01:56:54",
          "2000-01-01T01:56:56",
          "2000-01-01T01:56:57",
          "2000-01-01T01:56:57",
          "2000-01-01T01:56:58",
          "2000-01-01T01:56:59",
          "2000-01-01T01:57:00",
          "2000-01-01T01:57:02",
          "2000-01-01T01:57:03",
          "2000-01-01T01:57:06",
          "2000-01-01T01:57:07",
          "2000-01-01T01:57:10",
          "2000-01-01T01:57:13",
          "2000-01-01T01:57:13",
          "2000-01-01T01:57:14",
          "2000-01-01T01:57:15",
          "2000-01-01T01:57:15",
          "2000-01-01T01:57:18",
          "2000-01-01T01:57:19",
          "2000-01-01T01:57:20",
          "2000-01-01T01:57:21",
          "2000-01-01T01:57:24",
          "2000-01-01T01:57:25",
          "2000-01-01T01:57:28",
          "2000-01-01T01:57:28",
          "2000-01-01T01:57:28",
          "2000-01-01T01:57:29",
          "2000-01-01T01:57:31",
          "2000-01-01T01:57:31",
          "2000-01-01T01:57:33",
          "2000-01-01T01:57:34",
          "2000-01-01T01:57:35",
          "2000-01-01T01:57:36",
          "2000-01-01T01:57:37",
          "2000-01-01T01:57:39",
          "2000-01-01T01:57:39",
          "2000-01-01T01:57:39",
          "2000-01-01T01:57:39",
          "2000-01-01T01:57:40",
          "2000-01-01T01:57:40",
          "2000-01-01T01:57:41",
          "2000-01-01T01:57:42",
          "2000-01-01T01:57:42",
          "2000-01-01T01:57:42",
          "2000-01-01T01:57:43",
          "2000-01-01T01:57:43",
          "2000-01-01T01:57:45",
          "2000-01-01T01:57:47",
          "2000-01-01T01:57:53",
          "2000-01-01T01:57:53",
          "2000-01-01T01:57:53",
          "2000-01-01T01:57:55",
          "2000-01-01T01:57:56",
          "2000-01-01T01:57:58",
          "2000-01-01T01:58:00",
          "2000-01-01T01:58:00",
          "2000-01-01T01:58:05",
          "2000-01-01T01:58:06",
          "2000-01-01T01:58:07",
          "2000-01-01T01:58:07",
          "2000-01-01T01:58:08",
          "2000-01-01T01:58:10",
          "2000-01-01T01:58:10",
          "2000-01-01T01:58:12",
          "2000-01-01T01:58:17",
          "2000-01-01T01:58:17",
          "2000-01-01T01:58:19",
          "2000-01-01T01:58:20",
          "2000-01-01T01:58:20",
          "2000-01-01T01:58:21",
          "2000-01-01T01:58:21",
          "2000-01-01T01:58:24",
          "2000-01-01T01:58:24",
          "2000-01-01T01:58:25",
          "2000-01-01T01:58:27",
          "2000-01-01T01:58:29",
          "2000-01-01T01:58:32",
          "2000-01-01T01:58:33",
          "2000-01-01T01:58:33",
          "2000-01-01T01:58:34",
          "2000-01-01T01:58:37",
          "2000-01-01T01:58:39",
          "2000-01-01T01:58:40",
          "2000-01-01T01:58:40",
          "2000-01-01T01:58:40",
          "2000-01-01T01:58:41",
          "2000-01-01T01:58:42",
          "2000-01-01T01:58:42",
          "2000-01-01T01:58:43",
          "2000-01-01T01:58:43",
          "2000-01-01T01:58:43",
          "2000-01-01T01:58:44",
          "2000-01-01T01:58:45",
          "2000-01-01T01:58:45",
          "2000-01-01T01:58:47",
          "2000-01-01T01:58:50",
          "2000-01-01T01:58:50",
          "2000-01-01T01:58:51",
          "2000-01-01T01:58:51",
          "2000-01-01T01:58:51",
          "2000-01-01T01:58:55",
          "2000-01-01T01:58:56",
          "2000-01-01T01:58:59",
          "2000-01-01T01:59:00",
          "2000-01-01T01:59:00",
          "2000-01-01T01:59:01",
          "2000-01-01T01:59:02",
          "2000-01-01T01:59:03",
          "2000-01-01T01:59:06",
          "2000-01-01T01:59:06",
          "2000-01-01T01:59:07",
          "2000-01-01T01:59:08",
          "2000-01-01T01:59:09",
          "2000-01-01T01:59:10",
          "2000-01-01T01:59:12",
          "2000-01-01T01:59:15",
          "2000-01-01T01:59:16",
          "2000-01-01T01:59:16",
          "2000-01-01T01:59:19",
          "2000-01-01T01:59:20",
          "2000-01-01T01:59:20",
          "2000-01-01T01:59:21",
          "2000-01-01T01:59:26",
          "2000-01-01T01:59:27",
          "2000-01-01T01:59:27",
          "2000-01-01T01:59:29",
          "2000-01-01T01:59:29",
          "2000-01-01T01:59:32",
          "2000-01-01T01:59:33",
          "2000-01-01T01:59:34",
          "2000-01-01T01:59:34",
          "2000-01-01T01:59:36",
          "2000-01-01T01:59:39",
          "2000-01-01T01:59:41",
          "2000-01-01T01:59:42",
          "2000-01-01T01:59:43",
          "2000-01-01T01:59:45",
          "2000-01-01T01:59:46",
          "2000-01-01T01:59:48",
          "2000-01-01T01:59:50",
          "2000-01-01T01:59:51",
          "2000-01-01T01:59:52",
          "2000-01-01T01:59:52",
          "2000-01-01T01:59:53",
          "2000-01-01T01:59:53",
          "2000-01-01T01:59:54",
          "2000-01-01T01:59:55",
          "2000-01-01T01:59:55",
          "2000-01-01T01:59:57",
          "2000-01-01T01:59:58",
          "2000-01-01T02:00:02",
          "2000-01-01T02:00:02",
          "2000-01-01T02:00:03",
          "2000-01-01T02:00:05",
          "2000-01-01T02:00:06",
          "2000-01-01T02:00:08",
          "2000-01-01T02:00:08",
          "2000-01-01T02:00:08",
          "2000-01-01T02:00:09",
          "2000-01-01T02:00:13",
          "2000-01-01T02:00:13",
          "2000-01-01T02:00:15",
          "2000-01-01T02:00:15",
          "2000-01-01T02:00:16",
          "2000-01-01T02:00:17",
          "2000-01-01T02:00:18",
          "2000-01-01T02:00:18",
          "2000-01-01T02:00:18",
          "2000-01-01T02:00:20",
          "2000-01-01T02:00:21",
          "2000-01-01T02:00:22",
          "2000-01-01T02:00:23",
          "2000-01-01T02:00:23",
          "2000-01-01T02:00:23",
          "2000-01-01T02:00:23",
          "2000-01-01T02:00:23",
          "2000-01-01T02:00:24",
          "2000-01-01T02:00:26",
          "2000-01-01T02:00:26",
          "2000-01-01T02:00:27",
          "2000-01-01T02:00:29",
          "2000-01-01T02:00:31",
          "2000-01-01T02:00:31",
          "2000-01-01T02:00:32",
          "2000-01-01T02:00:33",
          "2000-01-01T02:00:34",
          "2000-01-01T02:00:34",
          "2000-01-01T02:00:34",
          "2000-01-01T02:00:35",
          "2000-01-01T02:00:35",
          "2000-01-01T02:00:38",
          "2000-01-01T02:00:38",
          "2000-01-01T02:00:38",
          "2000-01-01T02:00:39",
          "2000-01-01T02:00:43",
          "2000-01-01T02:00:46",
          "2000-01-01T02:00:49",
          "2000-01-01T02:00:52",
          "2000-01-01T02:00:53",
          "2000-01-01T02:00:54",
          "2000-01-01T02:00:55",
          "2000-01-01T02:00:56",
          "2000-01-01T02:00:56",
          "2000-01-01T02:00:57",
          "2000-01-01T02:00:57",
          "2000-01-01T02:00:58",
          "2000-01-01T02:00:59",
          "2000-01-01T02:01:01",
          "2000-01-01T02:01:03",
          "2000-01-01T02:01:04",
          "2000-01-01T02:01:05",
          "2000-01-01T02:01:08",
          "2000-01-01T02:01:10",
          "2000-01-01T02:01:11",
          "2000-01-01T02:01:12",
          "2000-01-01T02:01:12",
          "2000-01-01T02:01:13",
          "2000-01-01T02:01:13",
          "2000-01-01T02:01:14",
          "2000-01-01T02:01:15",
          "2000-01-01T02:01:16",
          "2000-01-01T02:01:16",
          "2000-01-01T02:01:17",
          "2000-01-01T02:01:22",
          "2000-01-01T02:01:22",
          "2000-01-01T02:01:23",
          "2000-01-01T02:01:24",
          "2000-01-01T02:01:25",
          "2000-01-01T02:01:25",
          "2000-01-01T02:01:25",
          "2000-01-01T02:01:26",
          "2000-01-01T02:01:28",
          "2000-01-01T02:01:29",
          "2000-01-01T02:01:32",
          "2000-01-01T02:01:32",
          "2000-01-01T02:01:35",
          "2000-01-01T02:01:36",
          "2000-01-01T02:01:37",
          "2000-01-01T02:01:38",
          "2000-01-01T02:01:39",
          "2000-01-01T02:01:39",
          "2000-01-01T02:01:39",
          "2000-01-01T02:01:41",
          "2000-01-01T02:01:43",
          "2000-01-01T02:01:45",
          "2000-01-01T02:01:45",
          "2000-01-01T02:01:45",
          "2000-01-01T02:01:45",
          "2000-01-01T02:01:46",
          "2000-01-01T02:01:46",
          "2000-01-01T02:01:48",
          "2000-01-01T02:01:49",
          "2000-01-01T02:01:50",
          "2000-01-01T02:01:51",
          "2000-01-01T02:01:52",
          "2000-01-01T02:01:52",
          "2000-01-01T02:01:52",
          "2000-01-01T02:01:54",
          "2000-01-01T02:01:54",
          "2000-01-01T02:01:55",
          "2000-01-01T02:01:55",
          "2000-01-01T02:01:55",
          "2000-01-01T02:01:55",
          "2000-01-01T02:01:56",
          "2000-01-01T02:01:56",
          "2000-01-01T02:01:57",
          "2000-01-01T02:02:00",
          "2000-01-01T02:02:01",
          "2000-01-01T02:02:02",
          "2000-01-01T02:02:03",
          "2000-01-01T02:02:05",
          "2000-01-01T02:02:07",
          "2000-01-01T02:02:07",
          "2000-01-01T02:02:07",
          "2000-01-01T02:02:07",
          "2000-01-01T02:02:07",
          "2000-01-01T02:02:09",
          "2000-01-01T02:02:12",
          "2000-01-01T02:02:14",
          "2000-01-01T02:02:14",
          "2000-01-01T02:02:15",
          "2000-01-01T02:02:15",
          "2000-01-01T02:02:17",
          "2000-01-01T02:02:19",
          "2000-01-01T02:02:20",
          "2000-01-01T02:02:23",
          "2000-01-01T02:02:24",
          "2000-01-01T02:02:25",
          "2000-01-01T02:02:26",
          "2000-01-01T02:02:28",
          "2000-01-01T02:02:28",
          "2000-01-01T02:02:31",
          "2000-01-01T02:02:35",
          "2000-01-01T02:02:38",
          "2000-01-01T02:02:38",
          "2000-01-01T02:02:40",
          "2000-01-01T02:02:42",
          "2000-01-01T02:02:43",
          "2000-01-01T02:02:43",
          "2000-01-01T02:02:44",
          "2000-01-01T02:02:49",
          "2000-01-01T02:02:49",
          "2000-01-01T02:02:49",
          "2000-01-01T02:02:49",
          "2000-01-01T02:02:51",
          "2000-01-01T02:02:51",
          "2000-01-01T02:02:54",
          "2000-01-01T02:02:54",
          "2000-01-01T02:02:56",
          "2000-01-01T02:02:58",
          "2000-01-01T02:02:58",
          "2000-01-01T02:02:58",
          "2000-01-01T02:02:59",
          "2000-01-01T02:03:00",
          "2000-01-01T02:03:01",
          "2000-01-01T02:03:02",
          "2000-01-01T02:03:02",
          "2000-01-01T02:03:03",
          "2000-01-01T02:03:04",
          "2000-01-01T02:03:07",
          "2000-01-01T02:03:07",
          "2000-01-01T02:03:14",
          "2000-01-01T02:03:15",
          "2000-01-01T02:03:19",
          "2000-01-01T02:03:20",
          "2000-01-01T02:03:24",
          "2000-01-01T02:03:25",
          "2000-01-01T02:03:27",
          "2000-01-01T02:03:27",
          "2000-01-01T02:03:30",
          "2000-01-01T02:03:31",
          "2000-01-01T02:03:35",
          "2000-01-01T02:03:38",
          "2000-01-01T02:03:39",
          "2000-01-01T02:03:43",
          "2000-01-01T02:03:45",
          "2000-01-01T02:03:48",
          "2000-01-01T02:03:48",
          "2000-01-01T02:03:50",
          "2000-01-01T02:03:51",
          "2000-01-01T02:03:53",
          "2000-01-01T02:03:53",
          "2000-01-01T02:03:57",
          "2000-01-01T02:03:58",
          "2000-01-01T02:03:58",
          "2000-01-01T02:04:00",
          "2000-01-01T02:04:00",
          "2000-01-01T02:04:01",
          "2000-01-01T02:04:04",
          "2000-01-01T02:04:05",
          "2000-01-01T02:04:05",
          "2000-01-01T02:04:08",
          "2000-01-01T02:04:09",
          "2000-01-01T02:04:09",
          "2000-01-01T02:04:10",
          "2000-01-01T02:04:10",
          "2000-01-01T02:04:10",
          "2000-01-01T02:04:15",
          "2000-01-01T02:04:15",
          "2000-01-01T02:04:16",
          "2000-01-01T02:04:18",
          "2000-01-01T02:04:20",
          "2000-01-01T02:04:21",
          "2000-01-01T02:04:26",
          "2000-01-01T02:04:28",
          "2000-01-01T02:04:29",
          "2000-01-01T02:04:35",
          "2000-01-01T02:04:35",
          "2000-01-01T02:04:38",
          "2000-01-01T02:04:39",
          "2000-01-01T02:04:39",
          "2000-01-01T02:04:42",
          "2000-01-01T02:04:43",
          "2000-01-01T02:04:44",
          "2000-01-01T02:04:44",
          "2000-01-01T02:04:45",
          "2000-01-01T02:04:46",
          "2000-01-01T02:04:46",
          "2000-01-01T02:04:47",
          "2000-01-01T02:04:48",
          "2000-01-01T02:04:49",
          "2000-01-01T02:04:50",
          "2000-01-01T02:04:51",
          "2000-01-01T02:04:55",
          "2000-01-01T02:05:00",
          "2000-01-01T02:05:03",
          "2000-01-01T02:05:03",
          "2000-01-01T02:05:07",
          "2000-01-01T02:05:08",
          "2000-01-01T02:05:09",
          "2000-01-01T02:05:10",
          "2000-01-01T02:05:11",
          "2000-01-01T02:05:11",
          "2000-01-01T02:05:15",
          "2000-01-01T02:05:17",
          "2000-01-01T02:05:17",
          "2000-01-01T02:05:18",
          "2000-01-01T02:05:22",
          "2000-01-01T02:05:25",
          "2000-01-01T02:05:26",
          "2000-01-01T02:05:26",
          "2000-01-01T02:05:29",
          "2000-01-01T02:05:33",
          "2000-01-01T02:05:34",
          "2000-01-01T02:05:37",
          "2000-01-01T02:05:37",
          "2000-01-01T02:05:39",
          "2000-01-01T02:05:39",
          "2000-01-01T02:05:40",
          "2000-01-01T02:05:41",
          "2000-01-01T02:05:44",
          "2000-01-01T02:05:47",
          "2000-01-01T02:05:47",
          "2000-01-01T02:05:47",
          "2000-01-01T02:05:48",
          "2000-01-01T02:05:49",
          "2000-01-01T02:05:50",
          "2000-01-01T02:05:52",
          "2000-01-01T02:05:54",
          "2000-01-01T02:05:55",
          "2000-01-01T02:05:55",
          "2000-01-01T02:06:00",
          "2000-01-01T02:06:00",
          "2000-01-01T02:06:00",
          "2000-01-01T02:06:01",
          "2000-01-01T02:06:01",
          "2000-01-01T02:06:02",
          "2000-01-01T02:06:02",
          "2000-01-01T02:06:02",
          "2000-01-01T02:06:06",
          "2000-01-01T02:06:08",
          "2000-01-01T02:06:08",
          "2000-01-01T02:06:09",
          "2000-01-01T02:06:11",
          "2000-01-01T02:06:13",
          "2000-01-01T02:06:14",
          "2000-01-01T02:06:14",
          "2000-01-01T02:06:17",
          "2000-01-01T02:06:17",
          "2000-01-01T02:06:18",
          "2000-01-01T02:06:21",
          "2000-01-01T02:06:22",
          "2000-01-01T02:06:24",
          "2000-01-01T02:06:24",
          "2000-01-01T02:06:27",
          "2000-01-01T02:06:29",
          "2000-01-01T02:06:30",
          "2000-01-01T02:06:30",
          "2000-01-01T02:06:30",
          "2000-01-01T02:06:31",
          "2000-01-01T02:06:31",
          "2000-01-01T02:06:33",
          "2000-01-01T02:06:34",
          "2000-01-01T02:06:34",
          "2000-01-01T02:06:35",
          "2000-01-01T02:06:35",
          "2000-01-01T02:06:35",
          "2000-01-01T02:06:38",
          "2000-01-01T02:06:43",
          "2000-01-01T02:06:43",
          "2000-01-01T02:06:44",
          "2000-01-01T02:06:46",
          "2000-01-01T02:06:51",
          "2000-01-01T02:06:51",
          "2000-01-01T02:06:53",
          "2000-01-01T02:06:55",
          "2000-01-01T02:06:56",
          "2000-01-01T02:06:58",
          "2000-01-01T02:06:59",
          "2000-01-01T02:07:00",
          "2000-01-01T02:07:00",
          "2000-01-01T02:07:02",
          "2000-01-01T02:07:02",
          "2000-01-01T02:07:03",
          "2000-01-01T02:07:04",
          "2000-01-01T02:07:05",
          "2000-01-01T02:07:07",
          "2000-01-01T02:07:08",
          "2000-01-01T02:07:09",
          "2000-01-01T02:07:10",
          "2000-01-01T02:07:11",
          "2000-01-01T02:07:12",
          "2000-01-01T02:07:17",
          "2000-01-01T02:07:18",
          "2000-01-01T02:07:18",
          "2000-01-01T02:07:20",
          "2000-01-01T02:07:22",
          "2000-01-01T02:07:23",
          "2000-01-01T02:07:23",
          "2000-01-01T02:07:25",
          "2000-01-01T02:07:25",
          "2000-01-01T02:07:27",
          "2000-01-01T02:07:28",
          "2000-01-01T02:07:29",
          "2000-01-01T02:07:29",
          "2000-01-01T02:07:32",
          "2000-01-01T02:07:33",
          "2000-01-01T02:07:36",
          "2000-01-01T02:07:39",
          "2000-01-01T02:07:39",
          "2000-01-01T02:07:41",
          "2000-01-01T02:07:42",
          "2000-01-01T02:07:43",
          "2000-01-01T02:07:44",
          "2000-01-01T02:07:47",
          "2000-01-01T02:07:47",
          "2000-01-01T02:07:48",
          "2000-01-01T02:07:48",
          "2000-01-01T02:07:51",
          "2000-01-01T02:07:52",
          "2000-01-01T02:07:55",
          "2000-01-01T02:07:55",
          "2000-01-01T02:07:59",
          "2000-01-01T02:08:00",
          "2000-01-01T02:08:01",
          "2000-01-01T02:08:04",
          "2000-01-01T02:08:04",
          "2000-01-01T02:08:05",
          "2000-01-01T02:08:06",
          "2000-01-01T02:08:08",
          "2000-01-01T02:08:09",
          "2000-01-01T02:08:09",
          "2000-01-01T02:08:09",
          "2000-01-01T02:08:15",
          "2000-01-01T02:08:15",
          "2000-01-01T02:08:15",
          "2000-01-01T02:08:15",
          "2000-01-01T02:08:15",
          "2000-01-01T02:08:19",
          "2000-01-01T02:08:22",
          "2000-01-01T02:08:25",
          "2000-01-01T02:08:25",
          "2000-01-01T02:08:26",
          "2000-01-01T02:08:29",
          "2000-01-01T02:08:30",
          "2000-01-01T02:08:33",
          "2000-01-01T02:08:33",
          "2000-01-01T02:08:33",
          "2000-01-01T02:08:34",
          "2000-01-01T02:08:35",
          "2000-01-01T02:08:36",
          "2000-01-01T02:08:37",
          "2000-01-01T02:08:37",
          "2000-01-01T02:08:38",
          "2000-01-01T02:08:39",
          "2000-01-01T02:08:39",
          "2000-01-01T02:08:41",
          "2000-01-01T02:08:42",
          "2000-01-01T02:08:44",
          "2000-01-01T02:08:45",
          "2000-01-01T02:08:46",
          "2000-01-01T02:08:47",
          "2000-01-01T02:08:48",
          "2000-01-01T02:08:48",
          "2000-01-01T02:08:49",
          "2000-01-01T02:08:49",
          "2000-01-01T02:08:49",
          "2000-01-01T02:08:52",
          "2000-01-01T02:08:54",
          "2000-01-01T02:08:54",
          "2000-01-01T02:08:54",
          "2000-01-01T02:08:55",
          "2000-01-01T02:08:56",
          "2000-01-01T02:08:56",
          "2000-01-01T02:08:57",
          "2000-01-01T02:08:58",
          "2000-01-01T02:09:00",
          "2000-01-01T02:09:01",
          "2000-01-01T02:09:05",
          "2000-01-01T02:09:07",
          "2000-01-01T02:09:07",
          "2000-01-01T02:09:10",
          "2000-01-01T02:09:12",
          "2000-01-01T02:09:12",
          "2000-01-01T02:09:12",
          "2000-01-01T02:09:15",
          "2000-01-01T02:09:17",
          "2000-01-01T02:09:17",
          "2000-01-01T02:09:18",
          "2000-01-01T02:09:20",
          "2000-01-01T02:09:20",
          "2000-01-01T02:09:21",
          "2000-01-01T02:09:21",
          "2000-01-01T02:09:22",
          "2000-01-01T02:09:22",
          "2000-01-01T02:09:24",
          "2000-01-01T02:09:24",
          "2000-01-01T02:09:25",
          "2000-01-01T02:09:29",
          "2000-01-01T02:09:30",
          "2000-01-01T02:09:30",
          "2000-01-01T02:09:30",
          "2000-01-01T02:09:31",
          "2000-01-01T02:09:33",
          "2000-01-01T02:09:36",
          "2000-01-01T02:09:36",
          "2000-01-01T02:09:36",
          "2000-01-01T02:09:37",
          "2000-01-01T02:09:38",
          "2000-01-01T02:09:39",
          "2000-01-01T02:09:39",
          "2000-01-01T02:09:40",
          "2000-01-01T02:09:41",
          "2000-01-01T02:09:43",
          "2000-01-01T02:09:43",
          "2000-01-01T02:09:48",
          "2000-01-01T02:09:48",
          "2000-01-01T02:09:48",
          "2000-01-01T02:09:54",
          "2000-01-01T02:09:55",
          "2000-01-01T02:09:57",
          "2000-01-01T02:09:59",
          "2000-01-01T02:09:59",
          "2000-01-01T02:10:00",
          "2000-01-01T02:10:00",
          "2000-01-01T02:10:02",
          "2000-01-01T02:10:04",
          "2000-01-01T02:10:04",
          "2000-01-01T02:10:05",
          "2000-01-01T02:10:07",
          "2000-01-01T02:10:07",
          "2000-01-01T02:10:10",
          "2000-01-01T02:10:10",
          "2000-01-01T02:10:14",
          "2000-01-01T02:10:14",
          "2000-01-01T02:10:14",
          "2000-01-01T02:10:14",
          "2000-01-01T02:10:16",
          "2000-01-01T02:10:18",
          "2000-01-01T02:10:20",
          "2000-01-01T02:10:20",
          "2000-01-01T02:10:24",
          "2000-01-01T02:10:25",
          "2000-01-01T02:10:26",
          "2000-01-01T02:10:26",
          "2000-01-01T02:10:32",
          "2000-01-01T02:10:33",
          "2000-01-01T02:10:36",
          "2000-01-01T02:10:40",
          "2000-01-01T02:10:43",
          "2000-01-01T02:10:43",
          "2000-01-01T02:10:46",
          "2000-01-01T02:10:47",
          "2000-01-01T02:10:47",
          "2000-01-01T02:10:48",
          "2000-01-01T02:10:48",
          "2000-01-01T02:10:50",
          "2000-01-01T02:10:50",
          "2000-01-01T02:10:50",
          "2000-01-01T02:10:52",
          "2000-01-01T02:10:53",
          "2000-01-01T02:10:54",
          "2000-01-01T02:10:57",
          "2000-01-01T02:10:57",
          "2000-01-01T02:10:58",
          "2000-01-01T02:11:00",
          "2000-01-01T02:11:00",
          "2000-01-01T02:11:00",
          "2000-01-01T02:11:02",
          "2000-01-01T02:11:07",
          "2000-01-01T02:11:07",
          "2000-01-01T02:11:08",
          "2000-01-01T02:11:12",
          "2000-01-01T02:11:12",
          "2000-01-01T02:11:14",
          "2000-01-01T02:11:15",
          "2000-01-01T02:11:16",
          "2000-01-01T02:11:18",
          "2000-01-01T02:11:18",
          "2000-01-01T02:11:18",
          "2000-01-01T02:11:19",
          "2000-01-01T02:11:23",
          "2000-01-01T02:11:23",
          "2000-01-01T02:11:24",
          "2000-01-01T02:11:25",
          "2000-01-01T02:11:25",
          "2000-01-01T02:11:25",
          "2000-01-01T02:11:27",
          "2000-01-01T02:11:29",
          "2000-01-01T02:11:30",
          "2000-01-01T02:11:30",
          "2000-01-01T02:11:32",
          "2000-01-01T02:11:33",
          "2000-01-01T02:11:34",
          "2000-01-01T02:11:35",
          "2000-01-01T02:11:37",
          "2000-01-01T02:11:38",
          "2000-01-01T02:11:39",
          "2000-01-01T02:11:39",
          "2000-01-01T02:11:39",
          "2000-01-01T02:11:39",
          "2000-01-01T02:11:41",
          "2000-01-01T02:11:43",
          "2000-01-01T02:11:48",
          "2000-01-01T02:11:51",
          "2000-01-01T02:11:54",
          "2000-01-01T02:11:54",
          "2000-01-01T02:11:54",
          "2000-01-01T02:11:55",
          "2000-01-01T02:11:56",
          "2000-01-01T02:11:56",
          "2000-01-01T02:11:57",
          "2000-01-01T02:11:57",
          "2000-01-01T02:11:58",
          "2000-01-01T02:11:58",
          "2000-01-01T02:11:59",
          "2000-01-01T02:12:01",
          "2000-01-01T02:12:01",
          "2000-01-01T02:12:02",
          "2000-01-01T02:12:03",
          "2000-01-01T02:12:07",
          "2000-01-01T02:12:08",
          "2000-01-01T02:12:08",
          "2000-01-01T02:12:08",
          "2000-01-01T02:12:10",
          "2000-01-01T02:12:11",
          "2000-01-01T02:12:11",
          "2000-01-01T02:12:13",
          "2000-01-01T02:12:15",
          "2000-01-01T02:12:16",
          "2000-01-01T02:12:17",
          "2000-01-01T02:12:17",
          "2000-01-01T02:12:18",
          "2000-01-01T02:12:18",
          "2000-01-01T02:12:20",
          "2000-01-01T02:12:20",
          "2000-01-01T02:12:26",
          "2000-01-01T02:12:27",
          "2000-01-01T02:12:27",
          "2000-01-01T02:12:27",
          "2000-01-01T02:12:28",
          "2000-01-01T02:12:31",
          "2000-01-01T02:12:32",
          "2000-01-01T02:12:33",
          "2000-01-01T02:12:33",
          "2000-01-01T02:12:34",
          "2000-01-01T02:12:34",
          "2000-01-01T02:12:35",
          "2000-01-01T02:12:36",
          "2000-01-01T02:12:44",
          "2000-01-01T02:12:44",
          "2000-01-01T02:12:45",
          "2000-01-01T02:12:47",
          "2000-01-01T02:12:47",
          "2000-01-01T02:12:47",
          "2000-01-01T02:12:49",
          "2000-01-01T02:12:50",
          "2000-01-01T02:12:50",
          "2000-01-01T02:12:51",
          "2000-01-01T02:12:58",
          "2000-01-01T02:12:59",
          "2000-01-01T02:12:59",
          "2000-01-01T02:13:00",
          "2000-01-01T02:13:00",
          "2000-01-01T02:13:00",
          "2000-01-01T02:13:02",
          "2000-01-01T02:13:02",
          "2000-01-01T02:13:03",
          "2000-01-01T02:13:05",
          "2000-01-01T02:13:06",
          "2000-01-01T02:13:08",
          "2000-01-01T02:13:08",
          "2000-01-01T02:13:15",
          "2000-01-01T02:13:16",
          "2000-01-01T02:13:19",
          "2000-01-01T02:13:20",
          "2000-01-01T02:13:21",
          "2000-01-01T02:13:22",
          "2000-01-01T02:13:22",
          "2000-01-01T02:13:23",
          "2000-01-01T02:13:24",
          "2000-01-01T02:13:27",
          "2000-01-01T02:13:31",
          "2000-01-01T02:13:32",
          "2000-01-01T02:13:33",
          "2000-01-01T02:13:33",
          "2000-01-01T02:13:38",
          "2000-01-01T02:13:39",
          "2000-01-01T02:13:42",
          "2000-01-01T02:13:43",
          "2000-01-01T02:13:43",
          "2000-01-01T02:13:46",
          "2000-01-01T02:13:46",
          "2000-01-01T02:13:47",
          "2000-01-01T02:13:48",
          "2000-01-01T02:13:48",
          "2000-01-01T02:13:48",
          "2000-01-01T02:13:51",
          "2000-01-01T02:13:52",
          "2000-01-01T02:13:53",
          "2000-01-01T02:13:55",
          "2000-01-01T02:13:55",
          "2000-01-01T02:13:55",
          "2000-01-01T02:13:55",
          "2000-01-01T02:13:55",
          "2000-01-01T02:13:56",
          "2000-01-01T02:14:00",
          "2000-01-01T02:14:00",
          "2000-01-01T02:14:00",
          "2000-01-01T02:14:00",
          "2000-01-01T02:14:02",
          "2000-01-01T02:14:03",
          "2000-01-01T02:14:05",
          "2000-01-01T02:14:06",
          "2000-01-01T02:14:08",
          "2000-01-01T02:14:08",
          "2000-01-01T02:14:10",
          "2000-01-01T02:14:12",
          "2000-01-01T02:14:12",
          "2000-01-01T02:14:14",
          "2000-01-01T02:14:15",
          "2000-01-01T02:14:16",
          "2000-01-01T02:14:22",
          "2000-01-01T02:14:25",
          "2000-01-01T02:14:28",
          "2000-01-01T02:14:29",
          "2000-01-01T02:14:31",
          "2000-01-01T02:14:35",
          "2000-01-01T02:14:36",
          "2000-01-01T02:14:37",
          "2000-01-01T02:14:43",
          "2000-01-01T02:14:44",
          "2000-01-01T02:14:44",
          "2000-01-01T02:14:45",
          "2000-01-01T02:14:46",
          "2000-01-01T02:14:46",
          "2000-01-01T02:14:47",
          "2000-01-01T02:14:48",
          "2000-01-01T02:14:48",
          "2000-01-01T02:14:48",
          "2000-01-01T02:14:51",
          "2000-01-01T02:14:58",
          "2000-01-01T02:14:59",
          "2000-01-01T02:15:00",
          "2000-01-01T02:15:00",
          "2000-01-01T02:15:04",
          "2000-01-01T02:15:08",
          "2000-01-01T02:15:08",
          "2000-01-01T02:15:09",
          "2000-01-01T02:15:10",
          "2000-01-01T02:15:16",
          "2000-01-01T02:15:21",
          "2000-01-01T02:15:22",
          "2000-01-01T02:15:24",
          "2000-01-01T02:15:26",
          "2000-01-01T02:15:27",
          "2000-01-01T02:15:28",
          "2000-01-01T02:15:28",
          "2000-01-01T02:15:29",
          "2000-01-01T02:15:29",
          "2000-01-01T02:15:30",
          "2000-01-01T02:15:30",
          "2000-01-01T02:15:31",
          "2000-01-01T02:15:31",
          "2000-01-01T02:15:35",
          "2000-01-01T02:15:42",
          "2000-01-01T02:15:43",
          "2000-01-01T02:15:46",
          "2000-01-01T02:15:47",
          "2000-01-01T02:15:48",
          "2000-01-01T02:15:48",
          "2000-01-01T02:15:49",
          "2000-01-01T02:15:49",
          "2000-01-01T02:15:53",
          "2000-01-01T02:15:55",
          "2000-01-01T02:15:57",
          "2000-01-01T02:15:57",
          "2000-01-01T02:15:57",
          "2000-01-01T02:15:58",
          "2000-01-01T02:15:59",
          "2000-01-01T02:16:00",
          "2000-01-01T02:16:01",
          "2000-01-01T02:16:02",
          "2000-01-01T02:16:03",
          "2000-01-01T02:16:03",
          "2000-01-01T02:16:03",
          "2000-01-01T02:16:07",
          "2000-01-01T02:16:07",
          "2000-01-01T02:16:10",
          "2000-01-01T02:16:10",
          "2000-01-01T02:16:12",
          "2000-01-01T02:16:13",
          "2000-01-01T02:16:15",
          "2000-01-01T02:16:15",
          "2000-01-01T02:16:18",
          "2000-01-01T02:16:19",
          "2000-01-01T02:16:19",
          "2000-01-01T02:16:21",
          "2000-01-01T02:16:21",
          "2000-01-01T02:16:22",
          "2000-01-01T02:16:22",
          "2000-01-01T02:16:24",
          "2000-01-01T02:16:25",
          "2000-01-01T02:16:26",
          "2000-01-01T02:16:27",
          "2000-01-01T02:16:27",
          "2000-01-01T02:16:27",
          "2000-01-01T02:16:28",
          "2000-01-01T02:16:29",
          "2000-01-01T02:16:29",
          "2000-01-01T02:16:29",
          "2000-01-01T02:16:30",
          "2000-01-01T02:16:33",
          "2000-01-01T02:16:35",
          "2000-01-01T02:16:38",
          "2000-01-01T02:16:38",
          "2000-01-01T02:16:43",
          "2000-01-01T02:16:44",
          "2000-01-01T02:16:47",
          "2000-01-01T02:16:50",
          "2000-01-01T02:16:51",
          "2000-01-01T02:16:51",
          "2000-01-01T02:16:53",
          "2000-01-01T02:16:55",
          "2000-01-01T02:16:56",
          "2000-01-01T02:17:00",
          "2000-01-01T02:17:01",
          "2000-01-01T02:17:01",
          "2000-01-01T02:17:02",
          "2000-01-01T02:17:07",
          "2000-01-01T02:17:10",
          "2000-01-01T02:17:12",
          "2000-01-01T02:17:12",
          "2000-01-01T02:17:15",
          "2000-01-01T02:17:16",
          "2000-01-01T02:17:16",
          "2000-01-01T02:17:20",
          "2000-01-01T02:17:23",
          "2000-01-01T02:17:24",
          "2000-01-01T02:17:24",
          "2000-01-01T02:17:24",
          "2000-01-01T02:17:25",
          "2000-01-01T02:17:26",
          "2000-01-01T02:17:28",
          "2000-01-01T02:17:31",
          "2000-01-01T02:17:33",
          "2000-01-01T02:17:35",
          "2000-01-01T02:17:35",
          "2000-01-01T02:17:37",
          "2000-01-01T02:17:38",
          "2000-01-01T02:17:44",
          "2000-01-01T02:17:45",
          "2000-01-01T02:17:45",
          "2000-01-01T02:17:45",
          "2000-01-01T02:17:45",
          "2000-01-01T02:17:46",
          "2000-01-01T02:17:47",
          "2000-01-01T02:17:48",
          "2000-01-01T02:17:48",
          "2000-01-01T02:17:54",
          "2000-01-01T02:17:55",
          "2000-01-01T02:17:55",
          "2000-01-01T02:17:58",
          "2000-01-01T02:18:00",
          "2000-01-01T02:18:04",
          "2000-01-01T02:18:08",
          "2000-01-01T02:18:09",
          "2000-01-01T02:18:10",
          "2000-01-01T02:18:11",
          "2000-01-01T02:18:12",
          "2000-01-01T02:18:13",
          "2000-01-01T02:18:15",
          "2000-01-01T02:18:19",
          "2000-01-01T02:18:20",
          "2000-01-01T02:18:21",
          "2000-01-01T02:18:22",
          "2000-01-01T02:18:22",
          "2000-01-01T02:18:24",
          "2000-01-01T02:18:24",
          "2000-01-01T02:18:27",
          "2000-01-01T02:18:27",
          "2000-01-01T02:18:30",
          "2000-01-01T02:18:31",
          "2000-01-01T02:18:34",
          "2000-01-01T02:18:36",
          "2000-01-01T02:18:37",
          "2000-01-01T02:18:37",
          "2000-01-01T02:18:40",
          "2000-01-01T02:18:41",
          "2000-01-01T02:18:41",
          "2000-01-01T02:18:41",
          "2000-01-01T02:18:42",
          "2000-01-01T02:18:45",
          "2000-01-01T02:18:46",
          "2000-01-01T02:18:47",
          "2000-01-01T02:18:47",
          "2000-01-01T02:18:52",
          "2000-01-01T02:18:58",
          "2000-01-01T02:18:59",
          "2000-01-01T02:18:59",
          "2000-01-01T02:19:00",
          "2000-01-01T02:19:01",
          "2000-01-01T02:19:03",
          "2000-01-01T02:19:04",
          "2000-01-01T02:19:06",
          "2000-01-01T02:19:07",
          "2000-01-01T02:19:08",
          "2000-01-01T02:19:08",
          "2000-01-01T02:19:16",
          "2000-01-01T02:19:16",
          "2000-01-01T02:19:16",
          "2000-01-01T02:19:18",
          "2000-01-01T02:19:24",
          "2000-01-01T02:19:24",
          "2000-01-01T02:19:27",
          "2000-01-01T02:19:28",
          "2000-01-01T02:19:29",
          "2000-01-01T02:19:29",
          "2000-01-01T02:19:29",
          "2000-01-01T02:19:29",
          "2000-01-01T02:19:29",
          "2000-01-01T02:19:30",
          "2000-01-01T02:19:30",
          "2000-01-01T02:19:30",
          "2000-01-01T02:19:34",
          "2000-01-01T02:19:35",
          "2000-01-01T02:19:35",
          "2000-01-01T02:19:36",
          "2000-01-01T02:19:37",
          "2000-01-01T02:19:39",
          "2000-01-01T02:19:40",
          "2000-01-01T02:19:46",
          "2000-01-01T02:19:47",
          "2000-01-01T02:19:51",
          "2000-01-01T02:19:51",
          "2000-01-01T02:19:52",
          "2000-01-01T02:19:52",
          "2000-01-01T02:19:53",
          "2000-01-01T02:19:55",
          "2000-01-01T02:19:57",
          "2000-01-01T02:19:59",
          "2000-01-01T02:20:03",
          "2000-01-01T02:20:04",
          "2000-01-01T02:20:05",
          "2000-01-01T02:20:05",
          "2000-01-01T02:20:06",
          "2000-01-01T02:20:06",
          "2000-01-01T02:20:16",
          "2000-01-01T02:20:16",
          "2000-01-01T02:20:17",
          "2000-01-01T02:20:19",
          "2000-01-01T02:20:20",
          "2000-01-01T02:20:20",
          "2000-01-01T02:20:21",
          "2000-01-01T02:20:22",
          "2000-01-01T02:20:24",
          "2000-01-01T02:20:25",
          "2000-01-01T02:20:25",
          "2000-01-01T02:20:27",
          "2000-01-01T02:20:28",
          "2000-01-01T02:20:28",
          "2000-01-01T02:20:31",
          "2000-01-01T02:20:34",
          "2000-01-01T02:20:35",
          "2000-01-01T02:20:35",
          "2000-01-01T02:20:35",
          "2000-01-01T02:20:36",
          "2000-01-01T02:20:37",
          "2000-01-01T02:20:41",
          "2000-01-01T02:20:42",
          "2000-01-01T02:20:45",
          "2000-01-01T02:20:46",
          "2000-01-01T02:20:49",
          "2000-01-01T02:20:53",
          "2000-01-01T02:20:54",
          "2000-01-01T02:20:55",
          "2000-01-01T02:20:57",
          "2000-01-01T02:20:58",
          "2000-01-01T02:20:59",
          "2000-01-01T02:21:01",
          "2000-01-01T02:21:01",
          "2000-01-01T02:21:01",
          "2000-01-01T02:21:02",
          "2000-01-01T02:21:07",
          "2000-01-01T02:21:07",
          "2000-01-01T02:21:07",
          "2000-01-01T02:21:13",
          "2000-01-01T02:21:14",
          "2000-01-01T02:21:16",
          "2000-01-01T02:21:16",
          "2000-01-01T02:21:21",
          "2000-01-01T02:21:23",
          "2000-01-01T02:21:25",
          "2000-01-01T02:21:33",
          "2000-01-01T02:21:34",
          "2000-01-01T02:21:35",
          "2000-01-01T02:21:35",
          "2000-01-01T02:21:35",
          "2000-01-01T02:21:42",
          "2000-01-01T02:21:45",
          "2000-01-01T02:21:47",
          "2000-01-01T02:21:48",
          "2000-01-01T02:21:51",
          "2000-01-01T02:21:51",
          "2000-01-01T02:21:53",
          "2000-01-01T02:21:53",
          "2000-01-01T02:21:53",
          "2000-01-01T02:21:56",
          "2000-01-01T02:21:56",
          "2000-01-01T02:21:58",
          "2000-01-01T02:21:58",
          "2000-01-01T02:21:59",
          "2000-01-01T02:22:05",
          "2000-01-01T02:22:07",
          "2000-01-01T02:22:09",
          "2000-01-01T02:22:10",
          "2000-01-01T02:22:16",
          "2000-01-01T02:22:16",
          "2000-01-01T02:22:19",
          "2000-01-01T02:22:20",
          "2000-01-01T02:22:22",
          "2000-01-01T02:22:22",
          "2000-01-01T02:22:24",
          "2000-01-01T02:22:24",
          "2000-01-01T02:22:26",
          "2000-01-01T02:22:27",
          "2000-01-01T02:22:28",
          "2000-01-01T02:22:29",
          "2000-01-01T02:22:29",
          "2000-01-01T02:22:31",
          "2000-01-01T02:22:33",
          "2000-01-01T02:22:37",
          "2000-01-01T02:22:39",
          "2000-01-01T02:22:40",
          "2000-01-01T02:22:44",
          "2000-01-01T02:22:45",
          "2000-01-01T02:22:51",
          "2000-01-01T02:22:55",
          "2000-01-01T02:22:56",
          "2000-01-01T02:22:59",
          "2000-01-01T02:22:59",
          "2000-01-01T02:23:04",
          "2000-01-01T02:23:07",
          "2000-01-01T02:23:08",
          "2000-01-01T02:23:09",
          "2000-01-01T02:23:09",
          "2000-01-01T02:23:10",
          "2000-01-01T02:23:15",
          "2000-01-01T02:23:16",
          "2000-01-01T02:23:19",
          "2000-01-01T02:23:20",
          "2000-01-01T02:23:21",
          "2000-01-01T02:23:25",
          "2000-01-01T02:23:38",
          "2000-01-01T02:23:48",
          "2000-01-01T02:23:51",
          "2000-01-01T02:23:52",
          "2000-01-01T02:23:55",
          "2000-01-01T02:23:56",
          "2000-01-01T02:23:57",
          "2000-01-01T02:24:09",
          "2000-01-01T02:24:09",
          "2000-01-01T02:24:10",
          "2000-01-01T02:24:11",
          "2000-01-01T02:24:12",
          "2000-01-01T02:24:13",
          "2000-01-01T02:24:14",
          "2000-01-01T02:24:14",
          "2000-01-01T02:24:15",
          "2000-01-01T02:24:16",
          "2000-01-01T02:24:21",
          "2000-01-01T02:24:24",
          "2000-01-01T02:24:27",
          "2000-01-01T02:24:28",
          "2000-01-01T02:24:32",
          "2000-01-01T02:24:33",
          "2000-01-01T02:24:35",
          "2000-01-01T02:24:36",
          "2000-01-01T02:24:36",
          "2000-01-01T02:24:36",
          "2000-01-01T02:24:37",
          "2000-01-01T02:24:38",
          "2000-01-01T02:24:38",
          "2000-01-01T02:24:40",
          "2000-01-01T02:24:41",
          "2000-01-01T02:24:41",
          "2000-01-01T02:24:45",
          "2000-01-01T02:24:48",
          "2000-01-01T02:24:48",
          "2000-01-01T02:24:48",
          "2000-01-01T02:24:54",
          "2000-01-01T02:24:54",
          "2000-01-01T02:24:55",
          "2000-01-01T02:24:56",
          "2000-01-01T02:24:57",
          "2000-01-01T02:24:59",
          "2000-01-01T02:24:59",
          "2000-01-01T02:25:01",
          "2000-01-01T02:25:01",
          "2000-01-01T02:25:02",
          "2000-01-01T02:25:05",
          "2000-01-01T02:25:06",
          "2000-01-01T02:25:06",
          "2000-01-01T02:25:08",
          "2000-01-01T02:25:10",
          "2000-01-01T02:25:11",
          "2000-01-01T02:25:11",
          "2000-01-01T02:25:14",
          "2000-01-01T02:25:16",
          "2000-01-01T02:25:18",
          "2000-01-01T02:25:19",
          "2000-01-01T02:25:22",
          "2000-01-01T02:25:26",
          "2000-01-01T02:25:26",
          "2000-01-01T02:25:27",
          "2000-01-01T02:25:27",
          "2000-01-01T02:25:28",
          "2000-01-01T02:25:31",
          "2000-01-01T02:25:33",
          "2000-01-01T02:25:39",
          "2000-01-01T02:25:41",
          "2000-01-01T02:25:42",
          "2000-01-01T02:25:42",
          "2000-01-01T02:25:44",
          "2000-01-01T02:25:46",
          "2000-01-01T02:25:53",
          "2000-01-01T02:25:55",
          "2000-01-01T02:25:58",
          "2000-01-01T02:25:58",
          "2000-01-01T02:25:59",
          "2000-01-01T02:25:59",
          "2000-01-01T02:26:06",
          "2000-01-01T02:26:09",
          "2000-01-01T02:26:12",
          "2000-01-01T02:26:13",
          "2000-01-01T02:26:15",
          "2000-01-01T02:26:17",
          "2000-01-01T02:26:21",
          "2000-01-01T02:26:21",
          "2000-01-01T02:26:25",
          "2000-01-01T02:26:29",
          "2000-01-01T02:26:29",
          "2000-01-01T02:26:31",
          "2000-01-01T02:26:32",
          "2000-01-01T02:26:32",
          "2000-01-01T02:26:34",
          "2000-01-01T02:26:37",
          "2000-01-01T02:26:37",
          "2000-01-01T02:26:38",
          "2000-01-01T02:26:38",
          "2000-01-01T02:26:40",
          "2000-01-01T02:26:40",
          "2000-01-01T02:26:43",
          "2000-01-01T02:26:50",
          "2000-01-01T02:26:55",
          "2000-01-01T02:26:55",
          "2000-01-01T02:26:55",
          "2000-01-01T02:26:55",
          "2000-01-01T02:26:59",
          "2000-01-01T02:27:01",
          "2000-01-01T02:27:01",
          "2000-01-01T02:27:03",
          "2000-01-01T02:27:03",
          "2000-01-01T02:27:07",
          "2000-01-01T02:27:09",
          "2000-01-01T02:27:16",
          "2000-01-01T02:27:16",
          "2000-01-01T02:27:16",
          "2000-01-01T02:27:19",
          "2000-01-01T02:27:19",
          "2000-01-01T02:27:19",
          "2000-01-01T02:27:22",
          "2000-01-01T02:27:23",
          "2000-01-01T02:27:24",
          "2000-01-01T02:27:29",
          "2000-01-01T02:27:29",
          "2000-01-01T02:27:34",
          "2000-01-01T02:27:35",
          "2000-01-01T02:27:37",
          "2000-01-01T02:27:38",
          "2000-01-01T02:27:44",
          "2000-01-01T02:27:44",
          "2000-01-01T02:27:45",
          "2000-01-01T02:27:45",
          "2000-01-01T02:27:47",
          "2000-01-01T02:27:50",
          "2000-01-01T02:27:51",
          "2000-01-01T02:27:58",
          "2000-01-01T02:28:00",
          "2000-01-01T02:28:00",
          "2000-01-01T02:28:03",
          "2000-01-01T02:28:08",
          "2000-01-01T02:28:13",
          "2000-01-01T02:28:13",
          "2000-01-01T02:28:13",
          "2000-01-01T02:28:19",
          "2000-01-01T02:28:20",
          "2000-01-01T02:28:22",
          "2000-01-01T02:28:22",
          "2000-01-01T02:28:23",
          "2000-01-01T02:28:24",
          "2000-01-01T02:28:24",
          "2000-01-01T02:28:25",
          "2000-01-01T02:28:29",
          "2000-01-01T02:28:34",
          "2000-01-01T02:28:36",
          "2000-01-01T02:28:36",
          "2000-01-01T02:28:42",
          "2000-01-01T02:28:44",
          "2000-01-01T02:28:47",
          "2000-01-01T02:28:47",
          "2000-01-01T02:28:48",
          "2000-01-01T02:28:49",
          "2000-01-01T02:28:57",
          "2000-01-01T02:28:57",
          "2000-01-01T02:28:59",
          "2000-01-01T02:29:04",
          "2000-01-01T02:29:04",
          "2000-01-01T02:29:05",
          "2000-01-01T02:29:06",
          "2000-01-01T02:29:06",
          "2000-01-01T02:29:10",
          "2000-01-01T02:29:12",
          "2000-01-01T02:29:15",
          "2000-01-01T02:29:16",
          "2000-01-01T02:29:18",
          "2000-01-01T02:29:27",
          "2000-01-01T02:29:30",
          "2000-01-01T02:29:30",
          "2000-01-01T02:29:41",
          "2000-01-01T02:29:43",
          "2000-01-01T02:29:45",
          "2000-01-01T02:29:49",
          "2000-01-01T02:29:56",
          "2000-01-01T02:29:58",
          "2000-01-01T02:29:59",
          "2000-01-01T02:30:04",
          "2000-01-01T02:30:06",
          "2000-01-01T02:30:07",
          "2000-01-01T02:30:20",
          "2000-01-01T02:30:30",
          "2000-01-01T02:30:32",
          "2000-01-01T02:30:32",
          "2000-01-01T02:30:34",
          "2000-01-01T02:30:37",
          "2000-01-01T02:30:42",
          "2000-01-01T02:30:45",
          "2000-01-01T02:30:46",
          "2000-01-01T02:30:50",
          "2000-01-01T02:30:52",
          "2000-01-01T02:31:00",
          "2000-01-01T02:31:02",
          "2000-01-01T02:31:09",
          "2000-01-01T02:31:22",
          "2000-01-01T02:31:25",
          "2000-01-01T02:31:26",
          "2000-01-01T02:31:29",
          "2000-01-01T02:31:30",
          "2000-01-01T02:31:30",
          "2000-01-01T02:31:31",
          "2000-01-01T02:31:38",
          "2000-01-01T02:31:38",
          "2000-01-01T02:31:40",
          "2000-01-01T02:31:53",
          "2000-01-01T02:32:00",
          "2000-01-01T02:32:03",
          "2000-01-01T02:32:04",
          "2000-01-01T02:32:07",
          "2000-01-01T02:32:11",
          "2000-01-01T02:32:12",
          "2000-01-01T02:32:24",
          "2000-01-01T02:32:25",
          "2000-01-01T02:32:27",
          "2000-01-01T02:32:44",
          "2000-01-01T02:32:45",
          "2000-01-01T02:32:48",
          "2000-01-01T02:32:49",
          "2000-01-01T02:32:54",
          "2000-01-01T02:32:54",
          "2000-01-01T02:32:57",
          "2000-01-01T02:33:01",
          "2000-01-01T02:33:05",
          "2000-01-01T02:33:19",
          "2000-01-01T02:33:19",
          "2000-01-01T02:33:20",
          "2000-01-01T02:33:21",
          "2000-01-01T02:33:25",
          "2000-01-01T02:33:26",
          "2000-01-01T02:33:26",
          "2000-01-01T02:33:31",
          "2000-01-01T02:33:34",
          "2000-01-01T02:33:35",
          "2000-01-01T02:33:40",
          "2000-01-01T02:33:43",
          "2000-01-01T02:33:45",
          "2000-01-01T02:33:52",
          "2000-01-01T02:33:56",
          "2000-01-01T02:34:01",
          "2000-01-01T02:34:02",
          "2000-01-01T02:34:05",
          "2000-01-01T02:34:06",
          "2000-01-01T02:34:12",
          "2000-01-01T02:34:15",
          "2000-01-01T02:34:16",
          "2000-01-01T02:34:21",
          "2000-01-01T02:34:26",
          "2000-01-01T02:34:31",
          "2000-01-01T02:34:38",
          "2000-01-01T02:34:43",
          "2000-01-01T02:34:51",
          "2000-01-01T02:34:54",
          "2000-01-01T02:34:55",
          "2000-01-01T02:34:55",
          "2000-01-01T02:35:00",
          "2000-01-01T02:35:00",
          "2000-01-01T02:35:05",
          "2000-01-01T02:35:14",
          "2000-01-01T02:35:14",
          "2000-01-01T02:35:14",
          "2000-01-01T02:35:16",
          "2000-01-01T02:35:16",
          "2000-01-01T02:35:19",
          "2000-01-01T02:35:22",
          "2000-01-01T02:35:26",
          "2000-01-01T02:35:27",
          "2000-01-01T02:35:31",
          "2000-01-01T02:35:37",
          "2000-01-01T02:35:38",
          "2000-01-01T02:35:41",
          "2000-01-01T02:35:42",
          "2000-01-01T02:35:42",
          "2000-01-01T02:35:50",
          "2000-01-01T02:35:51",
          "2000-01-01T02:35:56",
          "2000-01-01T02:35:57",
          "2000-01-01T02:36:04",
          "2000-01-01T02:36:13",
          "2000-01-01T02:36:23",
          "2000-01-01T02:36:31",
          "2000-01-01T02:36:31",
          "2000-01-01T02:36:34",
          "2000-01-01T02:36:41",
          "2000-01-01T02:36:44",
          "2000-01-01T02:36:45",
          "2000-01-01T02:36:49",
          "2000-01-01T02:37:01",
          "2000-01-01T02:37:01",
          "2000-01-01T02:37:16",
          "2000-01-01T02:37:25",
          "2000-01-01T02:37:33",
          "2000-01-01T02:37:37",
          "2000-01-01T02:37:47",
          "2000-01-01T02:37:48",
          "2000-01-01T02:37:50",
          "2000-01-01T02:37:50",
          "2000-01-01T02:37:50",
          "2000-01-01T02:37:57",
          "2000-01-01T02:37:59",
          "2000-01-01T02:38:00",
          "2000-01-01T02:38:01",
          "2000-01-01T02:38:01",
          "2000-01-01T02:38:05",
          "2000-01-01T02:38:09",
          "2000-01-01T02:38:17",
          "2000-01-01T02:38:21",
          "2000-01-01T02:38:21",
          "2000-01-01T02:38:22",
          "2000-01-01T02:38:41",
          "2000-01-01T02:38:41",
          "2000-01-01T02:38:55",
          "2000-01-01T02:39:01",
          "2000-01-01T02:39:03",
          "2000-01-01T02:39:04",
          "2000-01-01T02:39:15",
          "2000-01-01T02:39:24",
          "2000-01-01T02:39:25",
          "2000-01-01T02:39:29",
          "2000-01-01T02:39:30",
          "2000-01-01T02:39:32",
          "2000-01-01T02:39:33",
          "2000-01-01T02:39:34",
          "2000-01-01T02:39:40",
          "2000-01-01T02:39:47",
          "2000-01-01T02:39:51",
          "2000-01-01T02:39:54",
          "2000-01-01T02:40:01",
          "2000-01-01T02:40:02",
          "2000-01-01T02:40:15",
          "2000-01-01T02:40:24",
          "2000-01-01T02:40:28",
          "2000-01-01T02:40:29",
          "2000-01-01T02:40:30",
          "2000-01-01T02:40:39",
          "2000-01-01T02:40:40",
          "2000-01-01T02:40:46",
          "2000-01-01T02:40:49",
          "2000-01-01T02:41:05",
          "2000-01-01T02:41:08",
          "2000-01-01T02:41:15",
          "2000-01-01T02:41:19",
          "2000-01-01T02:41:20",
          "2000-01-01T02:41:20",
          "2000-01-01T02:41:53",
          "2000-01-01T02:41:56",
          "2000-01-01T02:41:56",
          "2000-01-01T02:42:03",
          "2000-01-01T02:42:03",
          "2000-01-01T02:42:05",
          "2000-01-01T02:42:16",
          "2000-01-01T02:42:16",
          "2000-01-01T02:42:18",
          "2000-01-01T02:42:19",
          "2000-01-01T02:42:21",
          "2000-01-01T02:42:39",
          "2000-01-01T02:42:40",
          "2000-01-01T02:42:40",
          "2000-01-01T02:42:49",
          "2000-01-01T02:42:52",
          "2000-01-01T02:42:54",
          "2000-01-01T02:42:56",
          "2000-01-01T02:42:59",
          "2000-01-01T02:43:01",
          "2000-01-01T02:43:13",
          "2000-01-01T02:43:14",
          "2000-01-01T02:43:15",
          "2000-01-01T02:43:22",
          "2000-01-01T02:43:28",
          "2000-01-01T02:43:31",
          "2000-01-01T02:43:47",
          "2000-01-01T02:43:49",
          "2000-01-01T02:43:50",
          "2000-01-01T02:43:51",
          "2000-01-01T02:43:57",
          "2000-01-01T02:44:02",
          "2000-01-01T02:44:07",
          "2000-01-01T02:44:07",
          "2000-01-01T02:44:12",
          "2000-01-01T02:44:20",
          "2000-01-01T02:44:21",
          "2000-01-01T02:44:26",
          "2000-01-01T02:44:34",
          "2000-01-01T02:44:37",
          "2000-01-01T02:44:43",
          "2000-01-01T02:44:45",
          "2000-01-01T02:44:47",
          "2000-01-01T02:44:58",
          "2000-01-01T02:45:00",
          "2000-01-01T02:45:05",
          "2000-01-01T02:45:07",
          "2000-01-01T02:45:11",
          "2000-01-01T02:45:12",
          "2000-01-01T02:45:13",
          "2000-01-01T02:45:13",
          "2000-01-01T02:45:18",
          "2000-01-01T02:45:27",
          "2000-01-01T02:46:01",
          "2000-01-01T02:46:07",
          "2000-01-01T02:46:11",
          "2000-01-01T02:46:11",
          "2000-01-01T02:46:13",
          "2000-01-01T02:46:15",
          "2000-01-01T02:46:20",
          "2000-01-01T02:46:29",
          "2000-01-01T02:46:30",
          "2000-01-01T02:46:36",
          "2000-01-01T02:46:54",
          "2000-01-01T02:46:56",
          "2000-01-01T02:46:57",
          "2000-01-01T02:47:06",
          "2000-01-01T02:47:18",
          "2000-01-01T02:47:21",
          "2000-01-01T02:47:25",
          "2000-01-01T02:47:31",
          "2000-01-01T02:47:31",
          "2000-01-01T02:47:31",
          "2000-01-01T02:47:46",
          "2000-01-01T02:48:00",
          "2000-01-01T02:48:00",
          "2000-01-01T02:48:17",
          "2000-01-01T02:48:17",
          "2000-01-01T02:48:28",
          "2000-01-01T02:48:35",
          "2000-01-01T02:48:42",
          "2000-01-01T02:48:43",
          "2000-01-01T02:48:44",
          "2000-01-01T02:48:59",
          "2000-01-01T02:49:00",
          "2000-01-01T02:49:04",
          "2000-01-01T02:49:12",
          "2000-01-01T02:49:22",
          "2000-01-01T02:49:22",
          "2000-01-01T02:49:37",
          "2000-01-01T02:50:22",
          "2000-01-01T02:50:38",
          "2000-01-01T02:50:38",
          "2000-01-01T02:50:41",
          "2000-01-01T02:50:44",
          "2000-01-01T02:50:46",
          "2000-01-01T02:50:48",
          "2000-01-01T02:51:23",
          "2000-01-01T02:51:23",
          "2000-01-01T02:51:26",
          "2000-01-01T02:51:26",
          "2000-01-01T02:51:43",
          "2000-01-01T02:51:44",
          "2000-01-01T02:51:49",
          "2000-01-01T02:52:22",
          "2000-01-01T02:52:22",
          "2000-01-01T02:52:23",
          "2000-01-01T02:52:28",
          "2000-01-01T02:52:32",
          "2000-01-01T02:52:32",
          "2000-01-01T02:52:41",
          "2000-01-01T02:52:48",
          "2000-01-01T02:52:50",
          "2000-01-01T02:52:52",
          "2000-01-01T02:52:52",
          "2000-01-01T02:53:01",
          "2000-01-01T02:53:36",
          "2000-01-01T02:53:39",
          "2000-01-01T02:54:13",
          "2000-01-01T02:54:13",
          "2000-01-01T02:54:42",
          "2000-01-01T02:54:42",
          "2000-01-01T02:54:42",
          "2000-01-01T02:54:43",
          "2000-01-01T02:55:20",
          "2000-01-01T02:55:34",
          "2000-01-01T02:55:48",
          "2000-01-01T02:55:59",
          "2000-01-01T02:56:07",
          "2000-01-01T02:56:13",
          "2000-01-01T02:56:37",
          "2000-01-01T02:56:52",
          "2000-01-01T02:57:04",
          "2000-01-01T02:57:16",
          "2000-01-01T02:57:29",
          "2000-01-01T02:57:36",
          "2000-01-01T02:57:44",
          "2000-01-01T02:57:45",
          "2000-01-01T02:58:06",
          "2000-01-01T02:58:12",
          "2000-01-01T02:58:37",
          "2000-01-01T02:58:44",
          "2000-01-01T02:59:30",
          "2000-01-01T03:00:49",
          "2000-01-01T03:01:32",
          "2000-01-01T03:01:48",
          "2000-01-01T03:01:48",
          "2000-01-01T03:01:49",
          "2000-01-01T03:01:54",
          "2000-01-01T03:02:58",
          "2000-01-01T03:02:59",
          "2000-01-01T03:04:37",
          "2000-01-01T03:04:59",
          "2000-01-01T03:05:03",
          "2000-01-01T03:05:29",
          "2000-01-01T03:05:35",
          "2000-01-01T03:05:38",
          "2000-01-01T03:06:00",
          "2000-01-01T03:08:15",
          "2000-01-01T03:09:06",
          "2000-01-01T03:10:01",
          "2000-01-01T03:10:04",
          "2000-01-01T03:10:27",
          "2000-01-01T03:10:28",
          "2000-01-01T03:11:02",
          "2000-01-01T03:12:07",
          "2000-01-01T03:12:35",
          "2000-01-01T03:12:37",
          "2000-01-01T03:12:53",
          "2000-01-01T03:13:59",
          "2000-01-01T03:15:27",
          "2000-01-01T03:15:28",
          "2000-01-01T03:15:35",
          "2000-01-01T03:16:57",
          "2000-01-01T03:17:00",
          "2000-01-01T03:17:00",
          "2000-01-01T03:17:00",
          "2000-01-01T03:19:14",
          "2000-01-01T03:20:40",
          "2000-01-01T03:20:47",
          "2000-01-01T03:22:03"
         ],
         "xaxis": "x2",
         "yaxis": "y2"
        }
       ],
       "layout": {
        "template": {
         "data": {
          "bar": [
           {
            "error_x": {
             "color": "#2a3f5f"
            },
            "error_y": {
             "color": "#2a3f5f"
            },
            "marker": {
             "line": {
              "color": "#E5ECF6",
              "width": 0.5
             },
             "pattern": {
              "fillmode": "overlay",
              "size": 10,
              "solidity": 0.2
             }
            },
            "type": "bar"
           }
          ],
          "barpolar": [
           {
            "marker": {
             "line": {
              "color": "#E5ECF6",
              "width": 0.5
             },
             "pattern": {
              "fillmode": "overlay",
              "size": 10,
              "solidity": 0.2
             }
            },
            "type": "barpolar"
           }
          ],
          "carpet": [
           {
            "aaxis": {
             "endlinecolor": "#2a3f5f",
             "gridcolor": "white",
             "linecolor": "white",
             "minorgridcolor": "white",
             "startlinecolor": "#2a3f5f"
            },
            "baxis": {
             "endlinecolor": "#2a3f5f",
             "gridcolor": "white",
             "linecolor": "white",
             "minorgridcolor": "white",
             "startlinecolor": "#2a3f5f"
            },
            "type": "carpet"
           }
          ],
          "choropleth": [
           {
            "colorbar": {
             "outlinewidth": 0,
             "ticks": ""
            },
            "type": "choropleth"
           }
          ],
          "contour": [
           {
            "colorbar": {
             "outlinewidth": 0,
             "ticks": ""
            },
            "colorscale": [
             [
              0,
              "#0d0887"
             ],
             [
              0.1111111111111111,
              "#46039f"
             ],
             [
              0.2222222222222222,
              "#7201a8"
             ],
             [
              0.3333333333333333,
              "#9c179e"
             ],
             [
              0.4444444444444444,
              "#bd3786"
             ],
             [
              0.5555555555555556,
              "#d8576b"
             ],
             [
              0.6666666666666666,
              "#ed7953"
             ],
             [
              0.7777777777777778,
              "#fb9f3a"
             ],
             [
              0.8888888888888888,
              "#fdca26"
             ],
             [
              1,
              "#f0f921"
             ]
            ],
            "type": "contour"
           }
          ],
          "contourcarpet": [
           {
            "colorbar": {
             "outlinewidth": 0,
             "ticks": ""
            },
            "type": "contourcarpet"
           }
          ],
          "heatmap": [
           {
            "colorbar": {
             "outlinewidth": 0,
             "ticks": ""
            },
            "colorscale": [
             [
              0,
              "#0d0887"
             ],
             [
              0.1111111111111111,
              "#46039f"
             ],
             [
              0.2222222222222222,
              "#7201a8"
             ],
             [
              0.3333333333333333,
              "#9c179e"
             ],
             [
              0.4444444444444444,
              "#bd3786"
             ],
             [
              0.5555555555555556,
              "#d8576b"
             ],
             [
              0.6666666666666666,
              "#ed7953"
             ],
             [
              0.7777777777777778,
              "#fb9f3a"
             ],
             [
              0.8888888888888888,
              "#fdca26"
             ],
             [
              1,
              "#f0f921"
             ]
            ],
            "type": "heatmap"
           }
          ],
          "heatmapgl": [
           {
            "colorbar": {
             "outlinewidth": 0,
             "ticks": ""
            },
            "colorscale": [
             [
              0,
              "#0d0887"
             ],
             [
              0.1111111111111111,
              "#46039f"
             ],
             [
              0.2222222222222222,
              "#7201a8"
             ],
             [
              0.3333333333333333,
              "#9c179e"
             ],
             [
              0.4444444444444444,
              "#bd3786"
             ],
             [
              0.5555555555555556,
              "#d8576b"
             ],
             [
              0.6666666666666666,
              "#ed7953"
             ],
             [
              0.7777777777777778,
              "#fb9f3a"
             ],
             [
              0.8888888888888888,
              "#fdca26"
             ],
             [
              1,
              "#f0f921"
             ]
            ],
            "type": "heatmapgl"
           }
          ],
          "histogram": [
           {
            "marker": {
             "pattern": {
              "fillmode": "overlay",
              "size": 10,
              "solidity": 0.2
             }
            },
            "type": "histogram"
           }
          ],
          "histogram2d": [
           {
            "colorbar": {
             "outlinewidth": 0,
             "ticks": ""
            },
            "colorscale": [
             [
              0,
              "#0d0887"
             ],
             [
              0.1111111111111111,
              "#46039f"
             ],
             [
              0.2222222222222222,
              "#7201a8"
             ],
             [
              0.3333333333333333,
              "#9c179e"
             ],
             [
              0.4444444444444444,
              "#bd3786"
             ],
             [
              0.5555555555555556,
              "#d8576b"
             ],
             [
              0.6666666666666666,
              "#ed7953"
             ],
             [
              0.7777777777777778,
              "#fb9f3a"
             ],
             [
              0.8888888888888888,
              "#fdca26"
             ],
             [
              1,
              "#f0f921"
             ]
            ],
            "type": "histogram2d"
           }
          ],
          "histogram2dcontour": [
           {
            "colorbar": {
             "outlinewidth": 0,
             "ticks": ""
            },
            "colorscale": [
             [
              0,
              "#0d0887"
             ],
             [
              0.1111111111111111,
              "#46039f"
             ],
             [
              0.2222222222222222,
              "#7201a8"
             ],
             [
              0.3333333333333333,
              "#9c179e"
             ],
             [
              0.4444444444444444,
              "#bd3786"
             ],
             [
              0.5555555555555556,
              "#d8576b"
             ],
             [
              0.6666666666666666,
              "#ed7953"
             ],
             [
              0.7777777777777778,
              "#fb9f3a"
             ],
             [
              0.8888888888888888,
              "#fdca26"
             ],
             [
              1,
              "#f0f921"
             ]
            ],
            "type": "histogram2dcontour"
           }
          ],
          "mesh3d": [
           {
            "colorbar": {
             "outlinewidth": 0,
             "ticks": ""
            },
            "type": "mesh3d"
           }
          ],
          "parcoords": [
           {
            "line": {
             "colorbar": {
              "outlinewidth": 0,
              "ticks": ""
             }
            },
            "type": "parcoords"
           }
          ],
          "pie": [
           {
            "automargin": true,
            "type": "pie"
           }
          ],
          "scatter": [
           {
            "fillpattern": {
             "fillmode": "overlay",
             "size": 10,
             "solidity": 0.2
            },
            "type": "scatter"
           }
          ],
          "scatter3d": [
           {
            "line": {
             "colorbar": {
              "outlinewidth": 0,
              "ticks": ""
             }
            },
            "marker": {
             "colorbar": {
              "outlinewidth": 0,
              "ticks": ""
             }
            },
            "type": "scatter3d"
           }
          ],
          "scattercarpet": [
           {
            "marker": {
             "colorbar": {
              "outlinewidth": 0,
              "ticks": ""
             }
            },
            "type": "scattercarpet"
           }
          ],
          "scattergeo": [
           {
            "marker": {
             "colorbar": {
              "outlinewidth": 0,
              "ticks": ""
             }
            },
            "type": "scattergeo"
           }
          ],
          "scattergl": [
           {
            "marker": {
             "colorbar": {
              "outlinewidth": 0,
              "ticks": ""
             }
            },
            "type": "scattergl"
           }
          ],
          "scattermapbox": [
           {
            "marker": {
             "colorbar": {
              "outlinewidth": 0,
              "ticks": ""
             }
            },
            "type": "scattermapbox"
           }
          ],
          "scatterpolar": [
           {
            "marker": {
             "colorbar": {
              "outlinewidth": 0,
              "ticks": ""
             }
            },
            "type": "scatterpolar"
           }
          ],
          "scatterpolargl": [
           {
            "marker": {
             "colorbar": {
              "outlinewidth": 0,
              "ticks": ""
             }
            },
            "type": "scatterpolargl"
           }
          ],
          "scatterternary": [
           {
            "marker": {
             "colorbar": {
              "outlinewidth": 0,
              "ticks": ""
             }
            },
            "type": "scatterternary"
           }
          ],
          "surface": [
           {
            "colorbar": {
             "outlinewidth": 0,
             "ticks": ""
            },
            "colorscale": [
             [
              0,
              "#0d0887"
             ],
             [
              0.1111111111111111,
              "#46039f"
             ],
             [
              0.2222222222222222,
              "#7201a8"
             ],
             [
              0.3333333333333333,
              "#9c179e"
             ],
             [
              0.4444444444444444,
              "#bd3786"
             ],
             [
              0.5555555555555556,
              "#d8576b"
             ],
             [
              0.6666666666666666,
              "#ed7953"
             ],
             [
              0.7777777777777778,
              "#fb9f3a"
             ],
             [
              0.8888888888888888,
              "#fdca26"
             ],
             [
              1,
              "#f0f921"
             ]
            ],
            "type": "surface"
           }
          ],
          "table": [
           {
            "cells": {
             "fill": {
              "color": "#EBF0F8"
             },
             "line": {
              "color": "white"
             }
            },
            "header": {
             "fill": {
              "color": "#C8D4E3"
             },
             "line": {
              "color": "white"
             }
            },
            "type": "table"
           }
          ]
         },
         "layout": {
          "annotationdefaults": {
           "arrowcolor": "#2a3f5f",
           "arrowhead": 0,
           "arrowwidth": 1
          },
          "autotypenumbers": "strict",
          "coloraxis": {
           "colorbar": {
            "outlinewidth": 0,
            "ticks": ""
           }
          },
          "colorscale": {
           "diverging": [
            [
             0,
             "#8e0152"
            ],
            [
             0.1,
             "#c51b7d"
            ],
            [
             0.2,
             "#de77ae"
            ],
            [
             0.3,
             "#f1b6da"
            ],
            [
             0.4,
             "#fde0ef"
            ],
            [
             0.5,
             "#f7f7f7"
            ],
            [
             0.6,
             "#e6f5d0"
            ],
            [
             0.7,
             "#b8e186"
            ],
            [
             0.8,
             "#7fbc41"
            ],
            [
             0.9,
             "#4d9221"
            ],
            [
             1,
             "#276419"
            ]
           ],
           "sequential": [
            [
             0,
             "#0d0887"
            ],
            [
             0.1111111111111111,
             "#46039f"
            ],
            [
             0.2222222222222222,
             "#7201a8"
            ],
            [
             0.3333333333333333,
             "#9c179e"
            ],
            [
             0.4444444444444444,
             "#bd3786"
            ],
            [
             0.5555555555555556,
             "#d8576b"
            ],
            [
             0.6666666666666666,
             "#ed7953"
            ],
            [
             0.7777777777777778,
             "#fb9f3a"
            ],
            [
             0.8888888888888888,
             "#fdca26"
            ],
            [
             1,
             "#f0f921"
            ]
           ],
           "sequentialminus": [
            [
             0,
             "#0d0887"
            ],
            [
             0.1111111111111111,
             "#46039f"
            ],
            [
             0.2222222222222222,
             "#7201a8"
            ],
            [
             0.3333333333333333,
             "#9c179e"
            ],
            [
             0.4444444444444444,
             "#bd3786"
            ],
            [
             0.5555555555555556,
             "#d8576b"
            ],
            [
             0.6666666666666666,
             "#ed7953"
            ],
            [
             0.7777777777777778,
             "#fb9f3a"
            ],
            [
             0.8888888888888888,
             "#fdca26"
            ],
            [
             1,
             "#f0f921"
            ]
           ]
          },
          "colorway": [
           "#636efa",
           "#EF553B",
           "#00cc96",
           "#ab63fa",
           "#FFA15A",
           "#19d3f3",
           "#FF6692",
           "#B6E880",
           "#FF97FF",
           "#FECB52"
          ],
          "font": {
           "color": "#2a3f5f"
          },
          "geo": {
           "bgcolor": "white",
           "lakecolor": "white",
           "landcolor": "#E5ECF6",
           "showlakes": true,
           "showland": true,
           "subunitcolor": "white"
          },
          "hoverlabel": {
           "align": "left"
          },
          "hovermode": "closest",
          "mapbox": {
           "style": "light"
          },
          "paper_bgcolor": "white",
          "plot_bgcolor": "#E5ECF6",
          "polar": {
           "angularaxis": {
            "gridcolor": "white",
            "linecolor": "white",
            "ticks": ""
           },
           "bgcolor": "#E5ECF6",
           "radialaxis": {
            "gridcolor": "white",
            "linecolor": "white",
            "ticks": ""
           }
          },
          "scene": {
           "xaxis": {
            "backgroundcolor": "#E5ECF6",
            "gridcolor": "white",
            "gridwidth": 2,
            "linecolor": "white",
            "showbackground": true,
            "ticks": "",
            "zerolinecolor": "white"
           },
           "yaxis": {
            "backgroundcolor": "#E5ECF6",
            "gridcolor": "white",
            "gridwidth": 2,
            "linecolor": "white",
            "showbackground": true,
            "ticks": "",
            "zerolinecolor": "white"
           },
           "zaxis": {
            "backgroundcolor": "#E5ECF6",
            "gridcolor": "white",
            "gridwidth": 2,
            "linecolor": "white",
            "showbackground": true,
            "ticks": "",
            "zerolinecolor": "white"
           }
          },
          "shapedefaults": {
           "line": {
            "color": "#2a3f5f"
           }
          },
          "ternary": {
           "aaxis": {
            "gridcolor": "white",
            "linecolor": "white",
            "ticks": ""
           },
           "baxis": {
            "gridcolor": "white",
            "linecolor": "white",
            "ticks": ""
           },
           "bgcolor": "#E5ECF6",
           "caxis": {
            "gridcolor": "white",
            "linecolor": "white",
            "ticks": ""
           }
          },
          "title": {
           "x": 0.05
          },
          "xaxis": {
           "automargin": true,
           "gridcolor": "white",
           "linecolor": "white",
           "ticks": "",
           "title": {
            "standoff": 15
           },
           "zerolinecolor": "white",
           "zerolinewidth": 2
          },
          "yaxis": {
           "automargin": true,
           "gridcolor": "white",
           "linecolor": "white",
           "ticks": "",
           "title": {
            "standoff": 15
           },
           "zerolinecolor": "white",
           "zerolinewidth": 2
          }
         }
        },
        "title": {
         "text": "Number of Participants in the Half Marathon by Gender"
        },
        "xaxis": {
         "anchor": "y",
         "domain": [
          0,
          1
         ],
         "matches": "x2",
         "showticklabels": false,
         "tickformat": "%H:%M:%S",
         "title": {
          "text": "Time (HH:MM:SS)"
         }
        },
        "xaxis2": {
         "anchor": "y2",
         "domain": [
          0,
          1
         ]
        },
        "yaxis": {
         "anchor": "x",
         "domain": [
          0.575,
          1
         ],
         "title": {
          "text": "Number of Participants"
         }
        },
        "yaxis2": {
         "anchor": "x2",
         "domain": [
          0,
          0.425
         ]
        }
       }
      }
     },
     "metadata": {},
     "output_type": "display_data"
    }
   ],
   "source": [
    "import plotly.graph_objects as go\n",
    "from collections import defaultdict\n",
    "import datetime as dt\n",
    "from plotly.subplots import make_subplots\n",
    "\n",
    "times = defaultdict(lambda: {\"Male\": [], \"Female\": []})\n",
    "\n",
    "for row in data:\n",
    "# Process the times and group by gender for row in data:\n",
    "    if row['event_name'] in EVENTS_OF_INTEREST:\n",
    "        time = row['time']\n",
    "        if len(time.split(':')) == 1:\n",
    "            continue\n",
    "\n",
    "        hours, minutes, seconds = time.split(':')\n",
    "        time = dt.timedelta(hours=int(hours), minutes=int(minutes), seconds=int(seconds))\n",
    "        time = dt.datetime(2000, 1, 1) + time\n",
    "        times[row['event_name']][row['gender']].append(time)\n",
    "\n",
    "for event in EVENTS_OF_INTEREST:\n",
    "    for gender in ['Male', 'Female']:\n",
    "        if gender not in times[event]:\n",
    "            continue\n",
    "        series = pd.Series(times[event][gender])\n",
    "        series = series[series < series.quantile(0.995)]\n",
    "        times[event][gender] = list(series)\n",
    "\n",
    "half_marathon_times_male = times['Half Marathon']['Male']\n",
    "half_marathon_times_female = times['Half Marathon']['Female']\n",
    "\n",
    "# Create the stacked histogram\n",
    "fig = go.Figure()\n",
    "\n",
    "fig = make_subplots(rows=2, cols=1, shared_xaxes=True)\n",
    "fig.add_trace(go.Histogram(\n",
    "    x=half_marathon_times_male,\n",
    "    name='Male'\n",
    "    # marker_color='blue',\n",
    "), row=1, col=1)\n",
    "fig.add_trace(go.Histogram(\n",
    "    x=half_marathon_times_female,\n",
    "    name='Female'\n",
    "    # marker_color='pink',\n",
    "), row=2, col=1)\n",
    "\n",
    "# Update the layout for stacked histogram\n",
    "fig.update_layout(\n",
    "    title=\"Number of Participants in the Half Marathon by Gender\",\n",
    "    xaxis_title=\"Time (HH:MM:SS)\",\n",
    "    yaxis_title=\"Number of Participants\",\n",
    "    xaxis={\"tickformat\": \"%H:%M:%S\"},  # Format x-axis ticks as HH:MM:SS\n",
    ")\n",
    "\n",
    "fig.show()"
   ]
  },
  {
   "cell_type": "markdown",
   "metadata": {},
   "source": [
    "Finally just throw in a plot with filters for category, event, and gender, just for fun.\n",
    "\n",
    "The race results also include everyones names, but I've been intentionally avoiding doing too much with names, because people get a little icky about using personal information, but here are the top 10 most common entrant names by gender, just out of curiousity."
   ]
  },
  {
   "cell_type": "code",
   "execution_count": 94,
   "metadata": {},
   "outputs": [
    {
     "data": {
      "application/vnd.plotly.v1+json": {
       "config": {
        "plotlyServerURL": "https://plot.ly"
       },
       "data": [
        {
         "name": "Male Names",
         "type": "bar",
         "x": [
          "David",
          "Andrew",
          "Michael",
          "James",
          "Ben",
          "Matthew",
          "Jack",
          "Mark",
          "Daniel",
          "Luke"
         ],
         "xaxis": "x",
         "y": [
          103,
          97,
          89,
          87,
          81,
          79,
          75,
          72,
          67,
          66
         ],
         "yaxis": "y"
        },
        {
         "name": "Female Names",
         "type": "bar",
         "x": [
          "Sarah",
          "Emma",
          "Jessica",
          "Emily",
          "Hannah",
          "Chloe",
          "Rebecca",
          "Lauren",
          "Sophie",
          "Amy"
         ],
         "xaxis": "x2",
         "y": [
          95,
          74,
          62,
          56,
          49,
          48,
          48,
          47,
          46,
          46
         ],
         "yaxis": "y2"
        }
       ],
       "layout": {
        "template": {
         "data": {
          "bar": [
           {
            "error_x": {
             "color": "#2a3f5f"
            },
            "error_y": {
             "color": "#2a3f5f"
            },
            "marker": {
             "line": {
              "color": "#E5ECF6",
              "width": 0.5
             },
             "pattern": {
              "fillmode": "overlay",
              "size": 10,
              "solidity": 0.2
             }
            },
            "type": "bar"
           }
          ],
          "barpolar": [
           {
            "marker": {
             "line": {
              "color": "#E5ECF6",
              "width": 0.5
             },
             "pattern": {
              "fillmode": "overlay",
              "size": 10,
              "solidity": 0.2
             }
            },
            "type": "barpolar"
           }
          ],
          "carpet": [
           {
            "aaxis": {
             "endlinecolor": "#2a3f5f",
             "gridcolor": "white",
             "linecolor": "white",
             "minorgridcolor": "white",
             "startlinecolor": "#2a3f5f"
            },
            "baxis": {
             "endlinecolor": "#2a3f5f",
             "gridcolor": "white",
             "linecolor": "white",
             "minorgridcolor": "white",
             "startlinecolor": "#2a3f5f"
            },
            "type": "carpet"
           }
          ],
          "choropleth": [
           {
            "colorbar": {
             "outlinewidth": 0,
             "ticks": ""
            },
            "type": "choropleth"
           }
          ],
          "contour": [
           {
            "colorbar": {
             "outlinewidth": 0,
             "ticks": ""
            },
            "colorscale": [
             [
              0,
              "#0d0887"
             ],
             [
              0.1111111111111111,
              "#46039f"
             ],
             [
              0.2222222222222222,
              "#7201a8"
             ],
             [
              0.3333333333333333,
              "#9c179e"
             ],
             [
              0.4444444444444444,
              "#bd3786"
             ],
             [
              0.5555555555555556,
              "#d8576b"
             ],
             [
              0.6666666666666666,
              "#ed7953"
             ],
             [
              0.7777777777777778,
              "#fb9f3a"
             ],
             [
              0.8888888888888888,
              "#fdca26"
             ],
             [
              1,
              "#f0f921"
             ]
            ],
            "type": "contour"
           }
          ],
          "contourcarpet": [
           {
            "colorbar": {
             "outlinewidth": 0,
             "ticks": ""
            },
            "type": "contourcarpet"
           }
          ],
          "heatmap": [
           {
            "colorbar": {
             "outlinewidth": 0,
             "ticks": ""
            },
            "colorscale": [
             [
              0,
              "#0d0887"
             ],
             [
              0.1111111111111111,
              "#46039f"
             ],
             [
              0.2222222222222222,
              "#7201a8"
             ],
             [
              0.3333333333333333,
              "#9c179e"
             ],
             [
              0.4444444444444444,
              "#bd3786"
             ],
             [
              0.5555555555555556,
              "#d8576b"
             ],
             [
              0.6666666666666666,
              "#ed7953"
             ],
             [
              0.7777777777777778,
              "#fb9f3a"
             ],
             [
              0.8888888888888888,
              "#fdca26"
             ],
             [
              1,
              "#f0f921"
             ]
            ],
            "type": "heatmap"
           }
          ],
          "heatmapgl": [
           {
            "colorbar": {
             "outlinewidth": 0,
             "ticks": ""
            },
            "colorscale": [
             [
              0,
              "#0d0887"
             ],
             [
              0.1111111111111111,
              "#46039f"
             ],
             [
              0.2222222222222222,
              "#7201a8"
             ],
             [
              0.3333333333333333,
              "#9c179e"
             ],
             [
              0.4444444444444444,
              "#bd3786"
             ],
             [
              0.5555555555555556,
              "#d8576b"
             ],
             [
              0.6666666666666666,
              "#ed7953"
             ],
             [
              0.7777777777777778,
              "#fb9f3a"
             ],
             [
              0.8888888888888888,
              "#fdca26"
             ],
             [
              1,
              "#f0f921"
             ]
            ],
            "type": "heatmapgl"
           }
          ],
          "histogram": [
           {
            "marker": {
             "pattern": {
              "fillmode": "overlay",
              "size": 10,
              "solidity": 0.2
             }
            },
            "type": "histogram"
           }
          ],
          "histogram2d": [
           {
            "colorbar": {
             "outlinewidth": 0,
             "ticks": ""
            },
            "colorscale": [
             [
              0,
              "#0d0887"
             ],
             [
              0.1111111111111111,
              "#46039f"
             ],
             [
              0.2222222222222222,
              "#7201a8"
             ],
             [
              0.3333333333333333,
              "#9c179e"
             ],
             [
              0.4444444444444444,
              "#bd3786"
             ],
             [
              0.5555555555555556,
              "#d8576b"
             ],
             [
              0.6666666666666666,
              "#ed7953"
             ],
             [
              0.7777777777777778,
              "#fb9f3a"
             ],
             [
              0.8888888888888888,
              "#fdca26"
             ],
             [
              1,
              "#f0f921"
             ]
            ],
            "type": "histogram2d"
           }
          ],
          "histogram2dcontour": [
           {
            "colorbar": {
             "outlinewidth": 0,
             "ticks": ""
            },
            "colorscale": [
             [
              0,
              "#0d0887"
             ],
             [
              0.1111111111111111,
              "#46039f"
             ],
             [
              0.2222222222222222,
              "#7201a8"
             ],
             [
              0.3333333333333333,
              "#9c179e"
             ],
             [
              0.4444444444444444,
              "#bd3786"
             ],
             [
              0.5555555555555556,
              "#d8576b"
             ],
             [
              0.6666666666666666,
              "#ed7953"
             ],
             [
              0.7777777777777778,
              "#fb9f3a"
             ],
             [
              0.8888888888888888,
              "#fdca26"
             ],
             [
              1,
              "#f0f921"
             ]
            ],
            "type": "histogram2dcontour"
           }
          ],
          "mesh3d": [
           {
            "colorbar": {
             "outlinewidth": 0,
             "ticks": ""
            },
            "type": "mesh3d"
           }
          ],
          "parcoords": [
           {
            "line": {
             "colorbar": {
              "outlinewidth": 0,
              "ticks": ""
             }
            },
            "type": "parcoords"
           }
          ],
          "pie": [
           {
            "automargin": true,
            "type": "pie"
           }
          ],
          "scatter": [
           {
            "fillpattern": {
             "fillmode": "overlay",
             "size": 10,
             "solidity": 0.2
            },
            "type": "scatter"
           }
          ],
          "scatter3d": [
           {
            "line": {
             "colorbar": {
              "outlinewidth": 0,
              "ticks": ""
             }
            },
            "marker": {
             "colorbar": {
              "outlinewidth": 0,
              "ticks": ""
             }
            },
            "type": "scatter3d"
           }
          ],
          "scattercarpet": [
           {
            "marker": {
             "colorbar": {
              "outlinewidth": 0,
              "ticks": ""
             }
            },
            "type": "scattercarpet"
           }
          ],
          "scattergeo": [
           {
            "marker": {
             "colorbar": {
              "outlinewidth": 0,
              "ticks": ""
             }
            },
            "type": "scattergeo"
           }
          ],
          "scattergl": [
           {
            "marker": {
             "colorbar": {
              "outlinewidth": 0,
              "ticks": ""
             }
            },
            "type": "scattergl"
           }
          ],
          "scattermapbox": [
           {
            "marker": {
             "colorbar": {
              "outlinewidth": 0,
              "ticks": ""
             }
            },
            "type": "scattermapbox"
           }
          ],
          "scatterpolar": [
           {
            "marker": {
             "colorbar": {
              "outlinewidth": 0,
              "ticks": ""
             }
            },
            "type": "scatterpolar"
           }
          ],
          "scatterpolargl": [
           {
            "marker": {
             "colorbar": {
              "outlinewidth": 0,
              "ticks": ""
             }
            },
            "type": "scatterpolargl"
           }
          ],
          "scatterternary": [
           {
            "marker": {
             "colorbar": {
              "outlinewidth": 0,
              "ticks": ""
             }
            },
            "type": "scatterternary"
           }
          ],
          "surface": [
           {
            "colorbar": {
             "outlinewidth": 0,
             "ticks": ""
            },
            "colorscale": [
             [
              0,
              "#0d0887"
             ],
             [
              0.1111111111111111,
              "#46039f"
             ],
             [
              0.2222222222222222,
              "#7201a8"
             ],
             [
              0.3333333333333333,
              "#9c179e"
             ],
             [
              0.4444444444444444,
              "#bd3786"
             ],
             [
              0.5555555555555556,
              "#d8576b"
             ],
             [
              0.6666666666666666,
              "#ed7953"
             ],
             [
              0.7777777777777778,
              "#fb9f3a"
             ],
             [
              0.8888888888888888,
              "#fdca26"
             ],
             [
              1,
              "#f0f921"
             ]
            ],
            "type": "surface"
           }
          ],
          "table": [
           {
            "cells": {
             "fill": {
              "color": "#EBF0F8"
             },
             "line": {
              "color": "white"
             }
            },
            "header": {
             "fill": {
              "color": "#C8D4E3"
             },
             "line": {
              "color": "white"
             }
            },
            "type": "table"
           }
          ]
         },
         "layout": {
          "annotationdefaults": {
           "arrowcolor": "#2a3f5f",
           "arrowhead": 0,
           "arrowwidth": 1
          },
          "autotypenumbers": "strict",
          "coloraxis": {
           "colorbar": {
            "outlinewidth": 0,
            "ticks": ""
           }
          },
          "colorscale": {
           "diverging": [
            [
             0,
             "#8e0152"
            ],
            [
             0.1,
             "#c51b7d"
            ],
            [
             0.2,
             "#de77ae"
            ],
            [
             0.3,
             "#f1b6da"
            ],
            [
             0.4,
             "#fde0ef"
            ],
            [
             0.5,
             "#f7f7f7"
            ],
            [
             0.6,
             "#e6f5d0"
            ],
            [
             0.7,
             "#b8e186"
            ],
            [
             0.8,
             "#7fbc41"
            ],
            [
             0.9,
             "#4d9221"
            ],
            [
             1,
             "#276419"
            ]
           ],
           "sequential": [
            [
             0,
             "#0d0887"
            ],
            [
             0.1111111111111111,
             "#46039f"
            ],
            [
             0.2222222222222222,
             "#7201a8"
            ],
            [
             0.3333333333333333,
             "#9c179e"
            ],
            [
             0.4444444444444444,
             "#bd3786"
            ],
            [
             0.5555555555555556,
             "#d8576b"
            ],
            [
             0.6666666666666666,
             "#ed7953"
            ],
            [
             0.7777777777777778,
             "#fb9f3a"
            ],
            [
             0.8888888888888888,
             "#fdca26"
            ],
            [
             1,
             "#f0f921"
            ]
           ],
           "sequentialminus": [
            [
             0,
             "#0d0887"
            ],
            [
             0.1111111111111111,
             "#46039f"
            ],
            [
             0.2222222222222222,
             "#7201a8"
            ],
            [
             0.3333333333333333,
             "#9c179e"
            ],
            [
             0.4444444444444444,
             "#bd3786"
            ],
            [
             0.5555555555555556,
             "#d8576b"
            ],
            [
             0.6666666666666666,
             "#ed7953"
            ],
            [
             0.7777777777777778,
             "#fb9f3a"
            ],
            [
             0.8888888888888888,
             "#fdca26"
            ],
            [
             1,
             "#f0f921"
            ]
           ]
          },
          "colorway": [
           "#636efa",
           "#EF553B",
           "#00cc96",
           "#ab63fa",
           "#FFA15A",
           "#19d3f3",
           "#FF6692",
           "#B6E880",
           "#FF97FF",
           "#FECB52"
          ],
          "font": {
           "color": "#2a3f5f"
          },
          "geo": {
           "bgcolor": "white",
           "lakecolor": "white",
           "landcolor": "#E5ECF6",
           "showlakes": true,
           "showland": true,
           "subunitcolor": "white"
          },
          "hoverlabel": {
           "align": "left"
          },
          "hovermode": "closest",
          "mapbox": {
           "style": "light"
          },
          "paper_bgcolor": "white",
          "plot_bgcolor": "#E5ECF6",
          "polar": {
           "angularaxis": {
            "gridcolor": "white",
            "linecolor": "white",
            "ticks": ""
           },
           "bgcolor": "#E5ECF6",
           "radialaxis": {
            "gridcolor": "white",
            "linecolor": "white",
            "ticks": ""
           }
          },
          "scene": {
           "xaxis": {
            "backgroundcolor": "#E5ECF6",
            "gridcolor": "white",
            "gridwidth": 2,
            "linecolor": "white",
            "showbackground": true,
            "ticks": "",
            "zerolinecolor": "white"
           },
           "yaxis": {
            "backgroundcolor": "#E5ECF6",
            "gridcolor": "white",
            "gridwidth": 2,
            "linecolor": "white",
            "showbackground": true,
            "ticks": "",
            "zerolinecolor": "white"
           },
           "zaxis": {
            "backgroundcolor": "#E5ECF6",
            "gridcolor": "white",
            "gridwidth": 2,
            "linecolor": "white",
            "showbackground": true,
            "ticks": "",
            "zerolinecolor": "white"
           }
          },
          "shapedefaults": {
           "line": {
            "color": "#2a3f5f"
           }
          },
          "ternary": {
           "aaxis": {
            "gridcolor": "white",
            "linecolor": "white",
            "ticks": ""
           },
           "baxis": {
            "gridcolor": "white",
            "linecolor": "white",
            "ticks": ""
           },
           "bgcolor": "#E5ECF6",
           "caxis": {
            "gridcolor": "white",
            "linecolor": "white",
            "ticks": ""
           }
          },
          "title": {
           "x": 0.05
          },
          "xaxis": {
           "automargin": true,
           "gridcolor": "white",
           "linecolor": "white",
           "ticks": "",
           "title": {
            "standoff": 15
           },
           "zerolinecolor": "white",
           "zerolinewidth": 2
          },
          "yaxis": {
           "automargin": true,
           "gridcolor": "white",
           "linecolor": "white",
           "ticks": "",
           "title": {
            "standoff": 15
           },
           "zerolinecolor": "white",
           "zerolinewidth": 2
          }
         }
        },
        "title": {
         "text": "10 Most Popular Named Entrants"
        },
        "xaxis": {
         "anchor": "y",
         "domain": [
          0,
          1
         ],
         "title": {
          "text": ""
         }
        },
        "xaxis2": {
         "anchor": "y2",
         "domain": [
          0,
          1
         ],
         "title": {
          "text": "First Name"
         }
        },
        "yaxis": {
         "anchor": "x",
         "domain": [
          0.575,
          1
         ],
         "title": {
          "text": "Number of People"
         }
        },
        "yaxis2": {
         "anchor": "x2",
         "domain": [
          0,
          0.425
         ]
        }
       }
      }
     },
     "metadata": {},
     "output_type": "display_data"
    }
   ],
   "source": [
    "first_name_gender = [(row['name'].split(' ')[0], row['gender']) for row in data]\n",
    "male_counter = Counter(first_name for first_name, gender in first_name_gender if gender == 'Male')\n",
    "female_counter = Counter(first_name for first_name, gender in first_name_gender if gender == 'Female')\n",
    "male_x = []\n",
    "male_y = []\n",
    "for first_letter, num_in_category in sorted(male_counter.items(), key=lambda x: x[1], reverse=True)[0:10]:\n",
    "    male_x.append(first_letter)\n",
    "    male_y.append(num_in_category)\n",
    "\n",
    "female_x = []\n",
    "female_y = []\n",
    "for first_letter, num_in_category in sorted(female_counter.items(), key=lambda x: x[1], reverse=True)[0:10]:\n",
    "    female_x.append(first_letter)\n",
    "    female_y.append(num_in_category)\n",
    "\n",
    "fig = make_subplots(rows=2, cols=1, shared_xaxes=False)\n",
    "fig.add_trace(go.Bar(x=male_x, y=male_y, name='Male Names'), row=1, col=1)\n",
    "fig.add_trace(go.Bar(x=female_x, y=female_y, name='Female Names'), row=2, col=1)\n",
    "fig.update_layout({\n",
    "        \"title\": \"10 Most Popular Named Entrants\",\n",
    "        \"xaxis_title\": \"First Name\",\n",
    "        \"yaxis_title\": \"Number of People\",\n",
    "        'xaxis': {'title': '', 'anchor': 'y1'},\n",
    "        'xaxis2': {'title': 'First Name', 'anchor': 'y2'},\n",
    "    }\n",
    ")\n",
    "fig.show()\n",
    "save_figure(fig, 'most_popular_names.json')"
   ]
  }
 ],
 "metadata": {
  "kernelspec": {
   "display_name": ".venv",
   "language": "python",
   "name": "python3"
  },
  "language_info": {
   "codemirror_mode": {
    "name": "ipython",
    "version": 3
   },
   "file_extension": ".py",
   "mimetype": "text/x-python",
   "name": "python",
   "nbconvert_exporter": "python",
   "pygments_lexer": "ipython3",
   "version": "3.12.3"
  }
 },
 "nbformat": 4,
 "nbformat_minor": 2
}
